{
 "cells": [
  {
   "cell_type": "code",
   "execution_count": 1,
   "id": "188f3824-2793-448b-b133-af3d614c713e",
   "metadata": {},
   "outputs": [],
   "source": [
    "# Ocean Heat Budget Analyses in the Antarctica continental shelf (WAOM)\n",
    "\n",
    "# Fabio B Dias - 3 May 2023\n",
    "# Description:\n",
    "#     this script compares methods of calculate the OHC and surface heat flux integrated over the continental shelf\n",
    "#     - update to xarray open_mfdataset from open_dataset brought new functions more efficient to calculate model layer thickness (dz)\n",
    "# and ocean heat content tendencies (rho0*Cp*dT/dt). "
   ]
  },
  {
   "cell_type": "code",
   "execution_count": 2,
   "id": "141dfb15-980c-44bb-b94c-6ee060a9f952",
   "metadata": {
    "tags": []
   },
   "outputs": [],
   "source": [
    "# read nc output from WAOM 10km run\n",
    "\n",
    "import xarray as xr\n",
    "# import pandas as p\n",
    "import numpy as np\n",
    "import numpy.ma as ma\n",
    "import cartopy.crs as ccrs\n",
    "import matplotlib as mpl\n",
    "# mpl.use('Agg')\n",
    "import matplotlib.pyplot as plt\n",
    "import matplotlib.dates as dates\n",
    "from matplotlib.ticker import NullFormatter\n",
    "from matplotlib.colors import LinearSegmentedColormap   # for custom colormaps\n",
    "\n",
    "from datetime import datetime, timedelta\n",
    "\n",
    "from netCDF4 import Dataset\n",
    "from netCDF4 import num2date, date2num\n",
    "from matplotlib.ticker import NullFormatter\n",
    "from matplotlib.colors import LinearSegmentedColormap   # for custom colormaps\n",
    "\n",
    "import gsw\n",
    "\n",
    "import pyresample\n",
    "\n",
    "from dask.distributed import Client\n",
    "\n",
    "import warnings\n",
    "warnings.filterwarnings('ignore')"
   ]
  },
  {
   "cell_type": "code",
   "execution_count": 3,
   "id": "15e8749f-a891-4458-93be-a72550512d5f",
   "metadata": {
    "tags": []
   },
   "outputs": [],
   "source": [
    "fig_path = '/g/data3/hh5/tmp/access-om/fbd581/ROMS/postprocessing/figs/Contour_isobath/'"
   ]
  },
  {
   "cell_type": "code",
   "execution_count": 4,
   "id": "7df931b6-73e6-4cea-abd4-f5809ea12dce",
   "metadata": {
    "tags": []
   },
   "outputs": [
    {
     "name": "stdout",
     "output_type": "stream",
     "text": [
      "Vtransform=2\n",
      "CPU times: user 10.6 s, sys: 18 s, total: 28.6 s\n",
      "Wall time: 32 s\n"
     ]
    }
   ],
   "source": [
    "%%time\n",
    "\n",
    "# using xr.open_mfdataset\n",
    "\n",
    "vars2drop = [\"ubar\",\"vbar\",\"w\",\"Hsbl\",\"Hbbl\",\"swrad\"]\n",
    "\n",
    "ds = xr.open_mfdataset(paths=\"/g/data3/hh5/tmp/access-om/fbd581/ROMS/OUTPUT/waom2extend_shflim_S_0.25Q/output_yr5_diag/ocean_avg_00*.nc\" , chunks={'eta_rho': '200MB'}, parallel=bool, drop_variables=vars2drop, decode_times=False) # , concat_dim=\"ocean_time\"\n",
    "\n",
    "#- preserving 5-days avgs\n",
    "temp = ds.variables[\"temp\"] \n",
    "salt = ds.variables[\"salt\"]\n",
    "shflux = ds.variables[\"shflux\"] \n",
    "ssflux = ds.variables[\"ssflux\"]\n",
    "m = ds.variables[\"m\"]\n",
    "# HvomT = ds.variables[\"Hvom_temp\"]       ## !!! Huon_temp/Hvom_temp were not saved in the original run\n",
    "# HuonT = ds.variables[\"Huon_temp\"]       ## now it's running here: /scratch/gi0/fbd581/waom4extend_shflim_S_0.25Q/output_yr10_diag\n",
    "# Hvom = ds.variables[\"Hvom\"] \n",
    "# Huon = ds.variables[\"Huon\"] \n",
    "\n",
    "ds = ds.set_coords(['Cs_r', 'Cs_w', 'hc', 'h', 'Vtransform'])\n",
    "\n",
    "Zo_rho = (ds.hc * ds.s_rho + ds.Cs_r * ds.h) / (ds.hc + ds.h)\n",
    "z_rho = ds.zeta + (ds.zeta + ds.h) * Zo_rho + ds.zice\n",
    "print(\"Vtransform=2\")\n",
    "Zo_w = (ds.hc * ds.s_w + ds.Cs_w * ds.h) / (ds.hc + ds.h)\n",
    "z_w = ds.zeta + (ds.zeta + ds.h) * Zo_w + ds.zice\n",
    "\n",
    "ds.close()\n"
   ]
  },
  {
   "cell_type": "code",
   "execution_count": 5,
   "id": "db8e7215-9e41-4543-9c59-d5b0363b5dff",
   "metadata": {
    "tags": []
   },
   "outputs": [
    {
     "name": "stdout",
     "output_type": "stream",
     "text": [
      "CPU times: user 7.67 s, sys: 14.5 s, total: 22.2 s\n",
      "Wall time: 21.6 s\n"
     ]
    }
   ],
   "source": [
    "%%time\n",
    "\n",
    "ds = xr.open_mfdataset(paths=\"/g/data3/hh5/tmp/access-om/fbd581/ROMS/OUTPUT/waom2extend_shflim_S_0.25Q/output_yr5_diag/ocean_his_00*.nc\" , chunks={'eta_rho': '200MB'}, parallel=bool, decode_times=False) #, chuncks=\"auto\", concat_dim=\"ocean_time\"\n",
    "\n",
    "#- preserving 5-days avgs\n",
    "temp_snap = ds.variables[\"temp\"] \n",
    "\n",
    "ds.close()\n"
   ]
  },
  {
   "cell_type": "code",
   "execution_count": 6,
   "id": "86cbc94d-76df-4f5b-8dac-986481cc7026",
   "metadata": {
    "tags": []
   },
   "outputs": [
    {
     "name": "stdout",
     "output_type": "stream",
     "text": [
      "CPU times: user 63.7 ms, sys: 13.9 ms, total: 77.6 ms\n",
      "Wall time: 98.5 ms\n"
     ]
    }
   ],
   "source": [
    "%%time\n",
    "\n",
    "# calculate dT/dt by differentiating temp_snap:\n",
    "temp_Rate = np.empty(temp_snap.shape)\n",
    "dT = np.empty(temp_snap.shape)\n",
    "\n",
    "# needs the initial conditions:\n",
    "ds = xr.open_dataset('/g/data3/hh5/tmp/access-om/fbd581//ROMS/OUTPUT/waom2extend_shflim_S_0.25Q/output_yr4b/ocean_rst.nc')\n",
    "temp_ini = ds.variables[\"temp\"].isel(ocean_time=-1, two=0) # 5-days mean\n",
    "ds.close()\n",
    "\n",
    "    \n",
    "tlen = len(temp[:,0,0,0])"
   ]
  },
  {
   "cell_type": "code",
   "execution_count": 7,
   "id": "dc67b4c5-dbd1-4da8-85be-cf52fc14ccfb",
   "metadata": {
    "tags": []
   },
   "outputs": [
    {
     "name": "stdout",
     "output_type": "stream",
     "text": [
      "(31, 2800, 3150, 75)\n",
      "(31, 2800, 3150, 75)\n",
      "(75, 31, 2800, 3150)\n",
      "CPU times: user 1.87 s, sys: 2.54 s, total: 4.4 s\n",
      "Wall time: 4.79 s\n"
     ]
    }
   ],
   "source": [
    "%%time\n",
    "\n",
    "# transform to DataArray\n",
    "temp_snap = xr.DataArray(temp_snap)\n",
    "temp_ini = xr.DataArray(temp_ini)\n",
    "\n",
    "# - append temp_ini to first time index in temp_snap and then do diff\n",
    "temp_snap = xr.concat([temp_ini,temp_snap], 'ocean_time')\n",
    "dT = temp_snap.diff('ocean_time')\n",
    "print(dT.shape)\n",
    "\n",
    "# \n",
    "dt = 5*86400 # 5-days in seconds\n",
    "temp_Rate = np.divide(dT, dt)\n",
    "temp_Rate = xr.DataArray(temp_Rate)\n",
    "# temp_Rate=temp_Rate.rename({'dim_0':'ocean_time','dim_1':'s_rho','dim_2':'eta_rho','dim_3':'xi_rho'})\n",
    "\n",
    "print(dT.shape)\n",
    "\n",
    "temp_Rate = temp_Rate.transpose('ocean_time','s_rho','eta_rho','xi_rho')\n",
    "\n",
    "print(temp_Rate.shape)"
   ]
  },
  {
   "cell_type": "code",
   "execution_count": 8,
   "id": "6d3e3aad-a6de-40fe-85c3-8293d7752416",
   "metadata": {
    "tags": []
   },
   "outputs": [],
   "source": [
    "# calculate surface sigma_theta (potential density)\n",
    "sigma_t_sfc = gsw.rho(salt[:,-1,:,:],temp[:,-1,:,:],0) - 1000\n",
    "\n",
    "# load ice draft to create masks\n",
    "di = xr.open_dataset('/g/data3/hh5/tmp/access-om/fbd581/ROMS/OUTPUT/waom2extend_shflim_S_0.25Q/output_yr5_diag/ocean_avg_0001.nc')\n",
    "ice_draft = di.variables[\"zice\"]\n",
    "\n",
    "mask_zice = ma.masked_where(ice_draft < 0, np.ones(ice_draft.shape))\n",
    "mask_outice = ma.masked_where(ice_draft >= 0, np.ones(ice_draft.shape))\n",
    "di.close()\n",
    "\n",
    "dg = xr.open_dataset(\"/g/data3/hh5/tmp/access-om/fbd581/ROMS/waom2_frc/waom2extend_grd.nc\")\n",
    "\n",
    "lat_rho = dg.variables[\"lat_rho\"]\n",
    "lon_rho = dg.variables[\"lon_rho\"]\n",
    "lat_u = dg.variables[\"lat_u\"]\n",
    "lon_u = dg.variables[\"lon_u\"]\n",
    "lat_v = dg.variables[\"lat_v\"]\n",
    "lon_v = dg.variables[\"lon_v\"]\n",
    "pm = dg.variables[\"pm\"]\n",
    "pn = dg.variables[\"pn\"]\n",
    "h = dg.variables[\"h\"]\n",
    "\n",
    "ds.coords['lat_rho']=lat_rho.transpose() # put lat_rho into ds dataset\n",
    "ds.coords['lon_rho']=lon_rho.transpose() # put lon_rho into ds dataset\n",
    "\n",
    "area=np.divide(1,pm*pn)"
   ]
  },
  {
   "cell_type": "code",
   "execution_count": null,
   "id": "684793bf-da4c-4665-abee-21125be978ca",
   "metadata": {
    "tags": []
   },
   "outputs": [
    {
     "name": "stdout",
     "output_type": "stream",
     "text": [
      "(72, 2800, 3150, 32) (72, 32, 2800, 3150)\n"
     ]
    }
   ],
   "source": [
    "%%time\n",
    "# method 2 to calculate Dz:\n",
    "# z_w=z_w.chunks(chunks={'eta_rho': '200MB'}) # couldn't change chunks.\n",
    "\n",
    "Z_w = z_w.transpose('ocean_time','s_w','eta_rho','xi_rho')\n",
    "print(z_w.shape, Z_w.shape)\n",
    "dz = np.diff(Z_w,axis=1)\n"
   ]
  },
  {
   "cell_type": "code",
   "execution_count": null,
   "id": "2804da7d-59f3-43ad-9a6c-bd532e5599bd",
   "metadata": {
    "tags": []
   },
   "outputs": [],
   "source": [
    "# this mask needs to be replaced by mask_shelf2 that uses the 1500-m contour\n",
    "\n",
    "mask_shelf = ma.masked_where(h > 1500, np.ones(h.shape))"
   ]
  },
  {
   "cell_type": "code",
   "execution_count": null,
   "id": "5187bd72-a07f-430c-b076-1d217d1ba472",
   "metadata": {
    "tags": []
   },
   "outputs": [],
   "source": [
    "# determine constants:\n",
    "rho0 = 1025 # kg. m-3\n",
    "Cp = 3989.245 # J.kg-1.degC-1\n",
    "Tf = -1.95 # degC"
   ]
  },
  {
   "cell_type": "code",
   "execution_count": null,
   "id": "acbc28ba-0a21-4c93-85e2-47232700093f",
   "metadata": {
    "tags": []
   },
   "outputs": [],
   "source": [
    "%%time\n",
    "\n",
    "# use -1000 mask to compute integral of surface heat fluxes and ocean heat content tendency:\n",
    "# temp_Rate=xr.DataArray(temp_Rate)\n",
    "temp_rate = temp_Rate.transpose('ocean_time','s_rho','eta_rho','xi_rho')\n",
    "dT = dT.transpose('ocean_time','s_rho','eta_rho','xi_rho')\n",
    "\n",
    "## Integrated heat tendency and sfc heat flux terms to check heat budget closure:\n",
    "\n",
    "# 1. area-integral surface heat flux\n",
    "tlen = len(temp_rate[:,0,0,0])\n",
    "area_sum =  np.nansum(np.nansum(area,axis=1), axis=0)\n",
    "\n",
    "shflux_int = np.empty((tlen))\n",
    "for mm in np.arange(0,tlen):\n",
    "    ###shflux_area = shflux[mm,:]*area*mask_shelf*mask_coast\n",
    "    # needs xarray masking:\n",
    "    shflux_area = shflux[mm,:].where(h < 1500)*area\n",
    "    shflux_int[mm] = np.nansum(np.nansum(shflux_area,axis=1), axis=0)\n",
    "    # del shflux_area\n",
    "    \n",
    "# 2. volume-integral heat tendency\n",
    "temp_rate_int = np.empty((tlen))\n",
    "temp_rate_vol = np.empty(np.squeeze(temp_Rate[:,0,:,:]).shape)\n",
    "for mm in np.arange(0,tlen):\n",
    "# - multplying by dz:\n",
    "    temp_rate_dz = temp_Rate[mm,:].where(h < 1500)*dz[mm,:]\n",
    "    temp_rate_vint = np.nansum(temp_rate_dz, axis=0)\n",
    "    temp_rate_vol[mm,:] = temp_rate_vint*area*mask_shelf#*mask_coast\n",
    "    del temp_rate_vint\n",
    "    temp_rate_int[mm] = np.nansum(np.nansum(temp_rate_vol[mm,:],axis=1), axis=0)*Cp*rho0\n"
   ]
  },
  {
   "cell_type": "code",
   "execution_count": null,
   "id": "4be9ada9-30a9-4386-8ffe-1dea611a863c",
   "metadata": {
    "tags": []
   },
   "outputs": [],
   "source": [
    "# %%time\n",
    "\n",
    "# # 3. surface heat flux\n",
    "# shflux2_int = np.empty((tlen))\n",
    "# for mm in np.arange(0,tlen):\n",
    "#     shflux2_area = shflux2[mm,:]*area*mask_shelf#*mask_coast\n",
    "#     shflux2_int[mm] = np.nansum(np.nansum(shflux2_area,axis=1), axis=0)\n",
    "#     del shflux2_area\n",
    "\n",
    "# 4. volume-integral heat tendency using old temp_Rate2:\n",
    "# temp_rate2_int = np.empty((tlen))\n",
    "# temp_rate2_vol = np.empty(np.squeeze(temp_Rate2[:,0,:,:]).shape)\n",
    "# for mm in np.arange(0,tlen):\n",
    "# # - multplying by dz:\n",
    "#     temp_rate2_dz = temp_Rate2[mm,:]*dz[mm,:]\n",
    "#     temp_rate2_vint = np.nansum(temp_rate2_dz, axis=0)\n",
    "#     temp_rate2_vol[mm,:] = temp_rate2_vint*area*mask_shelf\n",
    "#     del temp_rate2_vint\n",
    "#     temp_rate2_int[mm] = np.nansum(np.nansum(temp_rate2_vol[mm,:],axis=1), axis=0)*Cp*rho0\n"
   ]
  },
  {
   "cell_type": "code",
   "execution_count": null,
   "id": "545dc26e-352d-41b1-8e23-330bd99a4a09",
   "metadata": {
    "tags": []
   },
   "outputs": [],
   "source": [
    "    \n",
    "fig, ax = plt.subplots(nrows=1, ncols=2, figsize = (12,9))\n",
    "\n",
    "aa=ax[0,0].pcolormesh(np.nanmean(temp_rate_vol, axis=0)*mask_shelf, vmin=-100, vmax=100, cmap='coolwarm')\n",
    "# plt.colorbar(aa)\n",
    "\n",
    "bb=ax[0,1].pcolormesh(np.nanmean(shflux, axis=0)*mask_shelf, vmin=-100, vmax=100, cmap='coolwarm')\n",
    "\n",
    "\n",
    "\n",
    "cax2 = plt.axes([0.92, 0.12, 0.01, 0.75])\n",
    "cb = plt.colorbar(bb, cax=cax2, orientation='vertical')\n",
    "cb.ax.set_ylabel('W.m$^{-2}$')"
   ]
  },
  {
   "cell_type": "code",
   "execution_count": null,
   "id": "1bb1def0-77dc-4691-8187-d804de58b3cf",
   "metadata": {
    "tags": []
   },
   "outputs": [],
   "source": [
    "plt.plot(shflux[:,400,200])\n",
    "plt.plot(shflux2[:,400,200],'--')"
   ]
  },
  {
   "cell_type": "code",
   "execution_count": null,
   "id": "555b9e7a-4094-4234-a285-f7b3afec8797",
   "metadata": {
    "tags": []
   },
   "outputs": [],
   "source": [
    "# mask_shelf = ma.masked_where(h > 1500, np.ones(h.shape))\n",
    "\n",
    "shflux_mm7 = shflux.isel(ocean_time=7).where(h < 1500)"
   ]
  },
  {
   "cell_type": "code",
   "execution_count": null,
   "id": "6fd959e1-e55e-4405-bcc6-82100ab01532",
   "metadata": {
    "tags": []
   },
   "outputs": [],
   "source": [
    "# plt.pcolormesh(shflux[7,:,:]*mask_shelf*mask_coast-shflux2[7,:,:]*mask_shelf*mask_coast, vmin=-100, vmax=100, cmap='coolwarm')\n",
    "# plt.pcolormesh((shflux[7,:,:]*area*mask_shelf*mask_coast)-(shflux2[7,:,:]*area*mask_shelf*mask_coast), vmin=-100, vmax=100, cmap='coolwarm')\n",
    "plt.pcolormesh(shflux[7,:,:].where(h < 1500), vmin=-100, vmax=100, cmap='coolwarm')\n",
    "# plt.pcolormesh(shflux_mm7-(shflux2[7,:,:]*mask_shelf*mask_coast), vmin=-100, vmax=100, cmap='coolwarm')\n",
    "# plt.pcolormesh(shflux[7,:,:]-(shflux2[7,:,:]*mask_shelf*mask_coast), vmin=-100, vmax=100, cmap='coolwarm')\n",
    "# plt.pcolormesh(shflux[7,:,:].where(h < 1500)-(shflux2[7,:,:]*mask_shelf*mask_coast), vmin=-100, vmax=100, cmap='coolwarm')\n",
    "\n",
    "plt.colorbar()"
   ]
  },
  {
   "cell_type": "code",
   "execution_count": null,
   "id": "5ecc80bc-e614-4ffc-901c-1ecbc52c8026",
   "metadata": {
    "tags": []
   },
   "outputs": [],
   "source": [
    "plt.plot(temp_rate_int-np.nanmean(temp_rate_int),'-b')\n",
    "plt.plot(shflux_int-np.nanmean(shflux_int),'r')\n",
    "plt.legend()\n"
   ]
  },
  {
   "cell_type": "code",
   "execution_count": null,
   "id": "6c4fc77d-5832-4006-8c15-90824586a09e",
   "metadata": {
    "tags": []
   },
   "outputs": [],
   "source": [
    "# OHB integrated\n",
    "print(np.nanmean(temp_rate_int))#*1e-15)\n",
    "print(np.nanmean(shflux_int))#*1e-15)\n",
    "\n"
   ]
  },
  {
   "cell_type": "code",
   "execution_count": null,
   "id": "34fe84fe-4283-46ba-807e-879972363c9b",
   "metadata": {
    "tags": []
   },
   "outputs": [],
   "source": [
    "ohc_tend = temp_rate_int - np.nanmean(temp_rate_int)\n",
    "shflux_tend = shflux_int - np.nanmean(shflux_int)\n",
    "\n",
    "months=np.arange(0,73)*(5/30.41667)\n",
    "\n",
    "plt.plot(months,shflux_tend, label='Sfc heat flux')\n",
    "plt.plot(months,ohc_tend, label='OHC tendency')\n",
    "plt.plot(months,shflux_int*0,'--k')\n",
    "plt.plot(months,ohc_tend - shflux_tend, '--r', label='residual',linewidth=0.5)\n",
    "plt.ylim([-1.5e14,1.5e14])\n",
    "\n",
    "plt.legend()\n",
    "plt.ylabel('Heat transport (W)')\n",
    "plt.xlabel('Time (months)')\n"
   ]
  },
  {
   "cell_type": "code",
   "execution_count": null,
   "id": "088cec33-909f-4a32-bd29-a432b7d0f990",
   "metadata": {},
   "outputs": [],
   "source": []
  },
  {
   "cell_type": "code",
   "execution_count": null,
   "id": "1c274904-0603-4e59-b748-e2da1a57c8d5",
   "metadata": {},
   "outputs": [],
   "source": []
  }
 ],
 "metadata": {
  "kernelspec": {
   "display_name": "Python 3 (ipykernel)",
   "language": "python",
   "name": "python3"
  },
  "language_info": {
   "codemirror_mode": {
    "name": "ipython",
    "version": 3
   },
   "file_extension": ".py",
   "mimetype": "text/x-python",
   "name": "python",
   "nbconvert_exporter": "python",
   "pygments_lexer": "ipython3",
   "version": "3.9.15"
  }
 },
 "nbformat": 4,
 "nbformat_minor": 5
}
