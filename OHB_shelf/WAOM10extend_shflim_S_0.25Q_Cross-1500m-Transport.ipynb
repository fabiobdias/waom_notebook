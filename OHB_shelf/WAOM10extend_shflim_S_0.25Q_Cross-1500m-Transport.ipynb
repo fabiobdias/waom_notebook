{
 "cells": [
  {
   "cell_type": "code",
   "execution_count": 1,
   "id": "7e4e8867-c69b-4381-9653-048130fdafce",
   "metadata": {
    "tags": []
   },
   "outputs": [],
   "source": [
    "# Ocean Heat Budget Analyses in the Antarctica continental shelf (WAOM)\n",
    "\n",
    "# Fabio B Dias - 4 May 2023\n",
    "# Description:\n",
    "#     this script obtain and save the 1500m isobath contour variables, which is used for the \n",
    "#     cross-shelf heat transport estimates\n"
   ]
  },
  {
   "cell_type": "code",
   "execution_count": 2,
   "id": "771e1e5a-6c56-45f3-83dc-463d48b691bf",
   "metadata": {
    "tags": []
   },
   "outputs": [
    {
     "name": "stderr",
     "output_type": "stream",
     "text": [
      "\n",
      "KeyboardInterrupt\n",
      "\n"
     ]
    }
   ],
   "source": [
    "# read nc output from WAOM 10km run\n",
    "\n",
    "import xarray as xr\n",
    "import pandas as p\n",
    "import numpy as np\n",
    "import numpy.ma as ma\n",
    "import cartopy.crs as ccrs\n",
    "import matplotlib as mpl\n",
    "# mpl.use('Agg')\n",
    "import matplotlib.pyplot as plt\n",
    "import matplotlib.dates as dates\n",
    "from matplotlib.ticker import NullFormatter\n",
    "from matplotlib.colors import LinearSegmentedColormap   # for custom colormaps\n",
    "\n",
    "from datetime import datetime, timedelta\n",
    "\n",
    "from netCDF4 import Dataset\n",
    "from netCDF4 import num2date, date2num\n",
    "from matplotlib.ticker import NullFormatter\n",
    "from matplotlib.colors import LinearSegmentedColormap   # for custom colormaps\n",
    "\n",
    "import gsw\n",
    "\n",
    "import pyresample\n",
    "\n",
    "from dask.distributed import Client\n",
    "\n",
    "import warnings\n",
    "warnings.filterwarnings('ignore')"
   ]
  },
  {
   "cell_type": "code",
   "execution_count": null,
   "id": "3af22be0-2dd1-4964-ac91-a845b626ed22",
   "metadata": {
    "tags": []
   },
   "outputs": [],
   "source": [
    "# load ice draft to create masks\n",
    "di = xr.open_dataset('/g/data3/hh5/tmp/access-om/fbd581/ROMS/OUTPUT/waom10extend_shflim_S_0.25Q/output_20yr_diag/ocean_avg_0001.nc')\n",
    "ice_draft = di.variables[\"zice\"]\n",
    "\n",
    "mask_zice = ma.masked_where(ice_draft < 0, np.ones(ice_draft.shape))\n",
    "mask_outice = ma.masked_where(ice_draft >= 0, np.ones(ice_draft.shape))\n",
    "di.close()\n",
    "\n",
    "dg = xr.open_dataset(\"/g/data3/hh5/tmp/access-om/fbd581/ROMS/waom10_frc/waom10extend_grd.nc\")\n",
    "\n",
    "lat_rho = dg.variables[\"lat_rho\"]\n",
    "lon_rho = dg.variables[\"lon_rho\"]\n",
    "lat_u = dg.variables[\"lat_u\"]\n",
    "lon_u = dg.variables[\"lon_u\"]\n",
    "lat_v = dg.variables[\"lat_v\"]\n",
    "lon_v = dg.variables[\"lon_v\"]\n",
    "pm = dg.variables[\"pm\"]\n",
    "pn = dg.variables[\"pn\"]\n",
    "h = dg.variables[\"h\"]\n",
    "\n",
    "# ds.coords['lat_rho']=lat_rho.transpose() # put lat_rho into ds dataset\n",
    "# ds.coords['lon_rho']=lon_rho.transpose() # put lon_rho into ds dataset\n",
    "\n",
    "area=np.divide(1,pm*pn)"
   ]
  },
  {
   "cell_type": "code",
   "execution_count": null,
   "id": "5d05d91d-eda6-40ee-8536-464021e0ed6c",
   "metadata": {
    "tags": []
   },
   "outputs": [],
   "source": [
    "## creating the contour, such as a isobath, and extracting the coordinates using matplotlib's Path class\n",
    "# based on https://github.com/COSIMA/cosima-recipes/blob/master/DocumentedExamples/Cross-contour_transport.ipynb"
   ]
  },
  {
   "cell_type": "code",
   "execution_count": null,
   "id": "4113cae2-b53b-4666-bca0-cb54696cac5e",
   "metadata": {
    "tags": []
   },
   "outputs": [],
   "source": [
    "h = dg.h.load()\n",
    "\n",
    "h = h*mask_zice\n",
    "\n",
    "# Fill in land with zeros:\n",
    "h = h.fillna(0)"
   ]
  },
  {
   "cell_type": "markdown",
   "id": "3090be6f-588f-405e-8ab0-2e0afcf58a60",
   "metadata": {
    "tags": []
   },
   "source": [
    "We must make sure that this latitude range is so that the t-cells are always south and west of the u-cells.\n",
    "This is important because the meridional and zonal transports occur on different grids to each other. We can check this by loading the u-cell and t-cell coordinates.\n",
    "\n",
    "We choose this convention so that later on when we create numpy grids of where the contour is and in what direction the contour goes."
   ]
  },
  {
   "cell_type": "code",
   "execution_count": null,
   "id": "56108596-3f92-41d7-a609-d9f31be587fe",
   "metadata": {
    "tags": []
   },
   "outputs": [],
   "source": [
    "# contour: dg.h\n",
    "contour_depth = 1500.\n",
    "\n",
    "fig = plt.figure(figsize = (8, 6))\n",
    "h.plot(extend='both', cbar_kwargs={'label': \"depth [m]\"})\n",
    "h.plot.contour(levels = [contour_depth], colors = 'k', linestyles = '-')\n",
    "plt.title('Model topography (m)');\n",
    "plt.show()"
   ]
  },
  {
   "cell_type": "code",
   "execution_count": null,
   "id": "d1fb0353-80d1-4a4c-9e6a-1fe9cf24e19e",
   "metadata": {
    "tags": []
   },
   "outputs": [],
   "source": [
    "## Choose whether you want your contour on the u or t grid.\n",
    "grid_sel = 't'\n",
    "if grid_sel == 'u':\n",
    "    x_var = lon_u\n",
    "    y_var = lat_u\n",
    "elif grid_sel == 't':\n",
    "    x_var = lon_rho\n",
    "    y_var = lat_rho"
   ]
  },
  {
   "cell_type": "code",
   "execution_count": null,
   "id": "162f364a-9310-4e89-9824-f0b1689678be",
   "metadata": {
    "tags": []
   },
   "outputs": [],
   "source": [
    "fig = plt.figure(figsize = (8, 6))\n",
    "count = 164 # contour 87 for 2000m isobath, 165 for 1500m\n",
    "x_contour = []\n",
    "y_contour = []\n",
    "\n",
    "# Create the contour:\n",
    "sc = plt.contour(h, levels=[contour_depth])\n",
    "for collection in sc.collections:\n",
    "    for path in collection.get_paths():\n",
    "        # print(collection.get_paths())\n",
    "        \n",
    "        count += 1\n",
    "        if count ==  212:\n",
    "            # Write down the lat/lon indices\n",
    "            for ii in range(np.size(path.vertices[:,0])):\n",
    "                x_contour.append(int(np.round(path.vertices[ii][0])))\n",
    "                y_contour.append(int(np.round(path.vertices[ii][1])))\n",
    "\n",
    "plt.scatter(x_contour, y_contour, s=5, alpha=0.5, color='tomato');\n",
    "\n",
    "## SHOULD I SMOOTH IT? PROBABLY YES!"
   ]
  },
  {
   "cell_type": "markdown",
   "id": "087f6ecc-6b0e-4bf6-b10c-e3ea7abb6b17",
   "metadata": {},
   "source": [
    "Processing\n",
    "Now process these coordinates to make sure there are no double ups."
   ]
  },
  {
   "cell_type": "code",
   "execution_count": null,
   "id": "450fc71e-24df-4bf0-80a3-0a6576036a75",
   "metadata": {},
   "outputs": [],
   "source": [
    "# Difference between two neighbouring indices\n",
    "diff_x_contour = np.diff(x_contour)\n",
    "diff_y_contour = np.diff(y_contour)\n",
    "\n",
    "# Get a list with the indices of duplicates\n",
    "diff_ind = []\n",
    "for ii in range(len(diff_x_contour)):\n",
    "    if (diff_x_contour[ii]==0) and (diff_y_contour[ii]==0):\n",
    "        diff_ind.append(ii)"
   ]
  },
  {
   "cell_type": "code",
   "execution_count": null,
   "id": "932c82be-bd6f-4414-83f4-1b294f3cc708",
   "metadata": {
    "tags": []
   },
   "outputs": [],
   "source": [
    "# Now remove the indices (start from the end so the indices don't shift)\n",
    "for ii in range(len(diff_ind)):\n",
    "    index = diff_ind[::-1][ii]\n",
    "    del x_contour[index]\n",
    "    del y_contour[index]"
   ]
  },
  {
   "cell_type": "code",
   "execution_count": null,
   "id": "2c89476b-1f7b-4cc2-91ce-27f19ccd73c1",
   "metadata": {
    "tags": []
   },
   "outputs": [],
   "source": [
    "h_contour = np.zeros(len(x_contour))\n",
    "\n",
    "for ii in range(len(h_contour)):\n",
    "    h_contour[ii] = h[y_contour[ii], x_contour[ii]]"
   ]
  },
  {
   "cell_type": "markdown",
   "id": "10d7f27a-ae54-4bb5-b85b-0735ce50f0b6",
   "metadata": {},
   "source": [
    "Due to the discrete grid, the values on our contour are not exactly the same. We check this makes sense -- if this plot is blank, then something has gone wrong."
   ]
  },
  {
   "cell_type": "code",
   "execution_count": null,
   "id": "668af7b3-5d6f-489d-b194-e2b4930e17bb",
   "metadata": {
    "tags": []
   },
   "outputs": [],
   "source": [
    "fig = plt.figure(figsize=(10, 5))\n",
    "\n",
    "plt.plot(h_contour, 'o', markersize=1)\n",
    "plt.axhline(contour_depth, color='k', linewidth=0.5);"
   ]
  },
  {
   "cell_type": "markdown",
   "id": "e3d56875-3923-4e3d-a262-13db3a0a4271",
   "metadata": {
    "tags": []
   },
   "source": [
    "Get lat and lon along the contour\n"
   ]
  },
  {
   "cell_type": "code",
   "execution_count": null,
   "id": "18286839-731d-49d3-a91a-3ed2031f4d6b",
   "metadata": {
    "tags": []
   },
   "outputs": [],
   "source": [
    "# Choose whether you want your contour on the u or t grid.\n",
    "grid_sel = 't'\n",
    "\n",
    "if grid_sel == 'u':\n",
    "    x_var = lon_u\n",
    "    y_var = lat_u\n",
    "elif grid_sel == 'v':\n",
    "    x_var = lon_v\n",
    "    y_var = lat_v\n",
    "elif grid_sel == 't':\n",
    "    x_var = lon_rho\n",
    "    y_var = lat_rho\n",
    "    \n",
    "lat_along_contour = np.zeros((len(x_contour)))\n",
    "lon_along_contour = np.zeros((len(x_contour)))\n",
    "\n",
    "for ii in range(len(h_contour)):\n",
    "    lon_along_contour[ii] = x_var[y_contour[ii-1],x_contour[ii-1]]\n",
    "    lat_along_contour[ii] = y_var[y_contour[ii-1],x_contour[ii-1]]\n",
    "    \n",
    "# Repeat the leftmost point at the end of the array.\n",
    "# (Required for masking contour above and below)\n",
    "\n",
    "lat_along_contour = np.append(lat_along_contour, lat_along_contour[0])\n",
    "lon_along_contour = np.append(lon_along_contour, lon_along_contour[0])\n",
    "\n",
    "# Number of grid points on the contour\n",
    "num_points = len(lat_along_contour)\n",
    "\n",
    "# Now we number the points along the contour\n",
    "contour_mask_numbered = np.zeros_like(lon_along_contour)\n",
    "\n",
    "for ii in range(num_points-1):\n",
    "    lat1 = lat_along_contour[ii]\n",
    "    lat2 = lat_along_contour[ii+1]\n",
    "    lon1 = lon_along_contour[ii]\n",
    "    lon2 = lon_along_contour[ii+1]\n",
    "    contour_mask_numbered[ii] = ii\n",
    "    \n",
    "contour_mask = h*0\n",
    "\n",
    "for ii in range(num_points-1):\n",
    "    contour_mask[y_contour[ii], x_contour[ii]] = contour_mask_numbered[ii]+1\n",
    "    \n",
    "plt.figure(1, figsize=(16, 8))\n",
    "plt.pcolormesh(contour_mask)\n",
    "plt.colorbar()"
   ]
  },
  {
   "cell_type": "code",
   "execution_count": null,
   "id": "2485080f-5576-45b6-bc04-f7b1491bad9e",
   "metadata": {
    "tags": []
   },
   "outputs": [],
   "source": [
    "mask_value = -1000\n",
    "contour_mask_numbered = contour_mask\n",
    "\n",
    "# fill in points to south of contour:\n",
    "contour_masked_above = np.copy(contour_mask_numbered)\n",
    "contour_masked_above[-1, 0] = mask_value\n",
    "\n",
    "plt.figure(1, figsize=(16, 8))\n",
    "plt.pcolormesh(contour_masked_above)\n",
    "plt.colorbar()"
   ]
  },
  {
   "cell_type": "markdown",
   "id": "e2cd37d1-4c7b-4c36-9431-97225b00ce57",
   "metadata": {},
   "source": [
    "# Create mask\n",
    "\n",
    "Now we create a mask below contour so that the direction of the contour can be determined\n",
    "\n",
    "Remark on computational inefficiency\n",
    "\n",
    "Note that creating masks with nested for loops is very inefficient. We should probably use boolean masks (just compare the entire array with mask_value), and DataArray.shift() or DataArray.roll() from each of the directions to generate the masks without using loops.\n",
    "\n",
    "See discussion in: https://github.com/COSIMA/cosima-recipes/issues/179"
   ]
  },
  {
   "cell_type": "code",
   "execution_count": null,
   "id": "9f564aa0-d01c-453a-a9c3-2c3db0fdfa18",
   "metadata": {
    "tags": []
   },
   "outputs": [],
   "source": [
    "print(contour_masked_above.shape, contour_mask_numbered.shape)\n",
    "print(contour_masked_above[-20:-1, 0])"
   ]
  },
  {
   "cell_type": "code",
   "execution_count": null,
   "id": "4053d08a-c5ef-4291-838b-933c86778fb1",
   "metadata": {
    "tags": []
   },
   "outputs": [],
   "source": [
    "\n",
    "plt.pcolormesh(contour_masked_above, cmap='coolwarm')\n",
    "plt.colorbar()"
   ]
  },
  {
   "cell_type": "code",
   "execution_count": null,
   "id": "f5dd434a-b0d7-487d-8e9e-d11ee6de7fe4",
   "metadata": {
    "tags": []
   },
   "outputs": [],
   "source": [
    "# fill in points to south of contour:\n",
    "contour_masked_above = np.copy(contour_mask_numbered)\n",
    "contour_masked_above[-1, 0] = mask_value\n",
    "\n",
    "# from top left:\n",
    "for ii in range(len(contour_mask[0,:])-1): #x: len(x-axis) - 1 \n",
    "    for jj in range(len(contour_mask[:,0]))[::-1][:-1]: #y: len(y-axis)[from end to start, inverse order][from first to (end-1)]\n",
    "        if contour_masked_above[jj, ii] == mask_value: # if north of contour line\n",
    "            if contour_masked_above[jj-1, ii] == 0: # if previous cell in Y-dir is zero (= south of contour line)\n",
    "                contour_masked_above[jj-1, ii] = mask_value # make it -1000\n",
    "            if contour_masked_above[jj, ii+1] == 0: # if next cell in X-dir is zero\n",
    "                contour_masked_above[jj, ii+1] = mask_value # make it -1000\n",
    "\n",
    "#from top right:\n",
    "for ii in range(len(contour_mask[0,:]))[::-1][:-1]:\n",
    "    for jj in range(len(contour_mask[:,0]))[::-1][:-1]:\n",
    "        if contour_masked_above[jj, ii] == mask_value:\n",
    "            if contour_masked_above[jj-1, ii] == 0: # if previous cell in Y-dir is zero\n",
    "                contour_masked_above[jj-1, ii] = mask_value\n",
    "            if contour_masked_above[jj, ii-1] == 0: # if previous cell in X-dir is zero\n",
    "                contour_masked_above[jj, ii-1] = mask_value\n",
    "\n",
    "# from bottom right:\n",
    "for ii in range(len(contour_mask[0,:]))[::-1][:-1]:\n",
    "    for jj in range(len(contour_mask[:,0])-1):\n",
    "        if contour_masked_above[jj, ii] == mask_value:\n",
    "            if contour_masked_above[jj+1, ii] == 0: # if next cell in Y-dir is zero\n",
    "                contour_masked_above[jj+1, ii] = mask_value\n",
    "            if contour_masked_above[jj, ii-1] == 0: # if previous cell in X-dir is zero\n",
    "                contour_masked_above[jj, ii-1] = mask_value\n",
    "\n",
    "#from bottom left:\n",
    "for ii in range(len(contour_mask[0,:])-1):\n",
    "    for jj in range(len(contour_mask[:,0])-1):\n",
    "        if contour_masked_above[jj, ii] == mask_value:\n",
    "            if contour_masked_above[jj+1, ii] == 0: # if next cell in Y-dir is zero\n",
    "                contour_masked_above[jj+1, ii] = mask_value\n",
    "            if contour_masked_above[jj, ii+1] == 0: # if next cell in X-dir is zero\n",
    "                contour_masked_above[jj, ii+1] = mask_value"
   ]
  },
  {
   "cell_type": "code",
   "execution_count": null,
   "id": "d454f85e-df45-4296-9ae4-aecbd1c5fd63",
   "metadata": {
    "tags": []
   },
   "outputs": [],
   "source": [
    "plt.figure(1, figsize=(16, 8))\n",
    "\n",
    "plt.pcolormesh(contour_masked_above)\n",
    "plt.colorbar()"
   ]
  },
  {
   "cell_type": "code",
   "execution_count": null,
   "id": "0926cf4b-ead7-478c-b25c-5aff1c3e7150",
   "metadata": {
    "tags": []
   },
   "outputs": [],
   "source": [
    "# mask_shelf = ma.masked_where(h > 1500, np.ones(h.shape))\n",
    "mask_shelf2 = ma.masked_where(contour_masked_above == -1000, np.ones(h.shape))\n",
    "\n",
    "\n",
    "# plt.figure(1, figsize=(16, 8))\n",
    "\n",
    "# plt.pcolormesh(mask_shelf2)\n",
    "# plt.colorbar()"
   ]
  },
  {
   "cell_type": "markdown",
   "id": "c38c35f0-d9a6-4573-a929-a56d2a5c4591",
   "metadata": {},
   "source": [
    "\n",
    "## Fabio:\n",
    " -1000 (masked values), north of contour; 0 south of contour"
   ]
  },
  {
   "cell_type": "markdown",
   "id": "a540e235-482a-47ee-8e05-dfa95cdae396",
   "metadata": {
    "tags": []
   },
   "source": [
    "##### Direction of cross-contour transport\n",
    "\n",
    "Now we can use the mask south of the contour to determine whether the transport across the contour should be north, east, south or west (the grid is made of discrete square(ish) shaped cells). This is done by looping through the contour points and determining in which directions there are zeros (above contour, !!actually below/south contour, Fabio) and -1000 (below contour, !!above/north contour, Fabio). This means the orientation of the contour can be determined. This is saved as mask_x_transport, which has -1 and +1 in a 2D (x and y) array where the contour has eastward transport, and mask_y_transport which as -1 and +1 for coordinates with northward transport. All other positions in the array are 0. This means that multiplying the northward transport ty_trans by the mask_y_transport gives all the northward transport across the contour, and zeros everywhere else (e.g. where contour goes upwards and cross-contour transport is thus eastward).\n",
    "\n"
   ]
  },
  {
   "cell_type": "code",
   "execution_count": null,
   "id": "428fde3b-96bc-429c-a55d-3d36041b0a3b",
   "metadata": {
    "tags": []
   },
   "outputs": [],
   "source": [
    "mask_x_transport = np.zeros_like(contour_mask_numbered)\n",
    "mask_y_transport = np.zeros_like(contour_mask_numbered)\n",
    "\n",
    "mask_y_transport_numbered = np.zeros_like(contour_mask_numbered)\n",
    "mask_x_transport_numbered = np.zeros_like(contour_mask_numbered)\n",
    "\n",
    "# make halos: add 2 extra columns with the value of the last/first columns of the original\n",
    "shape = contour_masked_above.shape\n",
    "contour_masked_above_halo = np.zeros((shape[0], shape[1]+2))\n",
    "contour_masked_above_halo[:, 0] = contour_masked_above[:, -1]\n",
    "contour_masked_above_halo[:, 1:-1] = contour_masked_above\n",
    "contour_masked_above_halo[:, -1] = contour_masked_above[:, 0]\n",
    "\n",
    "new_number_count = 1\n",
    "for mask_loc in range(1, int(np.max(contour_mask_numbered))+1):\n",
    "    #if mask_loc%100 == 0:\n",
    "    #    print('mask for x/y transport at point '+str(mask_loc))\n",
    "    index_i = np.where(contour_mask_numbered==mask_loc)[1]\n",
    "    index_j = np.where(contour_mask_numbered==mask_loc)[0]\n",
    "    # if point above is towards Antarctica and point below is away from Antarctica:\n",
    "    # take transport grid point to north of t grid:\n",
    "    if (contour_masked_above[index_j+1, index_i]==0) and (contour_masked_above[index_j-1, index_i]!=0):\n",
    "        mask_y_transport[index_j, index_i] = -1\n",
    "        # important to do \n",
    "        mask_y_transport_numbered[index_j, index_i] = new_number_count\n",
    "        new_number_count += 1\n",
    "    # if point below is towards Antarctica and point above is away from Antarctica:\n",
    "    # take transport grid point to south of t grid:\n",
    "    elif (contour_masked_above[index_j-1, index_i]==0) and (contour_masked_above[index_j+1, index_i]!=0):\n",
    "        mask_y_transport[index_j-1, index_i] = 1\n",
    "        mask_y_transport_numbered[index_j-1, index_i] = new_number_count\n",
    "        new_number_count += 1\n",
    "    # if point to right is towards Antarctica and point to left is away from Antarctica:\n",
    "    # zonal indices increased by 1 due to halos\n",
    "    # take transport grid point on right of t grid:\n",
    "    if (contour_masked_above_halo[index_j, index_i+2]==0) and (contour_masked_above_halo[index_j, index_i]!=0):\n",
    "        mask_x_transport[index_j, index_i] = -1\n",
    "        mask_x_transport_numbered[index_j, index_i] = new_number_count\n",
    "        new_number_count += 1\n",
    "    # if point to left is towards Antarctica and point to right is away from Antarctica:\n",
    "    # take transport grid point on left of t grid:\n",
    "    elif (contour_masked_above_halo[index_j, index_i]==0) and (contour_masked_above_halo[index_j, index_i+2]!=0):\n",
    "        mask_x_transport[index_j, index_i-1] = 1\n",
    "        mask_x_transport_numbered[index_j, index_i-1] = new_number_count\n",
    "        new_number_count += 1"
   ]
  },
  {
   "cell_type": "code",
   "execution_count": null,
   "id": "542b593d-58d5-4d48-8649-10ce87e3bedb",
   "metadata": {},
   "outputs": [],
   "source": [
    "plt.figure(1, figsize=(16, 8))\n",
    "\n",
    "plt.pcolormesh(mask_x_transport)\n",
    "plt.colorbar();"
   ]
  },
  {
   "cell_type": "markdown",
   "id": "0aea3f23-fea5-44b3-a7ca-30aeda22404d",
   "metadata": {},
   "source": [
    "As can be seen, in mask_x_transport there is yellow (+1) where eastward transport crosses the contour, and (-1) where westward transport crosses the contour (in the net northward direction). There are zeros everywhere else."
   ]
  },
  {
   "cell_type": "code",
   "execution_count": null,
   "id": "4910bb60-606a-4ba8-8f9f-fd1d5c2ec454",
   "metadata": {
    "tags": []
   },
   "outputs": [],
   "source": [
    "plt.figure(1, figsize=(16, 8))\n",
    "\n",
    "plt.pcolormesh(mask_y_transport)\n",
    "plt.colorbar();"
   ]
  },
  {
   "cell_type": "markdown",
   "id": "433e776a-9388-446c-bc3b-b394a824ba83",
   "metadata": {},
   "source": [
    "Analogously, in mask_y_transport there is yellow (+1) where northward transport crosses the contour, and (-1) where southward transport crosses the contour (in the net northward direction). There are zeros everywhere else."
   ]
  },
  {
   "cell_type": "markdown",
   "id": "bf95e135-bfe6-419a-866f-53fd87f9158e",
   "metadata": {
    "tags": []
   },
   "source": [
    "### We now have the coordinates of the contours, and whether the x or y transport is needed to calculate cross-contour transport.\n",
    "\n",
    "We now proceed to calculate transports across the contour"
   ]
  },
  {
   "cell_type": "code",
   "execution_count": null,
   "id": "2ac8ed2e-15a3-402f-847e-9e226cbf7ecb",
   "metadata": {
    "tags": []
   },
   "outputs": [],
   "source": [
    "print(pm.shape, pn.shape)"
   ]
  },
  {
   "cell_type": "code",
   "execution_count": null,
   "id": "c30d66d6-4108-45b9-91d3-41d1526b1268",
   "metadata": {
    "tags": []
   },
   "outputs": [],
   "source": [
    "# Now we need to interpolate the mask_x/y_transport to the corresponding lon/lat_u/v grids\n",
    "# so we can multiply by the U/V transport\n",
    "\n",
    "# re-grid from rho to u/v-grids\n",
    "rho_def = pyresample.geometry.SwathDefinition(lons=lon_rho,lats=lat_rho)\n",
    "u_def = pyresample.geometry.SwathDefinition(lons=lon_u,lats=lat_u)\n",
    "v_def = pyresample.geometry.SwathDefinition(lons=lon_v,lats=lat_v)\n",
    "\n",
    "wf = lambda r: 1/r\n",
    "\n",
    "mask_x_transport_Ugrd = pyresample.kd_tree.resample_custom(rho_def,mask_x_transport,u_def,\\\n",
    "                                         radius_of_influence=100000,neighbours=1,weight_funcs=wf)\n",
    "mask_y_transport_Vgrd = pyresample.kd_tree.resample_custom(rho_def,mask_y_transport,v_def,\\\n",
    "                                         radius_of_influence=100000,neighbours=1,weight_funcs=wf)\n",
    "mask_x_transport_numbered_Ugrd = pyresample.kd_tree.resample_custom(rho_def,mask_x_transport_numbered,u_def,\\\n",
    "                                         radius_of_influence=100000,neighbours=1,weight_funcs=wf)\n",
    "mask_y_transport_numbered_Vgrd = pyresample.kd_tree.resample_custom(rho_def,mask_y_transport_numbered,v_def,\\\n",
    "                                         radius_of_influence=100000,neighbours=1,weight_funcs=wf)\n"
   ]
  },
  {
   "cell_type": "code",
   "execution_count": null,
   "id": "d58bc89a-7b02-474a-9099-5ee986d086e0",
   "metadata": {
    "tags": []
   },
   "outputs": [],
   "source": [
    "plt.figure(1, figsize=(16, 8))\n",
    "\n",
    "plt.pcolormesh(mask_x_transport, cmap=\"viridis\");\n",
    "plt.colorbar()\n",
    "plt.show()"
   ]
  },
  {
   "cell_type": "code",
   "execution_count": null,
   "id": "d2f36a31-0cbc-4d99-94ba-2687adf4686f",
   "metadata": {
    "tags": []
   },
   "outputs": [],
   "source": [
    "plt.figure(1, figsize=(16, 8))\n",
    "\n",
    "plt.pcolormesh(mask_x_transport_Ugrd, cmap=\"viridis\");\n",
    "plt.colorbar()\n",
    "plt.show()"
   ]
  },
  {
   "cell_type": "code",
   "execution_count": null,
   "id": "4bc16ada-73a5-41d3-81da-a5408ab363e9",
   "metadata": {
    "tags": []
   },
   "outputs": [],
   "source": [
    "# Convert contour masks to data arrays, so we can multiply them later.\n",
    "# We need to ensure the lat lon coordinates correspond to the actual data location:\n",
    "#       The y masks are used for ty_trans, so like vhrho this should have dimensions (yu_ocean, xt_ocean).\n",
    "#       The x masks are used for tx_trans, so like uhrho this should have dimensions (yt_ocean, xu_ocean).\n",
    "#       However the actual name will always be simply y_ocean/x_ocean irrespective of the variable\n",
    "#       to make concatenation of transports in both direction and sorting possible.\n",
    "coordinates=dict(one=lon_rho, two=lat_rho)\n",
    "coordinatesU=dict(one=lon_u, two=lat_u)\n",
    "coordinatesV=dict(one=lon_v, two=lat_v)\n",
    "\n",
    "\n",
    "mask_x_transport_Ugrd = xr.DataArray(mask_x_transport_Ugrd, coords = coordinatesU, dims = ['eta_u', 'xi_u'])\n",
    "mask_y_transport_Vgrd = xr.DataArray(mask_y_transport_Vgrd, coords = coordinatesV, dims = ['eta_v', 'xi_v'])\n",
    "mask_x_transport_numbered_Ugrd = xr.DataArray(mask_x_transport_numbered_Ugrd, coords = coordinatesU, dims = ['eta_u', 'xi_u'])\n",
    "mask_y_transport_numbered_Vgrd = xr.DataArray(mask_y_transport_numbered_Vgrd, coords = coordinatesV, dims = ['eta_v', 'xi_v'])\n"
   ]
  },
  {
   "cell_type": "code",
   "execution_count": null,
   "id": "b5102348-550e-43b3-bc60-7fbf9975130b",
   "metadata": {
    "tags": []
   },
   "outputs": [],
   "source": [
    "# rename dimensions as simply eta/xi\n",
    "mask_x_transport_numbered_Ugrd = mask_x_transport_numbered_Ugrd.rename({'eta_u': 'eta','xi_u': 'xi'})\n",
    "mask_y_transport_numbered_Vgrd = mask_y_transport_numbered_Vgrd.rename({'eta_v': 'eta','xi_v': 'xi'})"
   ]
  },
  {
   "cell_type": "markdown",
   "id": "78a9189c-0502-44c5-91f6-caa62ced7718",
   "metadata": {},
   "source": [
    "### Stack contour data into 1D"
   ]
  },
  {
   "cell_type": "code",
   "execution_count": null,
   "id": "b8115b0d-9b1a-42d1-9cfa-904739e8e9aa",
   "metadata": {
    "tags": []
   },
   "outputs": [],
   "source": [
    "# Create the contour order data-array. Note that in this procedure the x-grid counts have x-grid\n",
    "#   dimensions and the y-grid counts have y-grid dimensions, but these are implicit, the dimension \n",
    "#   *names* are kept general across the counts, the generic y_ocean, x_ocean, so that concatening works\n",
    "#   but we dont double up with numerous counts for one lat/lon point.\n",
    "\n",
    "# stack contour data into 1d:\n",
    "mask_x_numbered_1d = mask_x_transport_numbered_Ugrd.stack(contour_index = ['eta', 'xi'])\n",
    "mask_x_numbered_1d = mask_x_numbered_1d.where(mask_x_numbered_1d > 0, drop = True)\n",
    "\n",
    "mask_y_numbered_1d = mask_y_transport_numbered_Vgrd.stack(contour_index = ['eta', 'xi'])\n",
    "mask_y_numbered_1d = mask_y_numbered_1d.where(mask_y_numbered_1d > 0, drop = True)\n",
    "\n",
    "contour_ordering = xr.concat((mask_x_numbered_1d, mask_y_numbered_1d), dim = 'contour_index', data_vars=\"all\")\n",
    "contour_ordering = contour_ordering.sortby(contour_ordering)\n",
    "contour_index_array = np.arange(1, len(contour_ordering)+1)"
   ]
  },
  {
   "cell_type": "code",
   "execution_count": null,
   "id": "de05a806-b60d-4d6a-86ad-22aa45f08888",
   "metadata": {
    "tags": []
   },
   "outputs": [],
   "source": [
    "%%time\n",
    "\n",
    "# using xr.open_mfdataset\n",
    "\n",
    "vars2drop = [\"ubar\",\"vbar\",\"w\",\"Hsbl\",\"Hbbl\",\"swrad\"]\n",
    "\n",
    "ds = xr.open_mfdataset(paths=\"/g/data3/hh5/tmp/access-om/fbd581/ROMS/OUTPUT/waom10extend_shflim_S_0.25Q/output_20yr_diag/ocean_avg_00*.nc\" , chunks={'eta_rho': '200MB'}, parallel=bool, drop_variables=vars2drop, decode_times=False) # , concat_dim=\"ocean_time\"\n",
    "\n",
    "#- preserving 5-days avgs\n",
    "temp = ds.variables[\"temp\"] \n",
    "salt = ds.variables[\"salt\"]\n",
    "shflux = ds.variables[\"shflux\"] \n",
    "ssflux = ds.variables[\"ssflux\"]\n",
    "m = ds.variables[\"m\"]\n",
    "HvomT = ds.variables[\"Hvom_temp\"]       ## !!! Huon_temp/Hvom_temp were not saved in the original run\n",
    "HuonT = ds.variables[\"Huon_temp\"]       ## now it's running here: /scratch/gi0/fbd581/waom4extend_shflim_S_0.25Q/output_yr10_diag\n",
    "Hvom = ds.variables[\"Hvom\"] \n",
    "Huon = ds.variables[\"Huon\"] \n",
    "\n",
    "ds = ds.set_coords(['Cs_r', 'Cs_w', 'hc', 'h', 'Vtransform'])\n",
    "\n",
    "Zo_rho = (ds.hc * ds.s_rho + ds.Cs_r * ds.h) / (ds.hc + ds.h)\n",
    "z_rho = ds.zeta + (ds.zeta + ds.h) * Zo_rho + ds.zice\n",
    "print(\"Vtransform=2\")\n",
    "Zo_w = (ds.hc * ds.s_w + ds.Cs_w * ds.h) / (ds.hc + ds.h)\n",
    "z_w = ds.zeta + (ds.zeta + ds.h) * Zo_w + ds.zice\n",
    "\n",
    "ds.close()\n"
   ]
  },
  {
   "cell_type": "code",
   "execution_count": null,
   "id": "1de3f617-252e-4740-b664-ee7b3dc1ed32",
   "metadata": {
    "tags": []
   },
   "outputs": [],
   "source": [
    "# # convert temp to DataArray to extract values along contour:\n",
    "# months=np.arange(0,73)*(5/30.41667)\n",
    "\n",
    "# coordinatesT=dict(ocean_time=months, s_rho=(['s_rho'], np.arange(0,31)),\n",
    "#                     eta_rho=(['eta_rho'], np.arange(0,560)), xi_rho=(['xi_rho'], np.arange(0,630)))\n",
    "# temp_xr = xr.DataArray(temp, coords = coordinatesT, dims = ['ocean_time','s_rho','eta_rho', 'xi_rho'])\n",
    "\n",
    "# # rename dimensions as simply eta/xi\n",
    "# temp_xr = temp_xr.rename({'eta_rho': 'eta','xi_rho': 'xi'})\n"
   ]
  },
  {
   "cell_type": "code",
   "execution_count": null,
   "id": "739af40c-1ccf-4363-becc-ab1b6d71cfa2",
   "metadata": {
    "tags": []
   },
   "outputs": [],
   "source": [
    "# convert temp to DataArray to extract values along contour:\n",
    "months=np.arange(0,73)*(5/30.41667)\n",
    "\n",
    "coordinatesT=dict(ocean_time=months, s_rho=(['s_rho'], np.arange(0,31)),\n",
    "                    eta_rho=(['eta_rho'], np.arange(0,560)), xi_rho=(['xi_rho'], np.arange(0,630)))\n",
    "temp_xr = xr.DataArray(temp, coords = coordinatesT, dims = ['ocean_time','s_rho','eta_rho', 'xi_rho'])\n",
    "\n",
    "# rename dimensions as simply eta/xi\n",
    "temp_xr = temp_xr.rename({'eta_rho': 'eta','xi_rho': 'xi'})\n"
   ]
  },
  {
   "cell_type": "code",
   "execution_count": null,
   "id": "99f4ed8b-1fc4-41e1-946c-c1d207a1afdf",
   "metadata": {},
   "outputs": [],
   "source": [
    "# # define a function to extract any 4D var along the contour line\n",
    "\n",
    "# def extract_var_along_contour(var):   # var:4D [time,eta_rho,xi_rho]\n",
    "\n",
    "#     zlen = len(temp[0,:,0,0])\n",
    "#     tlen = len(temp[:,0,0,0])\n",
    "#     print(tlen,zlen)\n",
    "#     var_along_contour = np.empty((tlen,zlen,len(contour_ordering)))\n",
    "    \n",
    "#     for tt in range(0,tlen): # loop through time\n",
    "#         for zz in range(0,zlen): # loop through z-levels\n",
    "#             var_tmp = var[tt,zz,:,:] \n",
    "\n",
    "#             # stack transports into 1d and drop any points not on contour:\n",
    "#             x_var_1d_tmp = var_tmp.stack(contour_index = ['eta', 'xi'])\n",
    "#             x_var_1d_tmp = x_var_1d_tmp.where(mask_x_numbered_1d>0, drop = True)\n",
    "#             y_var_1d_tmp = var_tmp.stack(contour_index = ['eta', 'xi'])\n",
    "#             y_var_1d_tmp = y_var_1d_tmp.where(mask_y_numbered_1d>0, drop = True)\n",
    "\n",
    "#             # combine all points on contour:\n",
    "#             var_along_contour_tmp = xr.concat((x_var_1d_tmp, y_var_1d_tmp), dim = 'contour_index')\n",
    "#             var_along_contour_tmp = var_along_contour_tmp.reset_index('contour_index') # added by fabio, otherwise it crashes due to duplicated indices\n",
    "#             var_along_contour_tmp = var_along_contour_tmp.sortby(contour_ordering)\n",
    "#             var_along_contour_tmp.coords['contour_index'] = contour_index_array\n",
    "#             var_along_contour_tmp = var_along_contour_tmp.load()\n",
    "\n",
    "#             # print(tt, zz, var_along_contour_tmp.shape)\n",
    "#             var_along_contour[tt,zz,:] = var_along_contour_tmp\n",
    "#             del var_along_contour_tmp\n",
    "\n",
    "#     return var_along_contour\n"
   ]
  },
  {
   "cell_type": "code",
   "execution_count": null,
   "id": "c157dfc7-4029-49bf-a78e-33033c58cf72",
   "metadata": {},
   "outputs": [],
   "source": [
    "# %%time\n",
    "# # extract variables:\n",
    "# # 1. temp\n",
    "# temp_along_contour = extract_var_along_contour(temp_xr)"
   ]
  },
  {
   "cell_type": "code",
   "execution_count": null,
   "id": "3d001566-27d3-49e1-85dd-c3edf06596bb",
   "metadata": {
    "tags": []
   },
   "outputs": [],
   "source": [
    "%%time\n",
    "# takes too long, change it for only annual average\n",
    "\n",
    "## We could also loop in time if we didn't want the time average. Initialise a data array and fill in data by looping in time.\n",
    "zlen = 31\n",
    "\n",
    "temp_along_contour = np.empty((zlen,len(contour_ordering)))\n",
    "\n",
    "temp_xr_avg = temp_xr.mean(dim='ocean_time') # annual avg\n",
    "\n",
    "# Fabio: need to loop through z-levels  \n",
    "for zz in range(0,zlen):\n",
    "    \n",
    "    temp_tmp = temp_xr_avg[zz,:]\n",
    "\n",
    "# stack transports into 1d and drop any points not on contour:\n",
    "    x_temp_1d_tmp = temp_tmp.stack(contour_index = ['eta', 'xi'])\n",
    "    x_temp_1d_tmp = x_temp_1d_tmp.where(mask_x_numbered_1d>0, drop = True)\n",
    "    y_temp_1d_tmp = temp_tmp.stack(contour_index = ['eta', 'xi'])\n",
    "    y_temp_1d_tmp = y_temp_1d_tmp.where(mask_y_numbered_1d>0, drop = True)\n",
    "\n",
    "# combine all points on contour:\n",
    "    temp_along_contour_tmp = xr.concat((x_temp_1d_tmp, y_temp_1d_tmp), dim = 'contour_index')\n",
    "    temp_along_contour_tmp = temp_along_contour_tmp.reset_index('contour_index') # added by fabio, otherwise it crashes due to duplicated indices\n",
    "    temp_along_contour_tmp = temp_along_contour_tmp.sortby(contour_ordering)\n",
    "    temp_along_contour_tmp.coords['contour_index'] = contour_index_array\n",
    "    temp_along_contour_tmp = temp_along_contour_tmp.load()\n",
    "    \n",
    "    temp_along_contour[zz,:] = temp_along_contour_tmp\n",
    "    del temp_along_contour_tmp\n",
    "    \n",
    "    "
   ]
  },
  {
   "cell_type": "code",
   "execution_count": null,
   "id": "ff24d80e-9d65-4797-a5b5-02edf95b17a3",
   "metadata": {},
   "outputs": [],
   "source": [
    "%%time\n",
    "\n",
    "# convert salt to DataArray to extract values along contour:\n",
    "salt_xr = xr.DataArray(salt, coords = coordinatesT, dims = ['ocean_time','s_rho','eta_rho', 'xi_rho'])\n",
    "\n",
    "# rename dimensions as simply eta/xi\n",
    "salt_xr = salt_xr.rename({'eta_rho': 'eta','xi_rho': 'xi'})\n",
    "\n",
    "# takes too long, change it for only annual average\n",
    "\n",
    "## We could also loop in time if we didn't want the time average. Initialise a data array and fill in data by looping in time.\n",
    "zlen = 31\n",
    "\n",
    "salt_along_contour = np.empty((zlen,len(contour_ordering)))\n",
    "\n",
    "salt_xr_avg = salt_xr.mean(dim='ocean_time') # annual avg\n",
    "\n",
    "# Fabio: need to loop through z-levels  \n",
    "for zz in range(0,zlen):\n",
    "    \n",
    "    salt_tmp = salt_xr_avg[zz,:]\n",
    "\n",
    "# stack transports into 1d and drop any points not on contour:\n",
    "    x_salt_1d_tmp = salt_tmp.stack(contour_index = ['eta', 'xi'])\n",
    "    x_salt_1d_tmp = x_salt_1d_tmp.where(mask_x_numbered_1d>0, drop = True)\n",
    "    y_salt_1d_tmp = salt_tmp.stack(contour_index = ['eta', 'xi'])\n",
    "    y_salt_1d_tmp = y_salt_1d_tmp.where(mask_y_numbered_1d>0, drop = True)\n",
    "\n",
    "# combine all points on contour:\n",
    "    salt_along_contour_tmp = xr.concat((x_salt_1d_tmp, y_salt_1d_tmp), dim = 'contour_index')\n",
    "    salt_along_contour_tmp = salt_along_contour_tmp.reset_index('contour_index') # added by fabio, otherwise it crashes due to duplicated indices\n",
    "    salt_along_contour_tmp = salt_along_contour_tmp.sortby(contour_ordering)\n",
    "    salt_along_contour_tmp.coords['contour_index'] = contour_index_array\n",
    "    salt_along_contour_tmp = salt_along_contour_tmp.load()\n",
    "    \n",
    "    salt_along_contour[zz,:] = salt_along_contour_tmp\n",
    "    del salt_along_contour_tmp\n",
    "    \n",
    "    "
   ]
  },
  {
   "cell_type": "markdown",
   "id": "f70123ac-8a39-495a-b692-9130247fb272",
   "metadata": {},
   "source": [
    "### handling x/y heat transports (HvomT, HuonT [degC m3.s-1])\n",
    "\n",
    "take time average:"
   ]
  },
  {
   "cell_type": "code",
   "execution_count": null,
   "id": "b05cc70a-0818-4eef-a92f-1ec94b082e3d",
   "metadata": {
    "tags": []
   },
   "outputs": [],
   "source": [
    "%%time\n",
    "Z_rho = z_rho.transpose('ocean_time','s_rho','eta_rho','xi_rho')\n",
    "Z_rho_avg = np.nanmean(Z_rho, axis=0)\n",
    "print(Z_rho_avg.shape, mask_x_numbered_1d.shape)"
   ]
  },
  {
   "cell_type": "code",
   "execution_count": null,
   "id": "8fe9c91d-e191-466c-9cff-10ce96b31980",
   "metadata": {},
   "outputs": [],
   "source": [
    "%%time\n",
    "# heat transport (m3.s-1 * degC)\n",
    "HvomT_avg = np.nanmean(HvomT, axis=0) # annual avg\n",
    "HuonT_avg = np.nanmean(HuonT, axis=0)\n",
    "\n",
    "# Convert heat transport to data arrays:\n",
    "coordinates3Du = dict(z=(['z'], np.arange(0,31)),\n",
    "                    eta_u=(['eta_u'], np.arange(0,560)), xi_u=(['xi_u'], np.arange(0,629)))\n",
    "coordinates3Dv = dict(z=(['z'], np.arange(0,31)),\n",
    "                    eta_v=(['eta_v'], np.arange(0,559)), xi_v=(['xi_v'], np.arange(0,630)))\n",
    "\n",
    "HuonT_avg = xr.DataArray(HuonT_avg, coords = coordinates3Du, dims = ['z','eta_u', 'xi_u'])\n",
    "HvomT_avg = xr.DataArray(HvomT_avg, coords = coordinates3Dv, dims = ['z','eta_v', 'xi_v'])\n",
    "\n",
    "# rename dimensions as simply eta/xi\n",
    "HuonT_avg = HuonT_avg.rename({'eta_u': 'eta','xi_u': 'xi'})\n",
    "HvomT_avg = HvomT_avg.rename({'eta_v': 'eta','xi_v': 'xi'})"
   ]
  },
  {
   "cell_type": "markdown",
   "id": "2f44399e-e2cc-4c7a-be0b-903c61c63c05",
   "metadata": {},
   "source": [
    "### handling x/y transports (Hvom, Huon [m3.s-1]) to calculate Tf heat transport\n"
   ]
  },
  {
   "cell_type": "code",
   "execution_count": null,
   "id": "3bd3fd79-7921-4a07-9175-c918879d4b46",
   "metadata": {
    "tags": []
   },
   "outputs": [],
   "source": [
    "%%time\n",
    "Hvom_avg = np.nanmean(Hvom, axis=0) # annual avg\n",
    "Huon_avg = np.nanmean(Huon, axis=0)\n",
    "\n",
    "Huon_avg = xr.DataArray(Huon_avg, coords = coordinates3Du, dims = ['z','eta_u', 'xi_u'])\n",
    "Hvom_avg = xr.DataArray(Hvom_avg, coords = coordinates3Dv, dims = ['z','eta_v', 'xi_v'])\n",
    "\n",
    "# rename dimensions as simply eta/xi\n",
    "Huon_avg = Huon_avg.rename({'eta_u': 'eta','xi_u': 'xi'})\n",
    "Hvom_avg = Hvom_avg.rename({'eta_v': 'eta','xi_v': 'xi'})"
   ]
  },
  {
   "cell_type": "markdown",
   "id": "559a525b-5260-4dd3-a896-c89b8125e4b4",
   "metadata": {},
   "source": [
    "### correct Huon/Hvom and HuonT/HvomT using mask_x/y_transport:\n",
    "convection for the northward (+) and southward (-) across contour"
   ]
  },
  {
   "cell_type": "code",
   "execution_count": null,
   "id": "d24a6b8a-6a54-46cc-ba1e-6c18362cc61c",
   "metadata": {},
   "outputs": [],
   "source": [
    "# %%time ## take too long!!! why>\n",
    "\n",
    "# HuonT_avg_corr = np.empty(HuonT_avg.shape)\n",
    "# HvomT_avg_corr = np.empty(HvomT_avg.shape)\n",
    "# Huon_avg_corr = np.empty(Huon_avg.shape)\n",
    "# Hvom_avg_corr = np.e mpty(Hvom_avg.shape)\n",
    "\n",
    "# for zz in range(0,31):\n",
    "#     HuonT_avg_corr[zz,:] = HuonT_avg[zz,:]*mask_x_transport_Ugrd\n",
    "#     HvomT_avg_corr[zz,:] = HvomT_avg[zz,:]*mask_y_transport_Vgrd\n",
    "\n",
    "#     Huon_avg_corr[zz,:] = Huon_avg[zz,:]*mask_x_transport_Ugrd\n",
    "#     Hvom_avg_corr[zz,:] = Hvom_avg[zz,:]*mask_y_transport_Vgrd\n"
   ]
  },
  {
   "cell_type": "code",
   "execution_count": null,
   "id": "75950949-b1d3-480b-8794-800f4369674b",
   "metadata": {
    "tags": []
   },
   "outputs": [],
   "source": [
    "# determine constants:\n",
    "rho0 = 1025 # kg. m-3\n",
    "Cp = 3989.245 # J.kg-1.degC-1\n",
    "Tf = -1.95 # degC\n",
    "\n",
    "#now multiply transport (m3.s-1) by rho0 x Cp x Tf [units: J/s = Watt]\n",
    "\n",
    "# Tf=-5.1 # replace with lowest temperature along 1500m contour!!\n",
    "Tf = -1.95 # in WAOM10\n",
    "\n",
    "# Tf_heat_xtransp = Huon_avg*Cp*rho0*Tf\n",
    "# Tf_heat_ytransp = Hvom_avg*Cp*rho0*Tf"
   ]
  },
  {
   "cell_type": "markdown",
   "id": "d8be7381-d094-4e09-9d07-238f0ce07b46",
   "metadata": {},
   "source": [
    "### Extract transport values along contour\n"
   ]
  },
  {
   "cell_type": "code",
   "execution_count": null,
   "id": "cc4600d5-1a9d-4a86-a4d4-f4f315893666",
   "metadata": {
    "tags": []
   },
   "outputs": [],
   "source": [
    "%%time\n",
    "## We could also loop in time if we didn't want the time average. Initialise a data array and fill in data by looping in time.\n",
    "zlen = 31\n",
    "\n",
    "heat_trans_across_contour = np.empty((zlen,len(contour_ordering)))\n",
    "\n",
    "# Fabio: need to loop through z-levels\n",
    "for zz in range(0,31):\n",
    "    HuonT_avg_tmp = HuonT_avg[zz,:]*mask_x_transport_Ugrd*Cp*rho0 - (Huon_avg[zz,:]*Tf*mask_x_transport_Ugrd*Cp*rho0)\n",
    "    HvomT_avg_tmp = HvomT_avg[zz,:]*mask_y_transport_Vgrd*Cp*rho0 - (Hvom_avg[zz,:]*Tf*mask_y_transport_Vgrd*Cp*rho0)\n",
    "\n",
    "# stack transports into 1d and drop any points not on contour:\n",
    "    x_transport_1d_tmp = HuonT_avg_tmp.stack(contour_index = ['eta', 'xi'])\n",
    "    x_transport_1d_tmp = x_transport_1d_tmp.where(mask_x_numbered_1d>0, drop = True)\n",
    "    y_transport_1d_tmp = HvomT_avg_tmp.stack(contour_index = ['eta', 'xi'])\n",
    "    y_transport_1d_tmp = y_transport_1d_tmp.where(mask_y_numbered_1d>0, drop = True)\n",
    "\n",
    "# combine all points on contour:\n",
    "    heat_trans_across_contour_tmp = xr.concat((x_transport_1d_tmp, y_transport_1d_tmp), dim = 'contour_index')\n",
    "    # savetmp_heat_trans_across_contour = heat_trans_across_contour_tmp\n",
    "    heat_trans_across_contour_tmp = heat_trans_across_contour_tmp.reset_index('contour_index') # added by fabio, otherwise it crashes due to duplicated indices\n",
    "    heat_trans_across_contour_tmp = heat_trans_across_contour_tmp.sortby(contour_ordering)\n",
    "    heat_trans_across_contour_tmp.coords['contour_index'] = contour_index_array\n",
    "    heat_trans_across_contour_tmp = heat_trans_across_contour_tmp.load()\n",
    "    \n",
    "    heat_trans_across_contour[zz,:] = heat_trans_across_contour_tmp\n",
    "    del heat_trans_across_contour_tmp\n",
    "    \n",
    "    "
   ]
  },
  {
   "cell_type": "code",
   "execution_count": null,
   "id": "c23862e7-9c95-401d-8875-80e9d7b0cdc7",
   "metadata": {
    "tags": []
   },
   "outputs": [],
   "source": [
    "%%time\n",
    "## We could also loop in time if we didn't want the time average. Initialise a data array and fill in data by looping in time.\n",
    "zlen = 31\n",
    "\n",
    "Tf_heat_trans_across_contour = np.empty((zlen,len(contour_ordering)))\n",
    "\n",
    "# Fabio: need to loop through z-levels\n",
    "for zz in range(0,31):\n",
    "    Huon_avg_tmp = Tf_heat_xtransp[zz,:]\n",
    "    Hvom_avg_tmp = Tf_heat_ytransp[zz,:]\n",
    "\n",
    "# stack transports into 1d and drop any points not on contour:\n",
    "    x_transport_1d_tmp = Huon_avg_tmp.stack(contour_index = ['eta', 'xi'])\n",
    "    x_transport_1d_tmp = x_transport_1d_tmp.where(mask_x_numbered_1d>0, drop = True)\n",
    "    y_transport_1d_tmp = Hvom_avg_tmp.stack(contour_index = ['eta', 'xi'])\n",
    "    y_transport_1d_tmp = y_transport_1d_tmp.where(mask_y_numbered_1d>0, drop = True)\n",
    "\n",
    "# combine all points on contour:\n",
    "    Tf_heat_trans_across_contour_tmp = xr.concat((x_transport_1d_tmp, y_transport_1d_tmp), dim = 'contour_index')\n",
    "    # savetmp_Tf_heat_trans_across_contour = Tf_heat_trans_across_contour_tmp\n",
    "    Tf_heat_trans_across_contour_tmp = Tf_heat_trans_across_contour_tmp.reset_index('contour_index') # added by fabio, otherwise it crashes due to duplicated indices\n",
    "    Tf_heat_trans_across_contour_tmp = Tf_heat_trans_across_contour_tmp.sortby(contour_ordering)\n",
    "    Tf_heat_trans_across_contour_tmp.coords['contour_index'] = contour_index_array\n",
    "    Tf_heat_trans_across_contour_tmp = Tf_heat_trans_across_contour_tmp.load()\n",
    "    \n",
    "    Tf_heat_trans_across_contour[zz,:] = Tf_heat_trans_across_contour_tmp\n",
    "    del Tf_heat_trans_across_contour_tmp\n",
    "    \n",
    "    "
   ]
  },
  {
   "cell_type": "code",
   "execution_count": null,
   "id": "890609d1-7710-40c3-a6e6-124c131215f5",
   "metadata": {
    "tags": []
   },
   "outputs": [],
   "source": [
    "%%time\n",
    "\n",
    "# obtain z_rho (depth of sigma layers) along the contour:\n",
    "zlen = 31\n",
    "\n",
    "z_rho_across_contour = np.empty((zlen,len(contour_ordering)))\n",
    "\n",
    "# first need to do annual average to match with transports (also annual means):\n",
    "z_rho_avg = np.nanmean(z_rho, axis=0)\n",
    "\n",
    "coordinatesZ=dict(ocean_time,one=lon_rho, two=lat_rho, three=z_rho)\n",
    "\n",
    "# convert to DataArray\n",
    "z_rho_avg = xr.DataArray(z_rho_avg, coords = coordinates, dims = ['eta_rho', 'xi_rho', 'z_rho'])\n",
    "# rename dimensions as simply eta/xi\n",
    "z_rho_avg = z_rho_avg.rename({'eta_rho': 'eta','xi_rho': 'xi'})\n"
   ]
  },
  {
   "cell_type": "code",
   "execution_count": null,
   "id": "a041096e-50e8-4fbe-a367-e7e7d37c88e2",
   "metadata": {},
   "outputs": [],
   "source": [
    "z_rho = z_rho.transpose('ocean_time','s_rho','eta_rho','xi_rho')\n",
    "z_rho_avg = xr.DataArray(z_rho_avg, coords = coordinatesT, dims = ['eta_rho', 'xi_rho', 'z_rho'])\n",
    "\n",
    "print(Z_rho.shape, temp_xr.shape)"
   ]
  },
  {
   "cell_type": "code",
   "execution_count": null,
   "id": "3413d6d7-5fb5-4650-a2e0-09e001c8a849",
   "metadata": {
    "tags": []
   },
   "outputs": [],
   "source": [
    "%%time\n",
    "\n",
    "# Fabio: need to loop through z-levels\n",
    "for zz in range(0,31):\n",
    "    z_rho_avg_tmp = z_rho_avg[:,:,zz]\n",
    "\n",
    "# stack transports into 1d and drop any points not on contour:\n",
    "    x_z_rho_1d_tmp = z_rho_avg_tmp.stack(contour_index = ['eta', 'xi'])#,'z_rho'])\n",
    "    x_z_rho_1d_tmp = x_z_rho_1d_tmp.where(mask_x_numbered_1d>0, drop = True)\n",
    "    y_z_rho_1d_tmp = z_rho_avg_tmp.stack(contour_index = ['eta', 'xi'])\n",
    "    y_z_rho_1d_tmp = y_z_rho_1d_tmp.where(mask_y_numbered_1d>0, drop = True)\n",
    "\n",
    "# combine all points on contour:\n",
    "    z_rho_across_contour_tmp = xr.concat((x_z_rho_1d_tmp, y_z_rho_1d_tmp), dim = 'contour_index')\n",
    "    z_rho_across_contour_tmp = z_rho_across_contour_tmp.reset_index('contour_index') # added by fabio, otherwise it crashes due to duplicated indices\n",
    "    z_rho_across_contour_tmp = z_rho_across_contour_tmp.sortby(contour_ordering)\n",
    "    z_rho_across_contour_tmp.coords['contour_index'] = contour_index_array\n",
    "    z_rho_across_contour_tmp = z_rho_across_contour_tmp.load()\n",
    "    \n",
    "    z_rho_across_contour[zz,:] = z_rho_across_contour_tmp\n",
    "    del z_rho_across_contour_tmp"
   ]
  },
  {
   "cell_type": "markdown",
   "id": "44a6a7d8-8c59-47e1-9536-c68cc5c54673",
   "metadata": {},
   "source": [
    "## Save variables along the 1500-m isobath contour:"
   ]
  },
  {
   "cell_type": "code",
   "execution_count": null,
   "id": "92ad3357-2b61-475b-892e-0dd518b9ab87",
   "metadata": {
    "tags": []
   },
   "outputs": [],
   "source": [
    "coordinatesC=dict(s_rho=(['s_rho'], np.arange(0,31)),\n",
    "                    contour_index_array=(['contour_index_array'], np.arange(0,len(contour_index_array))))\n",
    "\n",
    "\n",
    "temp_along_contour_xr = xr.DataArray(temp_along_contour, coords = coordinatesC, dims = ['s_rho','contour_index_array'])\n",
    "salt_along_contour_xr = xr.DataArray(salt_along_contour, coords = coordinatesC, dims = ['s_rho','contour_index_array'])\n",
    "Tf_heat_trans_across_contour_xr = xr.DataArray(Tf_heat_trans_across_contour, coords = coordinatesC, dims = ['s_rho','contour_index_array'])\n",
    "heat_trans_across_contour_xr = xr.DataArray(heat_trans_across_contour, coords = coordinatesC, dims = ['s_rho','contour_index_array'])\n",
    "z_rho_across_contour_xr = xr.DataArray(z_rho_across_contour, coords = coordinatesC, dims = ['s_rho','contour_index_array'])\n",
    "\n",
    "files_path = '/g/data3/hh5/tmp/access-om/fbd581/ROMS/postprocessing/cross_contour_tmp/'\n",
    "\n",
    "temp_along_contour_xr.to_netcdf(files_path + 'WAOM10_temp_1500m', mode='w', format=\"NETCDF4\")\n",
    "salt_along_contour_xr.to_netcdf(files_path + 'WAOM10_salt_1500m', mode='w', format=\"NETCDF4\")\n",
    "Tf_heat_trans_across_contour_xr.to_netcdf(files_path + 'WAOM10_Tf_heat_transp_1500m', mode='w', format=\"NETCDF4\")\n",
    "heat_trans_across_contour_xr.to_netcdf(files_path + 'WAOM10_heat_transp_1500m', mode='w', format=\"NETCDF4\")\n",
    "z_rho_across_contour_xr.to_netcdf(files_path + 'WAOM10_Zrho_1500m', mode='w', format=\"NETCDF4\")"
   ]
  },
  {
   "cell_type": "code",
   "execution_count": null,
   "id": "af64910b-0bfa-4724-908d-ecb1fc7a1f87",
   "metadata": {},
   "outputs": [],
   "source": []
  },
  {
   "cell_type": "code",
   "execution_count": null,
   "id": "ad6f9057-8459-4163-bb01-1cd94718b5dd",
   "metadata": {},
   "outputs": [],
   "source": [
    "fig_path = '/g/data3/hh5/tmp/access-om/fbd581/ROMS/postprocessing/figs/OHB_shelf/'\n",
    "\n",
    "# some plots:\n",
    "fig, ax = plt.subplots(nrows=1, figsize = (10, 5))\n",
    "\n",
    "plt.plot((np.sum(np.cumsum(Tf_heat_trans_across_contour, axis=1),axis=0)), '--r', label='Tf heat transport')\n",
    "plt.plot((np.sum(np.cumsum(heat_trans_across_contour, axis=1),axis=0)), '-k', label='Heat transport')# absolute') ## subtracting the Tf heat transport during the calculation\n",
    "plt.plot((np.sum(np.cumsum(heat_trans_across_contour, axis=1),axis=0))+(np.sum(np.cumsum(Tf_heat_trans_across_contour, axis=1),axis=0)), '--b', label='Heat transport absolute') ## added it back for comparison\n",
    "ax.set_ylabel('Cumulative heat transport \\n across 1500m isobath (W)');\n",
    "plt.grid()\n",
    "plt.legend()\n",
    "name_fig='WAOM10_Cross-1500m_transport_vint_raw.png'\n",
    "plt.savefig(fig_path + name_fig, dpi=300)\n"
   ]
  },
  {
   "cell_type": "code",
   "execution_count": null,
   "id": "fdb5e3bb-1ffc-49d2-9630-463705169c5a",
   "metadata": {
    "tags": []
   },
   "outputs": [],
   "source": [
    "fig, ax = plt.subplots(nrows=1, figsize = (10, 5))\n",
    "plt.plot(np.cumsum(heat_trans_across_contour[0,:], axis=0), '-k', label='Heat transport k=0')\n",
    "plt.plot(np.cumsum(heat_trans_across_contour[5,:], axis=0), '--k', label='Heat transport k=5')\n",
    "plt.plot(np.cumsum(heat_trans_across_contour[10,:], axis=0), '-r', label='Heat transport k=10')\n",
    "plt.plot(np.cumsum(heat_trans_across_contour[15,:], axis=0), '--r', label='Heat transport k=15')\n",
    "plt.plot(np.cumsum(heat_trans_across_contour[20,:], axis=0), '-b', label='Heat transport k=20')\n",
    "plt.plot(np.cumsum(heat_trans_across_contour[-1,:], axis=0), '--b', label='Heat transport k=31')\n",
    "ax.set_ylabel('Cumulative heat transport \\n across 1500m isobath (W)');\n",
    "plt.grid()\n",
    "plt.legend()\n",
    "name_fig='WAOM10_Cross-1500m_transport_z-levels_raw.png'\n",
    "plt.savefig(fig_path + name_fig, dpi=300)"
   ]
  },
  {
   "cell_type": "code",
   "execution_count": null,
   "id": "32681689-4b86-4fe1-8022-8d53962e93b8",
   "metadata": {
    "tags": []
   },
   "outputs": [],
   "source": [
    "fig, ax = plt.subplots(nrows=1, figsize = (10, 5))\n",
    "# plot on the vertical-integrated transport\n",
    "plt.plot(np.sum(heat_trans_across_contour, axis=0)*1e-15, '-k', label='Heat transport vert-integ.',linewidth=0.1)\n",
    "plt.plot(0*np.ones(heat_trans_across_contour[0,:].shape), '-k', label='Heat transport vert-integ. smoothed', linewidth=1)\n",
    "# running mean, https://stackoverflow.com/questions/13728392/moving-average-or-running-mean\n",
    "x=np.sum(heat_trans_across_contour, axis=0)\n",
    "N=25 # groups of points along the contour line - use dist to translate to distance (average throughout)\n",
    "plt.plot(np.arange(0,len(heat_trans_across_contour[0,:])-N+1),np.convolve(x, np.ones(N)/N, mode='valid')*1e-15, '-k', label='Heat transport k=0',linewidth=1) \n",
    "\n",
    "ax.set_ylabel('Cross-shelf heat transport \\n across 1500m isobath (W)');\n",
    "plt.grid()\n",
    "plt.legend()\n",
    "name_fig='WAOM10_Cross-1500m_transport_vint-smoothed_raw.png'\n",
    "plt.savefig(fig_path + name_fig, dpi=300)"
   ]
  },
  {
   "cell_type": "code",
   "execution_count": null,
   "id": "d334e44c-9ba2-4cb3-9478-64e2ee4d50e4",
   "metadata": {
    "tags": []
   },
   "outputs": [],
   "source": [
    "fig, ax = plt.subplots(nrows=1, figsize = (10, 5))\n",
    "\n",
    "#plt.plot((np.sum(np.cumsum(heat_trans_across_contour, axis=1),axis=0))*1e-6, '--b', label='Heat transport')# absolute') ## subtracting the Tf heat transport during the \n",
    "plt.pcolormesh(heat_trans_across_contour)\n",
    "plt.colorbar()\n",
    "ax.set_ylabel('Heat transport (anomaly referenced to $T_f$) \\n across 1500m isobath (W)');\n",
    "name_fig='WAOM10_Cross-1500m_transport_section_raw.png'\n",
    "plt.savefig(fig_path + name_fig, dpi=300)\n"
   ]
  },
  {
   "cell_type": "code",
   "execution_count": null,
   "id": "7a07c7d0-b130-4bdc-91ad-74d7a2dcc3ea",
   "metadata": {},
   "outputs": [],
   "source": [
    "# mm=1\n",
    "\n",
    "# his(7): 126576000, 127008000, 127440000, 127872000, 128304000,\n",
    "    # 128736000, 129168000 ;\n",
    "    \n",
    "# avg (7): 126360000, 126792000, 127224000, 127656000, 128088000,\n",
    "    # 128520000, 128952000 ;\n"
   ]
  },
  {
   "cell_type": "code",
   "execution_count": null,
   "id": "f2fb8c2a-6cdd-410b-ab70-cb7863075cf5",
   "metadata": {
    "tags": []
   },
   "outputs": [],
   "source": [
    "his_01 = [126576000, 127008000, 127440000, 127872000, 128304000,\n",
    "    128736000, 129168000]\n",
    "avg_01 = [126360000, 126792000, 127224000, 127656000, 128088000,\n",
    "    128520000, 128952000]"
   ]
  },
  {
   "cell_type": "markdown",
   "id": "c00d260c-eb79-48f8-b320-43db422828af",
   "metadata": {},
   "source": [
    "### Finally, we can extract the coordinates of the contour index, and the distance, for a more meaningful \"x\" axis."
   ]
  },
  {
   "cell_type": "code",
   "execution_count": null,
   "id": "48ef274a-da81-4471-a008-6fce8a0c521d",
   "metadata": {
    "tags": []
   },
   "outputs": [],
   "source": [
    "contour_ordering = xr.concat((mask_x_numbered_1d,mask_y_numbered_1d), dim = 'contour_index')\n",
    "contour_ordering = contour_ordering.sortby(contour_ordering)\n",
    "\n",
    "# get lat and lon along contour, useful for plotting later:\n",
    "lat_along_contour = contour_ordering.two\n",
    "lon_along_contour = contour_ordering.one\n",
    "\n",
    "contour_index_array = np.arange(1, len(contour_ordering)+1)\n",
    "\n",
    "# don't need the multi-index anymore, replace with contour count and save\n",
    "lat_along_contour.coords['contour_index'] = contour_index_array\n",
    "lon_along_contour.coords['contour_index'] = contour_index_array"
   ]
  },
  {
   "cell_type": "code",
   "execution_count": null,
   "id": "2b8f9391-7a7b-4f60-97a0-592417944e9b",
   "metadata": {
    "tags": []
   },
   "outputs": [],
   "source": []
  },
  {
   "cell_type": "code",
   "execution_count": null,
   "id": "abdb282d-e944-409f-ac73-f0f3649a685b",
   "metadata": {},
   "outputs": [],
   "source": []
  },
  {
   "cell_type": "markdown",
   "id": "86e966a8-d3c9-4203-81cb-2f84bceec255",
   "metadata": {},
   "source": [
    "### Code to extract distance in between contour coordinates, using length of diagonal if there is a bend.\n",
    "\n",
    "Loop through the contour, determining if diagonal is required or not, and save the distance along each segment. Then, cumulatively sum the distances along each segment to get the distance from the first point.\n",
    "\n",
    "If there is a bend in the contour, then half the diagonal distance is added to each side to avoid artifically inflating the along-contour distance metric, according to this diagram:"
   ]
  },
  {
   "cell_type": "code",
   "execution_count": null,
   "id": "838275d5-4510-41e3-bc86-2d70b6f752a9",
   "metadata": {
    "tags": []
   },
   "outputs": [],
   "source": [
    "%%time\n",
    "# pm/pn variables:\n",
    "\n",
    "num_points = len(lat_along_contour)\n",
    "\n",
    "# if there is a bend in the contour, add the distance using the half-length of the diagonal\n",
    "# instead of the sum of 2 edges, to be more representative.\n",
    "distance_along_contour = np.zeros((num_points))\n",
    "\n",
    "x_indices = np.sort(mask_x_transport_numbered[mask_x_transport_numbered>0])\n",
    "y_indices = np.sort(mask_y_transport_numbered[mask_y_transport_numbered>0])\n",
    "\n",
    "skip = False\n",
    "# note dxu and dyt do not vary in x, so we can just take the first value (as long as there is no land there,\n",
    "# which for this latitude range there is not. If using a different latitude range, choose an x value that is\n",
    "# not a nan/land for the entire latitude range\n",
    "dxu = np.divide(1,pm)\n",
    "dyt = np.divide(1,pn)\n",
    "\n",
    "for count in range(1, num_points):\n",
    "    if skip == True:\n",
    "        skip = False\n",
    "        continue\n",
    "    if count in y_indices:\n",
    "        if count + 1 in y_indices:\n",
    "            # note dxu and dyt do not vary in x:\n",
    "            jj = np.where(mask_y_transport_numbered==count)#[0]\n",
    "            # print(count, jj)\n",
    "            distance_along_contour[count-1] = (dxu[jj])#[0]\n",
    "        else:\n",
    "            jj0 = np.where(mask_y_transport_numbered==count)#[0]\n",
    "            jj1 = np.where(mask_x_transport_numbered==count+1)#[0]\n",
    "            half_diagonal_distance = 0.5 * np.sqrt((dxu[jj0])**2 + (dyt[jj1])**2)\n",
    "            distance_along_contour[count-1] = half_diagonal_distance\n",
    "            distance_along_contour[count] = half_diagonal_distance\n",
    "            # skip to next count:\n",
    "            skip = True\n",
    "\n",
    "    # count in x_indices:\n",
    "    else:\n",
    "        if count + 1 in x_indices:\n",
    "            jj = np.where(mask_x_transport_numbered==count)#[0]\n",
    "            distance_along_contour[count-1] = (dyt[jj])#[0]\n",
    "        else:\n",
    "            jj0 = np.where(mask_x_transport_numbered==count)#[0]\n",
    "            jj1 = np.where(mask_y_transport_numbered==count+1)#[0]\n",
    "            half_diagonal_distance = 0.5 * np.sqrt((dyt[jj0])**2 + (dxu[jj1])**2)\n",
    "            distance_along_contour[count-1] = half_diagonal_distance\n",
    "            distance_along_contour[count] = half_diagonal_distance\n",
    "            # skip to next count:\n",
    "            skip = True\n",
    "\n",
    "# fix last value:\n",
    "if distance_along_contour[-1] == 0:\n",
    "    count = count + 1\n",
    "    if count in y_indices:\n",
    "        jj = np.where(mask_y_transport_numbered==count)#[0]\n",
    "        distance_along_contour[-1] = (dxu[jj])#[0]\n",
    "    else:\n",
    "        jj = np.where(mask_x_transport_numbered==count)#[0]\n",
    "        distance_along_contour[-1] = (dyt[jj])#[0]\n",
    "\n",
    "# units are 10^3 km:\n",
    "distance_along_contour = np.cumsum(distance_along_contour) / 1e3 / 1e3\n",
    "\n",
    "\n",
    "# --- Select the indices for axis labels of specific longitudes, \n",
    "# so we can plot transport vs distance but have longitude labels instead of length\n",
    "\n",
    "distance_indices = np.zeros(9)\n",
    "\n",
    "for i in np.arange(100, len(lon_along_contour.one)):\n",
    "    # print(i)\n",
    "    if (distance_indices[1]==0):\n",
    "        if (lon_along_contour.one[i]>-160 and lon_along_contour.one[i]<-159):\n",
    "            distance_indices[1] = lon_along_contour.contour_index.values[i]\n",
    "    if (distance_indices[2]==0):\n",
    "        if (lon_along_contour.one[i]>-120 and lon_along_contour.one[i]<-119):\n",
    "            distance_indices[2] = lon_along_contour.contour_index.values[i]\n",
    "    if (distance_indices[3]==0):\n",
    "        if (lon_along_contour.one[i]>-80  and lon_along_contour.one[i]<-79):\n",
    "            distance_indices[3] = lon_along_contour.contour_index.values[i]\n",
    "    if (distance_indices[4]==0):\n",
    "        if (lon_along_contour.one[i]>-40 and lon_along_contour.one[i]<-39):\n",
    "            distance_indices[4] = lon_along_contour.contour_index.values[i]\n",
    "    if (distance_indices[5]==0):\n",
    "        if (lon_along_contour.one[i]>0 and lon_along_contour.one[i]<1):\n",
    "            distance_indices[5] = lon_along_contour.contour_index.values[i]\n",
    "    if (distance_indices[6]==0):\n",
    "        if (lon_along_contour.one[i]>40 and lon_along_contour.one[i]<41):\n",
    "            distance_indices[6] = lon_along_contour.contour_index.values[i]\n",
    "    if (distance_indices[7]==0):\n",
    "        if (lon_along_contour.one[i]>80 and lon_along_contour.one[i]<81):\n",
    "            distance_indices[7] = lon_along_contour.contour_index.values[i]\n",
    "    if (distance_indices[8]==0):\n",
    "        if (lon_along_contour.one[i]>120 and lon_along_contour.one[i]<121):\n",
    "            distance_indices[8] = lon_along_contour.contour_index.values[i]\n",
    "            \n",
    "            \n",
    "# distance_indices[13] = len(lon_along_contour.contour_index.values)-1"
   ]
  },
  {
   "cell_type": "code",
   "execution_count": null,
   "id": "8d997cc2-a072-4632-8296-fab2fb7cd2e6",
   "metadata": {
    "tags": []
   },
   "outputs": [],
   "source": [
    "plt.plot(distance_indices)"
   ]
  },
  {
   "cell_type": "code",
   "execution_count": null,
   "id": "08e97483-e40b-4f49-9303-da5d5eebb4c2",
   "metadata": {
    "tags": []
   },
   "outputs": [],
   "source": [
    "plt.plot(distance_along_contour[distance_indices.astype(int)[:]])\n"
   ]
  },
  {
   "cell_type": "markdown",
   "id": "5324ea0d-2d03-4b06-9556-7c287d380596",
   "metadata": {},
   "source": [
    "## save variables along the 1500-m isobath contour: lon/lat/distance_along_contour"
   ]
  },
  {
   "cell_type": "code",
   "execution_count": null,
   "id": "0e212007-848c-44d9-ada6-a7cc2f152b19",
   "metadata": {
    "tags": []
   },
   "outputs": [],
   "source": [
    "lon_along_contour\n",
    "lon_along_contour.to_netcdf(files_path + 'WAOM10_lon_along_1500m', mode='w', format=\"NETCDF4\")\n"
   ]
  },
  {
   "cell_type": "code",
   "execution_count": null,
   "id": "0bf30676-0056-4bf2-b6c6-df2e5bc5e4c9",
   "metadata": {
    "tags": []
   },
   "outputs": [],
   "source": [
    "lat_along_contour\n",
    "lat_along_contour.to_netcdf(files_path + 'WAOM10_lat_along_1500m', mode='w', format=\"NETCDF4\")\n"
   ]
  },
  {
   "cell_type": "code",
   "execution_count": null,
   "id": "3e486bfd-00c1-4ac6-b3e4-a51149b0212f",
   "metadata": {
    "tags": []
   },
   "outputs": [],
   "source": [
    "\n",
    "## distance\n",
    "coordinatesD=dict(contour_index_array=(['contour_index_array'], np.arange(0,len(contour_index_array))))\n",
    "\n",
    "distance_along_contour_xr = xr.DataArray(distance_along_contour, coords = coordinatesD, dims = ['contour_index_array'])\n",
    "distance_along_contour_xr.to_netcdf(files_path + 'WAOM10_dist_along_1500m', mode='w', format=\"NETCDF4\")\n",
    "\n",
    "\n"
   ]
  },
  {
   "cell_type": "code",
   "execution_count": null,
   "id": "691e205f-0b2f-4dbc-894b-68248cf0f8b9",
   "metadata": {
    "tags": []
   },
   "outputs": [],
   "source": [
    "coordinatesI=dict(lon_index=(['lon_index'], np.arange(0,9)))\n",
    "\n",
    "distance_indices_xr = xr.DataArray(distance_indices, coords = coordinatesI, dims = ['lon_index'])\n",
    "distance_indices_xr.to_netcdf(files_path + 'WAOM10_dist_indices_1500m', mode='w', format=\"NETCDF4\")\n"
   ]
  },
  {
   "cell_type": "markdown",
   "id": "b1d4e44d-9a14-4948-803c-39cbf5111ee5",
   "metadata": {},
   "source": [
    "### Plot cumulative transport against distance along the contour."
   ]
  },
  {
   "cell_type": "code",
   "execution_count": null,
   "id": "7b030166-60d1-411f-a138-28b8a0d87ead",
   "metadata": {
    "tags": []
   },
   "outputs": [],
   "source": [
    "fig, axes = plt.subplots(nrows = 2, figsize = (12, 8))\n",
    "\n",
    "axes[0].plot(distance_along_contour, (np.sum(np.cumsum(Tf_heat_trans_across_contour, axis=1),axis=0)), '--r', label='$T_f$ heat transport')\n",
    "axes[0].plot(distance_along_contour, (np.sum(np.cumsum(heat_trans_across_contour, axis=1),axis=0)), '-k', label='Heat transport anomaly from $T_f$')\n",
    "axes[0].plot(distance_along_contour, (np.sum(np.cumsum(heat_trans_across_contour, axis=1),axis=0))+(np.sum(np.cumsum(Tf_heat_trans_across_contour, axis=1),axis=0)), '--b', label='Heat transport (absolute)')\n",
    "axes[0].legend()\n",
    "\n",
    "axes[0].set_ylabel('Cumulative heat transport (W)')\n",
    "axes[0].set_xlabel('Distance from 156$^\\circ$E (10$^3$ km)')\n",
    "axes[0].set_xlim(0, distance_along_contour[-1])\n",
    "axes[0].set_title(f'Cumulative heat transport across 1500-m isobath, full-depth')\n",
    "axes[0].grid()\n",
    "\n",
    "axes[1].plot(distance_along_contour, (np.sum(np.cumsum(Tf_heat_trans_across_contour, axis=1),axis=0)), '--r', label='$T_f$ heat transport')\n",
    "axes[1].plot(distance_along_contour, (np.sum(np.cumsum(heat_trans_across_contour, axis=1),axis=0)), '-k', label='Heat transport anomaly from $T_f$')\n",
    "axes[1].plot(distance_along_contour, (np.sum(np.cumsum(heat_trans_across_contour, axis=1),axis=0))+(np.sum(np.cumsum(Tf_heat_trans_across_contour, axis=1),axis=0)), '--b', label='Heat transport (absolute)')\n",
    "\n",
    "axes[1].set_xticks(distance_along_contour[distance_indices.astype(int)[:]])\n",
    "axes[1].set_xticklabels(('156$^\\circ$E','160$^\\circ$W', '120$^\\circ$W','80$^\\circ$W', '40$^\\circ$W', '0$^\\circ$', \n",
    "                          '40$^\\circ$E', '80$^\\circ$E', '120$^\\circ$E'))\n",
    "axes[1].set_xlim(0, distance_along_contour[-1])\n",
    "\n",
    "axes[1].set_xlabel('Longitude coordinates along contour')\n",
    "axes[1].set_ylabel('Cumulative transport (W)');\n",
    "axes[1].grid()\n",
    "name_fig='WAOM10_Cross-1500m_CumTransport_vint.png'\n",
    "plt.savefig(fig_path + name_fig, dpi=300)\n",
    "# plt.close()\n"
   ]
  },
  {
   "cell_type": "code",
   "execution_count": null,
   "id": "f8575272-c82f-46ad-b67a-3850942aa5e1",
   "metadata": {
    "tags": []
   },
   "outputs": [],
   "source": [
    "# \n",
    "fig, axes = plt.subplots(nrows = 2, figsize = (12, 8))\n",
    "\n",
    "axes[0].plot(distance_along_contour, np.sum(heat_trans_across_contour, axis=0), '-k', label='Heat transport anomaly from $T_f$', linewidth=0.1)\n",
    "# running mean, https://stackoverflow.com/questions/13728392/moving-average-or-running-mean\n",
    "x=np.sum(heat_trans_across_contour, axis=0)\n",
    "N=25 # groups of points along the contour line - use dist to translate to distance (average throughout)\n",
    "axes[0].plot(distance_along_contour[np.arange(0,len(heat_trans_across_contour[0,:])-N+1)],np.convolve(x, np.ones(N)/N, mode='valid'), '-k', label='Running mean $\\sim$10 km',linewidth=1) \n",
    "\n",
    "axes[0].legend()\n",
    "\n",
    "axes[0].set_ylabel('Cumulative heat transport (W)')\n",
    "axes[0].set_xlabel('Distance from 156$^\\circ$E (10$^3$ km)')\n",
    "axes[0].set_xlim(0, distance_along_contour[-1])\n",
    "axes[0].set_title(f'Heat transport across 1500-m isobath, full-depth')\n",
    "axes[0].grid()\n",
    "\n",
    "axes[1].plot(distance_along_contour, np.sum(heat_trans_across_contour, axis=0), '-k', label='Heat transport anomaly from $T_f$', linewidth=0.1)\n",
    "# running mean, https://stackoverflow.com/questions/13728392/moving-average-or-running-mean\n",
    "x=np.sum(heat_trans_across_contour, axis=0)\n",
    "N=25 # groups of points along the contour line - use dist to translate to distance (average throughout)\n",
    "axes[1].plot(distance_along_contour[np.arange(0,len(heat_trans_across_contour[0,:])-N+1)],np.convolve(x, np.ones(N)/N, mode='valid'), '-k', label='Running mean $\\sim$10 km',linewidth=1) \n",
    "\n",
    "\n",
    "axes[1].set_xticks(distance_along_contour[distance_indices.astype(int)[:]])\n",
    "axes[1].set_xticklabels(('156$^\\circ$E','160$^\\circ$W', '120$^\\circ$W','80$^\\circ$W', '40$^\\circ$W', '0$^\\circ$', \n",
    "                          '40$^\\circ$E', '80$^\\circ$E', '120$^\\circ$E'))\n",
    "axes[1].set_xlim(0, distance_along_contour[-1])\n",
    "\n",
    "axes[1].set_xlabel('Longitude coordinates along contour')\n",
    "axes[1].set_ylabel('Heat transport (W)');\n",
    "axes[1].grid()\n",
    "\n",
    "\n",
    "plt.plot(np.sum(heat_trans_across_contour, axis=0)*1e-15, '-k', label='Heat transport vert-integ.',linewidth=0.1)\n",
    "plt.plot(0*np.ones(heat_trans_across_contour[0,:].shape), '-k', label='Heat transport vert-integ. smoothed', linewidth=1)\n",
    "\n",
    "name_fig='WAOM10_Cross-1500m_CumTransport_smoothed_vint.png'\n",
    "plt.savefig(fig_path + name_fig, dpi=300)\n",
    "# plt.close()"
   ]
  },
  {
   "cell_type": "code",
   "execution_count": null,
   "id": "dca78344-b138-404c-966b-85cb902257e1",
   "metadata": {
    "tags": []
   },
   "outputs": [],
   "source": [
    "print('Mean = ', np.nanmean(distance_along_contour[np.arange(0,len(heat_trans_across_contour[0,:])-N+1)]))\n",
    "print('Min = ', np.nanmin(distance_along_contour[np.arange(0,len(heat_trans_across_contour[0,:])-N+1)]))\n",
    "print('Max = ', np.nanmax(distance_along_contour[np.arange(0,len(heat_trans_across_contour[0,:])-N+1)]))\n",
    "\n",
    "plt.plot(np.cumsum(distance_along_contour[np.arange(0,len(heat_trans_across_contour[0,:])-N+1)]))\n"
   ]
  },
  {
   "cell_type": "code",
   "execution_count": null,
   "id": "74f80daa-2bb5-45ae-9c62-761d810bc5d0",
   "metadata": {
    "tags": []
   },
   "outputs": [],
   "source": [
    "fig, ax = plt.subplots(nrows = 1, figsize = (10, 5))\n",
    "\n",
    "# 1) plot on the vertical-integrated transport\n",
    "plt.plot(distance_along_contour,np.sum(heat_trans_across_contour, axis=0)*1e-15, '-k', label='Vert.-integ. heat transport',linewidth=0.1)\n",
    "# running mean, https://stackoverflow.com/questions/13728392/moving-average-or-running-mean\n",
    "x=np.sum(heat_trans_across_contour, axis=0)\n",
    "N=25 # groups of points along the contour line - use dist to translate to distance (average throughout)\n",
    "plt.plot(distance_along_contour[np.arange(0,len(heat_trans_across_contour[0,:])-N+1)],np.convolve(x, np.ones(N)/N, mode='valid')*1e-15, '-k', label='Running mean $\\sim$10 km',linewidth=1) \n",
    "\n",
    "# 2) plot on the vertical-integrated \"Tf\" transport\n",
    "plt.plot(distance_along_contour,np.sum(Tf_heat_trans_across_contour, axis=0)*1e-15, '-r', label='Vert.-integ. Tf heat transport',linewidth=0.1)\n",
    "# running mean, https://stackoverflow.com/questions/13728392/moving-average-or-running-mean\n",
    "x=np.sum(Tf_heat_trans_across_contour, axis=0)\n",
    "plt.plot(distance_along_contour[np.arange(0,len(heat_trans_across_contour[0,:])-N+1)],np.convolve(x, np.ones(N)/N, mode='valid')*1e-15, '-r', label='Running mean $\\sim$10 km',linewidth=1) \n",
    "\n",
    "# 3) plot on the residue (absolute heat transport)\n",
    "# plt.plot(distance_along_contour,(np.sum(heat_trans_across_contour, axis=0)-np.sum(Tf_heat_trans_across_contour, axis=0))*1e-15, '-k', label='Vert.-integ. heat transport absol.',linewidth=0.1)\n",
    "# running mean, https://stackoverflow.com/questions/13728392/moving-average-or-running-mean\n",
    "x=np.sum(heat_trans_across_contour+Tf_heat_trans_across_contour, axis=0)\n",
    "plt.plot(distance_along_contour[np.arange(0,len(heat_trans_across_contour[0,:])-N+1)],np.convolve(x, np.ones(N)/N, mode='valid')*1e-15, '-b', label='Running mean $\\sim$10 km',linewidth=1) \n",
    "\n",
    "\n",
    "plt.plot(distance_along_contour,0*np.ones(heat_trans_across_contour[0,:].shape), '-k',linewidth=1)\n",
    "ax.set_ylabel('Cross-shelf heat transport \\n across 1500m isobath (W)');\n",
    "\n",
    "ax.set_xticks(distance_along_contour[distance_indices.astype(int)[:]])\n",
    "ax.set_xticklabels(('156$^\\circ$E','160$^\\circ$W', '120$^\\circ$W','80$^\\circ$W', '40$^\\circ$W', '0$^\\circ$', \n",
    "                          '40$^\\circ$E', '80$^\\circ$E', '120$^\\circ$E'))\n",
    "ax.set_xlim(0, distance_along_contour[-1])\n",
    "\n",
    "ax.set_xlabel('Longitude coordinates along contour')\n",
    "ax.set_ylabel('Cross-shelf heat transport (W)');\n",
    "ax.grid()\n",
    "\n",
    "\n",
    "plt.grid()\n",
    "plt.legend()"
   ]
  },
  {
   "cell_type": "code",
   "execution_count": null,
   "id": "7e05f2d5-2a81-4ca1-8f44-217a2f26a265",
   "metadata": {
    "tags": []
   },
   "outputs": [],
   "source": [
    "fig, axes = plt.subplots(nrows = 2, figsize = (12, 12))\n",
    "\n",
    "# axes[1].plot(np.nansum(heat_trans_across_contour,axis=0)-np.nansum(Tf_heat_trans_across_contour,axis=0), label='cross-shelf heat transp.')\n",
    "axes[0].plot(np.nansum(Tf_heat_trans_across_contour,axis=0), label='cross-shelf Tf heat transp.')\n",
    "axes[0].plot(np.nansum(heat_trans_across_contour,axis=0), label='cross-shelf heat transp. anomaly')\n",
    "axes[0].plot(np.nansum(heat_trans_across_contour,axis=0)+np.nansum(Tf_heat_trans_across_contour,axis=0), label='cross-shelf heat transp. abs.')\n",
    "axes[0].plot(0*np.ones(heat_trans_across_contour[0,:].shape),'k')\n",
    "axes[0].legend()\n",
    "\n",
    "axes[1].plot(distance_along_contour,np.cumsum(np.nansum(Tf_heat_trans_across_contour,axis=0)), label='cross-shelf Tf heat transp.')\n",
    "axes[1].plot(distance_along_contour,np.cumsum(np.nansum(heat_trans_across_contour,axis=0)), label='cross-shelf heat transp. anomaly')\n",
    "axes[1].plot(distance_along_contour,np.cumsum(np.nansum(heat_trans_across_contour,axis=0))+np.cumsum(np.nansum(Tf_heat_trans_across_contour,axis=0)), label='cross-shelf heat transp. abs.')\n",
    "axes[1].plot(distance_along_contour,0*np.ones(heat_trans_across_contour[0,:].shape),'k')\n",
    "axes[1].legend()\n"
   ]
  },
  {
   "cell_type": "markdown",
   "id": "10e52f83-a1ae-4220-804d-08185cf166b3",
   "metadata": {},
   "source": [
    "# calculate transport per density layer:\n"
   ]
  },
  {
   "cell_type": "code",
   "execution_count": null,
   "id": "728c796c-cfd7-49c5-a693-d2fdbaa258d8",
   "metadata": {},
   "outputs": [],
   "source": [
    "# rho grid for binning:\n",
    "rho_grid=np.arange(26.,28.,0.05) # for sigma-0\n",
    "\n",
    "# rho_grid2=np.arange(31,32.7,0.05) # for sigma-1\n",
    "rho_grid2=np.arange(36,37.5,0.05) # for sigma-2\n",
    "\n",
    "len_rho_grid=len(rho_grid)\n",
    "len_rho_grid2=len(rho_grid2)\n"
   ]
  },
  {
   "cell_type": "code",
   "execution_count": null,
   "id": "c03c0e2a-285a-48ff-8715-0424d36b1632",
   "metadata": {},
   "outputs": [],
   "source": [
    "# use salt and temp along the contour to calculate sigma theta:\n",
    "#salt_along_contour, temp_along_contour (z_rho_across_contour)\n",
    "sigma_t_along_contour = gsw.rho(salt_along_contour[:,:],temp_along_contour[:,:],0) - 1000\n",
    "sigma_2_along_contour = gsw.rho(salt_along_contour[:,:],temp_along_contour[:,:],2000) - 1000\n"
   ]
  },
  {
   "cell_type": "code",
   "execution_count": null,
   "id": "f0fd84a2-6e10-4212-96f3-26925b9acc80",
   "metadata": {},
   "outputs": [],
   "source": [
    "len_rho_grid2"
   ]
  },
  {
   "cell_type": "code",
   "execution_count": null,
   "id": "932c27ac-7047-448c-a30b-19286b7ffa51",
   "metadata": {},
   "outputs": [],
   "source": [
    "# sigma_t\n",
    "\n",
    "heat_trans_across_contour_irho = np.empty((len_rho_grid,len(heat_trans_across_contour[:,0]),len(heat_trans_across_contour[0,:])))\n",
    "\n",
    "for zz in np.arange(0,31):\n",
    "    sigma_tmp = sigma_t_along_contour[zz,:]\n",
    "    \n",
    "    # print(zz)\n",
    "    for irho in np.arange(0,len_rho_grid):\n",
    "    \n",
    "        #print(irho)\n",
    "        heat_trans_tmp = ma.masked_where(np.logical_or(sigma_tmp <= (rho_grid[irho]-(0.05/2)),sigma_tmp > (rho_grid[irho]+(0.05/2))), heat_trans_across_contour[zz,:])\n",
    "\n",
    "        if irho == 0:\n",
    "            heat_trans_delta = heat_trans_tmp.copy()\n",
    "            heat_trans_delta[np.logical_or(sigma_tmp <= (rho_grid[irho]-(0.05/2)),sigma_tmp > (rho_grid[irho]+(0.05/2)))] = np.nan\n",
    "        elif irho == 1:\n",
    "            heat_trans_tmp[np.logical_or(sigma_tmp <= (rho_grid[irho]-(0.05/2)),sigma_tmp > (rho_grid[irho]+(0.05/2)))] = np.nan\n",
    "            heat_trans_delta = np.stack((heat_trans_delta,heat_trans_tmp), axis=0)\n",
    "        else:\n",
    "            heat_trans_tmp[np.logical_or(sigma_tmp <= (rho_grid[irho]-(0.05/2)),sigma_tmp > (rho_grid[irho]+(0.05/2)))] = np.nan\n",
    "            heat_transp_extradim = np.expand_dims(heat_trans_tmp, axis=0)\n",
    "            heat_trans_delta = np.concatenate((heat_trans_delta,heat_transp_extradim), axis=0)\n",
    "        \n",
    "        # print(heat_trans_delta.shape, zz, heat_trans_tmp.shape)\n",
    "        \n",
    "        del heat_trans_tmp\n",
    "\n",
    "    heat_trans_across_contour_irho[:,zz,:] = heat_trans_delta\n",
    "    # \n",
    "    # print('completed, size: ', heat_trans_across_contour_irho.shape)\n",
    "\n",
    "\n",
    "    #     F_rate_delta_var_vint_mm[mm,:] = F_rate_delta\n",
    "    \n",
    "    # print('completed, size: ', F_rate_delta_var_vint_mm.shape)"
   ]
  },
  {
   "cell_type": "code",
   "execution_count": null,
   "id": "d4674667-018b-4b65-8203-f6f486953ec3",
   "metadata": {},
   "outputs": [],
   "source": [
    "# del heat_trans_delta, heat_transp_extradim, sigma_tmp\n",
    "\n",
    "# sigma_2\n",
    "\n",
    "heat_trans_across_contour_irho2 = np.empty((len_rho_grid2,len(heat_trans_across_contour[:,0]),len(heat_trans_across_contour[0,:])))\n",
    "\n",
    "for zz in np.arange(0,31):\n",
    "    sigma_tmp = sigma_2_along_contour[zz,:]\n",
    "    \n",
    "    # print(zz)\n",
    "    for irho in np.arange(0,len_rho_grid2):\n",
    "    \n",
    "        #print(irho)\n",
    "        heat_trans_tmp = ma.masked_where(np.logical_or(sigma_tmp <= (rho_grid2[irho]-(0.05/2)),sigma_tmp > (rho_grid2[irho]+(0.05/2))), heat_trans_across_contour[zz,:])\n",
    "\n",
    "        if irho == 0:\n",
    "            heat_trans_delta2 = heat_trans_tmp.copy()\n",
    "            heat_trans_delta2[np.logical_or(sigma_tmp <= (rho_grid2[irho]-(0.05/2)),sigma_tmp > (rho_grid2[irho]+(0.05/2)))] = np.nan\n",
    "        elif irho == 1:\n",
    "            heat_trans_tmp[np.logical_or(sigma_tmp <= (rho_grid2[irho]-(0.05/2)),sigma_tmp > (rho_grid2[irho]+(0.05/2)))] = np.nan\n",
    "            heat_trans_delta2 = np.stack((heat_trans_delta2,heat_trans_tmp), axis=0)\n",
    "        else:\n",
    "            heat_trans_tmp[np.logical_or(sigma_tmp <= (rho_grid2[irho]-(0.05/2)),sigma_tmp > (rho_grid2[irho]+(0.05/2)))] = np.nan\n",
    "            heat_transp_extradim = np.expand_dims(heat_trans_tmp, axis=0)\n",
    "            heat_trans_delta2 = np.concatenate((heat_trans_delta2,heat_transp_extradim), axis=0)\n",
    "        \n",
    "        # print(heat_trans_delta.shape, zz, heat_trans_tmp.shape)\n",
    "    \n",
    "        del heat_trans_tmp\n",
    "        \n",
    "    heat_trans_across_contour_irho2[:,zz,:] = heat_trans_delta2\n",
    "    \n",
    "# print('completed, size: ', heat_trans_across_contour_zz.shape)"
   ]
  },
  {
   "cell_type": "code",
   "execution_count": null,
   "id": "de3eb220-22e7-4d12-95de-a09b7d22e3fe",
   "metadata": {},
   "outputs": [],
   "source": [
    "print(heat_trans_across_contour_irho2.shape, heat_trans_delta2.shape, zz)"
   ]
  },
  {
   "cell_type": "code",
   "execution_count": null,
   "id": "48a225a7-28bf-4b36-947b-9293add04dc9",
   "metadata": {},
   "outputs": [],
   "source": [
    "[dist_along, Zaxis] = np.meshgrid(distance_along_contour, np.arange(0,31))\n",
    "print(Zaxis.shape, dist_along.shape)\n",
    "\n",
    "fig, ax = plt.subplots(nrows=2, figsize = (10, 7))\n",
    "\n",
    "cc1=ax[0].pcolormesh(dist_along, z_rho_across_contour, sigma_t_along_contour, vmin=27.2, vmax=27.75, cmap='coolwarm')\n",
    "# ax[0].contour(dist_along, Zaxis, sigma_t_along_contour, lev=[21.7, 27.7], colors='k', linewitdh=0.1)  #np.arange(26.6,27.9,0.2)\n",
    "ax[0].set_title('$\\sigma_{\\Theta}$ along 1500m isobath (TW)');\n",
    "ax[0].set_ylabel('$\\sigma$-layers')\n",
    "ax[0].set_xticks(distance_along_contour[distance_indices.astype(int)[:]])\n",
    "ax[0].set_xticklabels(('156$^\\circ$E','160$^\\circ$W', '120$^\\circ$W','80$^\\circ$W', '40$^\\circ$W', '0$^\\circ$', \n",
    "                          '40$^\\circ$E', '80$^\\circ$E', '120$^\\circ$E'))\n",
    "ax[0].set_xlim(0, distance_along_contour[-1])\n",
    "\n",
    "cax1 = plt.axes([0.95, 0.55, 0.01, 0.36])\n",
    "cb = plt.colorbar(cc1, cax=cax1, orientation='vertical')\n",
    "cb.ax.set_ylabel('Potential density ($\\sigma_{\\Theta}$), kg m$^{-3}$')\n",
    "\n",
    "cc2=ax[1].pcolormesh(dist_along, z_rho_across_contour, sigma_2_along_contour, vmin=36.5, vmax=37.12, cmap='coolwarm')\n",
    "# ax[1].contour(dist_along, Zaxis, sigma_2_along_contour, lev=[34, 37.1], colors='k', linewitdh=0.1)\n",
    "ax[1].set_title('$\\sigma_{2}$ along 1500m isobath (TW)');\n",
    "ax[1].set_ylabel('$\\sigma$-layers')\n",
    "ax[1].set_xticks(distance_along_contour[distance_indices.astype(int)[:]])\n",
    "ax[1].set_xticklabels(('156$^\\circ$E','160$^\\circ$W', '120$^\\circ$W','80$^\\circ$W', '40$^\\circ$W', '0$^\\circ$', \n",
    "                          '40$^\\circ$E', '80$^\\circ$E', '120$^\\circ$E'))\n",
    "ax[1].set_xlim(0, distance_along_contour[-1])\n",
    "\n",
    "cax1 = plt.axes([0.95, 0.1, 0.01, 0.36])\n",
    "cb = plt.colorbar(cc2, cax=cax1, orientation='vertical')\n",
    "cb.ax.set_ylabel('Potential density ($\\sigma_{2}$), kg m$^{-3}$')"
   ]
  },
  {
   "cell_type": "code",
   "execution_count": null,
   "id": "d34f9d48-ed91-4152-909e-d7d50b00819d",
   "metadata": {},
   "outputs": [],
   "source": [
    "### [dist_along, Zaxis] = np.meshgrid(distance_along_contour, np.arange(0,31))\n",
    "# print(Zaxis.shape, dist_along.shape)\n",
    "\n",
    "fig, ax = plt.subplots(nrows=2, figsize = (10, 7))\n",
    "\n",
    "cc1=ax[0].pcolormesh(dist_along, z_rho_across_contour, temp_along_contour, vmin=-2, vmax=1.5, cmap='coolwarm')\n",
    "# ax[0].contour(dist_along, Zaxis, sigma_t_along_contour, lev=[27.5, 27.5], colors='k', linewitdh=0.1)  #np.arange(26.6,27.9,0.2)\n",
    "ax[0].set_title('Temperature along 1500m isobath (TW)');\n",
    "ax[0].set_ylabel('$\\sigma$-layers')\n",
    "ax[0].set_xticks(distance_along_contour[distance_indices.astype(int)[:]])\n",
    "ax[0].set_xticklabels(('156$^\\circ$E','160$^\\circ$W', '120$^\\circ$W','80$^\\circ$W', '40$^\\circ$W', '0$^\\circ$', \n",
    "                          '40$^\\circ$E', '80$^\\circ$E', '120$^\\circ$E'))\n",
    "ax[0].set_xlim(0, distance_along_contour[-1])\n",
    "\n",
    "cax1 = plt.axes([0.95, 0.55, 0.01, 0.36])\n",
    "cb = plt.colorbar(cc1, cax=cax1, orientation='vertical')\n",
    "cb.ax.set_ylabel('Temperature (degC}')\n",
    "\n",
    "cc2=ax[1].pcolormesh(dist_along, z_rho_across_contour, salt_along_contour, vmin=34.1, vmax=34.8, cmap='coolwarm')\n",
    "# ax[1].contour(dist_along, Zaxis, sigma_2_along_contour, lev=np.arange(36.2,37.2,0.2), colors='k', linewitdh=0.1)\n",
    "ax[1].set_title('Salinity along 1500m isobath (TW)');\n",
    "ax[1].set_ylabel('$\\sigma$-layers')\n",
    "ax[1].set_xticks(distance_along_contour[distance_indices.astype(int)[:]])\n",
    "ax[1].set_xticklabels(('156$^\\circ$E','160$^\\circ$W', '120$^\\circ$W','80$^\\circ$W', '40$^\\circ$W', '0$^\\circ$', \n",
    "                          '40$^\\circ$E', '80$^\\circ$E', '120$^\\circ$E'))\n",
    "ax[1].set_xlim(0, distance_along_contour[-1])\n",
    "\n",
    "cax1 = plt.axes([0.95, 0.1, 0.01, 0.36])\n",
    "cb = plt.colorbar(cc2, cax=cax1, orientation='vertical')\n",
    "cb.ax.set_ylabel('Salinity')"
   ]
  },
  {
   "cell_type": "code",
   "execution_count": null,
   "id": "9d1dfd9d-cc5b-4156-ae63-a5d34314dc7b",
   "metadata": {
    "tags": []
   },
   "outputs": [],
   "source": [
    "[dist_along, Zaxis] = np.meshgrid(distance_along_contour, np.arange(0,31))\n",
    "print(Zaxis.shape, dist_along.shape)\n",
    "\n",
    "fig, ax = plt.subplots(nrows=2, figsize = (10, 7))\n",
    "\n",
    "cc=ax[0].pcolormesh(dist_along, z_rho_across_contour, heat_trans_across_contour, vmin=-1.e12, vmax=1.e12, cmap='coolwarm')\n",
    "# ax[0].colorbar()\n",
    "ax[0].set_title('Heat transport (anomaly referenced to $T_f$) across 1500m isobath (TW)');\n",
    "ax[0].set_ylabel('$\\sigma$-layers')\n",
    "ax[0].set_xticks(distance_along_contour[distance_indices.astype(int)[:]])\n",
    "ax[0].set_xticklabels(('156$^\\circ$E','160$^\\circ$W', '120$^\\circ$W','80$^\\circ$W', '40$^\\circ$W', '0$^\\circ$', \n",
    "                          '40$^\\circ$E', '80$^\\circ$E', '120$^\\circ$E'))\n",
    "ax[0].set_xlim(0, distance_along_contour[-1])\n",
    "\n",
    "ax[1].pcolormesh(dist_along, z_rho_across_contour, Tf_heat_trans_across_contour, vmin=-1.e12, vmax=1.e12, cmap='coolwarm')\n",
    "# plt.colorbar()\n",
    "ax[1].set_title('$T_f$ heat transport across 1500m isobath (TW)');\n",
    "ax[1].set_ylabel('$\\sigma$-layers')\n",
    "ax[1].set_xticks(distance_along_contour[distance_indices.astype(int)[:]])\n",
    "ax[1].set_xticklabels(('156$^\\circ$E','160$^\\circ$W', '120$^\\circ$W','80$^\\circ$W', '40$^\\circ$W', '0$^\\circ$', \n",
    "                          '40$^\\circ$E', '80$^\\circ$E', '120$^\\circ$E'))\n",
    "ax[1].set_xlim(0, distance_along_contour[-1])\n",
    "\n",
    "cax1 = plt.axes([0.95, 0.1, 0.01, 0.8])\n",
    "cb = plt.colorbar(cc, cax=cax1, orientation='vertical')\n",
    "cb.ax.set_ylabel('Heat transport (TW)')\n",
    "\n"
   ]
  },
  {
   "cell_type": "code",
   "execution_count": null,
   "id": "0ca2221b-1fa3-40c3-b8fb-ac2c93047409",
   "metadata": {},
   "outputs": [],
   "source": []
  },
  {
   "cell_type": "code",
   "execution_count": null,
   "id": "a5bd660a-2324-421c-a2ee-420eaecaf54f",
   "metadata": {},
   "outputs": [],
   "source": []
  },
  {
   "cell_type": "code",
   "execution_count": null,
   "id": "8465c9ee-60e3-496e-8e3a-2471c85762d5",
   "metadata": {},
   "outputs": [],
   "source": []
  }
 ],
 "metadata": {
  "kernelspec": {
   "display_name": "Python 3 (ipykernel)",
   "language": "python",
   "name": "python3"
  },
  "language_info": {
   "codemirror_mode": {
    "name": "ipython",
    "version": 3
   },
   "file_extension": ".py",
   "mimetype": "text/x-python",
   "name": "python",
   "nbconvert_exporter": "python",
   "pygments_lexer": "ipython3",
   "version": "3.9.16"
  }
 },
 "nbformat": 4,
 "nbformat_minor": 5
}
