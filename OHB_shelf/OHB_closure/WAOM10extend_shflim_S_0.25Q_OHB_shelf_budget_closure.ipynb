{
 "cells": [
  {
   "cell_type": "code",
   "execution_count": 1,
   "id": "188f3824-2793-448b-b133-af3d614c713e",
   "metadata": {},
   "outputs": [],
   "source": [
    "# Ocean Heat Budget Analyses in the Antarctica continental shelf (WAOM)\n",
    "\n",
    "# Fabio B Dias - 3 May 2023\n",
    "# Description:\n",
    "#     this script compares methods of calculate the OHC and surface heat flux integrated over the continental shelf\n",
    "#     - update to xarray open_mfdataset from open_dataset brought new functions more efficient to calculate model layer thickness (dz)\n",
    "# and ocean heat content tendencies (rho0*Cp*dT/dt). \n",
    "\n",
    "# - update 23/8/23: re-ran waom10 saving daily outputs in 5-days files.\n",
    "# I suspect that the monthly files with unequal number of time-fields \n",
    "# causes differences in the dt for his and avg files, reflected in the \n",
    "# residue for the Antarctic shelf seas heat budget."
   ]
  },
  {
   "cell_type": "code",
   "execution_count": 2,
   "id": "141dfb15-980c-44bb-b94c-6ee060a9f952",
   "metadata": {
    "tags": []
   },
   "outputs": [],
   "source": [
    "# read nc output from WAOM 10km run\n",
    "\n",
    "import xarray as xr\n",
    "# import pandas as p\n",
    "import numpy as np\n",
    "import numpy.ma as ma\n",
    "import cartopy.crs as ccrs\n",
    "import cartopy.feature as cfeature\n",
    "import matplotlib as mpl\n",
    "# mpl.use('Agg')\n",
    "import matplotlib.pyplot as plt\n",
    "import matplotlib.dates as dates\n",
    "from matplotlib.ticker import NullFormatter\n",
    "from matplotlib.colors import LinearSegmentedColormap   # for custom colormaps\n",
    "\n",
    "from datetime import datetime, timedelta\n",
    "\n",
    "from netCDF4 import Dataset\n",
    "from netCDF4 import num2date, date2num\n",
    "from matplotlib.ticker import NullFormatter\n",
    "from matplotlib.colors import LinearSegmentedColormap   # for custom colormaps\n",
    "\n",
    "import gsw\n",
    "import cmocean\n",
    "\n",
    "import pyresample\n",
    "\n",
    "from dask.distributed import Client\n",
    "import logging\n",
    "import warnings\n",
    "warnings.filterwarnings('ignore')"
   ]
  },
  {
   "cell_type": "code",
   "execution_count": 3,
   "id": "08ea21d0-f41a-4645-b631-7eac923ae495",
   "metadata": {},
   "outputs": [
    {
     "name": "stdout",
     "output_type": "stream",
     "text": [
      "<Client: 'tcp://127.0.0.1:40033' processes=28 threads=28>\n"
     ]
    }
   ],
   "source": [
    "client = Client(threads_per_worker=1, memory_limit=0, silence_logs=logging.ERROR)\n",
    "print(client)"
   ]
  },
  {
   "cell_type": "code",
   "execution_count": 4,
   "id": "15e8749f-a891-4458-93be-a72550512d5f",
   "metadata": {
    "tags": []
   },
   "outputs": [],
   "source": [
    "fig_path = '/g/data/hh5/tmp/access-om/fbd581/ROMS/postprocessing/figs/Contour_isobath/'"
   ]
  },
  {
   "cell_type": "code",
   "execution_count": 5,
   "id": "7df931b6-73e6-4cea-abd4-f5809ea12dce",
   "metadata": {
    "tags": []
   },
   "outputs": [
    {
     "name": "stdout",
     "output_type": "stream",
     "text": [
      "Vtransform=2\n",
      "CPU times: user 28.2 s, sys: 7.24 s, total: 35.5 s\n",
      "Wall time: 57.7 s\n"
     ]
    }
   ],
   "source": [
    "    %%time\n",
    "    \n",
    "    # using xr.open_mfdataset\n",
    "    \n",
    "    vars2drop = [\"ubar\",\"vbar\",\"w\",\"Hsbl\",\"Hbbl\",\"swrad\"]\n",
    "    \n",
    "    ds = xr.open_mfdataset(paths=\"/g/data/hh5/tmp/access-om/fbd581/ROMS/OUTPUT/waom10extend_shflim_S_0.25Q/output_20yr_diag_daily/ocean_avg_00*.nc\" , chunks={'eta_rho': '200MB'}, parallel=bool, drop_variables=vars2drop, decode_times=False) # , concat_dim=\"ocean_time\"\n",
    "    \n",
    "    #- preserving 5-days avgs\n",
    "    # zeta = ds.variables[\"zeta\"] \n",
    "    temp = ds.variables[\"temp\"] \n",
    "    # salt = ds.variables[\"salt\"]\n",
    "    # shflux = ds.variables[\"shflux\"] \n",
    "    # ssflux = ds.variables[\"ssflux\"]\n",
    "    # m = ds.variables[\"m\"]\n",
    "    # HvomT = ds.variables[\"Hvom_temp\"]       ## !!! Huon_temp/Hvom_temp were not saved in the original run\n",
    "    # HuonT = ds.variables[\"Huon_temp\"]       ## now it's running here: /scratch/gi0/fbd581/waom4extend_shflim_S_0.25Q/output_yr10_diag\n",
    "    # Hvom = ds.variables[\"Hvom\"] \n",
    "    # Huon = ds.variables[\"Huon\"] \n",
    "    # time_avg = ds.variables[\"ocean_time\"] \n",
    "    ice_draft = ds.variables[\"zice\"]\n",
    "    \n",
    "    mask_zice = ma.masked_where(ice_draft < 0, np.ones(ice_draft.shape))\n",
    "    mask_outice = ma.masked_where(ice_draft >= 0, np.ones(ice_draft.shape))\n",
    "    \n",
    "    print(\"Vtransform=2\")\n",
    "    #  New formulation (Vtransform(ng) = 2):\n",
    "    #\n",
    "    #         z_w(x,y,s,t) = zeta(x,y,t) + [zeta(x,y,t)+ h(x,y)] * Zo_w\n",
    "    #                 Zo_w = [hc * s(k) + C(k) * h(x,y)] / [hc + h(x,y)]\n",
    "    hwater = ds.h- abs(ds.zice) # replace ds.h for hwater below\n",
    "    Zo_rho = (ds.hc * ds.s_rho + ds.Cs_r * hwater) / (ds.hc + hwater)\n",
    "    z_rho = ds.zeta + (ds.zeta + hwater) * Zo_rho \n",
    "    \n",
    "    Zo_w = (ds.hc * ds.s_w + ds.Cs_w * hwater) / (ds.hc + hwater)\n",
    "    z_w = ds.zeta + (ds.zeta + hwater) * Zo_w \n",
    "    \n",
    "    dg = xr.open_dataset(\"/g/data/hh5/tmp/access-om/fbd581/ROMS/waom10_frc/waom10extend_grd.nc\")\n",
    "    \n",
    "    lat_rho = dg.variables[\"lat_rho\"]\n",
    "    lon_rho = dg.variables[\"lon_rho\"]\n",
    "    lat_u = dg.variables[\"lat_u\"]\n",
    "    lon_u = dg.variables[\"lon_u\"]\n",
    "    lat_v = dg.variables[\"lat_v\"]\n",
    "    lon_v = dg.variables[\"lon_v\"]\n",
    "    pm = dg.variables[\"pm\"]\n",
    "    pn = dg.variables[\"pn\"]\n",
    "    h = dg.variables[\"h\"]\n",
    "    zice = dg.variables[\"zice\"]\n",
    "    \n",
    "    ds.coords['lat_rho']=lat_rho.transpose() # put lat_rho into ds dataset\n",
    "    ds.coords['lon_rho']=lon_rho.transpose() # put lon_rho into ds dataset\n",
    "    ds = ds.set_coords(['Cs_r', 'Cs_w', 'hc', 'h', 'Vtransform'])\n",
    "    \n",
    "    ds.close()\n",
    "    dg.close()\n",
    "    \n",
    "    # calculate surface sigma_theta (potential density)\n",
    "    # sigma_t_sfc = gsw.rho(salt[:,-1,:,:],temp[:,-1,:,:],0) - 1000\n",
    "    area=np.divide(1,pm*pn)"
   ]
  },
  {
   "cell_type": "code",
   "execution_count": 6,
   "id": "888a2d79-f67f-47c6-a133-faed6f4bf589",
   "metadata": {},
   "outputs": [],
   "source": [
    "    # load horizontal diffusion of heat calculated online:\n",
    "    \t# float temp_hdiff(ocean_time, s_rho, eta_rho, xi_rho) ;\n",
    "    \n",
    "    ds = xr.open_mfdataset(paths=\"/g/data/hh5/tmp/access-om/fbd581/ROMS/OUTPUT/waom10extend_shflim_S_0.25Q/output_20yr_diag_daily/ocean_dia_00*.nc\" , chunks={'eta_rho': '200MB'}, parallel=bool, drop_variables=vars2drop, decode_times=False)\n",
    "    temp_hdiff = ds.variables[\"temp_hdiff\"] \n",
    "    temp_vdiff = ds.variables[\"temp_vdiff\"] \n",
    "    # temp_sdiff = ds.variables[\"temp_sdiff\"]  #\"potential temperature, horizontal S-diffusion rotated tensor term\"\n",
    "    temp_hadv = ds.variables[\"temp_hadv\"] \n",
    "    temp_vadv = ds.variables[\"temp_vadv\"] \n",
    "    ds.close()"
   ]
  },
  {
   "cell_type": "code",
   "execution_count": 7,
   "id": "684793bf-da4c-4665-abee-21125be978ca",
   "metadata": {
    "tags": []
   },
   "outputs": [
    {
     "name": "stdout",
     "output_type": "stream",
     "text": [
      "(365, 560, 630, 32) (365, 32, 560, 630)\n",
      "CPU times: user 34.1 s, sys: 1min 11s, total: 1min 45s\n",
      "Wall time: 1min 41s\n"
     ]
    }
   ],
   "source": [
    "    %%time\n",
    "    # method 2 to calculate Dz:\n",
    "    # z_w=z_w.chunks(chunks={'eta_rho': '200MB'}) # couldn't change chunks.\n",
    "    \n",
    "    Z_w = z_w.transpose('ocean_time','s_w','eta_rho','xi_rho')\n",
    "    print(z_w.shape, Z_w.shape)\n",
    "    dz = np.diff(Z_w,axis=1)\n"
   ]
  },
  {
   "cell_type": "code",
   "execution_count": 8,
   "id": "86e63340-de39-462b-abbe-82f96c229e33",
   "metadata": {},
   "outputs": [],
   "source": [
    "# convert dz to xarray:\n",
    "months=np.arange(0,365)*(1/30.41667)\n",
    "# save to netcdf file:\n",
    "coordinatesC=dict(ocean_time=months, s_rho=(['s_rho'], np.arange(0,31)), eta_rho=(['eta_rho'], np.arange(0,560)), xi_rho=(['xi_rho'], np.arange(0,630)))\n",
    "\n",
    "dz_xr = xr.DataArray(dz, coords = coordinatesC, dims = ['ocean_time','s_rho','eta_rho','xi_rho'])\n"
   ]
  },
  {
   "cell_type": "code",
   "execution_count": null,
   "id": "cf874543-9770-444a-be2e-e3b76934df3e",
   "metadata": {
    "scrolled": true
   },
   "outputs": [],
   "source": [
    "    temp_vadv.load()\n",
    "    temp_hadv.load()"
   ]
  },
  {
   "cell_type": "code",
   "execution_count": null,
   "id": "5dd97587-7f39-4d50-b384-5a032eba4785",
   "metadata": {},
   "outputs": [],
   "source": [
    "temp_vadv_dz = temp_vadv*dz_xr\n",
    "temp_hadv_dz = temp_hadv*dz_xr"
   ]
  },
  {
   "cell_type": "code",
   "execution_count": null,
   "id": "35ef6de3-6628-4e44-979c-18265eb71771",
   "metadata": {},
   "outputs": [],
   "source": [
    "plt.pcolormesh(temp_vadv_dz.sum('s_rho').mean('ocean_time'), cmap='bwr', vmin=-0.0001, vmax=0.0001)\n",
    "plt.colorbar()"
   ]
  },
  {
   "cell_type": "code",
   "execution_count": null,
   "id": "ee5d0027-231d-455f-a3c3-0b1087342e59",
   "metadata": {},
   "outputs": [],
   "source": [
    "# plt.pcolor(temp_hadv_dz.sum('s_rho').mean('ocean_time'), cmap='bwr', vmin=-0.0001, vmax=0.0001)\n",
    "# plt.colorbar()"
   ]
  },
  {
   "cell_type": "code",
   "execution_count": null,
   "id": "48937f7c-22c5-4e3b-975c-2b68e3521ac9",
   "metadata": {},
   "outputs": [],
   "source": [
    "files_path = '/g/data/hh5/tmp/access-om/fbd581/ROMS/postprocessing/cross_contour_tmp/'\n"
   ]
  },
  {
   "cell_type": "code",
   "execution_count": null,
   "id": "40ff43e4-45c7-48c7-b4af-04dd1e8b424b",
   "metadata": {},
   "outputs": [],
   "source": [
    "contour_masked_above = np.load(files_path + 'WAOM10_contour_masked_above_1500m_v3', allow_pickle=True)\n",
    "contour_masked_above_CF = np.load(files_path + 'WAOM10_contour_masked_above_CF_v3', allow_pickle=True)\n"
   ]
  },
  {
   "cell_type": "code",
   "execution_count": null,
   "id": "7403df25-6704-49fd-adc5-19fa2fc15f4a",
   "metadata": {},
   "outputs": [],
   "source": [
    "# determine constants:\n",
    "# rho0 = 1025 # kg. m-3\n",
    "# Cp = 3989.245 # J.kg-1.degC-1\n",
    "# Tf = -1.95 # degC\n",
    "# use same value as ACCESS-OM2\n",
    "rho0=1035\n",
    "Cp=3992.1\n",
    "# Tf = -1.95 # degC\n",
    "Tf =  -3.534879684448242\n",
    "\n",
    "# plt.pcolormesh(ma.masked_where(contour_masked_above == -1000, temp.isel(s_rho=0).mean('ocean_time')-Tf), vmin=0, vmax=4)\n",
    "# plt.colorbar()"
   ]
  },
  {
   "cell_type": "markdown",
   "id": "c464ded3-fb47-4e43-bb14-7de954a87922",
   "metadata": {
    "jp-MarkdownHeadingCollapsed": true
   },
   "source": [
    "### Calculate temp_rate from temp snapshots:"
   ]
  },
  {
   "cell_type": "code",
   "execution_count": null,
   "id": "db8e7215-9e41-4543-9c59-d5b0363b5dff",
   "metadata": {
    "tags": []
   },
   "outputs": [],
   "source": [
    "%%time\n",
    "\n",
    "ds = xr.open_mfdataset(paths=\"/g/data/hh5/tmp/access-om/fbd581/ROMS/OUTPUT/waom10extend_shflim_S_0.25Q/output_20yr_diag_daily/ocean_his_00*.nc\" , chunks={'eta_rho': '200MB'}, parallel=bool, decode_times=False) #, chuncks=\"auto\", concat_dim=\"ocean_time\"\n",
    "\n",
    "#- preserving 5-days avgs\n",
    "temp_snap = ds.variables[\"temp\"] ##+273.15 (changing to Kelvin didn't change any results)\n",
    "time_snap = ds.variables[\"ocean_time\"]\n",
    "ds.close()\n"
   ]
  },
  {
   "cell_type": "code",
   "execution_count": null,
   "id": "86cbc94d-76df-4f5b-8dac-986481cc7026",
   "metadata": {
    "tags": []
   },
   "outputs": [],
   "source": [
    "%%time\n",
    "\n",
    "# calculate dT/dt by differentiating temp_snap:\n",
    "temp_Rate = np.empty(temp_snap.shape)\n",
    "dT = np.empty(temp_snap.shape)\n",
    "\n",
    "# needs the initial conditions:\n",
    "ds = xr.open_dataset('/g/data/hh5/tmp/access-om/fbd581/ROMS/OUTPUT/waom10extend_shflim_S_0.25Q/output_11-20yr/ocean_rst.nc')\n",
    "temp_ini = ds.variables[\"temp\"].isel(ocean_time=8, two=0) ##+273.15 (changing to Kelvin didn't change any results) # 5-days mean\n",
    "time_ini = ds.variables[\"ocean_time\"].isel(ocean_time=8)\n",
    "ds.close()\n",
    "\n",
    "    \n",
    "tlen = len(temp[:,0,0,0])"
   ]
  },
  {
   "cell_type": "code",
   "execution_count": null,
   "id": "dc67b4c5-dbd1-4da8-85be-cf52fc14ccfb",
   "metadata": {
    "tags": []
   },
   "outputs": [],
   "source": [
    "%%time\n",
    "\n",
    "# transform to DataArray\n",
    "temp_snap = xr.DataArray(temp_snap)\n",
    "temp_ini = xr.DataArray(temp_ini)\n",
    "\n",
    "# - append temp_ini to first time index in temp_snap and then do diff\n",
    "temp_snap = xr.concat([temp_ini,temp_snap], 'ocean_time')\n",
    "dT = temp_snap.diff('ocean_time')\n",
    "print(dT.shape)\n",
    "\n",
    "# \n",
    "# dt = 5*86400 # 5-days in seconds\n",
    "dt = 86400 # 1day\n",
    "temp_Rate = np.divide(dT, dt)\n",
    "temp_Rate = xr.DataArray(temp_Rate)\n",
    "# temp_Rate=temp_Rate.rename({'dim_0':'ocean_time','dim_1':'s_rho','dim_2':'eta_rho','dim_3':'xi_rho'})\n",
    "\n",
    "print(dT.shape)\n",
    "\n",
    "temp_Rate = temp_Rate.transpose('ocean_time','s_rho','eta_rho','xi_rho')\n",
    "\n",
    "print(temp_Rate.shape)"
   ]
  },
  {
   "cell_type": "code",
   "execution_count": null,
   "id": "b21038e7-5d84-40d6-805c-0e63b66587a0",
   "metadata": {},
   "outputs": [],
   "source": [
    "# check time stamps across his/avg variables to make sure they match:\n",
    "\n",
    "\n",
    "# # print('1.', time_snap)\n",
    "# print('2.', 2007+(time_snap[0]/86400/365))\n",
    "# print('3.', time_ini)\n",
    "# time_ini_datenum = (np.datetime64('2025-12-27')-np.datetime64('2007-01-01'))\n",
    "# print('4.', time_ini_datenum/365, ', NOT days, years!')\n",
    "# print('5.', (599616000-599184000)/86400) # 5-days!\n",
    "\n",
    "# time_snap_np = time_snap.values\n",
    "# time_ini_np = time_ini.values\n",
    "# print(time_ini, time_snap_np.shape)\n",
    "# time_snap2 = np.concatenate((time_ini_np,time_snap_np), axis=0)\n",
    "# print(time_snap2.shape)\n",
    "\n",
    "# # transform to DataArray\n",
    "# time_snap = xr.DataArray(time_snap)\n",
    "# time_ini = xr.DataArray(time_ini)\n",
    "\n",
    "# print(time_snap.shape, time_ini.shape)\n",
    "\n",
    "# # - append temp_ini to first time index in temp_snap and then do diff\n",
    "# time_snap2 = xr.concat([time_ini,time_snap], 'ocean_time')\n",
    "\n",
    "# print(time_snap2.shape, time_avg.shape)\n",
    "\n",
    "plt.plot(np.arange(0,365),time_snap,'xk')\n",
    "plt.plot(np.arange(0,365),time_avg,'ob')\n",
    "# plt.plot(np.arange(0,365),time_snap2,'.r')\n",
    "# plt.xlim(0,5)\n"
   ]
  },
  {
   "cell_type": "code",
   "execution_count": null,
   "id": "556c85b7-b6ad-4ddc-ac96-35c16525c2ab",
   "metadata": {},
   "outputs": [],
   "source": [
    "# calculate dt for avg/his timestamps:\n",
    "\n",
    "dt_avg = np.diff(time_avg)\n",
    "dt_snap = np.diff(time_snap)\n",
    "\n",
    "plt.plot(np.arange(0,364),dt_avg/86400,'.b')"
   ]
  },
  {
   "cell_type": "code",
   "execution_count": null,
   "id": "966f6e87-d77d-43be-a3fb-5e8a94242dfe",
   "metadata": {},
   "outputs": [],
   "source": [
    "plt.plot(np.arange(0,364),dt_snap/86400,'.r')\n"
   ]
  },
  {
   "cell_type": "markdown",
   "id": "e77c7e05-dcc3-4e3b-be50-dcf5c41fbe2d",
   "metadata": {
    "jp-MarkdownHeadingCollapsed": true,
    "tags": []
   },
   "source": [
    "### Calculate volume-integral of individual budget terms:"
   ]
  },
  {
   "cell_type": "code",
   "execution_count": null,
   "id": "4e78f427-2c3e-4776-94c8-686716cd4331",
   "metadata": {},
   "outputs": [],
   "source": [
    "plt.pcolormesh(h-abs(zice), vmin=0, vmax=0.5)\n",
    "plt.colorbar()"
   ]
  },
  {
   "cell_type": "code",
   "execution_count": null,
   "id": "42ed6dda-051f-418b-953d-e3f7649c6aa4",
   "metadata": {},
   "outputs": [],
   "source": [
    "plt.pcolormesh(contour_masked_above)#, vmin=0, vmax=1)\n",
    "plt.colorbar()"
   ]
  },
  {
   "cell_type": "code",
   "execution_count": null,
   "id": "96edf377-98a2-4a1a-b57e-09de30ca7565",
   "metadata": {},
   "outputs": [],
   "source": [
    "# Define conditions to mask out (1) off the shelf, (2) land (see plots above)\n",
    "condition1 = contour_masked_above == -1000\n",
    "condition2 = (zice+h) <= 1\n",
    "\n",
    "# Combine conditions with logical OR\n",
    "combined_condition = condition1 | condition2\n"
   ]
  },
  {
   "cell_type": "code",
   "execution_count": null,
   "id": "9371a701-9524-4a14-b84f-0f01e71985ac",
   "metadata": {},
   "outputs": [],
   "source": [
    "%%time\n",
    "temp_Rate.load()"
   ]
  },
  {
   "cell_type": "code",
   "execution_count": null,
   "id": "acbc28ba-0a21-4c93-85e2-47232700093f",
   "metadata": {
    "tags": []
   },
   "outputs": [],
   "source": [
    "%%time\n",
    "\n",
    "# use -1000 mask to compute integral of surface heat fluxes and ocean heat content tendency:\n",
    "# temp_Rate=xr.DataArray(temp_Rate)\n",
    "temp_rate = temp_Rate.transpose('ocean_time','s_rho','eta_rho','xi_rho')\n",
    "dT = dT.transpose('ocean_time','s_rho','eta_rho','xi_rho')\n",
    "\n",
    "## Integrated heat tendency and sfc heat flux terms to check heat budget closure*1\n",
    "# 1. area-integral surface heat flux\n",
    "tlen = len(temp_rate[:,0,0,0])\n",
    "area_sum =  np.nansum(np.nansum(area,axis=1), axis=0)\n",
    "\n",
    "shflux_int = np.empty((tlen))\n",
    "for mm in np.arange(0,tlen):\n",
    "    shflux_masked = ma.masked_where(combined_condition, shflux[mm,:]) # -1000 is just the mask for values south of 1500m isobath; not depths.\n",
    "    shflux_area = shflux_masked*area\n",
    "    shflux_int[mm] = np.nansum(np.nansum(shflux_area,axis=1), axis=0)\n",
    "    #del shflux_area\n",
    "    \n",
    "# 2. volume-integral heat tendency\n",
    "temp_rate_int = np.empty((tlen))\n",
    "temp_rate_vol = np.empty(np.squeeze(temp_Rate[:,0,:,:]).shape)\n",
    "for mm in np.arange(0,tlen):\n",
    "# - multplying by dz:\n",
    "    temp_rate_dz = temp_Rate[mm,:]*dz[mm,:]\n",
    "    temp_rate_vint = np.nansum(temp_rate_dz, axis=0)\n",
    "    temp_rate_vint_masked =  ma.masked_where(combined_condition, temp_rate_vint)\n",
    "    temp_rate_vol[mm,:] = temp_rate_vint_masked*area\n",
    "    \n",
    "    #del temp_rate_vint\n",
    "    temp_rate_int[mm] = np.nansum(np.nansum(temp_rate_vol[mm,:],axis=1), axis=0)*Cp*rho0\n"
   ]
  },
  {
   "cell_type": "code",
   "execution_count": null,
   "id": "cde2d7c0-144e-40ba-9ec3-2e56df67390e",
   "metadata": {
    "scrolled": true
   },
   "outputs": [],
   "source": [
    "%%time\n",
    "temp_hadv.load()\n",
    "temp_vadv.load()\n",
    "temp_hdiff.load()\n",
    "temp_vdiff.load()\n",
    "# temp_sdiff.load()"
   ]
  },
  {
   "cell_type": "code",
   "execution_count": null,
   "id": "a786eed0-cc22-4d4d-9ea2-a86081d63999",
   "metadata": {},
   "outputs": [],
   "source": [
    "# define sum of all RHS:\n",
    "RHS_budget = temp_hadv + temp_vadv + temp_hdiff + temp_vdiff\n",
    "RHS_budget_masked = ma.masked_where(combined_condition, RHS_budget.sum('s_rho').isel(ocean_time=0))\n",
    "\n",
    "plt.pcolormesh(RHS_budget_masked)#, vmin=-1e-12, vmax=1e-12, cmap='coolwarm')\n",
    "plt.colorbar()"
   ]
  },
  {
   "cell_type": "code",
   "execution_count": null,
   "id": "65de6ebb-140a-4829-8a3d-79969c18cd74",
   "metadata": {},
   "outputs": [],
   "source": [
    "%%time\n",
    "# integral with all RHS terms (as suggested by Wilkin)\n",
    "RHS_budget_int = np.empty((tlen))\n",
    "RHS_budget_vol = np.empty(np.squeeze(RHS_budget[:,0,:,:]).shape)\n",
    "for mm in np.arange(0,tlen):\n",
    "# - multplying by dz:\n",
    "    RHS_budget_dz = RHS_budget[mm,:]*dz[mm,:]\n",
    "    RHS_budget_vint = np.nansum(RHS_budget_dz, axis=0)\n",
    "    RHS_budget_vint_masked =  ma.masked_where(combined_condition, RHS_budget_vint)\n",
    "    RHS_budget_vol[mm,:] = RHS_budget_vint_masked*area\n",
    "    RHS_budget_int[mm] = np.nansum(np.nansum(RHS_budget_vol[mm,:],axis=1), axis=0)*Cp*rho0\n"
   ]
  },
  {
   "cell_type": "code",
   "execution_count": null,
   "id": "3a7add1c-f95a-47c7-8f1b-e577151c563f",
   "metadata": {},
   "outputs": [],
   "source": [
    "%%time\n",
    "# 3. heat tendency due to horizontal diffusion:\n",
    "temp_hdiff_int = np.empty((tlen))\n",
    "temp_hdiff_vol = np.empty(np.squeeze(temp_hdiff[:,0,:,:]).shape)\n",
    "for mm in np.arange(0,tlen):\n",
    "# - multplying by dz:\n",
    "    temp_hdiff_dz = temp_hdiff[mm,:]*dz[mm,:]\n",
    "    temp_hdiff_vint = np.nansum(temp_hdiff_dz, axis=0)\n",
    "    temp_hdiff_vint_masked =  ma.masked_where(combined_condition, temp_hdiff_vint)\n",
    "    temp_hdiff_vol[mm,:] = temp_hdiff_vint_masked*area\n",
    "    temp_hdiff_int[mm] = np.nansum(np.nansum(temp_hdiff_vol[mm,:],axis=1), axis=0)*Cp*rho0\n"
   ]
  },
  {
   "cell_type": "code",
   "execution_count": null,
   "id": "137d4222-98cf-4a72-98bb-59e129c8ee88",
   "metadata": {},
   "outputs": [],
   "source": [
    "%%time\n",
    "# 4. heat tendency due to horizontal advection:\n",
    "temp_hadv_int = np.empty((tlen))\n",
    "temp_hadv_vol = np.empty(np.squeeze(temp_hadv[:,0,:,:]).shape)\n",
    "for mm in np.arange(0,tlen):\n",
    "# - multplying by dz:\n",
    "    temp_hadv_dz = temp_hadv[mm,:]*dz[mm,:]\n",
    "    temp_hadv_vint = np.nansum(temp_hadv_dz, axis=0)\n",
    "    temp_hadv_vint_masked =  ma.masked_where(combined_condition, temp_hadv_vint)\n",
    "    temp_hadv_vol[mm,:] = temp_hadv_vint_masked*area\n",
    "    temp_hadv_int[mm] = np.nansum(np.nansum(temp_hadv_vol[mm,:],axis=1), axis=0)*Cp*rho0\n"
   ]
  },
  {
   "cell_type": "code",
   "execution_count": null,
   "id": "e8a7cc8a-00ca-442a-b40d-4feaf1cea742",
   "metadata": {},
   "outputs": [],
   "source": [
    "%%time\n",
    "# 5. heat tendency due to vertical advection:\n",
    "temp_vadv_int = np.empty((tlen))\n",
    "temp_vadv_vol = np.empty(np.squeeze(temp_vadv[:,0,:,:]).shape)\n",
    "for mm in np.arange(0,tlen):\n",
    "# - multplying by dz:\n",
    "    temp_vadv_dz = temp_vadv[mm,:]*dz[mm,:]\n",
    "    temp_vadv_vint = np.nansum(temp_vadv_dz, axis=0)\n",
    "    temp_vadv_vint_masked =  ma.masked_where(combined_condition, temp_vadv_vint)\n",
    "    temp_vadv_vol[mm,:] = temp_vadv_vint_masked*area\n",
    "    temp_vadv_int[mm] = np.nansum(np.nansum(temp_vadv_vol[mm,:],axis=1), axis=0)*Cp*rho0\n"
   ]
  },
  {
   "cell_type": "code",
   "execution_count": null,
   "id": "fbeb6496-b87e-4baa-bcb0-4cd3450e18f6",
   "metadata": {},
   "outputs": [],
   "source": [
    "%%time\n",
    "# 6. heat tendency due to vertical diffusion (should be equal to the sfc heat flux)\n",
    "temp_vdiff_int = np.empty((tlen))\n",
    "temp_vdiff_vol = np.empty(np.squeeze(temp_vdiff[:,0,:,:]).shape)\n",
    "for mm in np.arange(0,tlen):\n",
    "# - multplying by dz:\n",
    "    temp_vdiff_dz = temp_vdiff[mm,:]*dz[mm,:]\n",
    "    temp_vdiff_vint = np.nansum(temp_vdiff_dz, axis=0)\n",
    "    temp_vdiff_vint_masked =  ma.masked_where(combined_condition, temp_vdiff_vint) # I think I can remove the first masking, no need to repeat it.\n",
    "    temp_vdiff_vol[mm,:] = temp_vdiff_vint_masked*area\n",
    "    temp_vdiff_int[mm] = np.nansum(np.nansum(temp_vdiff_vol[mm,:],axis=1), axis=0)*Cp*rho0\n"
   ]
  },
  {
   "cell_type": "code",
   "execution_count": null,
   "id": "18caf8e0-f6c8-4534-956d-c7a2702e4979",
   "metadata": {},
   "outputs": [],
   "source": [
    "# %%time\n",
    "# # 7. heat tendency due to rotated diffusion (should be equal to the sfc heat flux)\n",
    "# temp_sdiff_int = np.empty((tlen))\n",
    "# temp_sdiff_vol = np.empty(np.squeeze(temp_sdiff[:,0,:,:]).shape)\n",
    "# for mm in np.arange(0,tlen):\n",
    "# # - multplying by dz:\n",
    "#     temp_sdiff_dz = temp_sdiff[mm,:]*dz[mm,:]\n",
    "#     temp_sdiff_vint = np.nansum(temp_sdiff_dz, axis=0)\n",
    "#     temp_sdiff_vint_masked =  ma.masked_where(combined_condition, temp_sdiff_vint) # I think I can remove the first masking, no need to repeat it.\n",
    "#     temp_sdiff_vol[mm,:] = temp_sdiff_vint_masked*area\n",
    "#     temp_sdiff_int[mm] = np.nansum(np.nansum(temp_sdiff_vol[mm,:],axis=1), axis=0)*Cp*rho0\n"
   ]
  },
  {
   "cell_type": "code",
   "execution_count": null,
   "id": "f9975d42-81c4-4c1b-a1f2-b7d16ec94b53",
   "metadata": {},
   "outputs": [],
   "source": [
    "temp_hdiff_vol.shape"
   ]
  },
  {
   "cell_type": "code",
   "execution_count": null,
   "id": "cbab48c5-6b2d-4fa8-bd00-f48d48338b3f",
   "metadata": {},
   "outputs": [],
   "source": [
    "# calculate horizontal-integrated area:\n",
    "area_masked = ma.masked_where(contour_masked_above == -1000, area)\n",
    "area_sum = np.nansum(np.nansum(area_masked,axis=1), axis=0)\n",
    "\n",
    "print(area_sum*1e-15)"
   ]
  },
  {
   "cell_type": "code",
   "execution_count": null,
   "id": "a3236daa-7432-48d5-a6e7-1097b18fc817",
   "metadata": {},
   "outputs": [],
   "source": [
    "### plot maps of the vertically-integrated budget terms:"
   ]
  },
  {
   "cell_type": "code",
   "execution_count": null,
   "id": "b882b8b3-c732-4506-a73f-3b98e96d37a3",
   "metadata": {},
   "outputs": [],
   "source": [
    "mm=35\n",
    "\n",
    "# call cartopy projection\n",
    "proj = ccrs.PlateCarree(central_longitude=-24)\n",
    "fig = plt.figure(figsize=(18,20))\n",
    "\n",
    "ax1 = fig.add_subplot(321)\n",
    "aa=ax1.pcolormesh(np.nanmean(temp_rate_vol, axis=0), vmin=-.5e4, vmax=.5e4, cmap='coolwarm')\n",
    "ax1.set_title('heat tendency')\n",
    "\n",
    "ax2 = fig.add_subplot(322)\n",
    "ax2.pcolormesh(ma.masked_where(contour_masked_above == -1000, np.nanmean(shflux,axis=0)*(area/(Cp*rho0))), vmin=-.5e4, vmax=.5e4, cmap='coolwarm')\n",
    "ax2.set_title('SHFLX')\n",
    "\n",
    "ax3 = fig.add_subplot(323)\n",
    "ax3.pcolormesh(np.nanmean(temp_hdiff_vol,axis=0), vmin=-.5e4, vmax=.5e4, cmap='coolwarm')\n",
    "ax3.set_title('horz diff')\n",
    "\n",
    "ax4 = fig.add_subplot(324)\n",
    "ax4.pcolormesh(np.nanmean(temp_vdiff_vol,axis=0), vmin=-.5e4, vmax=.5e4, cmap='coolwarm')\n",
    "ax4.set_title('vert diff')\n",
    "\n",
    "ax5 = fig.add_subplot(325)\n",
    "ax5.pcolormesh(np.nanmean(temp_hadv_vol,axis=0), vmin=-.5e4, vmax=.5e4, cmap='coolwarm')\n",
    "ax5.set_title('horz adv')\n",
    "\n",
    "ax6 = fig.add_subplot(326)\n",
    "ax6.pcolormesh(np.nanmean(temp_vadv_vol,axis=0), vmin=-.5e4, vmax=.5e4, cmap='coolwarm')\n",
    "ax6.set_title('vert adv')\n",
    "\n",
    "\n"
   ]
  },
  {
   "cell_type": "markdown",
   "id": "ed845fd2-4bfc-4472-99ec-3c33626d2669",
   "metadata": {
    "jp-MarkdownHeadingCollapsed": true
   },
   "source": [
    "### plotting map figures with the v-integrated heat flux convergence maps:"
   ]
  },
  {
   "cell_type": "code",
   "execution_count": null,
   "id": "bb75c63c-3f57-485d-90e4-61c9a2dec6bd",
   "metadata": {},
   "outputs": [],
   "source": [
    "# load 1500 and calving front contours:\n",
    "\n",
    "tmp_files_dir = '/g/data3/hh5/tmp/access-om/fbd581/ROMS/postprocessing/cross_contour_tmp/'\n",
    "expt = 'WAOM10'\n",
    "ds = xr.open_dataset(tmp_files_dir + expt + '_lon_along_1500m')\n",
    "lon_along_10km_shelf = ds.variables[\"one\"]\n",
    "ds.close()\n",
    "ds = xr.open_dataset(tmp_files_dir + expt + '_lat_along_1500m')\n",
    "lat_along_10km_shelf = ds.variables[\"two\"]\n",
    "ds.close()\n",
    "ds = xr.open_dataset(tmp_files_dir + expt + '_lon_along_CalvingFront')\n",
    "lon_along_10km_CF = ds.variables[\"one\"]\n",
    "ds.close()\n",
    "ds = xr.open_dataset(tmp_files_dir + expt + '_lat_along_CalvingFront')\n",
    "lat_along_10km_CF = ds.variables[\"two\"]\n",
    "ds.close()"
   ]
  },
  {
   "cell_type": "code",
   "execution_count": null,
   "id": "a153b25d-8b0a-495a-bc04-7b7767518ea1",
   "metadata": {},
   "outputs": [],
   "source": [
    "# Fig 1 - paper (WAOM10)\n",
    "# --- bottom T\n",
    "jst= 41\n",
    "jen=-1\n",
    "ist=0\n",
    "ien=-1\n",
    "\n",
    "tmin = -2.7\n",
    "tmax = 1\n",
    "atmin = -1\n",
    "atmax = 1\n",
    "\n",
    "# define cross-section vectors:\n",
    "lat_maxpts = np.ceil(30/0.091985) # took 3.5min\n",
    "lon=-115 \n",
    "lon_vector_115 = np.linspace(lon,lon,num=int(lat_maxpts))  # replace 0 -> lon_bin looping\n",
    "lon=-110 \n",
    "lon_vector_110 = np.linspace(lon,lon,num=int(lat_maxpts))  # replace 0 -> lon_bin looping\n",
    "lon=-105\n",
    "lon_vector_105 = np.linspace(lon,lon,num=int(lat_maxpts))  # replace 0 -> lon_bin looping\n",
    "lon=-80\n",
    "lon_vector_80 = np.linspace(lon,lon,num=int(lat_maxpts))  # replace 0 -> lon_bin looping\n",
    "lon=-85\n",
    "lon_vector_85 = np.linspace(lon,lon,num=int(lat_maxpts))  # replace 0 -> lon_bin looping\n",
    "lon=-95\n",
    "lon_vector_95 = np.linspace(lon,lon,num=int(lat_maxpts))  # replace 0 -> lon_bin looping\n",
    "lon=-158\n",
    "lon_vector_158 = np.linspace(lon,lon,num=int(lat_maxpts))  # replace 0 -> lon_bin looping\n",
    "lon=-160\n",
    "lon_vector_160 = np.linspace(lon,lon,num=int(lat_maxpts))  # replace 0 -> lon_bin looping\n",
    "lon=-165\n",
    "lon_vector_165 = np.linspace(lon,lon,num=int(lat_maxpts))  # replace 0 -> lon_bin looping\n",
    "minlat = -90\n",
    "maxlat = -60\n",
    "lat_vector = np.linspace(minlat,maxlat,num=int(lat_maxpts))\n",
    "\n",
    "# call cartopy projection\n",
    "proj = ccrs.PlateCarree(central_longitude=-24)\n",
    "fig = plt.figure(figsize=(15,10))\n",
    "\n",
    "# Net heat tendency\n",
    "ax1 = fig.add_subplot(321, projection=proj)\n",
    "ct1=plt.pcolormesh(lon_rho[jst:jen,ist:ien].values,lat_rho[jst:jen,ist:ien].values,\n",
    "                  np.nanmean(temp_rate_vol[:,jst:jen,ist:ien], axis=0), transform=ccrs.PlateCarree(), vmin=-2.5e3, vmax=2.5e3, cmap='coolwarm')\n",
    "# plt.scatter(lon_along_10km_CF,lat_along_10km_CF, s=.8, alpha=0.4, color='deepskyblue',label='Calving front', transform=ccrs.PlateCarree());\n",
    "# plt.scatter(lon_along_10km_shelf,lat_along_10km_shelf, s=.8, alpha=0.4, color='lightgreen',label='1500m isobath', transform=ccrs.PlateCarree());\n",
    "plt.title('WAOM10 Net heat tendency')\n",
    "\n",
    "ax1.gridlines(draw_labels=True,linewidth=.1)\n",
    "ax1.add_feature(cfeature.LAND, zorder=3, edgecolor='white', facecolor='gray')\n",
    "# plt.colorbar(ct1, location=\"right\")\n",
    "ax1.set_extent([-180-24, 155, -86, -61.5], crs=ccrs.PlateCarree())\n",
    "x_left, x_right = ax1.get_xlim()\n",
    "y_low, y_high = ax1.get_ylim()\n",
    "ratio = .3\n",
    "ax1.set_aspect(abs((x_right-x_left)/(y_low-y_high))*ratio)\n",
    "\n",
    "cbar_ax0 = fig.add_axes([0.48, 0.695, 0.01, 0.135])\n",
    "fig.colorbar(ct1, cax=cbar_ax0, orientation='vertical')\n",
    "cbar_ax0.set_ylabel('Heat convergence (W.m$^{\\circ}$C)')#, labelpad=-35)\n",
    "\n",
    "# sfc hflux\n",
    "ax2 = fig.add_subplot(322, projection=proj)\n",
    "ct1=plt.pcolormesh(lon_rho[jst:jen,ist:ien].values,lat_rho[jst:jen,ist:ien].values,\n",
    "                   np.nanmean(shflux[:,jst:jen,ist:ien],axis=0)*\n",
    "                                  (area[jst:jen,ist:ien]/(Cp*rho0)), transform=ccrs.PlateCarree(), vmin=-2.5e3, vmax=2.5e3, cmap='coolwarm')\n",
    "\n",
    "                  # ma.masked_where(contour_masked_above[jst:jen,ist:ien] == -1000, np.nanmean(shflux[:,jst:jen,ist:ien],axis=0)*\n",
    "                  #                 (area[jst:jen,ist:ien]/(Cp*rho0))), vmin=-2.5e3, vmax=2.5e3, cmap='coolwarm')\n",
    "\n",
    "# plt.scatter(lon_along_10km_CF,lat_along_10km_CF, s=.8, alpha=0.4, color='deepskyblue',label='Calving front', transform=ccrs.PlateCarree());\n",
    "# plt.scatter(lon_along_10km_shelf,lat_along_10km_shelf, s=.8, alpha=0.4, color='lightgreen',label='1500m isobath', transform=ccrs.PlateCarree());\n",
    "plt.title('Sfc heat flux')\n",
    "plt.plot(lon_vector_115,lat_vector, ':w', transform=ccrs.PlateCarree())\n",
    "plt.plot(lon_vector_105,lat_vector, ':w', transform=ccrs.PlateCarree())\n",
    "plt.plot(lon_vector_80,lat_vector, ':w', transform=ccrs.PlateCarree())\n",
    "plt.plot(lon_vector_95,lat_vector, ':w', transform=ccrs.PlateCarree())\n",
    "plt.plot(lon_vector_158,lat_vector, ':w', transform=ccrs.PlateCarree())\n",
    "plt.plot(lon_vector_165,lat_vector, ':w', transform=ccrs.PlateCarree())\n",
    "ax2.gridlines(draw_labels=True,linewidth=.1)\n",
    "ax2.add_feature(cfeature.LAND, zorder=3, edgecolor='white', facecolor='gray')\n",
    "ax2.set_extent([-180-24, 155, -86, -61.5], crs=ccrs.PlateCarree())\n",
    "x_left, x_right = ax2.get_xlim()\n",
    "y_low, y_high = ax2.get_ylim()\n",
    "ratio = .3\n",
    "ax2.set_aspect(abs((x_right-x_left)/(y_low-y_high))*ratio)\n",
    "\n",
    "# horz diffusion\n",
    "ax3 = fig.add_subplot(323, projection=proj)\n",
    "ct1=plt.pcolormesh(lon_rho[jst:jen,ist:ien].values,lat_rho[jst:jen,ist:ien].values,\n",
    "                  np.nanmean(temp_hdiff_vol[:,jst:jen,ist:ien],axis=0), transform=ccrs.PlateCarree(), vmin=-2.5e3, vmax=2.5e3, cmap='coolwarm')\n",
    "\n",
    "# plt.scatter(lon_along_10km_CF,lat_along_10km_CF, s=.8, alpha=0.4, color='deepskyblue',label='Calving front', transform=ccrs.PlateCarree());\n",
    "# plt.scatter(lon_along_10km_shelf,lat_along_10km_shelf, s=.8, alpha=0.4, color='lightgreen',label='1500m isobath', transform=ccrs.PlateCarree());\n",
    "plt.title('Horizontal diffusion')\n",
    "\n",
    "ax3.gridlines(draw_labels=True,linewidth=.1)\n",
    "ax3.add_feature(cfeature.LAND, zorder=3, edgecolor='white', facecolor='gray')\n",
    "ax3.set_extent([-180-24, 155, -86, -61.5], crs=ccrs.PlateCarree())\n",
    "x_left, x_right = ax3.get_xlim()\n",
    "y_low, y_high = ax3.get_ylim()\n",
    "ratio = .3\n",
    "ax3.set_aspect(abs((x_right-x_left)/(y_low-y_high))*ratio)\n",
    "\n",
    "# vert diffusion\n",
    "ax4 = fig.add_subplot(324, projection=proj)\n",
    "ct1=plt.pcolormesh(lon_rho[jst:jen,ist:ien].values,lat_rho[jst:jen,ist:ien].values,\n",
    "                  np.nanmean(temp_vdiff_vol[:,jst:jen,ist:ien],axis=0), transform=ccrs.PlateCarree(), vmin=-2.5e3, vmax=2.5e3, cmap='coolwarm')\n",
    "\n",
    "# plt.scatter(lon_along_10km_CF,lat_along_10km_CF, s=.8, alpha=0.4, color='deepskyblue',label='Calving front', transform=ccrs.PlateCarree());\n",
    "# plt.scatter(lon_along_10km_shelf,lat_along_10km_shelf, s=.8, alpha=0.4, color='lightgreen',label='1500m isobath', transform=ccrs.PlateCarree());\n",
    "plt.title('Vertical diffusion')\n",
    "\n",
    "ax4.gridlines(draw_labels=True,linewidth=.1)\n",
    "ax4.add_feature(cfeature.LAND, zorder=3, edgecolor='white', facecolor='gray')\n",
    "ax4.set_extent([-180-24, 155, -86, -61.5], crs=ccrs.PlateCarree())\n",
    "x_left, x_right = ax4.get_xlim()\n",
    "y_low, y_high = ax4.get_ylim()\n",
    "ratio = .3\n",
    "ax4.set_aspect(abs((x_right-x_left)/(y_low-y_high))*ratio)\n",
    "\n",
    "# horz adv\n",
    "ax5 = fig.add_subplot(325, projection=proj)\n",
    "ct1=plt.pcolormesh(lon_rho[jst:jen,ist:ien].values,lat_rho[jst:jen,ist:ien].values,\n",
    "                  np.nanmean(temp_hadv_vol[:,jst:jen,ist:ien],axis=0), transform=ccrs.PlateCarree(), vmin=-2.5e3, vmax=2.5e3, cmap='coolwarm')\n",
    "\n",
    "# plt.scatter(lon_along_10km_CF,lat_along_10km_CF, s=.8, alpha=0.4, color='deepskyblue',label='Calving front', transform=ccrs.PlateCarree());\n",
    "# plt.scatter(lon_along_10km_shelf,lat_along_10km_shelf, s=.8, alpha=0.4, color='lightgreen',label='1500m isobath', transform=ccrs.PlateCarree());\n",
    "plt.title('Horizontal advection')\n",
    "\n",
    "ax5.gridlines(draw_labels=True,linewidth=.1)\n",
    "ax5.add_feature(cfeature.LAND, zorder=3, edgecolor='white', facecolor='gray')\n",
    "ax5.set_extent([-180-24, 155, -86, -61.5], crs=ccrs.PlateCarree())\n",
    "x_left, x_right = ax5.get_xlim()\n",
    "y_low, y_high = ax5.get_ylim()\n",
    "ratio = .3\n",
    "ax5.set_aspect(abs((x_right-x_left)/(y_low-y_high))*ratio)\n",
    "\n",
    "# vert adv\n",
    "ax6 = fig.add_subplot(326, projection=proj)\n",
    "ct1=plt.pcolormesh(lon_rho[jst:jen,ist:ien].values,lat_rho[jst:jen,ist:ien].values,\n",
    "                    np.nanmean(temp_hadv_vol[:,jst:jen,ist:ien],axis=0) +\n",
    "                    np.nanmean(temp_hdiff_vol[:,jst:jen,ist:ien],axis=0)\n",
    "                    , transform=ccrs.PlateCarree(), vmin=-2.5e3, vmax=2.5e3, cmap='coolwarm')\n",
    "\n",
    "# plt.scatter(lon_along_10km_CF,lat_along_10km_CF, s=.8, alpha=0.4, color='deepskyblue',label='Calving front', transform=ccrs.PlateCarree());\n",
    "# plt.scatter(lon_along_10km_shelf,lat_along_10km_shelf, s=.8, alpha=0.4, color='lightgreen',label='1500m isobath', transform=ccrs.PlateCarree());\n",
    "plt.title('Vertical advection')\n",
    "\n",
    "ax6.gridlines(draw_labels=True,linewidth=.1)\n",
    "ax6.add_feature(cfeature.LAND, zorder=3, edgecolor='white', facecolor='gray')\n",
    "ax6.set_extent([-180-24, 155, -86, -61.5], crs=ccrs.PlateCarree())\n",
    "x_left, x_right = ax5.get_xlim()\n",
    "y_low, y_high = ax5.get_ylim()\n",
    "ratio = .3\n",
    "ax6.set_aspect(abs((x_right-x_left)/(y_low-y_high))*ratio)\n",
    "\n",
    "cbar_ax1 = fig.add_axes([0.91, 0.135, 0.01, 0.435])\n",
    "fig.colorbar(ct1, cax=cbar_ax1, orientation='vertical')\n",
    "cbar_ax1.set_ylabel('Heat convergences (W.m$^{-2}$)')#, labelpad=-35)\n",
    "\n",
    "\n",
    "name_fig='waom10extend_OHBsouth1500m_vint_maps_yr20.png'\n",
    "plt.savefig(fig_path + name_fig, dpi=300, bbox_inches='tight')\n"
   ]
  },
  {
   "cell_type": "code",
   "execution_count": null,
   "id": "d17844ff-a201-45b6-952e-93199eb915b6",
   "metadata": {},
   "outputs": [],
   "source": [
    "## looking at VADV:\n",
    "fig = plt.figure(figsize=(12,6))\n",
    "\n",
    "ax1 = fig.add_subplot(121)\n",
    "ct1=plt.pcolormesh(np.nanmean(temp_vadv_vol[:,jst:jen,ist:ien],axis=0), vmin=-3e-10, vmax=3e-10, cmap='coolwarm')\n",
    "plt.colorbar()\n",
    "plt.title('VADV')\n",
    "#\n",
    "ax2 = fig.add_subplot(122)\n",
    "ct1=plt.pcolormesh(np.nanmean(temp_hadv_vol[:,jst:jen,ist:ien],axis=0), vmin=-3e-4, vmax=3e-4, cmap='coolwarm')\n",
    "# plt.colorbar()\n",
    "plt.title('HADV')\n",
    "plt.colorbar()\n"
   ]
  },
  {
   "cell_type": "markdown",
   "id": "2fe6f5b4-6f52-4b7c-87da-2d90fef86d9b",
   "metadata": {
    "jp-MarkdownHeadingCollapsed": true
   },
   "source": [
    "### calculate integrated/cumsum values:"
   ]
  },
  {
   "cell_type": "code",
   "execution_count": null,
   "id": "00b9017d-423a-443a-9d63-cea22649ea48",
   "metadata": {},
   "outputs": [],
   "source": [
    "# OHB integrated\n",
    "print('OHC tendency annual avg (TW): ',np.nanmean(temp_rate_int)*1e-12)\n",
    "# print(np.mean(temp_rate2_int)*1e-15)\n",
    "print('Net sfc heat flux annual avg (TW): ',np.nanmean(shflux_int)*1e-12)\n",
    "print('Residue (OHC - shflux) (TW): ',(np.nanmean(temp_rate_int)-np.nanmean(shflux_int))*1e-12)\n",
    "print('Horz. diffusion (TW): ',np.nanmean(temp_hdiff_int)*1e-12)\n",
    "print('Vert. diffusion (TW): ',np.nanmean(temp_vdiff_int)*1e-12)\n",
    "# print('Isop. diffusion (TW): ',np.nanmean(temp_sdiff_int)*1e-12)\n",
    "print('Horz. advection (TW): ',np.nanmean(temp_hadv_int)*1e-12)\n",
    "print('Vert. advection (TW): ',np.nanmean(temp_vadv_int)*1e-12)\n",
    "print('Sum all above terms: ',np.nanmean(temp_hadv_int + temp_vadv_int + temp_hdiff_int + temp_vdiff_int)*1e-12)\n",
    "print('Sum all RHS terms: ',np.nanmean(RHS_budget_int)*1e-12)"
   ]
  },
  {
   "cell_type": "code",
   "execution_count": null,
   "id": "e647848b-ed6f-4a89-b58c-f81d526b18cf",
   "metadata": {},
   "outputs": [],
   "source": [
    "# OHB integrated, sum over 1year:\n",
    "print('OHC tendency annual avg (TW): ',np.nansum(temp_rate_int)*1e-12)\n",
    "# print(np.mean(temp_rate2_int)*1e-15)\n",
    "print('Net sfc heat flux annual avg (TW): ',np.nansum(shflux_int)*1e-12)\n",
    "print('Horz. diffusion (TW): ',np.nansum(temp_hdiff_int)*1e-12)\n",
    "print('Vert. diffusion (TW): ',np.nansum(temp_vdiff_int)*1e-12)\n",
    "# print('Isop. diffusion (TW): ',np.nansum(temp_sdiff_int)*1e-12)\n",
    "print('Horz. advection (TW): ',np.nansum(temp_hadv_int)*1e-12)\n",
    "print('Vert. advection (TW): ',np.nansum(temp_vadv_int)*1e-12)\n",
    "print('Sum all above terms: ',np.nansum(temp_hadv_int + temp_vadv_int + temp_hdiff_int + temp_vdiff_int)*1e-12)\n",
    "print('Sum all RHS terms: ',np.nansum(RHS_budget_int)*1e-12)"
   ]
  },
  {
   "cell_type": "code",
   "execution_count": null,
   "id": "f68de84d-f99a-4da5-aa72-683fdabc34eb",
   "metadata": {},
   "outputs": [],
   "source": [
    "print('Vert. advection (TW): ',np.nansum(temp_vadv_int)*1e-12)\n",
    "print('Sum all above terms (incl. vert. adv): ',np.sum(temp_rate_int + shflux_int + temp_hdiff_int + temp_hadv_int)*1e-12)\n"
   ]
  },
  {
   "cell_type": "markdown",
   "id": "643bae57-3b4e-4a06-a247-61d4cdf096ad",
   "metadata": {
    "jp-MarkdownHeadingCollapsed": true
   },
   "source": [
    "### plot volume-integ. heat budget terms:"
   ]
  },
  {
   "cell_type": "code",
   "execution_count": null,
   "id": "ca4c469c-afad-4609-9c8a-46acaf5287fb",
   "metadata": {},
   "outputs": [],
   "source": [
    "##### months=np.arange(0,365)*(1/30.41667)\n",
    "all_rhs = temp_hdiff_int + temp_vdiff_int + temp_hadv_int + temp_vadv_int\n",
    "\n",
    "fig, ax = plt.subplots(figsize = (12, 5))\n",
    "plt.plot(months,np.divide(shflux_int,1)*1e-12, label='SHFLX', color='magenta')\n",
    "plt.plot(months,np.divide(temp_rate_int,1)*1e-12, label='OHC$_{t}$', color='darkorange')\n",
    "plt.plot(months,temp_hdiff_int*1e-12, label='Horz. diffusion of heat', color='lightgreen')\n",
    "# plt.plot(months,temp_vdiff_int, label='Vert. diffusion of heat', color='darkgreen')\n",
    "plt.plot(months,temp_hadv_int*1e-12, label='Horz. advection of heat',color='darkgreen')\n",
    "# plt.plot(months,temp_vadv_int, label='Vert. advection of heat',color='darkblue')\n",
    "# plt.plot(months,RHS_budget_int - shflux_int, label='RHS - SHFLX',color='y')\n",
    "plt.plot(months,(temp_hdiff_int + temp_hadv_int)*1e-12, label='Horz. diff+adv',color='y')\n",
    "\n",
    "plt.plot(months,shflux_int*0,'--k')\n",
    "plt.plot(months,(temp_rate_int - shflux_int)*1e-12, ':r', label='residual (OHC$_{t}$ - SHFLX}',linewidth=1, color='royalblue')\n",
    "# plt.plot(months,temp_hadv_int + temp_hdiff_int + temp_vadv_int, '--r', label='horiz adv+diff_vadv',linewidth=0.5, color='limegreen')\n",
    "# plt.plot(months,all_rhs, '--m', label='all RHS',linewidth=1)\n",
    "# plt.ylim([-2e14,2e14])\n",
    "# print annual avg values:\n",
    "# plt.text(10.2,-.5e14,str(np.round(np.mean(shflux_int)*1e-12,decimals=4)) + 'TW', color='royalblue')\n",
    "# plt.text(10.2,1.65e14,str(np.round(np.mean(temp_rate_int)*1e-12,decimals=4)) + 'TW', color='darkorange')\n",
    "# plt.text(9.2,1.1e14,str(np.round(np.mean(temp_rate_int - shflux_int)*1e-12,decimals=4)) + 'TW', color='red')\n",
    "# # plt.text(10.2,1.35e14,str(np.round(np.mean(temp_hdiff_int)*1e-12,decimals=4)) + 'TW', color='green')\n",
    "# plt.text(10.9,-.35e14,str(np.round(np.mean(temp_hadv_int)*1e-12,decimals=4)) + 'TW', color='darkred')\n",
    "# plt.text(9,.8e14,str(np.round(np.mean(temp_vadv_int)*1e-12,decimals=4)) + 'TW', color='darkblue')\n",
    "\n",
    "plt.grid()\n",
    "plt.legend(loc='lower left')\n",
    "plt.ylabel('Heat transport (TW)')\n",
    "plt.xlabel('Time (months)')\n",
    "plt.title('Absolute values; WAOM10')\n",
    "\n",
    "\n",
    "name_fig='WAOM10_OHB_south1500m_vint_annual_daily.png'\n",
    "plt.savefig(fig_path + name_fig, dpi=300)"
   ]
  },
  {
   "cell_type": "code",
   "execution_count": null,
   "id": "5819f436-2731-49f7-867f-a6f4d798b836",
   "metadata": {},
   "outputs": [],
   "source": [
    "##### months=np.arange(0,365)*(1/30.41667)\n",
    "all_rhs = temp_hdiff_int + temp_vdiff_int + temp_hadv_int + temp_vadv_int\n",
    "\n",
    "fig, ax = plt.subplots(figsize = (12, 5))\n",
    "plt.plot(months,np.divide(shflux_int,1), label='SHFLX', color='royalblue')\n",
    "plt.plot(months,np.divide(temp_rate_int,1), label='OHC$_{t}$', color='darkorange')\n",
    "plt.plot(months,RHS_budget_int - shflux_int,'--m', label='RHS - SHFLX')\n",
    "plt.plot(months,temp_rate_int - shflux_int, '-r', label='residual (OHC$_{t}$ - SHFLX}',linewidth=0.5, color='red')\n",
    "\n",
    "plt.plot(months,shflux_int*0,'--k')\n",
    "\n",
    "plt.grid()\n",
    "plt.legend(loc='lower left')\n",
    "plt.ylabel('Heat transport (W)')\n",
    "plt.xlabel('Time (months)')\n",
    "plt.title('Absolute values; WAOM10')\n",
    "\n",
    "\n",
    "name_fig='WAOM10_OHB-closure_test_south1500m_vint_annual_daily.png'\n",
    "plt.savefig(fig_path + name_fig, dpi=300)"
   ]
  },
  {
   "cell_type": "code",
   "execution_count": null,
   "id": "1b0cf538-5b68-433f-b9e1-e291c2e28442",
   "metadata": {},
   "outputs": [],
   "source": [
    "%%time\n",
    "\n",
    "# temp_rate_int, shflux_int\n",
    "\n",
    "months=np.arange(0,365)*(1/30.41667)\n",
    "\n",
    "# save to netcdf file:\n",
    "coordinatesC=dict(ocean_time=months)\n",
    "\n",
    "temp_rate_int_xr = xr.DataArray(temp_rate_int, coords = coordinatesC, dims = ['ocean_time'])\n",
    "shflux_int_xr = xr.DataArray(shflux_int, coords = coordinatesC, dims = ['ocean_time'])\n",
    "temp_hdiff_int_xr = xr.DataArray(temp_hdiff_int, coords = coordinatesC, dims = ['ocean_time'])\n",
    "temp_vdiff_int_xr = xr.DataArray(temp_vdiff_int, coords = coordinatesC, dims = ['ocean_time'])\n",
    "temp_hadv_int_xr = xr.DataArray(temp_hadv_int, coords = coordinatesC, dims = ['ocean_time'])\n",
    "temp_vadv_int_xr = xr.DataArray(temp_vadv_int, coords = coordinatesC, dims = ['ocean_time'])\n",
    "\n",
    "files_path = '/g/data/hh5/tmp/access-om/fbd581/ROMS/postprocessing/cross_contour_tmp/'\n",
    "temp_rate_int_xr.to_netcdf(files_path + 'WAOM10_OHB_1500m_temp_rate_vint_daily', mode='w', format=\"NETCDF4\")\n",
    "shflux_int_xr.to_netcdf(files_path + 'WAOM10_OHB_1500m_shflux_vint_daily', mode='w', format=\"NETCDF4\")\n",
    "temp_hdiff_int_xr.to_netcdf(files_path + 'WAOM10_OHB_1500m_temp_hdiff_vint_daily', mode='w', format=\"NETCDF4\")\n",
    "temp_vdiff_int_xr.to_netcdf(files_path + 'WAOM10_OHB_1500m_temp_vdiff_vint_daily', mode='w', format=\"NETCDF4\")\n",
    "temp_hadv_int_xr.to_netcdf(files_path + 'WAOM10_OHB_1500m_temp_hadv_vint_daily', mode='w', format=\"NETCDF4\")\n",
    "temp_vadv_int_xr.to_netcdf(files_path + 'WAOM10_OHB_1500m_temp_vadv_vint_daily', mode='w', format=\"NETCDF4\")"
   ]
  },
  {
   "cell_type": "code",
   "execution_count": null,
   "id": "130c0e62-92bd-4c15-a01f-4fc625cf8989",
   "metadata": {},
   "outputs": [],
   "source": [
    "## load contours:\n",
    "\n",
    "## load lon/lat for each expt:\n",
    "tmp_files_dir = '/g/data3/hh5/tmp/access-om/fbd581/ROMS/postprocessing/cross_contour_tmp/'\n",
    "\n",
    "expt='WAOM10'\n",
    "ds = xr.open_dataset(tmp_files_dir + expt + '_lon_along_1500m_v3')\n",
    "lon_along_10km = ds.variables[\"one\"]\n",
    "ds.close()\n",
    "ds = xr.open_dataset(tmp_files_dir + expt + '_lat_along_1500m_v3')\n",
    "lat_along_10km = ds.variables[\"two\"]\n",
    "ds.close()\n",
    "\n",
    "expt='WAOM4'\n",
    "ds = xr.open_dataset(tmp_files_dir + expt + '_lon_along_1500m_v3')\n",
    "lon_along_4km = ds.variables[\"one\"]\n",
    "ds.close()\n",
    "ds = xr.open_dataset(tmp_files_dir + expt + '_lat_along_1500m_v3')\n",
    "lon_along_4km = ds.variables[\"two\"]\n",
    "ds.close()\n",
    "\n",
    "expt='WAOM10'\n",
    "ds = xr.open_dataset(tmp_files_dir + expt + '_lon_along_CF_v3')\n",
    "lon_along_10km_CF= ds.variables[\"one\"]\n",
    "ds.close()\n",
    "ds = xr.open_dataset(tmp_files_dir + expt + '_lat_along_CF_v3')\n",
    "lat_along_10km_CF = ds.variables[\"two\"]\n",
    "ds.close()\n",
    "\n",
    "expt='WAOM4'\n",
    "ds = xr.open_dataset(tmp_files_dir + expt + '_lon_along_CF_v3')\n",
    "lon_along_4km_CF = ds.variables[\"one\"]\n",
    "ds.close()\n",
    "ds = xr.open_dataset(tmp_files_dir + expt + '_lat_along_CF_v3')\n",
    "lon_along_4km_CF = ds.variables[\"two\"]\n",
    "ds.close()\n"
   ]
  },
  {
   "cell_type": "markdown",
   "id": "2c139979-533c-4f6a-9744-9168c96eb2d1",
   "metadata": {},
   "source": [
    "### Creating mask of longitudes for regional analyses"
   ]
  },
  {
   "cell_type": "markdown",
   "id": "a3935266-65fa-46d2-b6e0-a6077bafb2c6",
   "metadata": {
    "jp-MarkdownHeadingCollapsed": true
   },
   "source": [
    "#### 1st attempt: find points along both 1500m and CF contours and create line to connect them"
   ]
  },
  {
   "cell_type": "markdown",
   "id": "f427f123-a9fc-4374-8f14-260b7e8a785b",
   "metadata": {},
   "source": [
    "this failed when my 1500/CF points at the same longitude -179.8 fell too distant in the grid, not sure exactly what went wrong, but I figured the 2nd method may be more promissor:"
   ]
  },
  {
   "cell_type": "code",
   "execution_count": null,
   "id": "fd9a75a4-2ffc-4745-b9d9-22b846664ad2",
   "metadata": {},
   "outputs": [],
   "source": [
    "\n",
    "\n",
    "# ind_1500 = np.where((lon_along_10km<=-179.75) & (lon_along_10km>=-180))\n",
    "# ind_CF = np.where((lon_along_10km_CF<=-179.75) & (lon_along_10km_CF>=-180))\n",
    "\n",
    "# repeat for every 3deg:\n",
    "ind_1500 = np.empty(len(np.arange(-180,179.55,3)))\n",
    "ind_CF = np.empty(len(np.arange(-180,179.55,3)))\n",
    "\n",
    "count=0\n",
    "for llongi in np.arange(-180,179.55,3):\n",
    "    # print(count, llongi)\n",
    "\n",
    "    ind_1500[count] = np.where((lon_along_10km<=(llongi+.55)) & (lon_along_10km>=llongi))[0][0]\n",
    "    ind_CF[count] = np.where((lon_along_10km_CF<=(llongi+.55)) & (lon_along_10km_CF>=llongi))[0][0]\n",
    "    count=count+1\n",
    "    "
   ]
  },
  {
   "cell_type": "code",
   "execution_count": null,
   "id": "787109e4-2a88-461c-a3a4-aeac87ae4b49",
   "metadata": {},
   "outputs": [],
   "source": [
    "fig, ax = plt.subplots(figsize = (10, 6))\n",
    "\n",
    "plt.plot(lon_along_10km, lat_along_10km,',')\n",
    "plt.plot(lon_along_10km_CF, lat_along_10km_CF,',')\n",
    "\n",
    "# plt.plot(lon_along_10km.isel(contour_index_array=ind_1500[0][0]), lat_along_10km.isel(contour_index_array=ind_1500[0][0]),'or')\n",
    "# plt.plot(lon_along_10km_CF.isel(contour_index_array=ind_CF[0][0]), lat_along_10km_CF.isel(contour_index_array=ind_CF[0][0]),'oy')\n",
    "\n",
    "for ii in np.arange(1,len(ind_1500)):\n",
    "    plt.plot(lon_along_10km.isel(contour_index_array=int(ind_1500[ii])), lat_along_10km.isel(contour_index_array=int(ind_1500[ii])),'or')\n",
    "for jj in np.arange(1,len(ind_CF)):\n",
    "    plt.plot(lon_along_10km_CF.isel(contour_index_array=int(ind_CF[jj])), lat_along_10km_CF.isel(contour_index_array=int(ind_CF[jj])),'oy')\n",
    "\n",
    "ii=0\n",
    "plt.plot(lon_along_10km.isel(contour_index_array=int(ind_1500[ii])), lat_along_10km.isel(contour_index_array=int(ind_1500[ii])),'xr')\n",
    "jj=0\n",
    "plt.plot(lon_along_10km_CF.isel(contour_index_array=int(ind_CF[jj])), lat_along_10km_CF.isel(contour_index_array=int(ind_CF[jj])),'xy')\n",
    "\n",
    "# plt.xlim(-190,-60)"
   ]
  },
  {
   "cell_type": "code",
   "execution_count": null,
   "id": "6409b29b-0b5c-4176-853a-504935f9c9d4",
   "metadata": {},
   "outputs": [],
   "source": [
    "print(lon_along_10km.isel(contour_index_array=int(ind_1500[0])).values,\n",
    "      lat_along_10km.isel(contour_index_array=int(ind_1500[0])).values)"
   ]
  },
  {
   "cell_type": "code",
   "execution_count": null,
   "id": "afdb768d-10e0-4869-bd10-5ccca55bff28",
   "metadata": {},
   "outputs": [],
   "source": [
    "print(lon_along_10km_CF.isel(contour_index_array=int(ind_CF[0])).values,\n",
    "      lat_along_10km_CF.isel(contour_index_array=int(ind_CF[0])).values)"
   ]
  },
  {
   "cell_type": "code",
   "execution_count": null,
   "id": "243085c5-81bb-4af2-8810-aaba6f21f787",
   "metadata": {},
   "outputs": [],
   "source": [
    "# now obtain the indexes in the original grid:"
   ]
  },
  {
   "cell_type": "code",
   "execution_count": null,
   "id": "d5180853-02d8-4993-8a59-fa87344c86d4",
   "metadata": {},
   "outputs": [],
   "source": [
    "files_path"
   ]
  },
  {
   "cell_type": "code",
   "execution_count": null,
   "id": "ba8aed91-f45f-4120-81de-638ee1159fe8",
   "metadata": {},
   "outputs": [],
   "source": [
    "contour_masked_above = np.load(files_path + 'WAOM10_contour_masked_above_1500m_v3', allow_pickle=True)\n",
    "contour_masked_above_CF = np.load(files_path + 'WAOM10_contour_masked_above_CF_v3', allow_pickle=True)\n"
   ]
  },
  {
   "cell_type": "code",
   "execution_count": null,
   "id": "c34c9d62-ed51-430a-a48d-fc4555fc55eb",
   "metadata": {},
   "outputs": [],
   "source": [
    "ind_yx = np.where(contour_masked_above==int(ind_1500[0]))\n",
    "ind_yx_CF = np.where(contour_masked_above_CF==int(ind_CF[0]))\n"
   ]
  },
  {
   "cell_type": "code",
   "execution_count": null,
   "id": "9f74d41d-a2bc-4bd6-9997-a25391b17ef9",
   "metadata": {},
   "outputs": [],
   "source": [
    "plt.pcolormesh(contour_masked_above, vmin=0, vmax=200)\n",
    "plt.colorbar()\n",
    "plt.plot(ind_yx_CF[1], ind_yx_CF[0],'xy')\n",
    "plt.plot(ind_yx[1], ind_yx[0],'xr')\n",
    "\n",
    "# plt.plot(300, 100,'xy')\n",
    "# plt.xlim(200,400)\n",
    "# plt.ylim(0,200)"
   ]
  },
  {
   "cell_type": "markdown",
   "id": "13884085-fbcb-4362-ab59-520686e6eb96",
   "metadata": {},
   "source": [
    "#### 2nd attempt: create masks for masking out:\n",
    "1. open ocean -> leaves continental shelf + cavity\n",
    "2. ice shelf cavities -> 1x2 leaves only cont. shelf\n",
    "3. per longitude, every 3deg (needs to re-considerer for east Ant. Penins.)"
   ]
  },
  {
   "cell_type": "code",
   "execution_count": null,
   "id": "5849f4c2-00aa-4031-9264-422b04edb188",
   "metadata": {},
   "outputs": [],
   "source": [
    "files_path = '/g/data/hh5/tmp/access-om/fbd581/ROMS/postprocessing/cross_contour_tmp/'\n",
    "contour_masked_above = np.load(files_path + 'WAOM10_contour_masked_above_1500m_v3', allow_pickle=True)\n",
    "contour_masked_above_CF = np.load(files_path + 'WAOM10_contour_masked_above_CF_v3', allow_pickle=True)\n",
    "\n",
    "mask_shelf = ma.masked_where(contour_masked_above==-1000, np.ones(h.shape))\n",
    "mask_iceshelf = ma.masked_where(contour_masked_above_CF!=-1000, np.ones(h.shape))\n",
    "mask_outiceshelf = ma.masked_where(contour_masked_above_CF==-1000, np.ones(h.shape))\n",
    "\n",
    "mask_land = ma.masked_where(h<=40, np.ones(h.shape))\n"
   ]
  },
  {
   "cell_type": "code",
   "execution_count": null,
   "id": "340bf4a5-21b5-4e82-9325-31004ccfbedc",
   "metadata": {},
   "outputs": [],
   "source": [
    "# # proj = ccrs.PlateCarree(central_longitude=-24)\n",
    "# proj = ccrs.SouthPolarStereo()\n",
    "# fig = plt.figure(figsize=(12,5))\n",
    "\n",
    "# # Original WAOM10\n",
    "# ax1 = fig.add_subplot(111, projection=proj)\n",
    "\n",
    "# plt.pcolormesh(lon_rho, lat_rho, h*mask_zice, transform=ccrs.PlateCarree(), vmin=0, vmax=40)\n",
    "# plt.colorbar()"
   ]
  },
  {
   "cell_type": "code",
   "execution_count": null,
   "id": "dce8eda9-bfc6-4bf5-801b-6c81bed1c4bf",
   "metadata": {},
   "outputs": [],
   "source": [
    "# attempt to create mask by longitude intervals: (this was the test before doing it for all bins)\n",
    "# mask_test = ma.masked_where((lon_rho > -180) & (lon_rho <= -177), np.ones(h.shape))\n",
    "# mask_test1 = ma.masked_where((lon_rho >= -177), np.ones(h.shape))\n",
    "# mask_test12 = ma.masked_where((lon_rho < -177), np.ones(h.shape))\n",
    "# mask_test2 = ma.masked_where((lon_rho >= -174), np.ones(h.shape))\n"
   ]
  },
  {
   "cell_type": "code",
   "execution_count": null,
   "id": "7a0a5ad3-ffc8-4600-924d-858b57b4b9ff",
   "metadata": {},
   "outputs": [],
   "source": [
    "# cell below mask the grid dividing by longitudinal bins;\n",
    "# 1st condition masks out all long_bins larger/equal than the eastern boundary of each long_bin;\n",
    "# 2nd condition masks out all long_bins smaller than the eastern boundary of each long_bin;\n",
    "#\n",
    "# The first and last bins are just the 1st and 2nd condition alone, respectively.\n",
    "# all the other bins are 1st x 2nd conditions, so it only leaves a slice for each respective long_bin.\n",
    "\n",
    "lon_bin_limits = np.arange(-177,180,3)\n",
    "\n",
    "conditions_bin = []\n",
    "conditions_lastbin = []\n",
    "\n",
    "for ii in range(0,len(lon_bin_limits)):\n",
    "    # print(ii)\n",
    "    # Define your conditions\n",
    "    conditions1 = (lon_rho >= lon_bin_limits[ii])\n",
    "    conditions2 = (lon_rho < lon_bin_limits[ii])\n",
    "\n",
    "    if ii==0:\n",
    "        conditions_bin = conditions1\n",
    "        conditions_lastbin = conditions2\n",
    "        del conditions1, conditions2\n",
    "    elif ii==1: \n",
    "        conditions_bin = np.stack((conditions_bin,conditions1),axis=0)\n",
    "        conditions_lastbin = np.stack((conditions_lastbin,conditions2),axis=0)\n",
    "        del conditions1, conditions2\n",
    "    else:\n",
    "        conditions1new = np.expand_dims(conditions1, axis=0)\n",
    "        conditions_bin = np.concatenate((conditions_bin,conditions1new),axis=0)\n",
    "        conditions2new = np.expand_dims(conditions2, axis=0)\n",
    "        conditions_lastbin = np.concatenate((conditions_lastbin,conditions2new),axis=0)\n",
    "        del conditions1, conditions1new\n",
    "        del conditions2, conditions2new\n",
    "\n",
    "# Initialize an empty list to store the masked arrays\n",
    "masked_AllOtherBins = []\n",
    "masked_PreviousBins = []\n",
    "\n",
    "# Apply each condition to the array and store the result\n",
    "for condition in conditions_bin:\n",
    "    masked_AllOtherBin = np.ma.masked_where(condition, np.ones(h.shape))\n",
    "    masked_AllOtherBins.append(masked_AllOtherBin)\n",
    "for condition in conditions_lastbin:\n",
    "    masked_PreviousBin = np.ma.masked_where(condition, np.ones(h.shape))\n",
    "    masked_PreviousBins.append(masked_PreviousBin)\n",
    "\n",
    "# Concatenate the masked arrays along a new axis to create a 3D array: (this part didn't work, the mask1/mask12 is all one everywhere)\n",
    "# mask1 = np.stack(masked_AllOtherBins, axis=0)\n",
    "# mask12 = np.stack(masked_PreviousBins, axis=0)\n"
   ]
  },
  {
   "cell_type": "code",
   "execution_count": null,
   "id": "72aeb734-9e08-402c-a9b7-33a2d9d85eb1",
   "metadata": {},
   "outputs": [],
   "source": [
    "# masked_AllOtherBins[0].shape\n",
    "np.nanmean(mask_zice,axis=0).shape\n",
    "\n"
   ]
  },
  {
   "cell_type": "code",
   "execution_count": null,
   "id": "6d59b6f1-0f7d-45ba-a02d-cc018c532057",
   "metadata": {},
   "outputs": [],
   "source": [
    "plt.pcolormesh(mask_zice[0,:,:])\n",
    "plt.colorbar()"
   ]
  },
  {
   "cell_type": "code",
   "execution_count": null,
   "id": "a7b0d5e6-75b3-43b2-a47e-445abb14135f",
   "metadata": {},
   "outputs": [],
   "source": [
    "plt.pcolormesh(mask_iceshelf)\n",
    "plt.colorbar()"
   ]
  },
  {
   "cell_type": "code",
   "execution_count": null,
   "id": "83984fb0-7167-4891-a14a-c76ef7c5105c",
   "metadata": {},
   "outputs": [],
   "source": [
    "\n",
    "for xx in range(0,119):\n",
    "    ini=xx\n",
    "    end=ini-1\n",
    "    plt.pcolormesh(masked_AllOtherBins[0]*mask_land*np.nanmean(mask_zice,axis=0)*mask_shelf*np.ones(h.shape)*xx, vmin=0, vmax=120, cmap='tab20')\n",
    "    plt.pcolormesh(masked_AllOtherBins[ini]*masked_PreviousBins[end]*mask_land*np.nanmean(mask_zice,axis=0)*mask_shelf*np.ones(h.shape)*xx, vmin=0, vmax=120, cmap='tab20')\n",
    "    plt.pcolormesh(masked_PreviousBins[-1]*mask_land*np.nanmean(mask_zice,axis=0)*mask_shelf*np.ones(h.shape)*xx, vmin=0, vmax=120, cmap='tab20')\n",
    "\n",
    "plt.colorbar()"
   ]
  },
  {
   "cell_type": "code",
   "execution_count": null,
   "id": "b5725d2a-c45a-4365-98b5-a0c8a96b7a53",
   "metadata": {},
   "outputs": [],
   "source": [
    "for xx in range(39,45):\n",
    "    ini=xx\n",
    "    end=ini-1\n",
    "    plt.pcolormesh(masked_AllOtherBins[0]*mask_land*np.nanmean(mask_zice,axis=0)*mask_shelf*np.ones(h.shape)*xx, vmin=30, vmax=50, cmap='tab20')\n",
    "    plt.pcolormesh(masked_AllOtherBins[ini]*masked_PreviousBins[end]*mask_land*np.nanmean(mask_zice,axis=0)*mask_shelf*np.ones(h.shape)*xx, vmin=38, vmax=44, cmap='tab20')\n",
    "    plt.pcolormesh(masked_PreviousBins[-1]*mask_land*np.nanmean(mask_zice,axis=0)*mask_shelf*np.ones(h.shape)*xx, vmin=30, vmax=50, cmap='tab20')\n",
    "\n",
    "plt.colorbar()\n",
    "plt.ylim(300,560)\n",
    "plt.xlim(0,200)"
   ]
  },
  {
   "cell_type": "code",
   "execution_count": 29,
   "id": "b7a29937-e474-49d4-8b43-48f2271362b3",
   "metadata": {},
   "outputs": [
    {
     "data": {
      "text/plain": [
       "(560, 630)"
      ]
     },
     "execution_count": 29,
     "metadata": {},
     "output_type": "execute_result"
    }
   ],
   "source": [
    "\n",
    "masked_AllOtherBins[0].shape"
   ]
  },
  {
   "cell_type": "code",
   "execution_count": 25,
   "id": "3b45e043-7c45-45aa-bbf4-39eeadd38399",
   "metadata": {},
   "outputs": [
    {
     "data": {
      "image/png": "[encoded data removed]",
      "text/plain": [
       "<Figure size 640x480 with 1 Axes>"
      ]
     },
     "metadata": {},
     "output_type": "display_data"
    }
   ],
   "source": [
    "for xx in range(38,42):\n",
    "    ini=xx\n",
    "    end=ini-1\n",
    "    plt.pcolormesh(masked_AllOtherBins[ini]*masked_PreviousBins[end]*mask_land*np.nanmean(mask_zice,axis=0)*mask_shelf*np.ones(h.shape)*xx, vmin=38, vmax=44, cmap='tab20')\n"
   ]
  },
  {
   "cell_type": "markdown",
   "id": "383d626a-b0eb-4fbb-8f37-7ce14d0098d4",
   "metadata": {},
   "source": [
    "For the Antarctic Penin., we need to manually edit thebn"
   ]
  },
  {
   "cell_type": "code",
   "execution_count": 23,
   "id": "298daa52-219e-4b74-a9dd-c1bda1c00f39",
   "metadata": {},
   "outputs": [],
   "source": [
    "masked_lonBins = []\n",
    "\n",
    "# 1st bin:\n",
    "masked_lonBins.append(masked_AllOtherBins[0])\n",
    "\n",
    "# 2nd to 2nd-last bins:\n",
    "for xx in range(1,119):\n",
    "    ini=xx\n",
    "    end=ini-1\n",
    "    masked_lonBins.append(masked_AllOtherBins[ini]*masked_PreviousBins[end])\n",
    "    \n",
    "# last bin:\n",
    "masked_lonBins.append(masked_PreviousBins[-1])"
   ]
  },
  {
   "cell_type": "code",
   "execution_count": 32,
   "id": "9b182e15-faec-4081-8881-d1c0c35a9463",
   "metadata": {},
   "outputs": [],
   "source": [
    "# convert to xarray:\n",
    "len(masked_lonBins)\n",
    "\n",
    "# Convert the list of masked arrays to a 3D numpy array\n",
    "data = np.stack([ma.filled(np.nan) for ma in masked_lonBins])\n",
    "\n",
    "# Create a mask array (also 3D)\n",
    "mask = np.stack([ma.mask for ma in masked_lonBins])\n",
    "\n",
    "# Combine the data and mask arrays into a single DataArray\n",
    "# da = xr.DataArray(data, dims=[\"time\", \"y\", \"x\"])\n",
    "da = xr.DataArray(data, dims=[\"lon_bin\", \"eta_rho\", \"xi_rho\"])\n",
    "da = da.where(~mask)\n",
    "\n",
    "# da.to_netcdf(files_path + 'WAOM10_masked_lonBins.nc', mode='w', format=\"NETCDF4\")"
   ]
  },
  {
   "cell_type": "code",
   "execution_count": 34,
   "id": "a16dd82a-269f-47c0-82b9-bc8813a061f2",
   "metadata": {},
   "outputs": [],
   "source": [
    "# plt.pcolormesh(da[5,:]*mask_shelf*mask_zice*mask_land)\n",
    "# plt.colorbar()"
   ]
  },
  {
   "cell_type": "markdown",
   "id": "24106c3b-be00-4ce7-865c-457677fb44eb",
   "metadata": {
    "jp-MarkdownHeadingCollapsed": true
   },
   "source": [
    "#### old stuffs below:"
   ]
  },
  {
   "cell_type": "code",
   "execution_count": 210,
   "id": "8ef7ba46-496e-4418-b60e-1f85f1de1f75",
   "metadata": {},
   "outputs": [
    {
     "data": {
      "text/plain": [
       "[<matplotlib.lines.Line2D at 0x14ecea4e0af0>]"
      ]
     },
     "execution_count": 210,
     "metadata": {},
     "output_type": "execute_result"
    },
    {
     "data": {
      "image/png": "[encoded data removed]",
      "text/plain": [
       "<Figure size 640x480 with 1 Axes>"
      ]
     },
     "metadata": {},
     "output_type": "display_data"
    }
   ],
   "source": [
    "plt.pcolormesh(lon_rho, lat_rho,h)\n",
    "plt.plot(lon_along_10km, lat_along_10km,',')\n",
    "plt.plot(lon_along_10km_CF, lat_along_10km_CF,',')\n",
    "plt.plot(lon_along_10km.isel(contour_index_array=int(ind_1500[0])), lat_along_10km.isel(contour_index_array=int(ind_1500[0])),'.r')\n",
    "plt.plot(lon_along_10km_CF.isel(contour_index_array=int(ind_CF[0])), lat_along_10km_CF.isel(contour_index_array=int(ind_CF[0])),'.y')\n",
    "\n",
    "plt.plot(lon_rho[300,298],lat_rho[300,298],'xr')\n"
   ]
  },
  {
   "cell_type": "code",
   "execution_count": 213,
   "id": "1d5145f9-0fea-496e-b32d-4c076a80067a",
   "metadata": {},
   "outputs": [],
   "source": [
    "xcon_np=np.loadtxt(\"/g/data/hh5/tmp/access-om/fbd581/ROMS/postprocessing/figs/Contour_isobath/WAOM10_1500m_x_contour.csv\")\n",
    "x_contour = xcon_np.tolist()\n",
    "ycon_np=np.loadtxt(\"/g/data/hh5/tmp/access-om/fbd581/ROMS/postprocessing/figs/Contour_isobath/WAOM10_1500m_y_contour.csv\")\n",
    "y_contour = ycon_np.tolist()"
   ]
  },
  {
   "cell_type": "code",
   "execution_count": 212,
   "id": "2454eef8-824b-4e5e-8e1a-2019e0907020",
   "metadata": {},
   "outputs": [],
   "source": [
    "xcon_np_CF=np.loadtxt(\"/g/data/hh5/tmp/access-om/fbd581/ROMS/postprocessing/figs/Contour_isobath/WAOM10_CF_x_contour.csv\")\n",
    "x_contour_CF = xcon_np_CF.tolist()\n",
    "ycon_np_CF=np.loadtxt(\"/g/data/hh5/tmp/access-om/fbd581/ROMS/postprocessing/figs/Contour_isobath/WAOM10_CF_y_contour.csv\")\n",
    "y_contour_CF = ycon_np_CF.tolist()"
   ]
  },
  {
   "cell_type": "code",
   "execution_count": 214,
   "id": "2cfc32d4-76ff-4f28-8e67-a66de0e372ed",
   "metadata": {},
   "outputs": [],
   "source": [
    "# Difference between two neighbouring indices\n",
    "diff_x_contour = np.diff(x_contour)\n",
    "diff_y_contour = np.diff(y_contour)\n",
    "\n",
    "# Get a list with the indices of duplicates\n",
    "diff_ind = []\n",
    "for ii in range(len(diff_x_contour)):\n",
    "    if (diff_x_contour[ii]==0) and (diff_y_contour[ii]==0):\n",
    "        diff_ind.append(ii)\n",
    "# print(diff_ind)\n",
    "# Now remove the indices (start from the end so the indices don't shift)\n",
    "for ii in range(len(diff_ind)):\n",
    "    index = diff_ind[::-1][ii]\n",
    "    del x_contour[index]\n",
    "    del y_contour[index]\n",
    "\n",
    "h_contour = np.zeros(len(x_contour))\n",
    "\n",
    "for ii in range(len(h_contour)):\n",
    "    h_contour[ii] = h[int(y_contour[ii]), int(x_contour[ii])]"
   ]
  },
  {
   "cell_type": "code",
   "execution_count": null,
   "id": "200c2d94-3e90-41fd-b6e6-791c1065adf6",
   "metadata": {},
   "outputs": [],
   "source": []
  },
  {
   "cell_type": "code",
   "execution_count": null,
   "id": "6c795c3a-2add-49b8-b9cb-64d7d48400c5",
   "metadata": {},
   "outputs": [],
   "source": []
  },
  {
   "cell_type": "code",
   "execution_count": null,
   "id": "287c0338-87b1-4ee3-8bb6-265412b7e818",
   "metadata": {},
   "outputs": [],
   "source": []
  }
 ],
 "metadata": {
  "kernelspec": {
   "display_name": "Python [conda env:analysis3-24.01]",
   "language": "python",
   "name": "conda-env-analysis3-24.01-py"
  },
  "language_info": {
   "codemirror_mode": {
    "name": "ipython",
    "version": 3
   },
   "file_extension": ".py",
   "mimetype": "text/x-python",
   "name": "python",
   "nbconvert_exporter": "python",
   "pygments_lexer": "ipython3",
   "version": "3.10.13"
  }
 },
 "nbformat": 4,
 "nbformat_minor": 5
}
