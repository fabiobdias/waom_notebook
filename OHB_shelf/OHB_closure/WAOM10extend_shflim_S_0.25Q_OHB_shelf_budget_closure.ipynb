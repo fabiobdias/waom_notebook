{
 "cells": [
  {
   "cell_type": "code",
   "execution_count": 1,
   "id": "188f3824-2793-448b-b133-af3d614c713e",
   "metadata": {},
   "outputs": [],
   "source": [
    "# Ocean Heat Budget Analyses in the Antarctica continental shelf (WAOM)\n",
    "\n",
    "# Fabio B Dias - 3 May 2023\n",
    "# Description:\n",
    "#     this script compares methods of calculate the OHC and surface heat flux integrated over the continental shelf\n",
    "#     - update to xarray open_mfdataset from open_dataset brought new functions more efficient to calculate model layer thickness (dz)\n",
    "# and ocean heat content tendencies (rho0*Cp*dT/dt). \n",
    "\n",
    "# - update 23/8/23: re-ran waom10 saving daily outputs in 5-days files.\n",
    "# I suspect that the monthly files with unequal number of time-fields \n",
    "# causes differences in the dt for his and avg files, reflected in the \n",
    "# residue for the Antarctic shelf seas heat budget."
   ]
  },
  {
   "cell_type": "code",
   "execution_count": 2,
   "id": "141dfb15-980c-44bb-b94c-6ee060a9f952",
   "metadata": {
    "tags": []
   },
   "outputs": [
    {
     "ename": "KeyboardInterrupt",
     "evalue": "",
     "output_type": "error",
     "traceback": [
      "\u001b[0;31m---------------------------------------------------------------------------\u001b[0m",
      "\u001b[0;31mKeyboardInterrupt\u001b[0m                         Traceback (most recent call last)",
      "Cell \u001b[0;32mIn[2], line 7\u001b[0m\n\u001b[1;32m      5\u001b[0m \u001b[38;5;28;01mimport\u001b[39;00m \u001b[38;5;21;01mnumpy\u001b[39;00m \u001b[38;5;28;01mas\u001b[39;00m \u001b[38;5;21;01mnp\u001b[39;00m\n\u001b[1;32m      6\u001b[0m \u001b[38;5;28;01mimport\u001b[39;00m \u001b[38;5;21;01mnumpy\u001b[39;00m\u001b[38;5;21;01m.\u001b[39;00m\u001b[38;5;21;01mma\u001b[39;00m \u001b[38;5;28;01mas\u001b[39;00m \u001b[38;5;21;01mma\u001b[39;00m\n\u001b[0;32m----> 7\u001b[0m \u001b[38;5;28;01mimport\u001b[39;00m \u001b[38;5;21;01mcartopy\u001b[39;00m\u001b[38;5;21;01m.\u001b[39;00m\u001b[38;5;21;01mcrs\u001b[39;00m \u001b[38;5;28;01mas\u001b[39;00m \u001b[38;5;21;01mccrs\u001b[39;00m\n\u001b[1;32m      8\u001b[0m \u001b[38;5;28;01mimport\u001b[39;00m \u001b[38;5;21;01mmatplotlib\u001b[39;00m \u001b[38;5;28;01mas\u001b[39;00m \u001b[38;5;21;01mmpl\u001b[39;00m\n\u001b[1;32m      9\u001b[0m \u001b[38;5;66;03m# mpl.use('Agg')\u001b[39;00m\n",
      "File \u001b[0;32m/g/data/hh5/public/apps/miniconda3/envs/analysis3-24.01/lib/python3.10/site-packages/cartopy/__init__.py:106\u001b[0m\n\u001b[1;32m    102\u001b[0m     \u001b[38;5;28;01mpass\u001b[39;00m\n\u001b[1;32m    104\u001b[0m \u001b[38;5;66;03m# Commonly used sub-modules. Imported here to provide end-user\u001b[39;00m\n\u001b[1;32m    105\u001b[0m \u001b[38;5;66;03m# convenience.\u001b[39;00m\n\u001b[0;32m--> 106\u001b[0m \u001b[38;5;28;01mimport\u001b[39;00m \u001b[38;5;21;01mcartopy\u001b[39;00m\u001b[38;5;21;01m.\u001b[39;00m\u001b[38;5;21;01mcrs\u001b[39;00m  \u001b[38;5;66;03m# noqa: E402  module-level imports\u001b[39;00m\n\u001b[1;32m    107\u001b[0m \u001b[38;5;28;01mimport\u001b[39;00m \u001b[38;5;21;01mcartopy\u001b[39;00m\u001b[38;5;21;01m.\u001b[39;00m\u001b[38;5;21;01mfeature\u001b[39;00m  \u001b[38;5;66;03m# noqa: E402,F401  (unused import)\u001b[39;00m\n",
      "File \u001b[0;32m/g/data/hh5/public/apps/miniconda3/envs/analysis3-24.01/lib/python3.10/site-packages/cartopy/crs.py:21\u001b[0m\n\u001b[1;32m     18\u001b[0m \u001b[38;5;28;01mimport\u001b[39;00m \u001b[38;5;21;01mwarnings\u001b[39;00m\n\u001b[1;32m     20\u001b[0m \u001b[38;5;28;01mimport\u001b[39;00m \u001b[38;5;21;01mnumpy\u001b[39;00m \u001b[38;5;28;01mas\u001b[39;00m \u001b[38;5;21;01mnp\u001b[39;00m\n\u001b[0;32m---> 21\u001b[0m \u001b[38;5;28;01mfrom\u001b[39;00m \u001b[38;5;21;01mpyproj\u001b[39;00m \u001b[38;5;28;01mimport\u001b[39;00m Transformer\n\u001b[1;32m     22\u001b[0m \u001b[38;5;28;01mfrom\u001b[39;00m \u001b[38;5;21;01mpyproj\u001b[39;00m\u001b[38;5;21;01m.\u001b[39;00m\u001b[38;5;21;01mexceptions\u001b[39;00m \u001b[38;5;28;01mimport\u001b[39;00m ProjError\n\u001b[1;32m     23\u001b[0m \u001b[38;5;28;01mimport\u001b[39;00m \u001b[38;5;21;01mshapely\u001b[39;00m\u001b[38;5;21;01m.\u001b[39;00m\u001b[38;5;21;01mgeometry\u001b[39;00m \u001b[38;5;28;01mas\u001b[39;00m \u001b[38;5;21;01msgeom\u001b[39;00m\n",
      "File \u001b[0;32m/g/data/hh5/public/apps/miniconda3/envs/analysis3-24.01/lib/python3.10/site-packages/pyproj/__init__.py:61\u001b[0m\n\u001b[1;32m     51\u001b[0m \u001b[38;5;28;01mfrom\u001b[39;00m \u001b[38;5;21;01mpyproj\u001b[39;00m\u001b[38;5;21;01m.\u001b[39;00m\u001b[38;5;21;01mgeod\u001b[39;00m \u001b[38;5;28;01mimport\u001b[39;00m (  \u001b[38;5;66;03m# noqa: F401 pylint: disable=unused-import\u001b[39;00m\n\u001b[1;32m     52\u001b[0m     Geod,\n\u001b[1;32m     53\u001b[0m     geodesic_version_str,\n\u001b[1;32m     54\u001b[0m     pj_ellps,\n\u001b[1;32m     55\u001b[0m )\n\u001b[1;32m     56\u001b[0m \u001b[38;5;28;01mfrom\u001b[39;00m \u001b[38;5;21;01mpyproj\u001b[39;00m\u001b[38;5;21;01m.\u001b[39;00m\u001b[38;5;21;01mlist\u001b[39;00m \u001b[38;5;28;01mimport\u001b[39;00m (  \u001b[38;5;66;03m# noqa: F401 pylint: disable=unused-import\u001b[39;00m\n\u001b[1;32m     57\u001b[0m     get_ellps_map,\n\u001b[1;32m     58\u001b[0m     get_prime_meridians_map,\n\u001b[1;32m     59\u001b[0m     get_proj_operations_map,\n\u001b[1;32m     60\u001b[0m )\n\u001b[0;32m---> 61\u001b[0m \u001b[38;5;28;01mfrom\u001b[39;00m \u001b[38;5;21;01mpyproj\u001b[39;00m\u001b[38;5;21;01m.\u001b[39;00m\u001b[38;5;21;01mproj\u001b[39;00m \u001b[38;5;28;01mimport\u001b[39;00m Proj, pj_list  \u001b[38;5;66;03m# noqa: F401 pylint: disable=unused-import\u001b[39;00m\n\u001b[1;32m     62\u001b[0m \u001b[38;5;28;01mfrom\u001b[39;00m \u001b[38;5;21;01mpyproj\u001b[39;00m\u001b[38;5;21;01m.\u001b[39;00m\u001b[38;5;21;01mtransformer\u001b[39;00m \u001b[38;5;28;01mimport\u001b[39;00m (  \u001b[38;5;66;03m# noqa: F401 pylint: disable=unused-import\u001b[39;00m\n\u001b[1;32m     63\u001b[0m     Transformer,\n\u001b[1;32m     64\u001b[0m     itransform,\n\u001b[1;32m     65\u001b[0m     proj_version_str,\n\u001b[1;32m     66\u001b[0m     transform,\n\u001b[1;32m     67\u001b[0m )\n\u001b[1;32m     69\u001b[0m __version__ \u001b[38;5;241m=\u001b[39m \u001b[38;5;124m\"\u001b[39m\u001b[38;5;124m3.5.0\u001b[39m\u001b[38;5;124m\"\u001b[39m\n",
      "File \u001b[0;32m/g/data/hh5/public/apps/miniconda3/envs/analysis3-24.01/lib/python3.10/site-packages/pyproj/proj.py:22\u001b[0m\n\u001b[1;32m     19\u001b[0m \u001b[38;5;28;01mfrom\u001b[39;00m \u001b[38;5;21;01mtyping\u001b[39;00m \u001b[38;5;28;01mimport\u001b[39;00m Any, Optional, Tuple, Type\n\u001b[1;32m     21\u001b[0m \u001b[38;5;28;01mfrom\u001b[39;00m \u001b[38;5;21;01mpyproj\u001b[39;00m\u001b[38;5;21;01m.\u001b[39;00m\u001b[38;5;21;01m_compat\u001b[39;00m \u001b[38;5;28;01mimport\u001b[39;00m cstrencode\n\u001b[0;32m---> 22\u001b[0m \u001b[38;5;28;01mfrom\u001b[39;00m \u001b[38;5;21;01mpyproj\u001b[39;00m\u001b[38;5;21;01m.\u001b[39;00m\u001b[38;5;21;01m_transformer\u001b[39;00m \u001b[38;5;28;01mimport\u001b[39;00m Factors\n\u001b[1;32m     23\u001b[0m \u001b[38;5;28;01mfrom\u001b[39;00m \u001b[38;5;21;01mpyproj\u001b[39;00m\u001b[38;5;21;01m.\u001b[39;00m\u001b[38;5;21;01mcrs\u001b[39;00m \u001b[38;5;28;01mimport\u001b[39;00m CRS\n\u001b[1;32m     24\u001b[0m \u001b[38;5;28;01mfrom\u001b[39;00m \u001b[38;5;21;01mpyproj\u001b[39;00m\u001b[38;5;21;01m.\u001b[39;00m\u001b[38;5;21;01menums\u001b[39;00m \u001b[38;5;28;01mimport\u001b[39;00m TransformDirection\n",
      "File \u001b[0;32mpyproj/_transformer.pyx:52\u001b[0m, in \u001b[0;36minit pyproj._transformer\u001b[0;34m()\u001b[0m\n",
      "File \u001b[0;32m/g/data/hh5/public/apps/miniconda3/envs/analysis3-24.01/lib/python3.10/collections/__init__.py:414\u001b[0m, in \u001b[0;36mnamedtuple\u001b[0;34m(typename, field_names, rename, defaults, module)\u001b[0m\n\u001b[1;32m    408\u001b[0m namespace \u001b[38;5;241m=\u001b[39m {\n\u001b[1;32m    409\u001b[0m     \u001b[38;5;124m'\u001b[39m\u001b[38;5;124m_tuple_new\u001b[39m\u001b[38;5;124m'\u001b[39m: tuple_new,\n\u001b[1;32m    410\u001b[0m     \u001b[38;5;124m'\u001b[39m\u001b[38;5;124m__builtins__\u001b[39m\u001b[38;5;124m'\u001b[39m: {},\n\u001b[1;32m    411\u001b[0m     \u001b[38;5;124m'\u001b[39m\u001b[38;5;124m__name__\u001b[39m\u001b[38;5;124m'\u001b[39m: \u001b[38;5;124mf\u001b[39m\u001b[38;5;124m'\u001b[39m\u001b[38;5;124mnamedtuple_\u001b[39m\u001b[38;5;132;01m{\u001b[39;00mtypename\u001b[38;5;132;01m}\u001b[39;00m\u001b[38;5;124m'\u001b[39m,\n\u001b[1;32m    412\u001b[0m }\n\u001b[1;32m    413\u001b[0m code \u001b[38;5;241m=\u001b[39m \u001b[38;5;124mf\u001b[39m\u001b[38;5;124m'\u001b[39m\u001b[38;5;124mlambda _cls, \u001b[39m\u001b[38;5;132;01m{\u001b[39;00marg_list\u001b[38;5;132;01m}\u001b[39;00m\u001b[38;5;124m: _tuple_new(_cls, (\u001b[39m\u001b[38;5;132;01m{\u001b[39;00marg_list\u001b[38;5;132;01m}\u001b[39;00m\u001b[38;5;124m))\u001b[39m\u001b[38;5;124m'\u001b[39m\n\u001b[0;32m--> 414\u001b[0m \u001b[38;5;21m__new__\u001b[39m \u001b[38;5;241m=\u001b[39m \u001b[38;5;28;43meval\u001b[39;49m\u001b[43m(\u001b[49m\u001b[43mcode\u001b[49m\u001b[43m,\u001b[49m\u001b[43m \u001b[49m\u001b[43mnamespace\u001b[49m\u001b[43m)\u001b[49m\n\u001b[1;32m    415\u001b[0m \u001b[38;5;21m__new__\u001b[39m\u001b[38;5;241m.\u001b[39m\u001b[38;5;18m__name__\u001b[39m \u001b[38;5;241m=\u001b[39m \u001b[38;5;124m'\u001b[39m\u001b[38;5;124m__new__\u001b[39m\u001b[38;5;124m'\u001b[39m\n\u001b[1;32m    416\u001b[0m \u001b[38;5;21m__new__\u001b[39m\u001b[38;5;241m.\u001b[39m\u001b[38;5;18m__doc__\u001b[39m \u001b[38;5;241m=\u001b[39m \u001b[38;5;124mf\u001b[39m\u001b[38;5;124m'\u001b[39m\u001b[38;5;124mCreate new instance of \u001b[39m\u001b[38;5;132;01m{\u001b[39;00mtypename\u001b[38;5;132;01m}\u001b[39;00m\u001b[38;5;124m(\u001b[39m\u001b[38;5;132;01m{\u001b[39;00marg_list\u001b[38;5;132;01m}\u001b[39;00m\u001b[38;5;124m)\u001b[39m\u001b[38;5;124m'\u001b[39m\n",
      "File \u001b[0;32m<string>:1\u001b[0m\n",
      "\u001b[0;31mKeyboardInterrupt\u001b[0m: "
     ]
    }
   ],
   "source": [
    "# read nc output from WAOM 10km run\n",
    "\n",
    "import xarray as xr\n",
    "# import pandas as p\n",
    "import numpy as np\n",
    "import numpy.ma as ma\n",
    "import cartopy.crs as ccrs\n",
    "import matplotlib as mpl\n",
    "# mpl.use('Agg')\n",
    "import matplotlib.pyplot as plt\n",
    "import matplotlib.dates as dates\n",
    "from matplotlib.ticker import NullFormatter\n",
    "from matplotlib.colors import LinearSegmentedColormap   # for custom colormaps\n",
    "\n",
    "from datetime import datetime, timedelta\n",
    "\n",
    "from netCDF4 import Dataset\n",
    "from netCDF4 import num2date, date2num\n",
    "from matplotlib.ticker import NullFormatter\n",
    "from matplotlib.colors import LinearSegmentedColormap   # for custom colormaps\n",
    "\n",
    "import gsw\n",
    "\n",
    "import pyresample\n",
    "\n",
    "from dask.distributed import Client\n",
    "import logging\n",
    "import warnings\n",
    "warnings.filterwarnings('ignore')"
   ]
  },
  {
   "cell_type": "code",
   "execution_count": null,
   "id": "08ea21d0-f41a-4645-b631-7eac923ae495",
   "metadata": {},
   "outputs": [],
   "source": [
    "client = Client(threads_per_worker=1, memory_limit=0, silence_logs=logging.ERROR)\n",
    "print(client)"
   ]
  },
  {
   "cell_type": "code",
   "execution_count": null,
   "id": "15e8749f-a891-4458-93be-a72550512d5f",
   "metadata": {
    "tags": []
   },
   "outputs": [],
   "source": [
    "fig_path = '/g/data/hh5/tmp/access-om/fbd581/ROMS/postprocessing/figs/Contour_isobath/'"
   ]
  },
  {
   "cell_type": "code",
   "execution_count": null,
   "id": "7df931b6-73e6-4cea-abd4-f5809ea12dce",
   "metadata": {
    "tags": []
   },
   "outputs": [],
   "source": [
    "%%time\n",
    "\n",
    "# using xr.open_mfdataset\n",
    "\n",
    "vars2drop = [\"ubar\",\"vbar\",\"w\",\"Hsbl\",\"Hbbl\",\"swrad\"]\n",
    "\n",
    "ds = xr.open_mfdataset(paths=\"/g/data/hh5/tmp/access-om/fbd581/ROMS/OUTPUT/waom10extend_shflim_S_0.25Q/output_20yr_diag_daily/ocean_avg_00*.nc\" , chunks={'eta_rho': '200MB'}, parallel=bool, drop_variables=vars2drop, decode_times=False) # , concat_dim=\"ocean_time\"\n",
    "\n",
    "#- preserving 5-days avgs\n",
    "zeta = ds.variables[\"zeta\"] \n",
    "temp = ds.variables[\"temp\"] \n",
    "salt = ds.variables[\"salt\"]\n",
    "shflux = ds.variables[\"shflux\"] \n",
    "ssflux = ds.variables[\"ssflux\"]\n",
    "m = ds.variables[\"m\"]\n",
    "HvomT = ds.variables[\"Hvom_temp\"]       ## !!! Huon_temp/Hvom_temp were not saved in the original run\n",
    "HuonT = ds.variables[\"Huon_temp\"]       ## now it's running here: /scratch/gi0/fbd581/waom4extend_shflim_S_0.25Q/output_yr10_diag\n",
    "Hvom = ds.variables[\"Hvom\"] \n",
    "Huon = ds.variables[\"Huon\"] \n",
    "time_avg = ds.variables[\"ocean_time\"] \n",
    "ice_draft = ds.variables[\"zice\"]\n",
    "\n",
    "mask_zice = ma.masked_where(ice_draft < 0, np.ones(ice_draft.shape))\n",
    "mask_outice = ma.masked_where(ice_draft >= 0, np.ones(ice_draft.shape))\n",
    "\n",
    "print(\"Vtransform=2\")\n",
    "#  New formulation (Vtransform(ng) = 2):\n",
    "#\n",
    "#         z_w(x,y,s,t) = zeta(x,y,t) + [zeta(x,y,t)+ h(x,y)] * Zo_w\n",
    "#                 Zo_w = [hc * s(k) + C(k) * h(x,y)] / [hc + h(x,y)]\n",
    "hwater = ds.h- abs(ds.zice) # replace ds.h for hwater below\n",
    "Zo_rho = (ds.hc * ds.s_rho + ds.Cs_r * hwater) / (ds.hc + hwater)\n",
    "z_rho = ds.zeta + (ds.zeta + hwater) * Zo_rho \n",
    "\n",
    "Zo_w = (ds.hc * ds.s_w + ds.Cs_w * hwater) / (ds.hc + hwater)\n",
    "z_w = ds.zeta + (ds.zeta + hwater) * Zo_w \n",
    "\n",
    "dg = xr.open_dataset(\"/g/data/hh5/tmp/access-om/fbd581/ROMS/waom10_frc/waom10extend_grd.nc\")\n",
    "\n",
    "lat_rho = dg.variables[\"lat_rho\"]\n",
    "lon_rho = dg.variables[\"lon_rho\"]\n",
    "lat_u = dg.variables[\"lat_u\"]\n",
    "lon_u = dg.variables[\"lon_u\"]\n",
    "lat_v = dg.variables[\"lat_v\"]\n",
    "lon_v = dg.variables[\"lon_v\"]\n",
    "pm = dg.variables[\"pm\"]\n",
    "pn = dg.variables[\"pn\"]\n",
    "h = dg.variables[\"h\"]\n",
    "zice = dg.variables[\"zice\"]\n",
    "\n",
    "ds.coords['lat_rho']=lat_rho.transpose() # put lat_rho into ds dataset\n",
    "ds.coords['lon_rho']=lon_rho.transpose() # put lon_rho into ds dataset\n",
    "ds = ds.set_coords(['Cs_r', 'Cs_w', 'hc', 'h', 'Vtransform'])\n",
    "\n",
    "ds.close()\n",
    "dg.close()\n",
    "\n",
    "# calculate surface sigma_theta (potential density)\n",
    "sigma_t_sfc = gsw.rho(salt[:,-1,:,:],temp[:,-1,:,:],0) - 1000\n",
    "area=np.divide(1,pm*pn)"
   ]
  },
  {
   "cell_type": "code",
   "execution_count": null,
   "id": "888a2d79-f67f-47c6-a133-faed6f4bf589",
   "metadata": {},
   "outputs": [],
   "source": [
    "# load horizontal diffusion of heat calculated online:\n",
    "\t# float temp_hdiff(ocean_time, s_rho, eta_rho, xi_rho) ;\n",
    "\n",
    "ds = xr.open_mfdataset(paths=\"/g/data/hh5/tmp/access-om/fbd581/ROMS/OUTPUT/waom10extend_shflim_S_0.25Q/output_20yr_diag_daily/ocean_dia_00*.nc\" , chunks={'eta_rho': '200MB'}, parallel=bool, drop_variables=vars2drop, decode_times=False)\n",
    "temp_hdiff = ds.variables[\"temp_hdiff\"] \n",
    "temp_vdiff = ds.variables[\"temp_vdiff\"] \n",
    "temp_sdiff = ds.variables[\"temp_sdiff\"]  #\"potential temperature, horizontal S-diffusion rotated tensor term\"\n",
    "temp_hadv = ds.variables[\"temp_hadv\"] \n",
    "temp_vadv = ds.variables[\"temp_vadv\"] \n",
    "ds.close()"
   ]
  },
  {
   "cell_type": "code",
   "execution_count": null,
   "id": "684793bf-da4c-4665-abee-21125be978ca",
   "metadata": {
    "tags": []
   },
   "outputs": [],
   "source": [
    "%%time\n",
    "# method 2 to calculate Dz:\n",
    "# z_w=z_w.chunks(chunks={'eta_rho': '200MB'}) # couldn't change chunks.\n",
    "\n",
    "Z_w = z_w.transpose('ocean_time','s_w','eta_rho','xi_rho')\n",
    "print(z_w.shape, Z_w.shape)\n",
    "dz = np.diff(Z_w,axis=1)\n"
   ]
  },
  {
   "cell_type": "code",
   "execution_count": null,
   "id": "86e63340-de39-462b-abbe-82f96c229e33",
   "metadata": {},
   "outputs": [],
   "source": [
    "# convert dz to xarray:\n",
    "months=np.arange(0,365)*(1/30.41667)\n",
    "# save to netcdf file:\n",
    "coordinatesC=dict(ocean_time=months, s_rho=(['s_rho'], np.arange(0,31)), eta_rho=(['eta_rho'], np.arange(0,560)), xi_rho=(['xi_rho'], np.arange(0,630)))\n",
    "\n",
    "dz_xr = xr.DataArray(dz, coords = coordinatesC, dims = ['ocean_time','s_rho','eta_rho','xi_rho'])\n"
   ]
  },
  {
   "cell_type": "code",
   "execution_count": null,
   "id": "cf874543-9770-444a-be2e-e3b76934df3e",
   "metadata": {
    "scrolled": true
   },
   "outputs": [],
   "source": [
    "temp_vadv.load()\n",
    "temp_hadv.load()"
   ]
  },
  {
   "cell_type": "code",
   "execution_count": null,
   "id": "5dd97587-7f39-4d50-b384-5a032eba4785",
   "metadata": {},
   "outputs": [],
   "source": [
    "temp_vadv_dz = temp_vadv*dz_xr\n",
    "temp_hadv_dz = temp_hadv*dz_xr"
   ]
  },
  {
   "cell_type": "code",
   "execution_count": null,
   "id": "35ef6de3-6628-4e44-979c-18265eb71771",
   "metadata": {},
   "outputs": [],
   "source": [
    "plt.pcolormesh(temp_vadv_dz.sum('s_rho'), cmap='bwr', vmin=-0.0001, vmax=0.0001)\n",
    "plt.colorbar()"
   ]
  },
  {
   "cell_type": "code",
   "execution_count": null,
   "id": "ee5d0027-231d-455f-a3c3-0b1087342e59",
   "metadata": {},
   "outputs": [],
   "source": [
    "plt.pcolor(temp_hadv_dz.sum('s_rho').mean('ocean_time'), cmap='bwr', vmin=-0.0001, vmax=0.0001)\n",
    "plt.colorbar()"
   ]
  },
  {
   "cell_type": "code",
   "execution_count": null,
   "id": "48937f7c-22c5-4e3b-975c-2b68e3521ac9",
   "metadata": {},
   "outputs": [],
   "source": [
    "files_path = '/g/data/hh5/tmp/access-om/fbd581/ROMS/postprocessing/cross_contour_tmp/'\n"
   ]
  },
  {
   "cell_type": "code",
   "execution_count": null,
   "id": "40ff43e4-45c7-48c7-b4af-04dd1e8b424b",
   "metadata": {},
   "outputs": [],
   "source": [
    "contour_masked_above = np.load(files_path + 'WAOM10_contour_masked_above_1500m_v3', allow_pickle=True)\n",
    "contour_masked_above_CF = np.load(files_path + 'WAOM10_contour_masked_above_CF_v3', allow_pickle=True)\n"
   ]
  },
  {
   "cell_type": "markdown",
   "id": "c1a702b6-476f-4a9e-a96a-ad2fadfd50dd",
   "metadata": {},
   "source": [
    "### investigating omega and vertical advection:"
   ]
  },
  {
   "cell_type": "code",
   "execution_count": null,
   "id": "e0a3eab0-7464-49e0-ba16-a57545d70d46",
   "metadata": {},
   "outputs": [],
   "source": [
    "ds = xr.open_mfdataset(paths=\"/g/data/hh5/tmp/access-om/fbd581/ROMS/OUTPUT/waom10extend_shflim_S_0.25Q/output_20yr_diag_daily/ocean_avg_00*.nc\" , chunks={'eta_rho': '200MB'}, parallel=bool, decode_times=False)\n",
    "w = ds.variables[\"w\"]\n",
    "ds.close()"
   ]
  },
  {
   "cell_type": "code",
   "execution_count": null,
   "id": "e6e57966-edf0-4fdd-9710-e3613641dae3",
   "metadata": {},
   "outputs": [],
   "source": [
    "plt.pcolormesh(w.isel(ocean_time=0,s_w=-1), cmap='bwr', vmin=-0.005, vmax=0.005)\n",
    "plt.colorbar()\n",
    "plt.title('Bottom layer')"
   ]
  },
  {
   "cell_type": "code",
   "execution_count": null,
   "id": "b400ec95-3d0d-46c2-96ff-67045f144a4d",
   "metadata": {},
   "outputs": [],
   "source": [
    "plt.pcolormesh(w.isel(ocean_time=0,s_w=0), cmap='bwr', vmin=-0.005, vmax=0.005)\n",
    "plt.colorbar()\n",
    "plt.title('Sfc layer')"
   ]
  },
  {
   "cell_type": "code",
   "execution_count": null,
   "id": "a97e663b-761c-490c-9b56-ed99d9e59ad0",
   "metadata": {},
   "outputs": [],
   "source": [
    "plt.pcolormesh(w.isel(ocean_time=0,s_w=15), cmap='bwr', vmin=-0.005, vmax=0.005)\n",
    "plt.colorbar()\n",
    "plt.title('layer = 15')"
   ]
  },
  {
   "cell_type": "code",
   "execution_count": null,
   "id": "f91e1770-0d69-4d8e-a78d-9ee8eec6dbb1",
   "metadata": {},
   "outputs": [],
   "source": [
    "plt.pcolormesh(w.isel(ocean_time=0).sum('s_w'), cmap='bwr', vmin=-0.005, vmax=0.005)\n",
    "plt.colorbar()\n",
    "plt.title('Vertical sum')"
   ]
  },
  {
   "cell_type": "code",
   "execution_count": null,
   "id": "966d128d-d708-4a1c-a357-5d76818f7bb5",
   "metadata": {},
   "outputs": [],
   "source": [
    "plt.pcolormesh(w.isel(ocean_time=0).mean('s_w'), cmap='bwr', vmin=-0.005, vmax=0.005)\n",
    "plt.colorbar()\n",
    "plt.title('Vertical mean')"
   ]
  },
  {
   "cell_type": "markdown",
   "id": "c464ded3-fb47-4e43-bb14-7de954a87922",
   "metadata": {},
   "source": [
    "### continue original script:"
   ]
  },
  {
   "cell_type": "code",
   "execution_count": null,
   "id": "7403df25-6704-49fd-adc5-19fa2fc15f4a",
   "metadata": {},
   "outputs": [],
   "source": [
    "Tf = -3.55\n",
    "plt.pcolormesh(ma.masked_where(contour_masked_above == -1000, temp.isel(s_rho=0).mean('ocean_time')-Tf), vmin=0, vmax=4)\n",
    "plt.colorbar()"
   ]
  },
  {
   "cell_type": "code",
   "execution_count": null,
   "id": "db8e7215-9e41-4543-9c59-d5b0363b5dff",
   "metadata": {
    "tags": []
   },
   "outputs": [],
   "source": [
    "%%time\n",
    "\n",
    "ds = xr.open_mfdataset(paths=\"/g/data/hh5/tmp/access-om/fbd581/ROMS/OUTPUT/waom10extend_shflim_S_0.25Q/output_20yr_diag_daily/ocean_his_00*.nc\" , chunks={'eta_rho': '200MB'}, parallel=bool, decode_times=False) #, chuncks=\"auto\", concat_dim=\"ocean_time\"\n",
    "\n",
    "#- preserving 5-days avgs\n",
    "temp_snap = ds.variables[\"temp\"] ##+273.15 (changing to Kelvin didn't change any results)\n",
    "time_snap = ds.variables[\"ocean_time\"]\n",
    "ds.close()\n"
   ]
  },
  {
   "cell_type": "code",
   "execution_count": null,
   "id": "86cbc94d-76df-4f5b-8dac-986481cc7026",
   "metadata": {
    "tags": []
   },
   "outputs": [],
   "source": [
    "%%time\n",
    "\n",
    "# calculate dT/dt by differentiating temp_snap:\n",
    "temp_Rate = np.empty(temp_snap.shape)\n",
    "dT = np.empty(temp_snap.shape)\n",
    "\n",
    "# needs the initial conditions:\n",
    "ds = xr.open_dataset('/g/data/hh5/tmp/access-om/fbd581/ROMS/OUTPUT/waom10extend_shflim_S_0.25Q/output_11-20yr/ocean_rst.nc')\n",
    "temp_ini = ds.variables[\"temp\"].isel(ocean_time=8, two=0) ##+273.15 (changing to Kelvin didn't change any results) # 5-days mean\n",
    "time_ini = ds.variables[\"ocean_time\"].isel(ocean_time=8)\n",
    "ds.close()\n",
    "\n",
    "    \n",
    "tlen = len(temp[:,0,0,0])"
   ]
  },
  {
   "cell_type": "code",
   "execution_count": null,
   "id": "dc67b4c5-dbd1-4da8-85be-cf52fc14ccfb",
   "metadata": {
    "tags": []
   },
   "outputs": [],
   "source": [
    "%%time\n",
    "\n",
    "# transform to DataArray\n",
    "temp_snap = xr.DataArray(temp_snap)\n",
    "temp_ini = xr.DataArray(temp_ini)\n",
    "\n",
    "# - append temp_ini to first time index in temp_snap and then do diff\n",
    "temp_snap = xr.concat([temp_ini,temp_snap], 'ocean_time')\n",
    "dT = temp_snap.diff('ocean_time')\n",
    "print(dT.shape)\n",
    "\n",
    "# \n",
    "# dt = 5*86400 # 5-days in seconds\n",
    "dt = 86400 # 1day\n",
    "temp_Rate = np.divide(dT, dt)\n",
    "temp_Rate = xr.DataArray(temp_Rate)\n",
    "# temp_Rate=temp_Rate.rename({'dim_0':'ocean_time','dim_1':'s_rho','dim_2':'eta_rho','dim_3':'xi_rho'})\n",
    "\n",
    "print(dT.shape)\n",
    "\n",
    "temp_Rate = temp_Rate.transpose('ocean_time','s_rho','eta_rho','xi_rho')\n",
    "\n",
    "print(temp_Rate.shape)"
   ]
  },
  {
   "cell_type": "code",
   "execution_count": null,
   "id": "b21038e7-5d84-40d6-805c-0e63b66587a0",
   "metadata": {},
   "outputs": [],
   "source": [
    "# check time stamps across his/avg variables to make sure they match:\n",
    "\n",
    "\n",
    "# # print('1.', time_snap)\n",
    "# print('2.', 2007+(time_snap[0]/86400/365))\n",
    "# print('3.', time_ini)\n",
    "# time_ini_datenum = (np.datetime64('2025-12-27')-np.datetime64('2007-01-01'))\n",
    "# print('4.', time_ini_datenum/365, ', NOT days, years!')\n",
    "# print('5.', (599616000-599184000)/86400) # 5-days!\n",
    "\n",
    "# time_snap_np = time_snap.values\n",
    "# time_ini_np = time_ini.values\n",
    "# print(time_ini, time_snap_np.shape)\n",
    "# time_snap2 = np.concatenate((time_ini_np,time_snap_np), axis=0)\n",
    "# print(time_snap2.shape)\n",
    "\n",
    "# # transform to DataArray\n",
    "# time_snap = xr.DataArray(time_snap)\n",
    "# time_ini = xr.DataArray(time_ini)\n",
    "\n",
    "# print(time_snap.shape, time_ini.shape)\n",
    "\n",
    "# # - append temp_ini to first time index in temp_snap and then do diff\n",
    "# time_snap2 = xr.concat([time_ini,time_snap], 'ocean_time')\n",
    "\n",
    "# print(time_snap2.shape, time_avg.shape)\n",
    "\n",
    "plt.plot(np.arange(0,365),time_snap,'xk')\n",
    "plt.plot(np.arange(0,365),time_avg,'ob')\n",
    "# plt.plot(np.arange(0,365),time_snap2,'.r')\n",
    "# plt.xlim(0,5)\n"
   ]
  },
  {
   "cell_type": "code",
   "execution_count": null,
   "id": "556c85b7-b6ad-4ddc-ac96-35c16525c2ab",
   "metadata": {},
   "outputs": [],
   "source": [
    "# calculate dt for avg/his timestamps:\n",
    "\n",
    "dt_avg = np.diff(time_avg)\n",
    "dt_snap = np.diff(time_snap)\n",
    "\n",
    "plt.plot(np.arange(0,364),dt_avg/86400,'.b')"
   ]
  },
  {
   "cell_type": "code",
   "execution_count": null,
   "id": "966f6e87-d77d-43be-a3fb-5e8a94242dfe",
   "metadata": {},
   "outputs": [],
   "source": [
    "plt.plot(np.arange(0,364),dt_snap/86400,'.r')\n"
   ]
  },
  {
   "cell_type": "code",
   "execution_count": null,
   "id": "5187bd72-a07f-430c-b076-1d217d1ba472",
   "metadata": {
    "tags": []
   },
   "outputs": [],
   "source": [
    "# determine constants:\n",
    "rho0 = 1025 # kg. m-3\n",
    "Cp = 3989.245 # J.kg-1.degC-1\n",
    "Tf = -1.95 # degC"
   ]
  },
  {
   "cell_type": "code",
   "execution_count": null,
   "id": "4e78f427-2c3e-4776-94c8-686716cd4331",
   "metadata": {},
   "outputs": [],
   "source": [
    "plt.pcolormesh(h+zice, vmin=0, vmax=0.5)\n",
    "plt.colorbar()"
   ]
  },
  {
   "cell_type": "code",
   "execution_count": null,
   "id": "42ed6dda-051f-418b-953d-e3f7649c6aa4",
   "metadata": {},
   "outputs": [],
   "source": [
    "plt.pcolormesh(contour_masked_above)#, vmin=0, vmax=1)\n",
    "plt.colorbar()"
   ]
  },
  {
   "cell_type": "code",
   "execution_count": null,
   "id": "96edf377-98a2-4a1a-b57e-09de30ca7565",
   "metadata": {},
   "outputs": [],
   "source": [
    "# Define conditions to mask out (1) off the shelf, (2) land (see plots above)\n",
    "condition1 = contour_masked_above == -1000\n",
    "condition2 = (zice+h) <= 1\n",
    "\n",
    "# Combine conditions with logical OR\n",
    "combined_condition = condition1 | condition2\n"
   ]
  },
  {
   "cell_type": "code",
   "execution_count": null,
   "id": "acbc28ba-0a21-4c93-85e2-47232700093f",
   "metadata": {
    "tags": []
   },
   "outputs": [],
   "source": [
    "%%time\n",
    "\n",
    "# use -1000 mask to compute integral of surface heat fluxes and ocean heat content tendency:\n",
    "# temp_Rate=xr.DataArray(temp_Rate)\n",
    "temp_rate = temp_Rate.transpose('ocean_time','s_rho','eta_rho','xi_rho')\n",
    "dT = dT.transpose('ocean_time','s_rho','eta_rho','xi_rho')\n",
    "\n",
    "## Integrated heat tendency and sfc heat flux terms to check heat budget closure*1\n",
    "# 1. area-integral surface heat flux\n",
    "tlen = len(temp_rate[:,0,0,0])\n",
    "area_sum =  np.nansum(np.nansum(area,axis=1), axis=0)\n",
    "\n",
    "shflux_int = np.empty((tlen))\n",
    "for mm in np.arange(0,tlen):\n",
    "    shflux_masked = ma.masked_where(combined_condition, shflux[mm,:]) # -1000 is just the mask for values south of 1500m isobath; not depths.\n",
    "    shflux_area = shflux_masked*area\n",
    "    shflux_int[mm] = np.nansum(np.nansum(shflux_area,axis=1), axis=0)\n",
    "    #del shflux_area\n",
    "    \n",
    "# 2. volume-integral heat tendency\n",
    "temp_rate_int = np.empty((tlen))\n",
    "temp_rate_vol = np.empty(np.squeeze(temp_Rate[:,0,:,:]).shape)\n",
    "for mm in np.arange(0,tlen):\n",
    "# - multplying by dz:\n",
    "    temp_rate_dz = temp_Rate[mm,:]*dz[mm,:]\n",
    "    temp_rate_vint = np.nansum(temp_rate_dz, axis=0)\n",
    "    temp_rate_vint_masked =  ma.masked_where(combined_condition, temp_rate_vint)\n",
    "    temp_rate_vol[mm,:] = temp_rate_vint_masked*area\n",
    "    \n",
    "    #del temp_rate_vint\n",
    "    temp_rate_int[mm] = np.nansum(np.nansum(temp_rate_vol[mm,:],axis=1), axis=0)*Cp*rho0\n"
   ]
  },
  {
   "cell_type": "code",
   "execution_count": null,
   "id": "cde2d7c0-144e-40ba-9ec3-2e56df67390e",
   "metadata": {},
   "outputs": [],
   "source": [
    "temp_hadv.load()\n",
    "temp_vadv.load()\n",
    "temp_hdiff.load()\n",
    "temp_vdiff.load()\n",
    "temp_sdiff.load()"
   ]
  },
  {
   "cell_type": "code",
   "execution_count": null,
   "id": "a786eed0-cc22-4d4d-9ea2-a86081d63999",
   "metadata": {},
   "outputs": [],
   "source": [
    "# define sum of all RHS:\n",
    "RHS_budget = temp_hadv + temp_vadv + temp_hdiff + temp_vdiff\n",
    "RHS_budget_masked = ma.masked_where(combined_condition, RHS_budget.sum('s_rho').isel(ocean_time=0))\n",
    "\n",
    "plt.pcolormesh(RHS_budget_masked)\n",
    "plt.colorbar()"
   ]
  },
  {
   "cell_type": "code",
   "execution_count": null,
   "id": "65de6ebb-140a-4829-8a3d-79969c18cd74",
   "metadata": {},
   "outputs": [],
   "source": [
    "%%time\n",
    "# integral with all RHS terms (as suggested by Wilkin)\n",
    "RHS_budget_int = np.empty((tlen))\n",
    "RHS_budget_vol = np.empty(np.squeeze(RHS_budget[:,0,:,:]).shape)\n",
    "for mm in np.arange(0,tlen):\n",
    "# - multplying by dz:\n",
    "    RHS_budget_dz = RHS_budget[mm,:]*dz[mm,:]\n",
    "    RHS_budget_vint = np.nansum(RHS_budget_dz, axis=0)\n",
    "    RHS_budget_vint_masked =  ma.masked_where(combined_condition, RHS_budget_vint)\n",
    "    RHS_budget_vol[mm,:] = RHS_budget_vint_masked*area\n",
    "    RHS_budget_int[mm] = np.nansum(np.nansum(RHS_budget_vol[mm,:],axis=1), axis=0)*Cp*rho0\n"
   ]
  },
  {
   "cell_type": "code",
   "execution_count": null,
   "id": "3a7add1c-f95a-47c7-8f1b-e577151c563f",
   "metadata": {},
   "outputs": [],
   "source": [
    "%%time\n",
    "# 3. heat tendency due to horizontal diffusion:\n",
    "temp_hdiff_int = np.empty((tlen))\n",
    "temp_hdiff_vol = np.empty(np.squeeze(temp_hdiff[:,0,:,:]).shape)\n",
    "for mm in np.arange(0,tlen):\n",
    "# - multplying by dz:\n",
    "    temp_hdiff_dz = temp_hdiff[mm,:]*dz[mm,:]\n",
    "    temp_hdiff_vint = np.nansum(temp_hdiff_dz, axis=0)\n",
    "    temp_hdiff_vint_masked =  ma.masked_where(combined_condition, temp_hdiff_vint)\n",
    "    temp_hdiff_vol[mm,:] = temp_hdiff_vint_masked*area\n",
    "    temp_hdiff_int[mm] = np.nansum(np.nansum(temp_hdiff_vol[mm,:],axis=1), axis=0)*Cp*rho0\n"
   ]
  },
  {
   "cell_type": "code",
   "execution_count": null,
   "id": "137d4222-98cf-4a72-98bb-59e129c8ee88",
   "metadata": {},
   "outputs": [],
   "source": [
    "%%time\n",
    "# 4. heat tendency due to horizontal advection:\n",
    "temp_hadv_int = np.empty((tlen))\n",
    "temp_hadv_vol = np.empty(np.squeeze(temp_hadv[:,0,:,:]).shape)\n",
    "for mm in np.arange(0,tlen):\n",
    "# - multplying by dz:\n",
    "    temp_hadv_dz = temp_hadv[mm,:]*dz[mm,:]\n",
    "    temp_hadv_vint = np.nansum(temp_hadv_dz, axis=0)\n",
    "    temp_hadv_vint_masked =  ma.masked_where(combined_condition, temp_hadv_vint)\n",
    "    temp_hadv_vol[mm,:] = temp_hadv_vint_masked*area\n",
    "    temp_hadv_int[mm] = np.nansum(np.nansum(temp_hadv_vol[mm,:],axis=1), axis=0)*Cp*rho0\n"
   ]
  },
  {
   "cell_type": "code",
   "execution_count": null,
   "id": "e8a7cc8a-00ca-442a-b40d-4feaf1cea742",
   "metadata": {},
   "outputs": [],
   "source": [
    "%%time\n",
    "# 5. heat tendency due to vertical advection:\n",
    "temp_vadv_int = np.empty((tlen))\n",
    "temp_vadv_vol = np.empty(np.squeeze(temp_vadv[:,0,:,:]).shape)\n",
    "for mm in np.arange(0,tlen):\n",
    "# - multplying by dz:\n",
    "    temp_vadv_dz = temp_vadv[mm,:]*dz[mm,:]\n",
    "    temp_vadv_vint = np.nansum(temp_vadv_dz, axis=0)\n",
    "    temp_vadv_vint_masked =  ma.masked_where(combined_condition, temp_vadv_vint)\n",
    "    temp_vadv_vol[mm,:] = temp_vadv_vint_masked*area\n",
    "    temp_vadv_int[mm] = np.nansum(np.nansum(temp_vadv_vol[mm,:],axis=1), axis=0)*Cp*rho0\n"
   ]
  },
  {
   "cell_type": "code",
   "execution_count": null,
   "id": "fbeb6496-b87e-4baa-bcb0-4cd3450e18f6",
   "metadata": {},
   "outputs": [],
   "source": [
    "%%time\n",
    "# 6. heat tendency due to vertical diffusion (should be equal to the sfc heat flux)\n",
    "temp_vdiff_int = np.empty((tlen))\n",
    "temp_vdiff_vol = np.empty(np.squeeze(temp_vdiff[:,0,:,:]).shape)\n",
    "for mm in np.arange(0,tlen):\n",
    "# - multplying by dz:\n",
    "    temp_vdiff_dz = temp_vdiff[mm,:]*dz[mm,:]\n",
    "    temp_vdiff_vint = np.nansum(temp_vdiff_dz, axis=0)\n",
    "    temp_vdiff_vint_masked =  ma.masked_where(combined_condition, temp_vdiff_vint) # I think I can remove the first masking, no need to repeat it.\n",
    "    temp_vdiff_vol[mm,:] = temp_vdiff_vint_masked*area\n",
    "    temp_vdiff_int[mm] = np.nansum(np.nansum(temp_vdiff_vol[mm,:],axis=1), axis=0)*Cp*rho0\n"
   ]
  },
  {
   "cell_type": "code",
   "execution_count": null,
   "id": "18caf8e0-f6c8-4534-956d-c7a2702e4979",
   "metadata": {},
   "outputs": [],
   "source": [
    "%%time\n",
    "# 7. heat tendency due to rotated diffusion (should be equal to the sfc heat flux)\n",
    "temp_sdiff_int = np.empty((tlen))\n",
    "temp_sdiff_vol = np.empty(np.squeeze(temp_sdiff[:,0,:,:]).shape)\n",
    "for mm in np.arange(0,tlen):\n",
    "# - multplying by dz:\n",
    "    temp_sdiff_dz = temp_sdiff[mm,:]*dz[mm,:]\n",
    "    temp_sdiff_vint = np.nansum(temp_sdiff_dz, axis=0)\n",
    "    temp_sdiff_vint_masked =  ma.masked_where(combined_condition, temp_sdiff_vint) # I think I can remove the first masking, no need to repeat it.\n",
    "    temp_sdiff_vol[mm,:] = temp_sdiff_vint_masked*area\n",
    "    temp_sdiff_int[mm] = np.nansum(np.nansum(temp_sdiff_vol[mm,:],axis=1), axis=0)*Cp*rho0\n"
   ]
  },
  {
   "cell_type": "code",
   "execution_count": null,
   "id": "f9975d42-81c4-4c1b-a1f2-b7d16ec94b53",
   "metadata": {},
   "outputs": [],
   "source": [
    "temp_hdiff_vol.shape"
   ]
  },
  {
   "cell_type": "code",
   "execution_count": null,
   "id": "cbab48c5-6b2d-4fa8-bd00-f48d48338b3f",
   "metadata": {},
   "outputs": [],
   "source": [
    "# calculate horizontal-integrated area:\n",
    "area_masked = ma.masked_where(contour_masked_above == -1000, area)\n",
    "area_sum = np.nansum(np.nansum(area_masked,axis=1), axis=0)\n",
    "\n",
    "print(area_sum*1e-15)"
   ]
  },
  {
   "cell_type": "code",
   "execution_count": null,
   "id": "96d6fc3b-f2dd-423e-a146-f160968a7475",
   "metadata": {},
   "outputs": [],
   "source": [
    "print(temp_Rate.shape, dz.shape)"
   ]
  },
  {
   "cell_type": "code",
   "execution_count": null,
   "id": "92e8895f-2363-4743-aa48-318f0347a2ae",
   "metadata": {},
   "outputs": [],
   "source": [
    "print(shflux_area.shape, shflux_int.shape)\n",
    "print(np.mean(shflux_int))#/area_sum)"
   ]
  },
  {
   "cell_type": "code",
   "execution_count": null,
   "id": "fd21618e-b7f0-42ed-9a98-5aa70332c52f",
   "metadata": {},
   "outputs": [],
   "source": [
    "print(temp_rate_vol.shape, temp_rate_int.shape)\n",
    "print(np.mean(temp_rate_int))#/area_sum)"
   ]
  },
  {
   "cell_type": "code",
   "execution_count": null,
   "id": "b882b8b3-c732-4506-a73f-3b98e96d37a3",
   "metadata": {},
   "outputs": [],
   "source": [
    "mm=35\n",
    "# plt.pcolormesh(ma.masked_where(contour_masked_above == -1000,temp_rate_vol[mm,:]), vmin=-2e4, vmax=2e4, cmap='coolwarm')\n",
    "plt.pcolormesh(np.nanmean(temp_rate_vol, axis=0), vmin=-1e3, vmax=1e3, cmap='coolwarm')\n",
    "plt.colorbar()"
   ]
  },
  {
   "cell_type": "code",
   "execution_count": null,
   "id": "3a83bb0e-02e4-4a76-baf2-884bbcd04835",
   "metadata": {},
   "outputs": [],
   "source": [
    "plt.pcolormesh(temp_rate_vol[100,:], vmin=-1e3, vmax=1e3, cmap='coolwarm')\n",
    "plt.colorbar()"
   ]
  },
  {
   "cell_type": "code",
   "execution_count": null,
   "id": "d1349c65-5275-4cb8-9923-4d3ccc567f4d",
   "metadata": {},
   "outputs": [],
   "source": [
    "plt.pcolormesh(ma.masked_where(contour_masked_above == -1000, np.nanmean(shflux,axis=0)*(area/(Cp*rho0))), vmin=-1e4, vmax=1e4, cmap='coolwarm')\n",
    "plt.colorbar()\n",
    "\n",
    "shflux_area.shape"
   ]
  },
  {
   "cell_type": "code",
   "execution_count": null,
   "id": "859408af-9dda-4637-829a-3ebfd4d5ad18",
   "metadata": {},
   "outputs": [],
   "source": [
    "plt.pcolormesh(temp_vdiff_vol[150,:]+temp_hdiff_vol[150,:]+temp_hdiff_vol[150,:], vmin=-1e3, vmax=1e3, cmap='coolwarm')\n",
    "plt.colorbar()"
   ]
  },
  {
   "cell_type": "code",
   "execution_count": null,
   "id": "05693a2c-93ee-4b23-bb91-a9fd31b5f662",
   "metadata": {},
   "outputs": [],
   "source": [
    "plt.pcolormesh(np.nanmean(temp_hadv_vol,axis=0), vmin=-1e4, vmax=1e4, cmap='coolwarm')\n",
    "plt.colorbar()"
   ]
  },
  {
   "cell_type": "code",
   "execution_count": null,
   "id": "335dbc24-860d-4fa6-929e-0b7c52f41d7b",
   "metadata": {},
   "outputs": [],
   "source": [
    "plt.pcolormesh(np.nanmean(temp_vadv_vol,axis=0), vmin=-1e4, vmax=1e4, cmap='coolwarm')\n",
    "plt.colorbar()"
   ]
  },
  {
   "cell_type": "code",
   "execution_count": null,
   "id": "545dc26e-352d-41b1-8e23-330bd99a4a09",
   "metadata": {
    "tags": []
   },
   "outputs": [],
   "source": [
    "     \n",
    "fig, ax = plt.subplots(nrows=1, ncols=2, figsize = (10,5))\n",
    "\n",
    "ax[0].title.set_text('WAOM10 \\n Heat content tendencies')\n",
    "# aa=ax[0].pcolormesh(np.nanmean(temp_rate_vol[1:-1], axis=0)*mask_shelf*mask_coast, vmin=-100, vmax=100, cmap='coolwarm')\n",
    "# divide by 2.5 to be comparable to 4km maps (normalized by area instead?)\n",
    "# aa=ax[0].pcolormesh(np.divide(np.nanmean(temp_rate_vol[1:-1], axis=0),2.5)*mask_shelf*mask_coast, vmin=-100, vmax=100, cmap='coolwarm')\n",
    "# divided by area\n",
    "aa=ax[0].pcolormesh(np.divide(np.nanmean(temp_rate_vol[1:-1,:], axis=0),area_sum), vmin=-1e-9, vmax=1e-9, cmap='coolwarm')\n",
    "# plt.colorbar(aa)\n",
    "\n",
    "#  define 5-daily masked shflux:\n",
    "shflux_masked = np.empty(shflux.shape)\n",
    "for mm in np.arange(0,tlen):\n",
    "    shflux_masked[mm,:,:] = ma.masked_where(contour_masked_above == -1000, shflux[mm,:]) # -1000 is just the mask for values south of 1500m isobath; not depths.\n",
    "\n",
    "\n",
    "ax[1].title.set_text('WAOM10 \\n Surface heat flux')\n",
    "# bb=ax[1].pcolormesh(np.nanmean(shflux[1:-1], axis=0)*mask_shelf, vmin=-100, vmax=100, cmap='coolwarm')\n",
    "bb=ax[1].pcolormesh(np.divide(np.nanmean(shflux_masked[1:-1,:], axis=0),area_sum), vmin=-1e-9, vmax=1e-9, cmap='coolwarm') ##vmin=-100, vmax=100, cmap='coolwarm')\n",
    "\n",
    "cax2 = plt.axes([0.92, 0.11, 0.01, 0.77])\n",
    "cb = plt.colorbar(bb, cax=cax2, orientation='vertical')\n",
    "cb.ax.set_ylabel('W.m$^{-2}$', fontsize=12)\n",
    "\n",
    "# including comparison oldXnew estitemas below:\n",
    "# cc=ax[1,0].pcolormesh(np.nanmean(temp_rate2_vol, axis=0)*mask_shelf, vmin=-100, vmax=100, cmap='coolwarm')\n",
    "# dd=ax[1,1].pcolormesh(np.nanmean(shflux2, axis=0), vmin=-100, vmax=100, cmap='coolwarm')\n",
    "\n",
    "# # diff maps:\n",
    "# ee=ax[2,0].pcolormesh((np.nanmean(temp_rate_vol, axis=0))-(np.nanmean(temp_rate2_vol, axis=0)), vmin=-100, vmax=100, cmap='coolwarm')\n",
    "# ff=ax[2,1].pcolormesh((np.nanmean(shflux, axis=0))-(np.nanmean(shflux2, axis=0)), vmin=-100, vmax=100, cmap='coolwarm')\n",
    "\n",
    "\n"
   ]
  },
  {
   "cell_type": "code",
   "execution_count": null,
   "id": "6c4fc77d-5832-4006-8c15-90824586a09e",
   "metadata": {
    "tags": []
   },
   "outputs": [],
   "source": [
    "# OHB integrated\n",
    "print('OHC tendency annual avg (TW): ',np.nanmean(temp_rate_int)*1e-12)\n",
    "# print(np.mean(temp_rate2_int)*1e-15)\n",
    "print('Net sfc heat flux annual avg (TW): ',np.nanmean(shflux_int)*1e-12)\n",
    "print('Residue (OHC - shflux) (TW): ',(np.nanmean(temp_rate_int)-np.nanmean(shflux_int))*1e-12)\n",
    "print('Horz. diffusion (TW): ',np.nanmean(temp_hdiff_int)*1e-12)\n",
    "print('Vert. diffusion (TW): ',np.nanmean(temp_vdiff_int)*1e-12)\n",
    "print('Isop. diffusion (TW): ',np.nanmean(temp_sdiff_int)*1e-12)\n",
    "print('Horz. advection (TW): ',np.nanmean(temp_hadv_int)*1e-12)\n",
    "print('Vert. advection (TW): ',np.nanmean(temp_vadv_int)*1e-12)\n",
    "print('Sum all above terms: ',np.nanmean(temp_hadv_int + temp_vadv_int + temp_hdiff_int + temp_vdiff_int)*1e-12)\n",
    "print('Sum all RHS terms: ',np.nanmean(RHS_budget_int)*1e-12)"
   ]
  },
  {
   "cell_type": "code",
   "execution_count": null,
   "id": "e647848b-ed6f-4a89-b58c-f81d526b18cf",
   "metadata": {},
   "outputs": [],
   "source": [
    "# OHB integrated, sum over 1year:\n",
    "print('OHC tendency annual avg (TW): ',np.nansum(temp_rate_int)*1e-12)\n",
    "# print(np.mean(temp_rate2_int)*1e-15)\n",
    "print('Net sfc heat flux annual avg (TW): ',np.nansum(shflux_int)*1e-12)\n",
    "print('Horz. diffusion (TW): ',np.nansum(temp_hdiff_int)*1e-12)\n",
    "print('Vert. diffusion (TW): ',np.nansum(temp_vdiff_int)*1e-12)\n",
    "print('Isop. diffusion (TW): ',np.nansum(temp_sdiff_int)*1e-12)\n",
    "print('Horz. advection (TW): ',np.nansum(temp_hadv_int)*1e-12)\n",
    "print('Vert. advection (TW): ',np.nansum(temp_vadv_int)*1e-12)\n",
    "print('Sum all above terms: ',np.nansum(temp_hadv_int + temp_vadv_int + temp_hdiff_int + temp_vdiff_int)*1e-12)\n",
    "print('Sum all RHS terms: ',np.nansum(RHS_budget_int)*1e-12)"
   ]
  },
  {
   "cell_type": "code",
   "execution_count": null,
   "id": "f68de84d-f99a-4da5-aa72-683fdabc34eb",
   "metadata": {},
   "outputs": [],
   "source": [
    "print('Vert. advection (TW): ',np.nansum(temp_vadv_int)*1e-12)\n",
    "print('Sum all above terms (incl. vert. adv): ',np.sum(temp_rate_int + shflux_int + temp_hdiff_int + temp_hadv_int)*1e-12)\n"
   ]
  },
  {
   "cell_type": "code",
   "execution_count": null,
   "id": "ca4c469c-afad-4609-9c8a-46acaf5287fb",
   "metadata": {},
   "outputs": [],
   "source": [
    "##### months=np.arange(0,365)*(1/30.41667)\n",
    "all_rhs = temp_hdiff_int + temp_vdiff_int + temp_hadv_int + temp_vadv_int\n",
    "\n",
    "fig, ax = plt.subplots(figsize = (12, 5))\n",
    "plt.plot(months,np.divide(shflux_int,1), label='SHFLX', color='royalblue')\n",
    "plt.plot(months,np.divide(temp_rate_int,1), label='OHC$_{t}$', color='darkorange')\n",
    "plt.plot(months,temp_hdiff_int, label='Horz. diffusion of heat', color='lightgreen')\n",
    "plt.plot(months,temp_vdiff_int, label='Vert. diffusion of heat', color='darkgreen')\n",
    "plt.plot(months,temp_hadv_int, label='Horz. advection of heat',color='darkred')\n",
    "plt.plot(months,temp_vadv_int, label='Vert. advection of heat',color='darkblue')\n",
    "plt.plot(months,RHS_budget_int - shflux_int, label='RHS - SHFLX',color='y')\n",
    "\n",
    "plt.plot(months,shflux_int*0,'--k')\n",
    "plt.plot(months,temp_rate_int - shflux_int, ':r', label='residual (OHC$_{t}$ - SHFLX}',linewidth=1, color='red')\n",
    "plt.plot(months,temp_hadv_int + temp_hdiff_int + temp_vadv_int, '--r', label='horiz adv+diff_vadv',linewidth=0.5, color='limegreen')\n",
    "# plt.plot(months,all_rhs, '--m', label='all RHS',linewidth=1)\n",
    "# plt.ylim([-2e14,2e14])\n",
    "# print annual avg values:\n",
    "# plt.text(10.2,-.5e14,str(np.round(np.mean(shflux_int)*1e-12,decimals=4)) + 'TW', color='royalblue')\n",
    "# plt.text(10.2,1.65e14,str(np.round(np.mean(temp_rate_int)*1e-12,decimals=4)) + 'TW', color='darkorange')\n",
    "# plt.text(9.2,1.1e14,str(np.round(np.mean(temp_rate_int - shflux_int)*1e-12,decimals=4)) + 'TW', color='red')\n",
    "# # plt.text(10.2,1.35e14,str(np.round(np.mean(temp_hdiff_int)*1e-12,decimals=4)) + 'TW', color='green')\n",
    "# plt.text(10.9,-.35e14,str(np.round(np.mean(temp_hadv_int)*1e-12,decimals=4)) + 'TW', color='darkred')\n",
    "# plt.text(9,.8e14,str(np.round(np.mean(temp_vadv_int)*1e-12,decimals=4)) + 'TW', color='darkblue')\n",
    "\n",
    "plt.grid()\n",
    "plt.legend(loc='lower left')\n",
    "plt.ylabel('Heat transport (W)')\n",
    "plt.xlabel('Time (months)')\n",
    "plt.title('Absolute values; WAOM10')\n",
    "\n",
    "\n",
    "name_fig='WAOM10_OHB_south1500m_vint_annual_daily.png'\n",
    "plt.savefig(fig_path + name_fig, dpi=300)"
   ]
  },
  {
   "cell_type": "code",
   "execution_count": null,
   "id": "5819f436-2731-49f7-867f-a6f4d798b836",
   "metadata": {},
   "outputs": [],
   "source": [
    "##### months=np.arange(0,365)*(1/30.41667)\n",
    "all_rhs = temp_hdiff_int + temp_vdiff_int + temp_hadv_int + temp_vadv_int\n",
    "\n",
    "fig, ax = plt.subplots(figsize = (12, 5))\n",
    "plt.plot(months,np.divide(shflux_int,1), label='SHFLX', color='royalblue')\n",
    "plt.plot(months,np.divide(temp_rate_int,1), label='OHC$_{t}$', color='darkorange')\n",
    "plt.plot(months,RHS_budget_int - shflux_int,'--m', label='RHS - SHFLX')\n",
    "plt.plot(months,temp_rate_int - shflux_int, '-r', label='residual (OHC$_{t}$ - SHFLX}',linewidth=0.5, color='red')\n",
    "\n",
    "plt.plot(months,shflux_int*0,'--k')\n",
    "\n",
    "plt.grid()\n",
    "plt.legend(loc='lower left')\n",
    "plt.ylabel('Heat transport (W)')\n",
    "plt.xlabel('Time (months)')\n",
    "plt.title('Absolute values; WAOM10')\n",
    "\n",
    "\n",
    "name_fig='WAOM10_OHB-closure_test_south1500m_vint_annual_daily.png'\n",
    "plt.savefig(fig_path + name_fig, dpi=300)"
   ]
  },
  {
   "cell_type": "code",
   "execution_count": null,
   "id": "1b0cf538-5b68-433f-b9e1-e291c2e28442",
   "metadata": {},
   "outputs": [],
   "source": [
    "%%time\n",
    "\n",
    "# temp_rate_int, shflux_int\n",
    "\n",
    "months=np.arange(0,365)*(1/30.41667)\n",
    "\n",
    "# save to netcdf file:\n",
    "coordinatesC=dict(ocean_time=months)\n",
    "\n",
    "temp_rate_int_xr = xr.DataArray(temp_rate_int, coords = coordinatesC, dims = ['ocean_time'])\n",
    "shflux_int_xr = xr.DataArray(shflux_int, coords = coordinatesC, dims = ['ocean_time'])\n",
    "temp_hdiff_int_xr = xr.DataArray(temp_hdiff_int, coords = coordinatesC, dims = ['ocean_time'])\n",
    "temp_vdiff_int_xr = xr.DataArray(temp_vdiff_int, coords = coordinatesC, dims = ['ocean_time'])\n",
    "temp_hadv_int_xr = xr.DataArray(temp_hadv_int, coords = coordinatesC, dims = ['ocean_time'])\n",
    "temp_vadv_int_xr = xr.DataArray(temp_vadv_int, coords = coordinatesC, dims = ['ocean_time'])\n",
    "\n",
    "files_path = '/g/data/hh5/tmp/access-om/fbd581/ROMS/postprocessing/cross_contour_tmp/'\n",
    "temp_rate_int_xr.to_netcdf(files_path + 'WAOM10_OHB_1500m_temp_rate_vint_daily', mode='w', format=\"NETCDF4\")\n",
    "shflux_int_xr.to_netcdf(files_path + 'WAOM10_OHB_1500m_shflux_vint_daily', mode='w', format=\"NETCDF4\")\n",
    "temp_hdiff_int_xr.to_netcdf(files_path + 'WAOM10_OHB_1500m_temp_hdiff_vint_daily', mode='w', format=\"NETCDF4\")\n",
    "temp_vdiff_int_xr.to_netcdf(files_path + 'WAOM10_OHB_1500m_temp_vdiff_vint_daily', mode='w', format=\"NETCDF4\")\n",
    "temp_hadv_int_xr.to_netcdf(files_path + 'WAOM10_OHB_1500m_temp_hadv_vint_daily', mode='w', format=\"NETCDF4\")\n",
    "temp_vadv_int_xr.to_netcdf(files_path + 'WAOM10_OHB_1500m_temp_vadv_vint_daily', mode='w', format=\"NETCDF4\")"
   ]
  },
  {
   "cell_type": "code",
   "execution_count": null,
   "id": "27540517-92e5-4ae7-8e53-df416b9fcbb9",
   "metadata": {},
   "outputs": [],
   "source": [
    "shflux_int.shape"
   ]
  },
  {
   "cell_type": "code",
   "execution_count": null,
   "id": "da36ad0a-4fc8-4ec7-acbb-ef7f1d2465bb",
   "metadata": {},
   "outputs": [],
   "source": [
    "print(np.nanmean(temp_rate_int - shflux_int)*1e-12)\n",
    "print(np.nanmean(RHS_budget_int)*1e-12)"
   ]
  },
  {
   "cell_type": "code",
   "execution_count": null,
   "id": "130c0e62-92bd-4c15-a01f-4fc625cf8989",
   "metadata": {},
   "outputs": [],
   "source": []
  },
  {
   "cell_type": "code",
   "execution_count": null,
   "id": "787109e4-2a88-461c-a3a4-aeac87ae4b49",
   "metadata": {},
   "outputs": [],
   "source": []
  },
  {
   "cell_type": "code",
   "execution_count": null,
   "id": "fd9a75a4-2ffc-4745-b9d9-22b846664ad2",
   "metadata": {},
   "outputs": [],
   "source": []
  }
 ],
 "metadata": {
  "kernelspec": {
   "display_name": "Python [conda env:analysis3-24.01]",
   "language": "python",
   "name": "conda-env-analysis3-24.01-py"
  },
  "language_info": {
   "codemirror_mode": {
    "name": "ipython",
    "version": 3
   },
   "file_extension": ".py",
   "mimetype": "text/x-python",
   "name": "python",
   "nbconvert_exporter": "python",
   "pygments_lexer": "ipython3",
   "version": "3.10.13"
  }
 },
 "nbformat": 4,
 "nbformat_minor": 5
}
