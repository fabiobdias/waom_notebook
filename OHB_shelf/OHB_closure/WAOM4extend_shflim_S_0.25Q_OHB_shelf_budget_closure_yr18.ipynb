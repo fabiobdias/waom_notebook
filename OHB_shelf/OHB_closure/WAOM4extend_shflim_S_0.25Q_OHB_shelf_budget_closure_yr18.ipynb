{
 "cells": [
  {
   "cell_type": "code",
   "execution_count": 1,
   "id": "c9adae45-21b3-4604-9486-3defe63f5de6",
   "metadata": {
    "tags": []
   },
   "outputs": [],
   "source": [
    "### Ocean Heat Budget Analyses in the Antarctica continental shelf (WAOM)\n",
    "\n",
    "# Fabio B Dias - 3 May 2023\n",
    "# Description:\n",
    "#     this script compares methods of calculate the OHC and surface heat flux integrated over the continental shelf\n",
    "#     - update to xarray open_mfdataset from open_dataset brought new functions more efficient to calculate model layer thickness (dz)\n",
    "# and ocean heat content tendencies (rho0*Cp*dT/dt). "
   ]
  },
  {
   "cell_type": "code",
   "execution_count": null,
   "id": "141dfb15-980c-44bb-b94c-6ee060a9f952",
   "metadata": {
    "tags": []
   },
   "outputs": [],
   "source": [
    "# read nc output from WAOM 10km run\n",
    "\n",
    "import xarray as xr\n",
    "# import pandas as p\n",
    "import numpy as np\n",
    "import numpy.ma as ma\n",
    "import cartopy.crs as ccrs\n",
    "import cartopy.feature as cfeature\n",
    "import matplotlib as mpl\n",
    "# mpl.use('Agg')\n",
    "import matplotlib.pyplot as plt\n",
    "import matplotlib.dates as dates\n",
    "from matplotlib.ticker import NullFormatter\n",
    "from matplotlib.colors import LinearSegmentedColormap   # for custom colormaps\n",
    "\n",
    "from datetime import datetime, timedelta\n",
    "\n",
    "from netCDF4 import Dataset\n",
    "from netCDF4 import num2date, date2num\n",
    "from matplotlib.ticker import NullFormatter\n",
    "from matplotlib.colors import LinearSegmentedColormap   # for custom colormaps\n",
    "\n",
    "import gsw\n",
    "\n",
    "import pyresample\n",
    "\n",
    "from dask.distributed import Client\n",
    "\n",
    "import warnings\n",
    "warnings.filterwarnings('ignore')"
   ]
  },
  {
   "cell_type": "code",
   "execution_count": null,
   "id": "d261f35d-2250-45d7-ac12-ecc54e0a1540",
   "metadata": {},
   "outputs": [],
   "source": [
    "client = Client(threads_per_worker=1, memory_limit=0, silence_logs=logging.ERROR)\n",
    "print(client)"
   ]
  },
  {
   "cell_type": "code",
   "execution_count": null,
   "id": "15e8749f-a891-4458-93be-a72550512d5f",
   "metadata": {
    "tags": []
   },
   "outputs": [],
   "source": [
    "fig_path = '/g/data3/hh5/tmp/access-om/fbd581/ROMS/postprocessing/figs/Contour_isobath/'"
   ]
  },
  {
   "cell_type": "code",
   "execution_count": 4,
   "id": "7df931b6-73e6-4cea-abd4-f5809ea12dce",
   "metadata": {
    "tags": []
   },
   "outputs": [
    {
     "ename": "ValueError",
     "evalue": "Resulting object does not have monotonic global indexes along dimension ocean_time",
     "output_type": "error",
     "traceback": [
      "\u001b[0;31m---------------------------------------------------------------------------\u001b[0m",
      "\u001b[0;31mValueError\u001b[0m                                Traceback (most recent call last)",
      "File \u001b[0;32m<timed exec>:5\u001b[0m\n",
      "File \u001b[0;32m/g/data/hh5/public/apps/miniconda3/envs/analysis3-23.01/lib/python3.9/site-packages/xarray/backends/api.py:1010\u001b[0m, in \u001b[0;36mopen_mfdataset\u001b[0;34m(paths, chunks, concat_dim, compat, preprocess, engine, data_vars, coords, combine, parallel, join, attrs_file, combine_attrs, **kwargs)\u001b[0m\n\u001b[1;32m    997\u001b[0m     combined \u001b[38;5;241m=\u001b[39m _nested_combine(\n\u001b[1;32m    998\u001b[0m         datasets,\n\u001b[1;32m    999\u001b[0m         concat_dims\u001b[38;5;241m=\u001b[39mconcat_dim,\n\u001b[0;32m   (...)\u001b[0m\n\u001b[1;32m   1005\u001b[0m         combine_attrs\u001b[38;5;241m=\u001b[39mcombine_attrs,\n\u001b[1;32m   1006\u001b[0m     )\n\u001b[1;32m   1007\u001b[0m \u001b[38;5;28;01melif\u001b[39;00m combine \u001b[38;5;241m==\u001b[39m \u001b[38;5;124m\"\u001b[39m\u001b[38;5;124mby_coords\u001b[39m\u001b[38;5;124m\"\u001b[39m:\n\u001b[1;32m   1008\u001b[0m     \u001b[38;5;66;03m# Redo ordering from coordinates, ignoring how they were ordered\u001b[39;00m\n\u001b[1;32m   1009\u001b[0m     \u001b[38;5;66;03m# previously\u001b[39;00m\n\u001b[0;32m-> 1010\u001b[0m     combined \u001b[38;5;241m=\u001b[39m \u001b[43mcombine_by_coords\u001b[49m\u001b[43m(\u001b[49m\n\u001b[1;32m   1011\u001b[0m \u001b[43m        \u001b[49m\u001b[43mdatasets\u001b[49m\u001b[43m,\u001b[49m\n\u001b[1;32m   1012\u001b[0m \u001b[43m        \u001b[49m\u001b[43mcompat\u001b[49m\u001b[38;5;241;43m=\u001b[39;49m\u001b[43mcompat\u001b[49m\u001b[43m,\u001b[49m\n\u001b[1;32m   1013\u001b[0m \u001b[43m        \u001b[49m\u001b[43mdata_vars\u001b[49m\u001b[38;5;241;43m=\u001b[39;49m\u001b[43mdata_vars\u001b[49m\u001b[43m,\u001b[49m\n\u001b[1;32m   1014\u001b[0m \u001b[43m        \u001b[49m\u001b[43mcoords\u001b[49m\u001b[38;5;241;43m=\u001b[39;49m\u001b[43mcoords\u001b[49m\u001b[43m,\u001b[49m\n\u001b[1;32m   1015\u001b[0m \u001b[43m        \u001b[49m\u001b[43mjoin\u001b[49m\u001b[38;5;241;43m=\u001b[39;49m\u001b[43mjoin\u001b[49m\u001b[43m,\u001b[49m\n\u001b[1;32m   1016\u001b[0m \u001b[43m        \u001b[49m\u001b[43mcombine_attrs\u001b[49m\u001b[38;5;241;43m=\u001b[39;49m\u001b[43mcombine_attrs\u001b[49m\u001b[43m,\u001b[49m\n\u001b[1;32m   1017\u001b[0m \u001b[43m    \u001b[49m\u001b[43m)\u001b[49m\n\u001b[1;32m   1018\u001b[0m \u001b[38;5;28;01melse\u001b[39;00m:\n\u001b[1;32m   1019\u001b[0m     \u001b[38;5;28;01mraise\u001b[39;00m \u001b[38;5;167;01mValueError\u001b[39;00m(\n\u001b[1;32m   1020\u001b[0m         \u001b[38;5;124m\"\u001b[39m\u001b[38;5;132;01m{}\u001b[39;00m\u001b[38;5;124m is an invalid option for the keyword argument\u001b[39m\u001b[38;5;124m\"\u001b[39m\n\u001b[1;32m   1021\u001b[0m         \u001b[38;5;124m\"\u001b[39m\u001b[38;5;124m ``combine``\u001b[39m\u001b[38;5;124m\"\u001b[39m\u001b[38;5;241m.\u001b[39mformat(combine)\n\u001b[1;32m   1022\u001b[0m     )\n",
      "File \u001b[0;32m/g/data/hh5/public/apps/miniconda3/envs/analysis3-23.01/lib/python3.9/site-packages/xarray/core/combine.py:975\u001b[0m, in \u001b[0;36mcombine_by_coords\u001b[0;34m(data_objects, compat, data_vars, coords, fill_value, join, combine_attrs, datasets)\u001b[0m\n\u001b[1;32m    973\u001b[0m     concatenated_grouped_by_data_vars \u001b[38;5;241m=\u001b[39m []\n\u001b[1;32m    974\u001b[0m     \u001b[38;5;28;01mfor\u001b[39;00m \u001b[38;5;28mvars\u001b[39m, datasets_with_same_vars \u001b[38;5;129;01min\u001b[39;00m grouped_by_vars:\n\u001b[0;32m--> 975\u001b[0m         concatenated \u001b[38;5;241m=\u001b[39m \u001b[43m_combine_single_variable_hypercube\u001b[49m\u001b[43m(\u001b[49m\n\u001b[1;32m    976\u001b[0m \u001b[43m            \u001b[49m\u001b[38;5;28;43mlist\u001b[39;49m\u001b[43m(\u001b[49m\u001b[43mdatasets_with_same_vars\u001b[49m\u001b[43m)\u001b[49m\u001b[43m,\u001b[49m\n\u001b[1;32m    977\u001b[0m \u001b[43m            \u001b[49m\u001b[43mfill_value\u001b[49m\u001b[38;5;241;43m=\u001b[39;49m\u001b[43mfill_value\u001b[49m\u001b[43m,\u001b[49m\n\u001b[1;32m    978\u001b[0m \u001b[43m            \u001b[49m\u001b[43mdata_vars\u001b[49m\u001b[38;5;241;43m=\u001b[39;49m\u001b[43mdata_vars\u001b[49m\u001b[43m,\u001b[49m\n\u001b[1;32m    979\u001b[0m \u001b[43m            \u001b[49m\u001b[43mcoords\u001b[49m\u001b[38;5;241;43m=\u001b[39;49m\u001b[43mcoords\u001b[49m\u001b[43m,\u001b[49m\n\u001b[1;32m    980\u001b[0m \u001b[43m            \u001b[49m\u001b[43mcompat\u001b[49m\u001b[38;5;241;43m=\u001b[39;49m\u001b[43mcompat\u001b[49m\u001b[43m,\u001b[49m\n\u001b[1;32m    981\u001b[0m \u001b[43m            \u001b[49m\u001b[43mjoin\u001b[49m\u001b[38;5;241;43m=\u001b[39;49m\u001b[43mjoin\u001b[49m\u001b[43m,\u001b[49m\n\u001b[1;32m    982\u001b[0m \u001b[43m            \u001b[49m\u001b[43mcombine_attrs\u001b[49m\u001b[38;5;241;43m=\u001b[39;49m\u001b[43mcombine_attrs\u001b[49m\u001b[43m,\u001b[49m\n\u001b[1;32m    983\u001b[0m \u001b[43m        \u001b[49m\u001b[43m)\u001b[49m\n\u001b[1;32m    984\u001b[0m         concatenated_grouped_by_data_vars\u001b[38;5;241m.\u001b[39mappend(concatenated)\n\u001b[1;32m    986\u001b[0m \u001b[38;5;28;01mreturn\u001b[39;00m merge(\n\u001b[1;32m    987\u001b[0m     concatenated_grouped_by_data_vars,\n\u001b[1;32m    988\u001b[0m     compat\u001b[38;5;241m=\u001b[39mcompat,\n\u001b[0;32m   (...)\u001b[0m\n\u001b[1;32m    991\u001b[0m     combine_attrs\u001b[38;5;241m=\u001b[39mcombine_attrs,\n\u001b[1;32m    992\u001b[0m )\n",
      "File \u001b[0;32m/g/data/hh5/public/apps/miniconda3/envs/analysis3-23.01/lib/python3.9/site-packages/xarray/core/combine.py:648\u001b[0m, in \u001b[0;36m_combine_single_variable_hypercube\u001b[0;34m(datasets, fill_value, data_vars, coords, compat, join, combine_attrs)\u001b[0m\n\u001b[1;32m    646\u001b[0m     indexes \u001b[38;5;241m=\u001b[39m concatenated\u001b[38;5;241m.\u001b[39mindexes\u001b[38;5;241m.\u001b[39mget(dim)\n\u001b[1;32m    647\u001b[0m     \u001b[38;5;28;01mif\u001b[39;00m \u001b[38;5;129;01mnot\u001b[39;00m (indexes\u001b[38;5;241m.\u001b[39mis_monotonic_increasing \u001b[38;5;129;01mor\u001b[39;00m indexes\u001b[38;5;241m.\u001b[39mis_monotonic_decreasing):\n\u001b[0;32m--> 648\u001b[0m         \u001b[38;5;28;01mraise\u001b[39;00m \u001b[38;5;167;01mValueError\u001b[39;00m(\n\u001b[1;32m    649\u001b[0m             \u001b[38;5;124m\"\u001b[39m\u001b[38;5;124mResulting object does not have monotonic\u001b[39m\u001b[38;5;124m\"\u001b[39m\n\u001b[1;32m    650\u001b[0m             \u001b[38;5;124m\"\u001b[39m\u001b[38;5;124m global indexes along dimension \u001b[39m\u001b[38;5;132;01m{}\u001b[39;00m\u001b[38;5;124m\"\u001b[39m\u001b[38;5;241m.\u001b[39mformat(dim)\n\u001b[1;32m    651\u001b[0m         )\n\u001b[1;32m    653\u001b[0m \u001b[38;5;28;01mreturn\u001b[39;00m concatenated\n",
      "\u001b[0;31mValueError\u001b[0m: Resulting object does not have monotonic global indexes along dimension ocean_time"
     ]
    }
   ],
   "source": [
    "%%time\n",
    "\n",
    "# using xr.open_mfdataset\n",
    "\n",
    "vars2drop = [\"ubar\",\"vbar\",\"w\",\"Hsbl\",\"Hbbl\",\"swrad\"]\n",
    "\n",
    "ds = xr.open_mfdataset(paths=\"/g/data3/hh5/tmp/access-om/fbd581/ROMS/OUTPUT/waom4extend_shflim_S_0.25Q/output_yr18/ocean_avg_00*.nc\" , chunks={'eta_rho': '200MB'}, parallel=bool, drop_variables=vars2drop, decode_times=False) # , concat_dim=\"ocean_time\"\n",
    "\n",
    "#- preserving 5-days avgs\n",
    "temp = ds.variables[\"temp\"] \n",
    "salt = ds.variables[\"salt\"]\n",
    "shflux = ds.variables[\"shflux\"] \n",
    "ssflux = ds.variables[\"ssflux\"]\n",
    "m = ds.variables[\"m\"]\n",
    "# HvomT = ds.variables[\"Hvom_temp\"]       ## !!! Huon_temp/Hvom_temp were not saved in the original run\n",
    "# HuonT = ds.variables[\"Huon_temp\"]       ## now it's running here: /scratch/gi0/fbd581/waom4extend_shflim_S_0.25Q/output_yr10_diag\n",
    "Hvom = ds.variables[\"Hvom\"] \n",
    "Huon = ds.variables[\"Huon\"] \n",
    "\n",
    "ds = ds.set_coords(['Cs_r', 'Cs_w', 'hc', 'h', 'Vtransform'])\n",
    "\n",
    "Zo_rho = (ds.hc * ds.s_rho + ds.Cs_r * ds.h) / (ds.hc + ds.h)\n",
    "z_rho = ds.zeta + (ds.zeta + ds.h) * Zo_rho + ds.zice\n",
    "print(\"Vtransform=2\")\n",
    "Zo_w = (ds.hc * ds.s_w + ds.Cs_w * ds.h) / (ds.hc + ds.h)\n",
    "z_w = ds.zeta + (ds.zeta + ds.h) * Zo_w + ds.zice\n",
    "\n",
    "ds.close()\n"
   ]
  },
  {
   "cell_type": "code",
   "execution_count": 5,
   "id": "db8e7215-9e41-4543-9c59-d5b0363b5dff",
   "metadata": {
    "tags": []
   },
   "outputs": [
    {
     "ename": "OSError",
     "evalue": "no files to open",
     "output_type": "error",
     "traceback": [
      "\u001b[0;31m---------------------------------------------------------------------------\u001b[0m",
      "\u001b[0;31mOSError\u001b[0m                                   Traceback (most recent call last)",
      "File \u001b[0;32m<timed exec>:1\u001b[0m\n",
      "File \u001b[0;32m/g/data/hh5/public/apps/miniconda3/envs/analysis3-23.01/lib/python3.9/site-packages/xarray/backends/api.py:947\u001b[0m, in \u001b[0;36mopen_mfdataset\u001b[0;34m(paths, chunks, concat_dim, compat, preprocess, engine, data_vars, coords, combine, parallel, join, attrs_file, combine_attrs, **kwargs)\u001b[0m\n\u001b[1;32m    944\u001b[0m     paths \u001b[38;5;241m=\u001b[39m [os\u001b[38;5;241m.\u001b[39mfspath(p) \u001b[38;5;28;01mif\u001b[39;00m \u001b[38;5;28misinstance\u001b[39m(p, os\u001b[38;5;241m.\u001b[39mPathLike) \u001b[38;5;28;01melse\u001b[39;00m p \u001b[38;5;28;01mfor\u001b[39;00m p \u001b[38;5;129;01min\u001b[39;00m paths]\n\u001b[1;32m    946\u001b[0m \u001b[38;5;28;01mif\u001b[39;00m \u001b[38;5;129;01mnot\u001b[39;00m paths:\n\u001b[0;32m--> 947\u001b[0m     \u001b[38;5;28;01mraise\u001b[39;00m \u001b[38;5;167;01mOSError\u001b[39;00m(\u001b[38;5;124m\"\u001b[39m\u001b[38;5;124mno files to open\u001b[39m\u001b[38;5;124m\"\u001b[39m)\n\u001b[1;32m    949\u001b[0m \u001b[38;5;28;01mif\u001b[39;00m combine \u001b[38;5;241m==\u001b[39m \u001b[38;5;124m\"\u001b[39m\u001b[38;5;124mnested\u001b[39m\u001b[38;5;124m\"\u001b[39m:\n\u001b[1;32m    950\u001b[0m     \u001b[38;5;28;01mif\u001b[39;00m \u001b[38;5;28misinstance\u001b[39m(concat_dim, (\u001b[38;5;28mstr\u001b[39m, DataArray)) \u001b[38;5;129;01mor\u001b[39;00m concat_dim \u001b[38;5;129;01mis\u001b[39;00m \u001b[38;5;28;01mNone\u001b[39;00m:\n",
      "\u001b[0;31mOSError\u001b[0m: no files to open"
     ]
    }
   ],
   "source": [
    "%%time\n",
    "\n",
    "ds = xr.open_mfdataset(paths=\"/g/data3/hh5/tmp/access-om/fbd581/ROMS/OUTPUT/waom4extend_shflim_S_0.25Q/output_yr18/ocean_his_00*.nc\" , chunks={'eta_rho': '200MB'}, parallel=bool, decode_times=False) #, chuncks=\"auto\", concat_dim=\"ocean_time\"\n",
    "\n",
    "#- preserving 5-days avgs\n",
    "temp_snap = ds.variables[\"temp\"] \n",
    "\n",
    "ds.close()\n"
   ]
  },
  {
   "cell_type": "code",
   "execution_count": 6,
   "id": "86cbc94d-76df-4f5b-8dac-986481cc7026",
   "metadata": {
    "tags": []
   },
   "outputs": [
    {
     "ename": "NameError",
     "evalue": "name 'temp_snap' is not defined",
     "output_type": "error",
     "traceback": [
      "\u001b[0;31m---------------------------------------------------------------------------\u001b[0m",
      "\u001b[0;31mNameError\u001b[0m                                 Traceback (most recent call last)",
      "File \u001b[0;32m<timed exec>:2\u001b[0m\n",
      "\u001b[0;31mNameError\u001b[0m: name 'temp_snap' is not defined"
     ]
    }
   ],
   "source": [
    "%%time\n",
    "\n",
    "# calculate dT/dt by differentiating temp_snap:\n",
    "temp_Rate = np.empty(temp_snap.shape)\n",
    "dT = np.empty(temp_snap.shape)\n",
    "\n",
    "# needs the initial conditions:\n",
    "ds = xr.open_dataset('/g/data3/hh5/tmp/access-om/fbd581/ROMS/OUTPUT/waom4extend_shflim_S_0.25Q/output_yr17/ocean_rst.nc')\n",
    "temp_ini = ds.variables[\"temp\"].isel(ocean_time=-1, two=0) # 5-days mean\n",
    "ds.close()\n",
    "\n",
    "    \n",
    "tlen = len(temp[:,0,0,0])"
   ]
  },
  {
   "cell_type": "code",
   "execution_count": 7,
   "id": "dc67b4c5-dbd1-4da8-85be-cf52fc14ccfb",
   "metadata": {
    "tags": []
   },
   "outputs": [
    {
     "ename": "NameError",
     "evalue": "name 'temp_snap' is not defined",
     "output_type": "error",
     "traceback": [
      "\u001b[0;31m---------------------------------------------------------------------------\u001b[0m",
      "\u001b[0;31mNameError\u001b[0m                                 Traceback (most recent call last)",
      "File \u001b[0;32m<timed exec>:2\u001b[0m\n",
      "\u001b[0;31mNameError\u001b[0m: name 'temp_snap' is not defined"
     ]
    }
   ],
   "source": [
    "%%time\n",
    "\n",
    "# transform to DataArray\n",
    "temp_snap = xr.DataArray(temp_snap)\n",
    "temp_ini = xr.DataArray(temp_ini)\n",
    "\n",
    "# - append temp_ini to first time index in temp_snap and then do diff\n",
    "temp_snap = xr.concat([temp_ini,temp_snap], 'ocean_time')\n",
    "dT = temp_snap.diff('ocean_time')\n",
    "print(dT.shape)\n",
    "\n",
    "# \n",
    "dt = 5*86400 # 5-days in seconds\n",
    "temp_Rate = np.divide(dT, dt)\n",
    "temp_Rate = xr.DataArray(temp_Rate)\n",
    "# temp_Rate=temp_Rate.rename({'dim_0':'ocean_time','dim_1':'s_rho','dim_2':'eta_rho','dim_3':'xi_rho'})\n",
    "\n",
    "print(dT.shape)\n",
    "\n",
    "temp_Rate = temp_Rate.transpose('ocean_time','s_rho','eta_rho','xi_rho')\n",
    "\n",
    "print(temp_Rate.shape)"
   ]
  },
  {
   "cell_type": "code",
   "execution_count": 8,
   "id": "8efefe02-0a4b-4942-ba41-c6d97be49eca",
   "metadata": {
    "tags": []
   },
   "outputs": [
    {
     "name": "stdout",
     "output_type": "stream",
     "text": [
      "(7, 31, 1400, 1575)\n",
      "(6, 31, 1400, 1575)\n",
      "(6, 31, 1400, 1575)\n",
      "(6, 31, 1400, 1575)\n",
      "(6, 31, 1400, 1575)\n",
      "(6, 31, 1400, 1575)\n",
      "(6, 31, 1400, 1575)\n",
      "(6, 31, 1400, 1575)\n",
      "(6, 31, 1400, 1575)\n",
      "(6, 31, 1400, 1575)\n",
      "(6, 31, 1400, 1575)\n",
      "(6, 31, 1400, 1575)\n"
     ]
    }
   ],
   "source": [
    "# load ROMS avg output\n",
    "for mm  in ['01','02','03','04','05','06','07','08','09','10','11','12']:\n",
    "    ds = xr.open_dataset('/g/data3/hh5/tmp/access-om/fbd581/ROMS/OUTPUT/waom4extend_shflim_S_0.25Q/output_yr18/ocean_avg_00' + mm + '.nc')\n",
    "    print(ds.variables[\"temp\"].shape)\n",
    "    shflux_tmp = ds.variables[\"shflux\"] # X,560,630\n",
    "\n",
    "    # concatanate monthly avgs into a yearly variable\n",
    "    if mm == '01':\n",
    "        shflux2 = shflux_tmp\n",
    "    else:\n",
    "        shflux2 = np.concatenate((shflux2,shflux_tmp), axis=0)\n",
    "    ds.close()\n"
   ]
  },
  {
   "cell_type": "code",
   "execution_count": 9,
   "id": "6d3e3aad-a6de-40fe-85c3-8293d7752416",
   "metadata": {
    "tags": []
   },
   "outputs": [
    {
     "ename": "NameError",
     "evalue": "name 'salt' is not defined",
     "output_type": "error",
     "traceback": [
      "\u001b[0;31m---------------------------------------------------------------------------\u001b[0m",
      "\u001b[0;31mNameError\u001b[0m                                 Traceback (most recent call last)",
      "Cell \u001b[0;32mIn[9], line 2\u001b[0m\n\u001b[1;32m      1\u001b[0m \u001b[38;5;66;03m# calculate surface sigma_theta (potential density)\u001b[39;00m\n\u001b[0;32m----> 2\u001b[0m sigma_t_sfc \u001b[38;5;241m=\u001b[39m gsw\u001b[38;5;241m.\u001b[39mrho(\u001b[43msalt\u001b[49m[:,\u001b[38;5;241m-\u001b[39m\u001b[38;5;241m1\u001b[39m,:,:],temp[:,\u001b[38;5;241m-\u001b[39m\u001b[38;5;241m1\u001b[39m,:,:],\u001b[38;5;241m0\u001b[39m) \u001b[38;5;241m-\u001b[39m \u001b[38;5;241m1000\u001b[39m\n\u001b[1;32m      4\u001b[0m \u001b[38;5;66;03m# load ice draft to create masks\u001b[39;00m\n\u001b[1;32m      5\u001b[0m di \u001b[38;5;241m=\u001b[39m xr\u001b[38;5;241m.\u001b[39mopen_dataset(\u001b[38;5;124m'\u001b[39m\u001b[38;5;124m/g/data3/hh5/tmp/access-om/fbd581/ROMS/OUTPUT/waom4extend_shflim_S_0.25Q/output_yr18/ocean_avg_0001.nc\u001b[39m\u001b[38;5;124m'\u001b[39m)\n",
      "\u001b[0;31mNameError\u001b[0m: name 'salt' is not defined"
     ]
    }
   ],
   "source": [
    "# calculate surface sigma_theta (potential density)\n",
    "sigma_t_sfc = gsw.rho(salt[:,-1,:,:],temp[:,-1,:,:],0) - 1000\n",
    "\n",
    "# load ice draft to create masks\n",
    "di = xr.open_dataset('/g/data3/hh5/tmp/access-om/fbd581/ROMS/OUTPUT/waom4extend_shflim_S_0.25Q/output_yr18/ocean_avg_0001.nc')\n",
    "ice_draft = di.variables[\"zice\"]\n",
    "\n",
    "mask_zice = ma.masked_where(ice_draft < 0, np.ones(ice_draft.shape))\n",
    "mask_outice = ma.masked_where(ice_draft >= 0, np.ones(ice_draft.shape))\n",
    "di.close()\n",
    "\n",
    "dg = xr.open_dataset(\"/g/data3/hh5/tmp/access-om/fbd581/ROMS/waom4_frc/waom4extend_grd.nc\")\n",
    "\n",
    "lat_rho = dg.variables[\"lat_rho\"]\n",
    "lon_rho = dg.variables[\"lon_rho\"]\n",
    "lat_u = dg.variables[\"lat_u\"]\n",
    "lon_u = dg.variables[\"lon_u\"]\n",
    "lat_v = dg.variables[\"lat_v\"]\n",
    "lon_v = dg.variables[\"lon_v\"]\n",
    "pm = dg.variables[\"pm\"]\n",
    "pn = dg.variables[\"pn\"]\n",
    "h = dg.variables[\"h\"]\n",
    "\n",
    "ds.coords['lat_rho']=lat_rho.transpose() # put lat_rho into ds dataset\n",
    "ds.coords['lon_rho']=lon_rho.transpose() # put lon_rho into ds dataset\n",
    "\n",
    "area=np.divide(1,pm*pn)"
   ]
  },
  {
   "cell_type": "code",
   "execution_count": null,
   "id": "684793bf-da4c-4665-abee-21125be978ca",
   "metadata": {
    "tags": []
   },
   "outputs": [],
   "source": [
    "%%time\n",
    "# method 2 to calculate Dz:\n",
    "# z_w=z_w.chunks(chunks={'eta_rho': '200MB'}) # couldn't change chunks.\n",
    "\n",
    "Z_w = z_w.transpose('ocean_time','s_w','eta_rho','xi_rho')\n",
    "print(z_w.shape, Z_w.shape)\n",
    "dz = np.diff(Z_w,axis=1)\n"
   ]
  },
  {
   "cell_type": "code",
   "execution_count": null,
   "id": "2804da7d-59f3-43ad-9a6c-bd532e5599bd",
   "metadata": {
    "tags": []
   },
   "outputs": [],
   "source": [
    "# this mask needs to be replaced by mask_shelf2 that uses the 1500-m contour\n",
    "\n",
    "mask_shelf = ma.masked_where(h > 1500, np.ones(h.shape))"
   ]
  },
  {
   "cell_type": "code",
   "execution_count": null,
   "id": "0b0d8a58-004b-4d0a-a2b6-b713ede60685",
   "metadata": {},
   "outputs": [],
   "source": [
    "# # outdir = '/g/data3/hh5/tmp/access-om/fbd581/ROMS/postprocessing/cross_contour_tmp/'\n",
    "# outdir = '/home/581/fbd581/cross_contour_tmp/'\n",
    "\n",
    "# ds = xr.open_dataset(outdir + 'WAOM4extend_cross-1500m_vars4OHB.nc')\n",
    "# mask_shelf = ds.Mask_shelf2\n",
    "# ds.close()"
   ]
  },
  {
   "cell_type": "code",
   "execution_count": null,
   "id": "5187bd72-a07f-430c-b076-1d217d1ba472",
   "metadata": {
    "tags": []
   },
   "outputs": [],
   "source": [
    "# determine constants:\n",
    "rho0 = 1025 # kg. m-3\n",
    "Cp = 3989.245 # J.kg-1.degC-1\n",
    "Tf = -1.95 # degC"
   ]
  },
  {
   "cell_type": "code",
   "execution_count": null,
   "id": "acbc28ba-0a21-4c93-85e2-47232700093f",
   "metadata": {
    "tags": []
   },
   "outputs": [],
   "source": [
    "%%time\n",
    "\n",
    "# use -1000 mask to compute integral of surface heat fluxes and ocean heat content tendency:\n",
    "# temp_Rate=xr.DataArray(temp_Rate)\n",
    "temp_rate = temp_Rate.transpose('ocean_time','s_rho','eta_rho','xi_rho')\n",
    "dT = dT.transpose('ocean_time','s_rho','eta_rho','xi_rho')\n",
    "\n",
    "## Integrated heat tendency and sfc heat flux terms to check heat budget closure:\n",
    "\n",
    "# 1. area-integral surface heat flux\n",
    "tlen = len(temp_rate[:,0,0,0])\n",
    "area_sum =  np.nansum(np.nansum(area,axis=1), axis=0)\n",
    "\n",
    "shflux_int = np.empty((tlen))\n",
    "for mm in np.arange(0,tlen):\n",
    "    ###shflux_area = shflux[mm,:]*area*mask_shelf*mask_coast\n",
    "    # needs xarray masking:\n",
    "    shflux_area = shflux[mm,:].where(h < 1500)*area\n",
    "    shflux_int[mm] = np.nansum(np.nansum(shflux_area,axis=1), axis=0)\n",
    "    # del shflux_area\n",
    "    \n",
    "# 2. volume-integral heat tendency\n",
    "temp_rate_int = np.empty((tlen))\n",
    "temp_rate_vol = np.empty(np.squeeze(temp_Rate[:,0,:,:]).shape)\n",
    "for mm in np.arange(0,tlen):\n",
    "# - multplying by dz:\n",
    "    temp_rate_dz = temp_Rate[mm,:].where(h < 1500)*dz[mm,:]\n",
    "    temp_rate_vint = np.nansum(temp_rate_dz, axis=0)\n",
    "    temp_rate_vol[mm,:] = temp_rate_vint*area*mask_shelf#*mask_coast\n",
    "    del temp_rate_vint\n",
    "    temp_rate_int[mm] = np.nansum(np.nansum(temp_rate_vol[mm,:],axis=1), axis=0)*Cp*rho0\n"
   ]
  },
  {
   "cell_type": "code",
   "execution_count": null,
   "id": "4be9ada9-30a9-4386-8ffe-1dea611a863c",
   "metadata": {
    "tags": []
   },
   "outputs": [],
   "source": [
    "%%time\n",
    "\n",
    "# 3. surface heat flux\n",
    "shflux2_int = np.empty((tlen))\n",
    "for mm in np.arange(0,tlen):\n",
    "    shflux2_area = shflux2[mm,:]*area*mask_shelf#*mask_coast\n",
    "    shflux2_int[mm] = np.nansum(np.nansum(shflux2_area,axis=1), axis=0)\n",
    "    del shflux2_area\n",
    "\n",
    "# 4. volume-integral heat tendency using old temp_Rate2:\n",
    "# temp_rate2_int = np.empty((tlen))\n",
    "# temp_rate2_vol = np.empty(np.squeeze(temp_Rate2[:,0,:,:]).shape)\n",
    "# for mm in np.arange(0,tlen):\n",
    "# # - multplying by dz:\n",
    "#     temp_rate2_dz = temp_Rate2[mm,:]*dz[mm,:]\n",
    "#     temp_rate2_vint = np.nansum(temp_rate2_dz, axis=0)\n",
    "#     temp_rate2_vol[mm,:] = temp_rate2_vint*area*mask_shelf\n",
    "#     del temp_rate2_vint\n",
    "#     temp_rate2_int[mm] = np.nansum(np.nansum(temp_rate2_vol[mm,:],axis=1), axis=0)*Cp*rho0\n"
   ]
  },
  {
   "cell_type": "code",
   "execution_count": null,
   "id": "677f56a9-e0ee-4b3a-9de0-88cd744f84e4",
   "metadata": {
    "tags": []
   },
   "outputs": [],
   "source": [
    "print(temp_rate_vol.shape)"
   ]
  },
  {
   "cell_type": "code",
   "execution_count": null,
   "id": "140201c2-7969-4049-acd0-841fe68dfa90",
   "metadata": {
    "tags": []
   },
   "outputs": [],
   "source": [
    "# mask of the coast\n",
    "mask_coast = ma.masked_where(np.isnan(shflux[0,:,:]), np.ones(shflux[0,:,:].shape))\n"
   ]
  },
  {
   "cell_type": "code",
   "execution_count": null,
   "id": "545dc26e-352d-41b1-8e23-330bd99a4a09",
   "metadata": {
    "tags": []
   },
   "outputs": [],
   "source": [
    "    \n",
    "fig, ax = plt.subplots(nrows=1, ncols=2, figsize = (10,5))\n",
    "\n",
    "ax[0].title.set_text('WAOM4 yr18 \\n Heat content tendencies')\n",
    "aa=ax[0].pcolormesh(np.nanmean(temp_rate_vol[1:-1], axis=0)*mask_shelf*mask_coast, vmin=-100, vmax=100, cmap='coolwarm')\n",
    "# plt.colorbar(aa)\n",
    "\n",
    "ax[1].title.set_text('WAOM4 yr18 \\n Surface heat flux')\n",
    "bb=ax[1].pcolormesh(np.nanmean(shflux[1:-1], axis=0)*mask_shelf*mask_coast, vmin=-100, vmax=100, cmap='coolwarm')\n",
    "\n",
    "\n",
    "# dd=ax[1,1].pcolormesh(np.nanmean(shflux2, axis=0)*mask_shelf*mask_coast, vmin=-100, vmax=100, cmap='coolwarm')\n",
    "\n",
    "# # diff maps:\n",
    "# ff=ax[2,1].pcolormesh((np.nanmean(shflux, axis=0)*mask_shelf*mask_coast)-(np.nanmean(shflux2, axis=0)*mask_shelf*mask_coast), vmin=-100, vmax=100, cmap='coolwarm')\n",
    "\n",
    "\n",
    "cax2 = plt.axes([0.92, 0.12, 0.01, 0.75])\n",
    "cb = plt.colorbar(bb, cax=cax2, orientation='vertical')\n",
    "cb.ax.set_ylabel('W.m$^{-2}$')"
   ]
  },
  {
   "cell_type": "code",
   "execution_count": null,
   "id": "1bb1def0-77dc-4691-8187-d804de58b3cf",
   "metadata": {
    "tags": []
   },
   "outputs": [],
   "source": [
    "plt.plot(shflux[:,400,200])\n",
    "plt.plot(shflux2[:,400,200],'--')"
   ]
  },
  {
   "cell_type": "code",
   "execution_count": null,
   "id": "555b9e7a-4094-4234-a285-f7b3afec8797",
   "metadata": {
    "tags": []
   },
   "outputs": [],
   "source": [
    "# mask_shelf = ma.masked_where(h > 1500, np.ones(h.shape))\n",
    "\n",
    "shflux_mm7 = shflux.isel(ocean_time=7).where(h < 1500)"
   ]
  },
  {
   "cell_type": "code",
   "execution_count": null,
   "id": "6fd959e1-e55e-4405-bcc6-82100ab01532",
   "metadata": {
    "tags": []
   },
   "outputs": [],
   "source": [
    "# plt.pcolormesh(shflux[7,:,:]*mask_shelf*mask_coast-shflux2[7,:,:]*mask_shelf*mask_coast, vmin=-100, vmax=100, cmap='coolwarm')\n",
    "# plt.pcolormesh((shflux[7,:,:]*area*mask_shelf*mask_coast)-(shflux2[7,:,:]*area*mask_shelf*mask_coast), vmin=-100, vmax=100, cmap='coolwarm')\n",
    "plt.pcolormesh(shflux[7,:,:].where(h < 1500), vmin=-100, vmax=100, cmap='coolwarm')\n",
    "# plt.pcolormesh(shflux_mm7-(shflux2[7,:,:]*mask_shelf*mask_coast), vmin=-100, vmax=100, cmap='coolwarm')\n",
    "# plt.pcolormesh(shflux[7,:,:]-(shflux2[7,:,:]*mask_shelf*mask_coast), vmin=-100, vmax=100, cmap='coolwarm')\n",
    "# plt.pcolormesh(shflux[7,:,:].where(h < 1500)-(shflux2[7,:,:]*mask_shelf*mask_coast), vmin=-100, vmax=100, cmap='coolwarm')\n",
    "\n",
    "plt.colorbar()"
   ]
  },
  {
   "cell_type": "code",
   "execution_count": null,
   "id": "740d534b-77d0-4090-9630-c4724e5501c8",
   "metadata": {
    "tags": []
   },
   "outputs": [],
   "source": [
    "plt.pcolormesh(shflux2[7,:,:]*mask_shelf, vmin=-100, vmax=100, cmap='coolwarm')\n",
    "plt.colorbar()"
   ]
  },
  {
   "cell_type": "code",
   "execution_count": null,
   "id": "5ecc80bc-e614-4ffc-901c-1ecbc52c8026",
   "metadata": {
    "tags": []
   },
   "outputs": [],
   "source": [
    "plt.plot(temp_rate_int-np.nanmean(temp_rate_int),'-b')\n",
    "plt.plot(shflux_int-np.nanmean(shflux_int),'r')\n",
    "plt.plot(shflux2_int-np.nanmean(shflux2_int),'--y')\n",
    "plt.legend()\n"
   ]
  },
  {
   "cell_type": "code",
   "execution_count": null,
   "id": "6c4fc77d-5832-4006-8c15-90824586a09e",
   "metadata": {
    "tags": []
   },
   "outputs": [],
   "source": [
    "# OHB integrated\n",
    "print(np.nanmean(temp_rate_int))#*1e-15)\n",
    "print(np.nanmean(shflux_int))#*1e-15)\n",
    "\n"
   ]
  },
  {
   "cell_type": "code",
   "execution_count": null,
   "id": "34fe84fe-4283-46ba-807e-879972363c9b",
   "metadata": {
    "tags": []
   },
   "outputs": [],
   "source": [
    "ohc_tend = temp_rate_int - np.nanmean(temp_rate_int)\n",
    "shflux_tend = shflux_int - np.nanmean(shflux_int)\n",
    "\n",
    "months=np.arange(0,73)*(5/30.41667)\n",
    "\n",
    "plt.plot(months,shflux_tend, label='Sfc heat flux')\n",
    "plt.plot(months,ohc_tend, label='OHC tendency')\n",
    "plt.plot(months,shflux_int*0,'--k')\n",
    "plt.plot(months,ohc_tend - shflux_tend, '--r', label='residual',linewidth=0.5)\n",
    "plt.ylim([-1.5e14,1.5e14])\n",
    "\n",
    "plt.legend()\n",
    "plt.ylabel('Heat transport (W)')\n",
    "plt.xlabel('Time (months)')\n",
    "plt.title('WAOM4')"
   ]
  },
  {
   "cell_type": "code",
   "execution_count": null,
   "id": "e2fcecc1-3377-41cb-b2d9-ef44032015c3",
   "metadata": {
    "tags": []
   },
   "outputs": [],
   "source": [
    "proj = ccrs.SouthPolarStereo()\n",
    "\n",
    "fig = plt.figure(figsize=(12,6))\n",
    "\n",
    "ax1 = fig.add_subplot(121, projection=proj)\n",
    "ct1=plt.pcolormesh(lon_rho, lat_rho, np.nanmean(temp_rate_vol[1:-1], axis=0)*mask_shelf*mask_coast, vmin=-100, vmax=100, cmap='coolwarm', transform=ccrs.PlateCarree())\n",
    "plt.title('WAOM4 \\n Heat content tendencies')\n",
    "# ax1.gridlines() # draw_labels=True,linewidth=\n",
    "ax1.add_feature(cfeature.LAND, zorder=3, edgecolor='white', facecolor='gray')\n",
    "\n",
    "ax2 = fig.add_subplot(122, projection=proj)\n",
    "ct1=plt.pcolormesh(lon_rho, lat_rho, np.nanmean(shflux[1:-1], axis=0)*mask_shelf*mask_coast, vmin=-100, vmax=100, cmap='coolwarm', transform=ccrs.PlateCarree())\n",
    "plt.title('WAOM4 \\n Surface heat flux')\n",
    "# ax2.gridlines() # draw_labels=True,linewidth=\n",
    "ax2.add_feature(cfeature.LAND, zorder=3, edgecolor='white', facecolor='gray')\n",
    "\n",
    "cax2 = plt.axes([0.92, 0.12, 0.01, 0.75])\n",
    "cb = plt.colorbar(ct1, cax=cax2, orientation='vertical')\n",
    "cb.ax.set_ylabel('W.m$^{-2}$')"
   ]
  },
  {
   "cell_type": "code",
   "execution_count": null,
   "id": "088cec33-909f-4a32-bd29-a432b7d0f990",
   "metadata": {},
   "outputs": [],
   "source": []
  }
 ],
 "metadata": {
  "kernelspec": {
   "display_name": "Python [conda env:analysis27-18.10]",
   "language": "python",
   "name": "conda-env-analysis27-18.10-py"
  },
  "language_info": {
   "codemirror_mode": {
    "name": "ipython",
    "version": 2
   },
   "file_extension": ".py",
   "mimetype": "text/x-python",
   "name": "python",
   "nbconvert_exporter": "python",
   "pygments_lexer": "ipython2",
   "version": "2.7.15"
  }
 },
 "nbformat": 4,
 "nbformat_minor": 5
}
