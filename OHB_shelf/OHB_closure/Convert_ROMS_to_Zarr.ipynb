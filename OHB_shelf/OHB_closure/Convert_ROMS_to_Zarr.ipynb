{
 "cells": [
  {
   "cell_type": "code",
   "execution_count": 9,
   "id": "5b3b702b-5d58-4622-8694-f2eefe1b02bb",
   "metadata": {},
   "outputs": [],
   "source": [
    "# read nc output from WAOM 10km run\n",
    "\n",
    "import xarray as xr\n",
    "import glob\n",
    "\n",
    "# import pandas as p\n",
    "# import numpy as np\n",
    "# import numpy.ma as ma\n",
    "# import cartopy.crs as ccrs\n",
    "# import cartopy.feature as cfeature\n",
    "# import matplotlib as mpl\n",
    "# # mpl.use('Agg')\n",
    "# import matplotlib.pyplot as plt\n",
    "# import matplotlib.dates as dates\n",
    "# from matplotlib.ticker import NullFormatter\n",
    "# from matplotlib.colors import LinearSegmentedColormap   # for custom colormaps\n",
    "\n",
    "# import matplotlib.ticker as mticker\n",
    "# from cartopy.mpl.gridliner import LONGITUDE_FORMATTER, LATITUDE_FORMATTER\n",
    "\n",
    "# from datetime import datetime, timedelta\n",
    "\n",
    "# from netCDF4 import Dataset\n",
    "# from netCDF4 import num2date, date2num\n",
    "# from matplotlib.ticker import NullFormatter\n",
    "# from matplotlib.colors import LinearSegmentedColormap   # for custom colormaps\n",
    "\n",
    "# import gsw\n",
    "# import cmocean\n",
    "\n",
    "# import pyresample\n",
    "\n",
    "# from dask.distributed import Client\n",
    "# import logging\n",
    "# import warnings\n",
    "# warnings.filterwarnings('ignore')"
   ]
  },
  {
   "cell_type": "code",
   "execution_count": 2,
   "id": "67d8075a-8de3-4798-a3f2-01ceffb93e91",
   "metadata": {},
   "outputs": [],
   "source": [
    "# client = Client(threads_per_worker=1, memory_limit=0, silence_logs=logging.ERROR)\n",
    "# print(client)"
   ]
  },
  {
   "cell_type": "code",
   "execution_count": 3,
   "id": "fc8e60ea-1f81-41cb-9022-b7850c09a82c",
   "metadata": {},
   "outputs": [],
   "source": [
    "# fig_path = '/g/data/hh5/tmp/access-om/fbd581/ROMS/postprocessing/figs/OHB_shelf/'"
   ]
  },
  {
   "cell_type": "markdown",
   "id": "fcc51c8f-1829-4c9f-8c83-18a64649ad90",
   "metadata": {},
   "source": [
    "### Define functions following https://raphaeldussin.medium.com/modern-python-tools-for-the-roms-ocean-model-bfca8642db01"
   ]
  },
  {
   "cell_type": "code",
   "execution_count": 10,
   "id": "f6c14d1d-8e71-41c2-adf7-24ece30cd833",
   "metadata": {},
   "outputs": [],
   "source": [
    "def remove_all_small_variables(ds):\n",
    "    \"\"\" remove all the variables that have less than 3 dimensions\n",
    "    \n",
    "        Parameters:\n",
    "            ds (xarray.Dataset): ROMS dataset\n",
    "    \"\"\"\n",
    "    for v in ds.variables:\n",
    "        if v not in ['Cs_r', 'Cs_w', 'hc', 'Vtransform', 'ocean_time']:\n",
    "            ds = ds.drop_vars(v) if len(ds[v].dims) < 3 else ds\n",
    "    return ds"
   ]
  },
  {
   "cell_type": "code",
   "execution_count": 11,
   "id": "c27dbfa0-b48e-4bae-803f-3d003133f286",
   "metadata": {},
   "outputs": [],
   "source": [
    "def select_interior(ds):\n",
    "    \"\"\"\n",
    "    discard \"exterior\" u,v,rho-points to build a symetric grid\n",
    "    \n",
    "        Parameters:\n",
    "            ds (xarray.Dataset): ROMS dataset\n",
    "    \"\"\"\n",
    "    ds = ds.isel(xi_rho=slice(1,-1), eta_rho=slice(1,-1))\n",
    "    if 'xi_v' in ds.dims:\n",
    "        ds = ds.isel(xi_v=slice(1,-1))\n",
    "    if 'eta_u' in ds.dims:\n",
    "        ds = ds.isel(eta_u=slice(1,-1))\n",
    "    return ds"
   ]
  },
  {
   "cell_type": "code",
   "execution_count": 12,
   "id": "cb57d843-7825-41d7-8ef8-a6b8fe80ecfc",
   "metadata": {},
   "outputs": [],
   "source": [
    "def rename_dims(ds):\n",
    "    \"\"\" rename dimensions\n",
    "    \n",
    "        Parameters:\n",
    "            ds (xarray.Dataset): ROMS dataset\n",
    "    \n",
    "    \"\"\"\n",
    "    ds = ds.rename({'xi_rho': 'xh', 'xi_v': 'xh', 'xi_u': 'xq', 'xi_psi': 'xq',\n",
    "                    'eta_rho': 'yh', 'eta_v': 'yq', 'eta_u': 'yh', 'eta_psi': 'yq',\n",
    "                    'ocean_time': 'time'\n",
    "                    })\n",
    "    return ds"
   ]
  },
  {
   "cell_type": "code",
   "execution_count": 13,
   "id": "7db992ee-f18d-4a7f-b309-c850755a4d26",
   "metadata": {},
   "outputs": [],
   "source": [
    "def add_coords(ds):\n",
    "    \"\"\" set coordinate variables as xarray coordinates\n",
    "    \n",
    "        Parameters:\n",
    "            ds (xarray.Dataset): ROMS dataset\n",
    "    \"\"\"\n",
    "    ds = ds.set_coords(['Cs_r', 'Cs_w', 'hc', 'h', 'Vtransform', 'time',\n",
    "                        'lon_rho', 'lon_v', 'lon_u', 'lon_psi',\n",
    "                        'lat_rho', 'lat_v', 'lat_u', 'lat_psi'])\n",
    "    return ds\n"
   ]
  },
  {
   "cell_type": "code",
   "execution_count": 24,
   "id": "c457adc6-437d-486d-b06e-efbc1652301e",
   "metadata": {},
   "outputs": [
    {
     "name": "stdout",
     "output_type": "stream",
     "text": [
      "working on /g/data/gv90/fbd581/ROMS/OUTPUT/waom4extend_shflim_S_0.25Q/output_01-20yr/ocean_avg_0010.nc\n",
      "CPU times: user 1min 5s, sys: 1min 7s, total: 2min 12s\n",
      "Wall time: 1min\n"
     ]
    }
   ],
   "source": [
    "%%time\n",
    "\n",
    "# use glob to create a list of files to convert\n",
    "filelist = glob.glob('/g/data/gv90/fbd581/ROMS/OUTPUT/waom4extend_shflim_S_0.25Q/output_01-20yr/ocean_avg_0010.nc')\n",
    "# path to grid file\n",
    "gridfile = '/g/data/gv90/fbd581/ROMS/waom4_frc/waom4extend_grd.nc'\n",
    "# output store name\n",
    "store_name = '/g/data/gv90/fbd581/ROMS/OUTPUT/waom4extend_shflim_S_0.25Q/output_01-20yr/WAOM4_store'\n",
    "\n",
    "# load the grid\n",
    "ds_grid = xr.open_dataset(gridfile)\n",
    "                             \n",
    "# select interior points for grid variables\n",
    "ds_grid = select_interior(ds_grid)\n",
    "\n",
    "first=True\n",
    "# iterate on files\n",
    "for ncfile in filelist:\n",
    "    ds = xr.open_dataset(ncfile)\n",
    "    ds = remove_all_small_variables(ds)\n",
    "    ds = select_interior(ds)\n",
    "    ds = xr.merge([ds, ds_grid])\n",
    "    ds = rename_dims(ds)\n",
    "    ds = add_coords(ds)\n",
    "    ds = ds.chunk({'time': 1})\n",
    "    print(f\"working on {ncfile}\")\n",
    "    if first:\n",
    "        ds.to_zarr(store_name, consolidated=True, mode='w')\n",
    "    else:\n",
    "        ds.to_zarr(store_name, consolidated=True, mode='a', append_dim='time')\n",
    "    first=False"
   ]
  },
  {
   "cell_type": "markdown",
   "id": "7564142d-0376-4482-a8f4-8438a87a7ec1",
   "metadata": {},
   "source": [
    "#### report time:\n",
    "Wall time: 19.8 s, WAOM10, 1yr file\n",
    "Wall time: 13min 56s, WAOM10, 20yr files"
   ]
  },
  {
   "cell_type": "code",
   "execution_count": 21,
   "id": "aee37eda-3234-4068-a1dc-d75117d29fac",
   "metadata": {},
   "outputs": [
    {
     "name": "stdout",
     "output_type": "stream",
     "text": [
      "\u001b[0m\u001b[01;34m11-20yr\u001b[0m/            \u001b[01;32mocean_avg_0005.nc\u001b[0m*   \u001b[01;32mocean_avg_0009.nc\u001b[0m*\n",
      "\u001b[01;32mocean_avg_0001.nc\u001b[0m*  \u001b[01;32mocean_avg_0006.nc\u001b[0m*   \u001b[01;32mocean_avg_0009.nc~\u001b[0m*\n",
      "\u001b[01;32mocean_avg_0002.nc\u001b[0m*  \u001b[01;32mocean_avg_0007.nc\u001b[0m*   \u001b[01;32mocean_avg_0010.nc\u001b[0m*\n",
      "\u001b[01;32mocean_avg_0003.nc\u001b[0m*  \u001b[01;32mocean_avg_0008.nc\u001b[0m*   \u001b[01;32mocean_avg_0010.nc~\u001b[0m*\n",
      "\u001b[01;32mocean_avg_0004.nc\u001b[0m*  \u001b[01;32mocean_avg_0008.nc~\u001b[0m*  \u001b[01;34mtmp-3yrs\u001b[0m/\n"
     ]
    }
   ],
   "source": [
    "ls /g/data/gv90/fbd581/ROMS/OUTPUT/waom4extend_shflim_S_0.25Q/output_01-20yr"
   ]
  },
  {
   "cell_type": "markdown",
   "id": "4275bb2e-c2a3-4d37-9a15-61e69570fdc6",
   "metadata": {},
   "source": [
    "### 2nd part: read Zarr and try some plots"
   ]
  },
  {
   "cell_type": "code",
   "execution_count": 26,
   "id": "2d2643e1-9893-4d83-b557-9db67a84a1bb",
   "metadata": {},
   "outputs": [],
   "source": [
    "def compute_depth_layers(ds, grid, hmin=0.1):\n",
    "    \"\"\" compute depths of ROMS vertical levels (Vtransform = 2) \"\"\"\n",
    "\n",
    "    hwater = ds.h- abs(ds.zice) # replace ds.h for hwater below\n",
    "    \n",
    "    # compute vertical transformation functional\n",
    "    S_rho = (ds.hc * ds.s_rho + ds.Cs_r * hwater) / (ds.hc + hwater)\n",
    "    S_w = (ds.hc * ds.s_w + ds.Cs_w * hwater) / (ds.hc + hwater)\n",
    "    \n",
    "    # compute depth of rho (layers) and w (interfaces) points\n",
    "    z_rho = ds.zeta + (ds.zeta + hwater) * S_rho\n",
    "    z_w = ds.zeta + (ds.zeta + hwater) * S_w\n",
    "    \n",
    "    # transpose arrays and fill NaNs with a minimal depth\n",
    "    ds['z_rho'] = z_rho.transpose(*('time', 's_rho','yh','xh'),\n",
    "                                  transpose_coords=False).fillna(hmin)\n",
    "    \n",
    "    ds['z_w'] = z_w.transpose(*('time', 's_w','yh','xh'),\n",
    "                                  transpose_coords=False).fillna(hmin)\n",
    "    \n",
    "    # interpolate depth of levels at U and V points\n",
    "    ds['z_u'] = grid.interp(ds['z_rho'], 'X', boundary='fill')\n",
    "    ds['z_v'] = grid.interp(ds['z_rho'], 'Y', boundary='fill')\n",
    "    \n",
    "    # compute layer thickness as difference between interfaces\n",
    "    ds['dz'] = grid.diff(ds['z_w'], 'Z')\n",
    "    \n",
    "    # add z_rho and z_w to xarray coordinates\n",
    "    ds = ds.set_coords(['z_rho', 'z_w', 'z_v', 'z_u'])\n",
    "    \n",
    "    return ds\n",
    "\n",
    "\n",
    "    #  New formulation (Vtransform(ng) = 2):\n",
    "    #\n",
    "    #         z_w(x,y,s,t) = zeta(x,y,t) + [zeta(x,y,t)+ h(x,y)] * Zo_w\n",
    "    #                 Zo_w = [hc * s(k) + C(k) * h(x,y)] / [hc + h(x,y)]\n",
    "    # hwater = ds.h- abs(ds.zice) # replace ds.h for hwater below\n",
    "    # Zo_rho = (ds.hc * ds.s_rho + ds.Cs_r * hwater) / (ds.hc + hwater)\n",
    "    # z_rho = ds.zeta + (ds.zeta + hwater) * Zo_rho \n",
    "    \n",
    "    # Zo_w = (ds.hc * ds.s_w + ds.Cs_w * hwater) / (ds.hc + hwater)\n",
    "    # z_w = ds.zeta + (ds.zeta + hwater) * Zo_w "
   ]
  },
  {
   "cell_type": "code",
   "execution_count": 28,
   "id": "8b7babd3-e8ff-4cbe-870e-fbfd90083c08",
   "metadata": {},
   "outputs": [],
   "source": [
    "from xgcm import Grid\n",
    "\n",
    "WAOM4 = xr.open_zarr(store_name, consolidated=True)\n",
    "\n",
    "# Create xgcm grid object\n",
    "grid_waom4 = Grid(WAOM4, coords={'X': {'center': 'xh', 'outer': 'xq'},\n",
    "                               'Y': {'center': 'yh', 'outer': 'yq'},\n",
    "                               'Z': {'center': 's_rho', 'outer': 's_w'}},\n",
    "                 periodic=False)\n",
    "\n",
    "# Add depths of layers and interfaces to dataset\n",
    "WAOM4 = compute_depth_layers(WAOM4, grid_waom4)\n",
    "\n"
   ]
  },
  {
   "cell_type": "code",
   "execution_count": 30,
   "id": "6fd6d599-17d6-4bb4-aaa5-be7392c2419f",
   "metadata": {},
   "outputs": [
    {
     "data": {
      "text/plain": [
       "<matplotlib.collections.QuadMesh at 0x14ea48c3aac0>"
      ]
     },
     "execution_count": 30,
     "metadata": {},
     "output_type": "execute_result"
    },
    {
     "data": {
      "image/png": "[encoded data removed]",
      "text/plain": [
       "<Figure size 1000x800 with 2 Axes>"
      ]
     },
     "metadata": {},
     "output_type": "display_data"
    }
   ],
   "source": [
    "import matplotlib.pyplot as plt\n",
    "import cmocean\n",
    "\n",
    "plt.figure(figsize=[10,8])\n",
    "\n",
    "WAOM4['v'].isel(time=11, yq=500).plot(x='lon_v', y='z_v',\n",
    "                                     vmin=-0.25, vmax=0.25,\n",
    "                                     cmap=cmocean.cm.balance,\n",
    "                                     subplot_kws={'facecolor': 'grey'})"
   ]
  },
  {
   "cell_type": "code",
   "execution_count": null,
   "id": "4823061e-50fd-42d7-8a2c-48289eedacdd",
   "metadata": {},
   "outputs": [],
   "source": []
  }
 ],
 "metadata": {
  "kernelspec": {
   "display_name": "Python [conda env:analysis3-23.04]",
   "language": "python",
   "name": "conda-env-analysis3-23.04-py"
  },
  "language_info": {
   "codemirror_mode": {
    "name": "ipython",
    "version": 3
   },
   "file_extension": ".py",
   "mimetype": "text/x-python",
   "name": "python",
   "nbconvert_exporter": "python",
   "pygments_lexer": "ipython3",
   "version": "3.9.17"
  }
 },
 "nbformat": 4,
 "nbformat_minor": 5
}
