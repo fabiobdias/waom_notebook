{
 "cells": [
  {
   "cell_type": "code",
   "execution_count": 1,
   "id": "7ad62d10-0e12-4d5f-aa40-9615c9bc2415",
   "metadata": {},
   "outputs": [],
   "source": [
    "#!/usr/bin/env python3\n",
    "# Ocean Heat Budget Analyses in the Antarctica continental shelf (WAOM)\n",
    "\n",
    "# Fabio B Dias - 28 June 2023\n",
    "# Description:\n",
    "#     this script obtain and save the 1500m isobath contour variables, which is used for the\n",
    "#     cross-shelf heat transport estimates\n",
    "\n",
    "# read nc output from WAOM 10km run\n",
    "\n",
    "import xarray as xr\n",
    "import pandas as p\n",
    "import numpy as np\n",
    "import numpy.ma as ma\n",
    "import cartopy.crs as ccrs\n",
    "import matplotlib as mpl\n",
    "#mpl.use('Agg')\n",
    "import matplotlib.pyplot as plt\n",
    "import matplotlib.dates as dates\n",
    "from matplotlib.ticker import NullFormatter\n",
    "from matplotlib.colors import LinearSegmentedColormap   # for custom colormaps\n",
    "\n",
    "from datetime import datetime, timedelta\n",
    "\n",
    "from netCDF4 import Dataset\n",
    "from netCDF4 import num2date, date2num\n",
    "from matplotlib.ticker import NullFormatter\n",
    "from matplotlib.colors import LinearSegmentedColormap   # for custom colormaps\n",
    "\n",
    "import gsw\n",
    "\n",
    "import pyresample\n",
    "\n",
    "from dask.distributed import Client\n",
    "import logging\n",
    "import warnings\n",
    "warnings.filterwarnings('ignore')"
   ]
  },
  {
   "cell_type": "code",
   "execution_count": 2,
   "id": "1eb7da04-c62a-47e8-a84b-e660ca1a49c8",
   "metadata": {},
   "outputs": [
    {
     "name": "stdout",
     "output_type": "stream",
     "text": [
      "<Client: 'tcp://127.0.0.1:37871' processes=28 threads=28>\n"
     ]
    }
   ],
   "source": [
    "client = Client(threads_per_worker=1, memory_limit=0, silence_logs=logging.ERROR)\n",
    "print(client)"
   ]
  },
  {
   "cell_type": "code",
   "execution_count": 3,
   "id": "635c7dcb-a410-4fd2-8721-9d3b42fd2bcd",
   "metadata": {},
   "outputs": [],
   "source": [
    "# load ice draft to create masks\n",
    "di = xr.open_dataset('/g/data/hh5/tmp/access-om/fbd581/ROMS/OUTPUT/waom10extend_shflim_S_0.25Q/output_20yr_diag/ocean_avg_0001.nc')\n",
    "ice_draft = di.variables[\"zice\"]\n",
    "\n",
    "mask_zice = ma.masked_where(ice_draft < 0, np.ones(ice_draft.shape))\n",
    "mask_outice = ma.masked_where(ice_draft >= 0, np.ones(ice_draft.shape))\n",
    "mask_zice_1000 = ma.masked_where(ice_draft < -1000, np.ones(ice_draft.shape))\n",
    "di.close()\n",
    "\n",
    "dg = xr.open_dataset(\"/g/data/hh5/tmp/access-om/fbd581/ROMS/waom10_frc/waom10extend_grd.nc\")\n",
    "\n",
    "lat_rho = dg.variables[\"lat_rho\"]\n",
    "lon_rho = dg.variables[\"lon_rho\"]\n",
    "lat_u = dg.variables[\"lat_u\"]\n",
    "lon_u = dg.variables[\"lon_u\"]\n",
    "lat_v = dg.variables[\"lat_v\"]\n",
    "lon_v = dg.variables[\"lon_v\"]\n",
    "pm = dg.variables[\"pm\"]\n",
    "pn = dg.variables[\"pn\"]\n",
    "h = dg.variables[\"h\"]\n",
    "\n",
    "area=np.divide(1,pm*pn)\n",
    "\n",
    "zice = dg.zice.load()\n",
    "zice = zice*mask_zice_1000\n",
    "\n",
    "# Fill in land with zeros:\n",
    "zice = zice.fillna(0)\n",
    "\n",
    "contour_depth = -.01"
   ]
  },
  {
   "cell_type": "code",
   "execution_count": 4,
   "id": "2706fb68-5320-411d-aae7-35c22773c7c7",
   "metadata": {},
   "outputs": [],
   "source": [
    "## Choose whether you want your contour on the u or t grid.\n",
    "grid_sel = 't'\n",
    "if grid_sel == 'u':\n",
    "    x_var = lon_u\n",
    "    y_var = lat_u\n",
    "elif grid_sel == 't':\n",
    "    x_var = lon_rho\n",
    "    y_var = lat_rho\n"
   ]
  },
  {
   "cell_type": "code",
   "execution_count": 6,
   "id": "fd35818a-bea9-48ba-9a0e-d9f2e847347d",
   "metadata": {},
   "outputs": [],
   "source": [
    "# # first save all contours in individual plot to scam for the number of the desired contour:\n",
    "\n",
    "# for cc in np.arange(0,213):\n",
    "#     fig = plt.figure(figsize = (8, 6))\n",
    "#     count = cc\n",
    "#     x_contour = []\n",
    "#     y_contour = []\n",
    "\n",
    "#     # Create the contour:\n",
    "#     sc = plt.contour(zice, levels=[contour_depth])\n",
    "#     for collection in sc.collections:\n",
    "#         for path in collection.get_paths():\n",
    "#             # print(collection.get_paths())\n",
    "        \n",
    "#             count += 1\n",
    "#             if count ==  212:\n",
    "#                 # Write down the lat/lon indices\n",
    "#                 for ii in range(np.size(path.vertices[:,0])):\n",
    "#                     x_contour.append(int(np.round(path.vertices[ii][0])))\n",
    "#                     y_contour.append(int(np.round(path.vertices[ii][1])))\n",
    "\n",
    "#     plt.scatter(x_contour, y_contour, s=5, alpha=0.5, color='tomato');\n",
    "\n",
    "#     name_fig=\"/g/data3/hh5/tmp/access-om/fbd581/ROMS/postprocessing/figs/Contour_isobath/waom10extend_ice_draft=0m_contour_cc=\" + str(cc) + \".png\"\n",
    "#     plt.savefig(name_fig, dpi=300)\n",
    "#     plt.close()"
   ]
  },
  {
   "cell_type": "code",
   "execution_count": 5,
   "id": "d03684ae-615b-4a7c-bf8d-265cb6179ca2",
   "metadata": {},
   "outputs": [
    {
     "data": {
      "image/png": "[encoded data removed]",
      "text/plain": [
       "<Figure size 800x600 with 1 Axes>"
      ]
     },
     "metadata": {},
     "output_type": "display_data"
    }
   ],
   "source": [
    "fig = plt.figure(figsize = (8, 6))\n",
    "count = 211\n",
    "x_contour = []\n",
    "y_contour = []\n",
    "\n",
    "# Create the contour:\n",
    "sc = plt.contour(h, levels=[contour_depth])\n",
    "for collection in sc.collections:\n",
    "    for path in collection.get_paths():\n",
    "        # print(collection.get_paths())\n",
    "        \n",
    "        count += 1\n",
    "        if count ==  212:\n",
    "            # Write down the lat/lon indices\n",
    "            for ii in range(np.size(path.vertices[:,0])):\n",
    "                x_contour.append(int(np.round(path.vertices[ii][0])))\n",
    "                y_contour.append(int(np.round(path.vertices[ii][1])))\n",
    "\n",
    "plt.scatter(x_contour, y_contour, s=5, alpha=0.5, color='tomato');\n",
    "\n",
    "## SHOULD I SMOOTH IT? PROBABLY YES!"
   ]
  },
  {
   "cell_type": "code",
   "execution_count": null,
   "id": "647b73b0-2049-4a1b-adde-71927df35dc5",
   "metadata": {},
   "outputs": [],
   "source": []
  }
 ],
 "metadata": {
  "kernelspec": {
   "display_name": "Python 3 (ipykernel)",
   "language": "python",
   "name": "python3"
  },
  "language_info": {
   "codemirror_mode": {
    "name": "ipython",
    "version": 3
   },
   "file_extension": ".py",
   "mimetype": "text/x-python",
   "name": "python",
   "nbconvert_exporter": "python",
   "pygments_lexer": "ipython3",
   "version": "3.9.17"
  }
 },
 "nbformat": 4,
 "nbformat_minor": 5
}
