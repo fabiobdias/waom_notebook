{
 "cells": [
  {
   "cell_type": "code",
   "execution_count": 2,
   "id": "e79a52ce",
   "metadata": {
    "tags": []
   },
   "outputs": [],
   "source": [
    "# read nc output from WAOM 10km run\n",
    "\n",
    "import xarray as xr\n",
    "import pandas as p\n",
    "import numpy as np\n",
    "import numpy.ma as ma\n",
    "import cartopy.crs as ccrs\n",
    "import cartopy.feature as cfeature\n",
    "import matplotlib as mpl\n",
    "# mpl.use('Agg')\n",
    "import matplotlib.pyplot as plt\n",
    "import matplotlib.dates as dates\n",
    "from matplotlib.ticker import NullFormatter\n",
    "from matplotlib.colors import LinearSegmentedColormap   # for custom colormaps\n",
    "from matplotlib import colors\n",
    "import matplotlib.path as mpath\n",
    "\n",
    "from datetime import datetime, timedelta\n",
    "\n",
    "from netCDF4 import Dataset\n",
    "from netCDF4 import num2date, date2num\n",
    "\n",
    "import os\n",
    "\n",
    "import gsw\n",
    "import pyresample\n",
    "from xgcm import Grid"
   ]
  },
  {
   "cell_type": "code",
   "execution_count": 3,
   "id": "d0c05a05",
   "metadata": {
    "tags": []
   },
   "outputs": [
    {
     "name": "stdout",
     "output_type": "stream",
     "text": [
      "Print lon/lat_rho shapes (1400, 1575) (1400, 1575)\n",
      "Print lon/lat_rho shapes (1399, 1574) (1399, 1574)\n"
     ]
    }
   ],
   "source": [
    "# read grid file for lon/lat coordinates\n",
    "dg = xr.open_dataset(\"/g/data3/hh5/tmp/access-om/fbd581/ROMS/waom4_frc/waom4extend_grd.nc\")\n",
    "lat_rho_4km= dg.variables[\"lat_rho\"]\n",
    "lon_rho_4km = dg.variables[\"lon_rho\"]\n",
    "lat_u_4km= dg.variables[\"lat_u\"]\n",
    "lon_u_4km = dg.variables[\"lon_u\"]\n",
    "lat_v_4km= dg.variables[\"lat_v\"]\n",
    "lon_v_4km = dg.variables[\"lon_v\"]\n",
    "cor_4km = dg.variables[\"f\"]\n",
    "pm_4km = dg.variables[\"pm\"]\n",
    "pn_4km = dg.variables[\"pn\"]\n",
    "zice_4km = dg.variables[\"zice\"]\n",
    "h_4km = dg.variables[\"h\"]\n",
    "dg.close()\n",
    "print('Print lon/lat_rho shapes',lon_rho_4km.shape, lat_rho_4km.shape)\n",
    "print('Print lon/lat_rho shapes',lon_rho_4km[0:-1,0:-1].shape, lat_rho_4km[0:-1,0:-1].shape)"
   ]
  },
  {
   "cell_type": "code",
   "execution_count": 6,
   "id": "e5cdc3fa-d499-4afc-9c34-2ea4b3ab3676",
   "metadata": {
    "tags": []
   },
   "outputs": [],
   "source": [
    "#### load ROMS avg output\n",
    "\n",
    "def read_roms_ts_4km(exp_path,year):\n",
    "    for yr  in [year]:\n",
    "        ds = xr.open_dataset(exp_path + 'ocean_avg_00' + yr + '.nc')\n",
    "        print('size temp and time length: ', ds.temp.shape, len(ds.salt.isel(xi_rho=20, eta_rho=100, s_rho=0)))\n",
    "        temp_tmp = ds.variables[\"temp\"]\n",
    "        salt_tmp = ds.variables[\"salt\"]\n",
    "        zeta_tmp = ds.variables[\"zeta\"]\n",
    "        melt_tmp = ds.variables[\"m\"]\n",
    "        temp_tmp_ann = np.nanmean(temp_tmp, axis=0)\n",
    "        salt_tmp_ann = np.nanmean(salt_tmp, axis=0)\n",
    "        melt_tmp_ann = np.nanmean(melt_tmp, axis=0)\n",
    "        \n",
    "        print('size temp_tmp_ann = ', temp_tmp_ann.shape)\n",
    "\n",
    "        ds = ds.set_coords(['Cs_r', 'Cs_w', 'hc', 'h', 'Vtransform'])\n",
    "\n",
    "        if ds.Vtransform == 1:\n",
    "            Zo_rho = ds.hc * (ds.s_rho - ds.Cs_r) + ds.Cs_r * ds.h\n",
    "            z_rho_tmp = Zo_rho + ds.zeta * (1 + Zo_rho/ds.h)\n",
    "            print(\"Vtransform=1\")\n",
    "        elif ds.Vtransform == 2:\n",
    "            Zo_rho = (ds.hc * ds.s_rho + ds.Cs_r * ds.h) / (ds.hc + ds.h)\n",
    "            z_rho_tmp = ds.zeta + (ds.zeta + ds.h) * Zo_rho\n",
    "            print(\"Vtransform=2\")\n",
    "        z_rho_tmp_ann = np.nanmean(z_rho_tmp, axis=0)\n",
    "\n",
    "        Zo_w = (ds.hc * ds.s_w + ds.Cs_w * ds.h) / (ds.hc + ds.h)\n",
    "        z_w_tmp = ds.zeta + (ds.zeta + ds.h) * Zo_w\n",
    "        z_w_tmp_ann = np.nanmean(z_w_tmp, axis=0)\n",
    "\n",
    "        # Handle interpolation from u and v grid to rho points:\n",
    "        ds = ds.rename({'eta_u': 'eta_rho', 'xi_v': 'xi_rho', 'xi_psi': 'xi_u', 'eta_psi': 'eta_v'})\n",
    "\n",
    "        coords={'X':{'center':'xi_rho', 'inner':'xi_u'},\n",
    "            'Y':{'center':'eta_rho', 'inner':'eta_v'},\n",
    "            'Z':{'center':'s_rho', 'outer':'s_w'}}\n",
    "\n",
    "        grid = Grid(ds, coords=coords, periodic=[])\n",
    "\n",
    "        Zo_rho = (ds.hc * ds.s_rho + ds.Cs_r * ds.h) / (ds.hc + ds.h)\n",
    "        z_rho = Zo_rho * (ds.zeta + ds.h) + ds.zeta + ds.zice\n",
    "        Zo_w = (ds.hc * ds.s_w + ds.Cs_w * ds.h) / (ds.hc + ds.h)\n",
    "        z_w = Zo_w * (ds.zeta + ds.h) + ds.zeta + ds.zice\n",
    "\n",
    "        ds.coords['z_w'] = z_w.where(ds.mask_rho, 0).transpose('ocean_time', 's_w', 'eta_rho', 'xi_rho')\n",
    "        ds.coords['z_rho'] = z_rho.where(ds.mask_rho, 0).transpose('ocean_time', 's_rho', 'eta_rho', 'xi_rho')\n",
    "\n",
    "        ds['pm_v'] = grid.interp(ds.pm, 'Y')\n",
    "        ds['pn_u'] = grid.interp(ds.pn, 'X')\n",
    "        ds['pm_u'] = grid.interp(ds.pm, 'X')\n",
    "        ds['pn_v'] = grid.interp(ds.pn, 'Y')\n",
    "        ds['pm_psi'] = grid.interp(grid.interp(ds.pm, 'Y'),  'X') # at psi points (eta_v, xi_u)\n",
    "        ds['pn_psi'] = grid.interp(grid.interp(ds.pn, 'X'),  'Y') # at psi points (eta_v, xi_u)\n",
    "\n",
    "        ds['dx'] = 1/ds.pm\n",
    "        ds['dx_u'] = 1/ds.pm_u\n",
    "        ds['dx_v'] = 1/ds.pm_v\n",
    "        ds['dx_psi'] = 1/ds.pm_psi\n",
    "\n",
    "        ds['dy'] = 1/ds.pn\n",
    "        ds['dy_u'] = 1/ds.pn_u\n",
    "        ds['dy_v'] = 1/ds.pn_v\n",
    "        ds['dy_psi'] = 1/ds.pn_psi\n",
    "        \n",
    "        ds['dz'] = grid.diff(ds.z_w, 'Z', boundary='fill')\n",
    "        ds['dz_w'] = grid.diff(ds.z_rho, 'Z', boundary='fill')\n",
    "        ds['dz_u'] = grid.interp(ds.dz, 'X')\n",
    "        ds['dz_w_u'] = grid.interp(ds.dz_w, 'X')\n",
    "        ds['dz_v'] = grid.interp(ds.dz, 'Y')\n",
    "        ds['dz_w_v'] = grid.interp(ds.dz_w, 'Y')\n",
    "\n",
    "        ds['dA'] = ds.dx * ds.dy\n",
    "\n",
    "        metrics = {\n",
    "            ('X',): ['dx', 'dx_u', 'dx_v', 'dx_psi'], # X distances\n",
    "            ('Y',): ['dy', 'dy_u', 'dy_v', 'dy_psi'], # Y distances\n",
    "            ('Z',): ['dz', 'dz_u', 'dz_v', 'dz_w', 'dz_w_u', 'dz_w_v'], # Z distances\n",
    "            ('X', 'Y'): ['dA'] # Areas\n",
    "        }\n",
    "        grid = Grid(ds, coords=coords, metrics=metrics, periodic=False)\n",
    "\n",
    "        u4_rho_sfc = np.zeros((12,1400,1575))\n",
    "        v4_rho_sfc = np.zeros((12,1400,1575))\n",
    "        u4_rho_bot = np.zeros((12,1400,1575))\n",
    "        v4_rho_bot = np.zeros((12,1400,1575))\n",
    "\n",
    "        for mm in np.arange(0,12):\n",
    "            #interpoate u, v to rho grid:\n",
    "            u4_interp = grid.interp(ds.u.isel(s_rho=0,ocean_time=mm), 'X',boundary='fill')\n",
    "            v4_interp = grid.interp(ds.v.isel(s_rho=0,ocean_time=mm), 'Y',boundary='fill')\n",
    "            u4_rho_bot[mm,:,:]=u4_interp\n",
    "            v4_rho_bot[mm,:,:]=v4_interp\n",
    "            del u4_interp,v4_interp\n",
    "            u4_interp = grid.interp(ds.u.isel(s_rho=-1,ocean_time=mm), 'X',boundary='fill')\n",
    "            v4_interp = grid.interp(ds.v.isel(s_rho=-1,ocean_time=mm), 'Y',boundary='fill')\n",
    "            u4_rho_sfc[mm,:,:]=u4_interp\n",
    "            v4_rho_sfc[mm,:,:]=v4_interp\n",
    "            del u4_interp,v4_interp\n",
    "\n",
    "        u4_rho_bot_ann = np.nanmean(u4_rho_bot, axis=0)\n",
    "        v4_rho_bot_ann = np.nanmean(v4_rho_bot, axis=0)\n",
    "        u4_rho_sfc_ann = np.nanmean(u4_rho_sfc, axis=0)\n",
    "        v4_rho_sfc_ann = np.nanmean(v4_rho_sfc, axis=0)\n",
    "        # concantenate annual averaged temp/salt\n",
    "        if yr == '10':\n",
    "            temp_ann = temp_tmp_ann\n",
    "            salt_ann = salt_tmp_ann\n",
    "            melt_ann = melt_tmp_ann\n",
    "            u4_bot = u4_rho_bot_ann\n",
    "            v4_bot = v4_rho_bot_ann\n",
    "            u4_sfc = u4_rho_sfc_ann\n",
    "            v4_sfc = v4_rho_sfc_ann\n",
    "\n",
    "    return temp_ann, salt_ann, u4_sfc, v4_sfc, u4_bot, v4_bot, melt_ann\n"
   ]
  },
  {
   "cell_type": "code",
   "execution_count": null,
   "id": "1e55653a",
   "metadata": {
    "tags": []
   },
   "outputs": [
    {
     "name": "stdout",
     "output_type": "stream",
     "text": [
      "size temp and time length:  (12, 31, 1400, 1575) 12\n"
     ]
    },
    {
     "name": "stderr",
     "output_type": "stream",
     "text": [
      "/jobfs/85575028.gadi-pbs/ipykernel_3177515/3176296372.py:11: RuntimeWarning: Mean of empty slice\n",
      "  temp_tmp_ann = np.nanmean(temp_tmp, axis=0)\n",
      "/jobfs/85575028.gadi-pbs/ipykernel_3177515/3176296372.py:12: RuntimeWarning: Mean of empty slice\n",
      "  salt_tmp_ann = np.nanmean(salt_tmp, axis=0)\n",
      "/jobfs/85575028.gadi-pbs/ipykernel_3177515/3176296372.py:13: RuntimeWarning: Mean of empty slice\n",
      "  melt_tmp_ann = np.nanmean(melt_tmp, axis=0)\n"
     ]
    },
    {
     "name": "stdout",
     "output_type": "stream",
     "text": [
      "size temp_tmp_ann =  (31, 1400, 1575)\n",
      "Vtransform=2\n"
     ]
    },
    {
     "name": "stderr",
     "output_type": "stream",
     "text": [
      "/jobfs/85575028.gadi-pbs/ipykernel_3177515/3176296372.py:27: RuntimeWarning: Mean of empty slice\n",
      "  z_rho_tmp_ann = np.nanmean(z_rho_tmp, axis=0)\n",
      "/jobfs/85575028.gadi-pbs/ipykernel_3177515/3176296372.py:31: RuntimeWarning: Mean of empty slice\n",
      "  z_w_tmp_ann = np.nanmean(z_w_tmp, axis=0)\n"
     ]
    }
   ],
   "source": [
    "path_ECCO2_4km = '/g/data3/hh5/tmp/access-om/fbd581/ROMS/OUTPUT/waom4extend_shflim_S_0.25Q/output_01-20yr/'\n",
    "path_ECCO2_4kmNT = '/g/data3/hh5/tmp/access-om/fbd581/ROMS/OUTPUT/waom4extend_shflim_S_0.25Q/output_01-10yr_notides/'\n",
    "\n",
    "\n",
    "temp_ann_4km, salt_ann_4km, u4_sfc, v4_sfc, u4_bot, v4_bot, melt_ann_4km = read_roms_ts_4km(path_ECCO2_4km,'10')\n",
    "\n",
    "temp_ann_4kmNT, salt_ann_4kmNT, u4NT_sfc, v4NT_sfc, u4_bot, v10_bot, melt_ann_4kmNT = read_roms_ts_4km(path_ECCO2_4kmNT,'10')\n"
   ]
  },
  {
   "cell_type": "code",
   "execution_count": null,
   "id": "532fce00",
   "metadata": {
    "tags": []
   },
   "outputs": [],
   "source": [
    "mask_zice_4km = ma.masked_where(zice_4km < 0, np.ones(zice_4km.shape))\n",
    "mask_outice_4km = ma.masked_where(zice_4km >= 0, np.ones(zice_4km.shape))\n",
    "\n",
    "mask_shelf_4km = ma.masked_where(h_4km > 2000, np.ones(zice_4km.shape))\n"
   ]
  },
  {
   "cell_type": "code",
   "execution_count": null,
   "id": "ea6e4069",
   "metadata": {
    "tags": []
   },
   "outputs": [],
   "source": [
    "fig_path='/users/boeiradi/COLD_project/postprocessing/figs/Maps_validations/'\n",
    "\n",
    "def lonlat_labels(ax):\n",
    "    # latitude labels\n",
    "    ax.text(120,-80,'80$^{\\circ}$S',transform=ccrs.PlateCarree(),color='gray')\n",
    "    ax.text(120,-70,'70$^{\\circ}$S',transform=ccrs.PlateCarree(),color='gray')\n",
    "    # longitude labels\n",
    "    ax.text(0,-66,'0$^{\\circ}$',transform=ccrs.PlateCarree(),color='gray')\n",
    "    #ax.text(60,-53,'60$^{\\circ}$E',transform=ccrs.PlateCarree(),color='gray')\n",
    "    #ax.text(120,-53,'120$^{\\circ}$E',transform=ccrs.PlateCarree(),color='gray')\n",
    "    ax.text(-60,-48,'60$^{\\circ}$W',transform=ccrs.PlateCarree(),color='gray')\n",
    "    ax.text(-120,-48,'120$^{\\circ}$W',transform=ccrs.PlateCarree(),color='gray')\n",
    "    ax.text(180,-60,'180$^{\\circ}$',transform=ccrs.PlateCarree(),color='gray')\n",
    "    return\n"
   ]
  },
  {
   "cell_type": "code",
   "execution_count": null,
   "id": "42059b82",
   "metadata": {
    "tags": []
   },
   "outputs": [],
   "source": [
    "# call cartopy projection\n",
    "proj = ccrs.SouthPolarStereo()\n",
    "\n",
    "# ========== subregions plots:\n",
    "# for 2000m isoline\n",
    "bathym = cfeature.NaturalEarthFeature(name='bathymetry_J_1000', scale='10m', category='physical')\n",
    "# limits for contour of ice front (Ronne-Filchner IS):\n",
    "# xlimit = np.arange(300,500,1)\n",
    "# ylimit = np.arange(100,300,1)\n",
    "\n",
    "# --- bottom\n",
    "\n",
    "tmin = -2.7\n",
    "tmax = 1.5\n",
    "smin = 34.1\n",
    "smax = 35.\n",
    "\n",
    "fig = plt.figure(figsize=(12,8))\n",
    "\n",
    "ax1 = fig.add_subplot(221, projection=proj)\n",
    "ct1=plt.pcolormesh(lon_rho_4km,lat_rho_4km,np.squeeze(temp_ann_4km[0,:,:])*mask_shelf_4km*mask_zice_4km, transform=ccrs.PlateCarree(), cmap=plt.cm.plasma, vmin=tmin, vmax=tmax)\n",
    "# plt.title('Bottom temperature \\n WAOM10')\n",
    "plt.title('WAOM4')\n",
    "ax1.gridlines() # draw_labels=True,linewidth=\n",
    "ax1.add_feature(cfeature.LAND, zorder=3, edgecolor='white', facecolor='gray')\n",
    "\n",
    "ax2 = fig.add_subplot(222, projection=proj)\n",
    "cs1=plt.pcolormesh(lon_rho_4km,lat_rho_4km,np.squeeze(salt_ann_4km[0,:,:])*mask_shelf_4km*mask_zice_4km, transform=ccrs.PlateCarree(), cmap=plt.cm.plasma, vmin=smin, vmax=smax)\n",
    "# plt.title('Bottom salinity \\n WAOM10')\n",
    "plt.title('WAOM4')\n",
    "ax2.gridlines()\n",
    "ax2.add_feature(cfeature.LAND, zorder=3, edgecolor='white', facecolor='gray')\n",
    "\n",
    "ax7 = fig.add_subplot(223, projection=proj)\n",
    "ct1=plt.pcolormesh(lon_rho_4km,lat_rho_4km,np.squeeze(temp_ann_4kmNT[0,:,:])*mask_shelf_4km*mask_zice_4km, transform=ccrs.PlateCarree(), cmap=plt.cm.plasma, vmin=tmin, vmax=tmax)\n",
    "# plt.title('Bottom temperature \\n WAOM10')\n",
    "plt.title('WAOM4-NOTIDE')\n",
    "ax7.gridlines() # draw_labels=True,linewidth=\n",
    "# ax1.set_extent([-85, -30, -84, -74], crs=ccrs.PlateCarree())\n",
    "ratio = .9\n",
    "ax7.add_feature(cfeature.LAND, zorder=3, edgecolor='white', facecolor='gray')\n",
    "\n",
    "ax4 = fig.add_subplot(223, projection=proj)\n",
    "cs1=plt.pcolormesh(lon_rho_4km,lat_rho_4km,np.squeeze(salt_ann_4kmNT[0,:,:])*mask_shelf_4km*mask_zice_4km, transform=ccrs.PlateCarree(), cmap=plt.cm.plasma, vmin=smin, vmax=smax)\n",
    "# plt.title('Bottom salinity \\n WAOM10')\n",
    "plt.title('WAOM4-NOTIDE')\n",
    "ax8.gridlines()\n",
    "ax4.add_feature(cfeature.LAND, zorder=3, edgecolor='white', facecolor='gray')\n",
    "\n",
    "cbar_ax3 = fig.add_axes([0.04, 0.05, 0.01, 0.7])\n",
    "fig.colorbar(ct1, cax=cbar_ax3, orientation='vertical')\n",
    "cbar_ax3.set_ylabel('$^{\\circ}$C')#, labelpad=-35)\n",
    "\n",
    "cbar_ax4 = fig.add_axes([0.92, 0.05, 0.01, 0.7])\n",
    "fig.colorbar(cs1, cax=cbar_ax4, orientation='vertical')\n",
    "cbar_ax4.set_xlabel('')#, labelpad=-35)\n",
    "\n",
    "name_fig='waom4x4-NOTIDE_bottomTSmaps_yr10.png'\n",
    "plt.savefig(fig_path + name_fig, dpi=300)\n"
   ]
  },
  {
   "cell_type": "code",
   "execution_count": null,
   "id": "c4b8b76a",
   "metadata": {},
   "outputs": [],
   "source": []
  }
 ],
 "metadata": {
  "kernelspec": {
   "display_name": "Python 3 (ipykernel)",
   "language": "python",
   "name": "python3"
  },
  "language_info": {
   "codemirror_mode": {
    "name": "ipython",
    "version": 3
   },
   "file_extension": ".py",
   "mimetype": "text/x-python",
   "name": "python",
   "nbconvert_exporter": "python",
   "pygments_lexer": "ipython3",
   "version": "3.9.15"
  }
 },
 "nbformat": 4,
 "nbformat_minor": 5
}
