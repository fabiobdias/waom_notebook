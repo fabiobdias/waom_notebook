{
 "cells": [
  {
   "cell_type": "code",
   "execution_count": 1,
   "id": "e79a52ce",
   "metadata": {},
   "outputs": [],
   "source": [
    "# read nc output from WAOM 10km run\n",
    "\n",
    "import xarray as xr\n",
    "import pandas as p\n",
    "import numpy as np\n",
    "import numpy.ma as ma\n",
    "import cartopy.crs as ccrs\n",
    "import cartopy.feature as cfeature\n",
    "import matplotlib as mpl\n",
    "# mpl.use('Agg')\n",
    "import matplotlib.pyplot as plt\n",
    "import matplotlib.dates as dates\n",
    "from matplotlib.ticker import NullFormatter\n",
    "from matplotlib.colors import LinearSegmentedColormap   # for custom colormaps\n",
    "from matplotlib import colors\n",
    "import matplotlib.path as mpath\n",
    "\n",
    "from datetime import datetime, timedelta\n",
    "\n",
    "from netCDF4 import Dataset\n",
    "from netCDF4 import num2date, date2num\n",
    "\n",
    "import os\n",
    "\n",
    "import gsw\n",
    "import pyresample\n",
    "from xgcm import Grid"
   ]
  },
  {
   "cell_type": "code",
   "execution_count": 2,
   "id": "d0c05a05",
   "metadata": {},
   "outputs": [
    {
     "name": "stdout",
     "output_type": "stream",
     "text": [
      "Print lon/lat_rho shapes (560, 630) (560, 630)\n",
      "Print lon/lat_rho shapes (559, 629) (559, 629)\n"
     ]
    }
   ],
   "source": [
    "# read grid file for lon/lat coordinates\n",
    "dg = xr.open_dataset(\"/scratch/project_2000339/boeiradi/waom10_frc/waom10extend_grd.nc\")\n",
    "lat_rho_10km= dg.variables[\"lat_rho\"]\n",
    "lon_rho_10km = dg.variables[\"lon_rho\"]\n",
    "lat_u_10km= dg.variables[\"lat_u\"]\n",
    "lon_u_10km = dg.variables[\"lon_u\"]\n",
    "lat_v_10km= dg.variables[\"lat_v\"]\n",
    "lon_v_10km = dg.variables[\"lon_v\"]\n",
    "cor_10km = dg.variables[\"f\"]\n",
    "pm_10km = dg.variables[\"pm\"]\n",
    "pn_10km = dg.variables[\"pn\"]\n",
    "zice_10km = dg.variables[\"zice\"]\n",
    "h_10km = dg.variables[\"h\"]\n",
    "dg.close()\n",
    "print('Print lon/lat_rho shapes',lon_rho_10km.shape, lat_rho_10km.shape)\n",
    "print('Print lon/lat_rho shapes',lon_rho_10km[0:-1,0:-1].shape, lat_rho_10km[0:-1,0:-1].shape)"
   ]
  },
  {
   "cell_type": "code",
   "execution_count": 3,
   "id": "6975bb30",
   "metadata": {},
   "outputs": [],
   "source": [
    "# load ROMS avg output\n",
    "\n",
    "def read_roms_ts_10km(exp_path):\n",
    "    for yr  in ['20']:\n",
    "        ds = xr.open_dataset(exp_path + 'ocean_avg_00' + yr + '.nc')\n",
    "        print('size temp and time length: ', ds.temp.shape, len(ds.salt.isel(xi_rho=20, eta_rho=100, s_rho=0)))\n",
    "        temp_tmp = ds.variables[\"temp\"]\n",
    "        salt_tmp = ds.variables[\"salt\"]\n",
    "        zeta_tmp = ds.variables[\"zeta\"]\n",
    "        melt_tmp = ds.variables[\"m\"]\n",
    "        temp_tmp_ann = np.nanmean(temp_tmp, axis=0)\n",
    "        salt_tmp_ann = np.nanmean(salt_tmp, axis=0)\n",
    "        melt_tmp_ann = np.nanmean(melt_tmp, axis=0)\n",
    "        \n",
    "        print('size temp_tmp_ann = ', temp_tmp_ann.shape)\n",
    "\n",
    "        ds = ds.set_coords(['Cs_r', 'Cs_w', 'hc', 'h', 'Vtransform'])\n",
    "\n",
    "        if ds.Vtransform == 1:\n",
    "            Zo_rho = ds.hc * (ds.s_rho - ds.Cs_r) + ds.Cs_r * ds.h\n",
    "            z_rho_tmp = Zo_rho + ds.zeta * (1 + Zo_rho/ds.h)\n",
    "            print(\"Vtransform=1\")\n",
    "        elif ds.Vtransform == 2:\n",
    "            Zo_rho = (ds.hc * ds.s_rho + ds.Cs_r * ds.h) / (ds.hc + ds.h)\n",
    "            z_rho_tmp = ds.zeta + (ds.zeta + ds.h) * Zo_rho\n",
    "            print(\"Vtransform=2\")\n",
    "        z_rho_tmp_ann = np.nanmean(z_rho_tmp, axis=0)\n",
    "\n",
    "        Zo_w = (ds.hc * ds.s_w + ds.Cs_w * ds.h) / (ds.hc + ds.h)\n",
    "        z_w_tmp = ds.zeta + (ds.zeta + ds.h) * Zo_w\n",
    "        z_w_tmp_ann = np.nanmean(z_w_tmp, axis=0)\n",
    "\n",
    "        # Handle interpolation from u and v grid to rho points:\n",
    "        ds = ds.rename({'eta_u': 'eta_rho', 'xi_v': 'xi_rho', 'xi_psi': 'xi_u', 'eta_psi': 'eta_v'})\n",
    "\n",
    "        coords={'X':{'center':'xi_rho', 'inner':'xi_u'},\n",
    "            'Y':{'center':'eta_rho', 'inner':'eta_v'},\n",
    "            'Z':{'center':'s_rho', 'outer':'s_w'}}\n",
    "\n",
    "        grid = Grid(ds, coords=coords, periodic=[])\n",
    "\n",
    "        Zo_rho = (ds.hc * ds.s_rho + ds.Cs_r * ds.h) / (ds.hc + ds.h)\n",
    "        z_rho = Zo_rho * (ds.zeta + ds.h) + ds.zeta + ds.zice\n",
    "        Zo_w = (ds.hc * ds.s_w + ds.Cs_w * ds.h) / (ds.hc + ds.h)\n",
    "        z_w = Zo_w * (ds.zeta + ds.h) + ds.zeta + ds.zice\n",
    "\n",
    "        ds.coords['z_w'] = z_w.where(ds.mask_rho, 0).transpose('ocean_time', 's_w', 'eta_rho', 'xi_rho')\n",
    "        ds.coords['z_rho'] = z_rho.where(ds.mask_rho, 0).transpose('ocean_time', 's_rho', 'eta_rho', 'xi_rho')\n",
    "\n",
    "        ds['pm_v'] = grid.interp(ds.pm, 'Y')\n",
    "        ds['pn_u'] = grid.interp(ds.pn, 'X')\n",
    "        ds['pm_u'] = grid.interp(ds.pm, 'X')\n",
    "        ds['pn_v'] = grid.interp(ds.pn, 'Y')\n",
    "        ds['pm_psi'] = grid.interp(grid.interp(ds.pm, 'Y'),  'X') # at psi points (eta_v, xi_u)\n",
    "        ds['pn_psi'] = grid.interp(grid.interp(ds.pn, 'X'),  'Y') # at psi points (eta_v, xi_u)\n",
    "\n",
    "        ds['dx'] = 1/ds.pm\n",
    "        ds['dx_u'] = 1/ds.pm_u\n",
    "        ds['dx_v'] = 1/ds.pm_v\n",
    "        ds['dx_psi'] = 1/ds.pm_psi\n",
    "\n",
    "        ds['dy'] = 1/ds.pn\n",
    "        ds['dy_u'] = 1/ds.pn_u\n",
    "        ds['dy_v'] = 1/ds.pn_v\n",
    "        ds['dy_psi'] = 1/ds.pn_psi\n",
    "        \n",
    "        ds['dz'] = grid.diff(ds.z_w, 'Z', boundary='fill')\n",
    "        ds['dz_w'] = grid.diff(ds.z_rho, 'Z', boundary='fill')\n",
    "        ds['dz_u'] = grid.interp(ds.dz, 'X')\n",
    "        ds['dz_w_u'] = grid.interp(ds.dz_w, 'X')\n",
    "        ds['dz_v'] = grid.interp(ds.dz, 'Y')\n",
    "        ds['dz_w_v'] = grid.interp(ds.dz_w, 'Y')\n",
    "\n",
    "        ds['dA'] = ds.dx * ds.dy\n",
    "\n",
    "        metrics = {\n",
    "            ('X',): ['dx', 'dx_u', 'dx_v', 'dx_psi'], # X distances\n",
    "            ('Y',): ['dy', 'dy_u', 'dy_v', 'dy_psi'], # Y distances\n",
    "            ('Z',): ['dz', 'dz_u', 'dz_v', 'dz_w', 'dz_w_u', 'dz_w_v'], # Z distances\n",
    "            ('X', 'Y'): ['dA'] # Areas\n",
    "        }\n",
    "        grid = Grid(ds, coords=coords, metrics=metrics, periodic=False)\n",
    "\n",
    "        u10_rho_sfc = np.zeros((12,560,630))\n",
    "        v10_rho_sfc = np.zeros((12,560,630))\n",
    "        u10_rho_bot = np.zeros((12,560,630))\n",
    "        v10_rho_bot = np.zeros((12,560,630))\n",
    "\n",
    "        for mm in np.arange(0,12):\n",
    "            #interpoate u, v to rho grid:\n",
    "            u10_interp = grid.interp(ds.u.isel(s_rho=0,ocean_time=mm), 'X',boundary='fill')\n",
    "            v10_interp = grid.interp(ds.v.isel(s_rho=0,ocean_time=mm), 'Y',boundary='fill')\n",
    "            u10_rho_bot[mm,:,:]=u10_interp\n",
    "            v10_rho_bot[mm,:,:]=v10_interp\n",
    "            del u10_interp,v10_interp\n",
    "            u10_interp = grid.interp(ds.u.isel(s_rho=-1,ocean_time=mm), 'X',boundary='fill')\n",
    "            v10_interp = grid.interp(ds.v.isel(s_rho=-1,ocean_time=mm), 'Y',boundary='fill')\n",
    "            u10_rho_sfc[mm,:,:]=u10_interp\n",
    "            v10_rho_sfc[mm,:,:]=v10_interp\n",
    "            del u10_interp,v10_interp\n",
    "\n",
    "        u10_rho_bot_ann = np.nanmean(u10_rho_bot, axis=0)\n",
    "        v10_rho_bot_ann = np.nanmean(v10_rho_bot, axis=0)\n",
    "        u10_rho_sfc_ann = np.nanmean(u10_rho_sfc, axis=0)\n",
    "        v10_rho_sfc_ann = np.nanmean(v10_rho_sfc, axis=0)\n",
    "        # concantenate annual averaged temp/salt\n",
    "        if yr == '20':\n",
    "            temp_ann = temp_tmp_ann\n",
    "            salt_ann = salt_tmp_ann\n",
    "            melt_ann = melt_tmp_ann\n",
    "            u10_bot = u10_rho_bot_ann\n",
    "            v10_bot = v10_rho_bot_ann\n",
    "            u10_sfc = u10_rho_sfc_ann\n",
    "            v10_sfc = v10_rho_sfc_ann\n",
    "\n",
    "#     return temp_ann, salt_ann, u10_sfc, v10_sfc, u10_bot, v10_bot, melt_ann\n",
    "    return melt_ann\n"
   ]
  },
  {
   "cell_type": "code",
   "execution_count": 9,
   "id": "1e55653a",
   "metadata": {},
   "outputs": [
    {
     "name": "stdout",
     "output_type": "stream",
     "text": [
      "size temp and time length:  (12, 31, 560, 630) 12\n"
     ]
    },
    {
     "name": "stderr",
     "output_type": "stream",
     "text": [
      "/run/nvme/job_14370398/tmp/ipykernel_1164077/2807465952.py:11: RuntimeWarning: Mean of empty slice\n",
      "  temp_tmp_ann = np.nanmean(temp_tmp, axis=0)\n",
      "/run/nvme/job_14370398/tmp/ipykernel_1164077/2807465952.py:12: RuntimeWarning: Mean of empty slice\n",
      "  salt_tmp_ann = np.nanmean(salt_tmp, axis=0)\n",
      "/run/nvme/job_14370398/tmp/ipykernel_1164077/2807465952.py:13: RuntimeWarning: Mean of empty slice\n",
      "  melt_tmp_ann = np.nanmean(melt_tmp, axis=0)\n"
     ]
    },
    {
     "name": "stdout",
     "output_type": "stream",
     "text": [
      "size temp_tmp_ann =  (31, 560, 630)\n",
      "Vtransform=2\n"
     ]
    },
    {
     "name": "stderr",
     "output_type": "stream",
     "text": [
      "/run/nvme/job_14370398/tmp/ipykernel_1164077/2807465952.py:27: RuntimeWarning: Mean of empty slice\n",
      "  z_rho_tmp_ann = np.nanmean(z_rho_tmp, axis=0)\n",
      "/run/nvme/job_14370398/tmp/ipykernel_1164077/2807465952.py:31: RuntimeWarning: Mean of empty slice\n",
      "  z_w_tmp_ann = np.nanmean(z_w_tmp, axis=0)\n",
      "/run/nvme/job_14370398/tmp/ipykernel_1164077/2807465952.py:102: RuntimeWarning: Mean of empty slice\n",
      "  u10_rho_bot_ann = np.nanmean(u10_rho_bot, axis=0)\n",
      "/run/nvme/job_14370398/tmp/ipykernel_1164077/2807465952.py:103: RuntimeWarning: Mean of empty slice\n",
      "  v10_rho_bot_ann = np.nanmean(v10_rho_bot, axis=0)\n",
      "/run/nvme/job_14370398/tmp/ipykernel_1164077/2807465952.py:104: RuntimeWarning: Mean of empty slice\n",
      "  u10_rho_sfc_ann = np.nanmean(u10_rho_sfc, axis=0)\n",
      "/run/nvme/job_14370398/tmp/ipykernel_1164077/2807465952.py:105: RuntimeWarning: Mean of empty slice\n",
      "  v10_rho_sfc_ann = np.nanmean(v10_rho_sfc, axis=0)\n"
     ]
    }
   ],
   "source": [
    "path_ECCO2_10km = '/scratch/project_2000339/boeiradi/waom10extend_shflim_S_0.25Q/output_01-20yr/'\n",
    "# temp_ann_10km, salt_ann_10km, u10_sfc, v10_sfc, u10_bot, v10_bot, melt_ann_10km = read_roms_ts_10km(path_ECCO2_10km)\n",
    "melt_ann_10km = read_roms_ts_10km(path_ECCO2_10km)\n"
   ]
  },
  {
   "cell_type": "code",
   "execution_count": null,
   "id": "532fce00",
   "metadata": {},
   "outputs": [],
   "source": [
    "mask_zice_10km = ma.masked_where(zice_10km < 0, np.ones(zice_10km.shape))\n",
    "mask_outice_10km = ma.masked_where(zice_10km >= 0, np.ones(zice_10km.shape))\n",
    "\n",
    "mask_shelf_10km = ma.masked_where(h_10km > 2000, np.ones(zice_10km.shape))\n"
   ]
  },
  {
   "cell_type": "code",
   "execution_count": null,
   "id": "ea6e4069",
   "metadata": {},
   "outputs": [],
   "source": [
    "fig_path='/users/boeiradi/COLD_project/postprocessing/figs/Maps_validations/'\n",
    "\n",
    "def lonlat_labels(ax):\n",
    "    # latitude labels\n",
    "    ax.text(120,-80,'80$^{\\circ}$S',transform=ccrs.PlateCarree(),color='gray')\n",
    "    ax.text(120,-70,'70$^{\\circ}$S',transform=ccrs.PlateCarree(),color='gray')\n",
    "    # longitude labels\n",
    "    ax.text(0,-66,'0$^{\\circ}$',transform=ccrs.PlateCarree(),color='gray')\n",
    "    #ax.text(60,-53,'60$^{\\circ}$E',transform=ccrs.PlateCarree(),color='gray')\n",
    "    #ax.text(120,-53,'120$^{\\circ}$E',transform=ccrs.PlateCarree(),color='gray')\n",
    "    ax.text(-60,-48,'60$^{\\circ}$W',transform=ccrs.PlateCarree(),color='gray')\n",
    "    ax.text(-120,-48,'120$^{\\circ}$W',transform=ccrs.PlateCarree(),color='gray')\n",
    "    ax.text(180,-60,'180$^{\\circ}$',transform=ccrs.PlateCarree(),color='gray')\n",
    "    return\n",
    "\n",
    "# define sections to investigate Ross-Filchner and Ross IS dynamics:\n",
    "xi_pt = [850, 1000, 1275, 1550]\n",
    "##xi_pt = [875, 1000, 1275, 1550] # new sections, too far east\n",
    "eta_sec_ini = [1600, 1650,  750,  500]\n",
    "eta_sec_end = [1945, 1970, 1075, 1196]"
   ]
  },
  {
   "cell_type": "code",
   "execution_count": null,
   "id": "a5df0250",
   "metadata": {},
   "outputs": [],
   "source": [
    "## Rignot data or Susheel?\n",
    "import h5py\n",
    "from scipy.interpolate import griddata\n"
   ]
  },
  {
   "cell_type": "code",
   "execution_count": null,
   "id": "0688b569",
   "metadata": {},
   "outputs": [],
   "source": [
    "# # path = os.path.join('/scratch','project_2000339','boeiradi','postprocessing','susheel','ANT_iceshelf_melt_rates_CS2_2010-2018_v0_5km.h5')\n",
    "# path = os.path.join('/scratch','project_2000339','boeiradi','postprocessing','susheel','bb0448974g.h5')\n",
    "\n",
    "# sus = {}\n",
    "# f = h5py.File(path)\n",
    "# for k, v in f.items():\n",
    "#     sus[k] = np.flipud(np.rot90(np.array(v)))\n",
    "# f.close()\n",
    "\n",
    "# mr=2\n",
    "# x,y = np.meshgrid(np.arange(-3000,3300+mr/2,mr/2),np.arange(-2700,2600+mr/2,mr/2))\n",
    "# x_rho = x[1::2,1::2]\n",
    "# y_rho = y[1::2,1::2]\n",
    "\n",
    "\n",
    "# x_sus,y_sus = np.meshgrid(sus['x'][0,::2],sus['y'][0,::2])\n",
    "# x_sus,y_sus = x_sus.flatten()/1000,y_sus.flatten()/1000\n",
    "# wb_sus = sus['w_b'][::2,::2].flatten()\n",
    "\n",
    "# points = (x_sus,y_sus)\n",
    "\n",
    "# print(x_rho.shape, y_rho.shape, x_sus.shape, wb_sus.shape)\n",
    "\n",
    "# print(sus['x'].shape, sus['y'].shape, sus['w_b'].shape)\n",
    "\n",
    "# wb_rho = xr.DataArray(griddata((x_sus,y_sus),wb_sus,(x_rho,y_rho)),dims=('eta_rho','xi_rho'))\n",
    "\n",
    "# from visualization.shiftedColorMap import shiftedColorMap\n",
    "# import matplotlib\n",
    "# m_max=6\n",
    "# m_min=-6\n",
    "\n",
    "# m_cmap = shiftedColorMap(plt.cm.seismic,midpoint= (1 - m_max/(m_max + abs(m_min))))\n",
    "# matplotlib.rcParams.update({'font.size': 18})\n",
    "\n",
    "# plt.close()\n",
    "# fig,ax = plt.subplots(figsize=(15,8))\n",
    "# # wb_rho.plot(vmin=m_min,vmax=m_max,ax=ax,cmap=m_cmap,cbar_kwargs={'label':''})\n",
    "# plt.pcolormesh(x_rho,y_rho, wb_rho, cmap=m_cmap)\n",
    "# ax.set_aspect('equal')\n",
    "# ax.axis('off')\n",
    "# plt.tight_layout()\n",
    "# plt.show()"
   ]
  },
  {
   "cell_type": "code",
   "execution_count": 5,
   "id": "b006f1fe",
   "metadata": {},
   "outputs": [
    {
     "ename": "NameError",
     "evalue": "name 'h5py' is not defined",
     "output_type": "error",
     "traceback": [
      "\u001b[0;31m---------------------------------------------------------------------------\u001b[0m",
      "\u001b[0;31mNameError\u001b[0m                                 Traceback (most recent call last)",
      "Input \u001b[0;32mIn [5]\u001b[0m, in \u001b[0;36m<cell line: 5>\u001b[0;34m()\u001b[0m\n\u001b[1;32m      1\u001b[0m \u001b[38;5;66;03m# following Susheel github: https://github.com/sioglaciology/ice_shelf_change/blob/master/read_melt_rate_file.ipynb\u001b[39;00m\n\u001b[1;32m      2\u001b[0m \n\u001b[1;32m      3\u001b[0m \u001b[38;5;66;03m# filename ='ANT/ANT_iceshelf_melt_rates_CS2_2010-2018_v0.h5'\u001b[39;00m\n\u001b[1;32m      4\u001b[0m filename \u001b[38;5;241m=\u001b[39m \u001b[38;5;124m'\u001b[39m\u001b[38;5;124m/scratch/project_2000339/boeiradi/postprocessing/susheel/bb0448974g.h5\u001b[39m\u001b[38;5;124m'\u001b[39m\n\u001b[0;32m----> 5\u001b[0m is_wb \u001b[38;5;241m=\u001b[39m \u001b[43mh5py\u001b[49m\u001b[38;5;241m.\u001b[39mFile(filename,\u001b[38;5;124m'\u001b[39m\u001b[38;5;124mr\u001b[39m\u001b[38;5;124m'\u001b[39m)\n\u001b[1;32m      7\u001b[0m x_wb \u001b[38;5;241m=\u001b[39m np\u001b[38;5;241m.\u001b[39marray(is_wb[\u001b[38;5;124m'\u001b[39m\u001b[38;5;124m/x\u001b[39m\u001b[38;5;124m'\u001b[39m])\n\u001b[1;32m      8\u001b[0m y_wb \u001b[38;5;241m=\u001b[39m np\u001b[38;5;241m.\u001b[39marray(is_wb[\u001b[38;5;124m'\u001b[39m\u001b[38;5;124m/y\u001b[39m\u001b[38;5;124m'\u001b[39m])\n",
      "\u001b[0;31mNameError\u001b[0m: name 'h5py' is not defined"
     ]
    }
   ],
   "source": [
    "# following Susheel github: https://github.com/sioglaciology/ice_shelf_change/blob/master/read_melt_rate_file.ipynb\n",
    "\n",
    "# filename ='ANT/ANT_iceshelf_melt_rates_CS2_2010-2018_v0.h5'\n",
    "filename = '/scratch/project_2000339/boeiradi/postprocessing/susheel/bb0448974g.h5'\n",
    "is_wb = h5py.File(filename,'r')\n",
    "\n",
    "x_wb = np.array(is_wb['/x'])\n",
    "y_wb = np.array(is_wb['/y'])\n",
    "wb = np.array(is_wb['/w_b'])\n",
    "\n",
    "# extent = [np.min(is_wb['x']),np.max(is_wb['x']),np.min(is_wb['y']),np.max(is_wb['y'])]\n",
    "# im_1 = ax1.imshow(np.flipud(wb),interpolation='none',vmin=-6, vmax=6, cmap='RdBu_r', extent=extent)\n",
    "\n",
    "# x_sus,y_sus = np.meshgrid(x_wb,y_wb)\n",
    "# print(x_sus.shape, y_sus.shape, wb.shape, x_wb.shape)"
   ]
  },
  {
   "cell_type": "code",
   "execution_count": 6,
   "id": "37ce19f3",
   "metadata": {},
   "outputs": [
    {
     "ename": "NameError",
     "evalue": "name 'x_wb' is not defined",
     "output_type": "error",
     "traceback": [
      "\u001b[0;31m---------------------------------------------------------------------------\u001b[0m",
      "\u001b[0;31mNameError\u001b[0m                                 Traceback (most recent call last)",
      "Input \u001b[0;32mIn [6]\u001b[0m, in \u001b[0;36m<cell line: 9>\u001b[0;34m()\u001b[0m\n\u001b[1;32m      6\u001b[0m x_rho \u001b[38;5;241m=\u001b[39m x[\u001b[38;5;241m1\u001b[39m::\u001b[38;5;241m10\u001b[39m,\u001b[38;5;241m1\u001b[39m::\u001b[38;5;241m10\u001b[39m]\n\u001b[1;32m      7\u001b[0m y_rho \u001b[38;5;241m=\u001b[39m y[\u001b[38;5;241m1\u001b[39m::\u001b[38;5;241m10\u001b[39m,\u001b[38;5;241m1\u001b[39m::\u001b[38;5;241m10\u001b[39m]\n\u001b[0;32m----> 9\u001b[0m x_sus,y_sus \u001b[38;5;241m=\u001b[39m np\u001b[38;5;241m.\u001b[39mmeshgrid(\u001b[43mx_wb\u001b[49m[::\u001b[38;5;241m10\u001b[39m,\u001b[38;5;241m0\u001b[39m],y_wb[::\u001b[38;5;241m10\u001b[39m,\u001b[38;5;241m0\u001b[39m])\n\u001b[1;32m     10\u001b[0m x_sus,y_sus \u001b[38;5;241m=\u001b[39m x_sus\u001b[38;5;241m.\u001b[39mflatten()\u001b[38;5;241m/\u001b[39m\u001b[38;5;241m1000\u001b[39m,y_sus\u001b[38;5;241m.\u001b[39mflatten()\u001b[38;5;241m/\u001b[39m\u001b[38;5;241m1000\u001b[39m\n\u001b[1;32m     11\u001b[0m wb_sus \u001b[38;5;241m=\u001b[39m wb[::\u001b[38;5;241m10\u001b[39m,::\u001b[38;5;241m10\u001b[39m]\u001b[38;5;241m.\u001b[39mflatten()\n",
      "\u001b[0;31mNameError\u001b[0m: name 'x_wb' is not defined"
     ]
    }
   ],
   "source": [
    "# interpolate Susheel data to WAOM grid:\n",
    "\n",
    "mr=10\n",
    "\n",
    "x,y = np.meshgrid(np.arange(-3000,3300+mr/10,mr/10),np.arange(-3000,2600+mr/10,mr/10))\n",
    "x_rho = x[1::10,1::10]\n",
    "y_rho = y[1::10,1::10]\n",
    "\n",
    "x_sus,y_sus = np.meshgrid(x_wb[::10,0],y_wb[::10,0])\n",
    "x_sus,y_sus = x_sus.flatten()/1000,y_sus.flatten()/1000\n",
    "wb_sus = wb[::10,::10].flatten()\n",
    "\n",
    "points = (x_sus,y_sus)\n",
    "\n",
    "print(x_rho.shape, y_rho.shape, x_sus.shape, wb_sus.shape)\n",
    "\n",
    "wb_rho = xr.DataArray(griddata((x_sus,y_sus),wb_sus,(x_rho,y_rho)),dims=('eta_rho','xi_rho'))\n"
   ]
  },
  {
   "cell_type": "code",
   "execution_count": 7,
   "id": "ee6fb4b9",
   "metadata": {},
   "outputs": [
    {
     "ename": "NameError",
     "evalue": "name 'wb_rho' is not defined",
     "output_type": "error",
     "traceback": [
      "\u001b[0;31m---------------------------------------------------------------------------\u001b[0m",
      "\u001b[0;31mNameError\u001b[0m                                 Traceback (most recent call last)",
      "Input \u001b[0;32mIn [7]\u001b[0m, in \u001b[0;36m<cell line: 1>\u001b[0;34m()\u001b[0m\n\u001b[0;32m----> 1\u001b[0m \u001b[38;5;28mprint\u001b[39m(\u001b[43mwb_rho\u001b[49m\u001b[38;5;241m.\u001b[39mshape, lon_rho_10km\u001b[38;5;241m.\u001b[39mshape, lat_rho_10km\u001b[38;5;241m.\u001b[39mshape, melt_ann_10km\u001b[38;5;241m.\u001b[39mshape)\n",
      "\u001b[0;31mNameError\u001b[0m: name 'wb_rho' is not defined"
     ]
    }
   ],
   "source": [
    "print(wb_rho.shape, lon_rho_10km.shape, lat_rho_10km.shape, melt_ann_10km.shape)"
   ]
  },
  {
   "cell_type": "code",
   "execution_count": 8,
   "id": "ad7e9cbe",
   "metadata": {},
   "outputs": [
    {
     "ename": "NameError",
     "evalue": "name 'wb_rho' is not defined",
     "output_type": "error",
     "traceback": [
      "\u001b[0;31m---------------------------------------------------------------------------\u001b[0m",
      "\u001b[0;31mNameError\u001b[0m                                 Traceback (most recent call last)",
      "Input \u001b[0;32mIn [8]\u001b[0m, in \u001b[0;36m<cell line: 8>\u001b[0;34m()\u001b[0m\n\u001b[1;32m      5\u001b[0m fig \u001b[38;5;241m=\u001b[39m plt\u001b[38;5;241m.\u001b[39mfigure(figsize\u001b[38;5;241m=\u001b[39m(\u001b[38;5;241m8\u001b[39m,\u001b[38;5;241m8\u001b[39m))\n\u001b[1;32m      7\u001b[0m ax1 \u001b[38;5;241m=\u001b[39m fig\u001b[38;5;241m.\u001b[39madd_subplot(\u001b[38;5;241m221\u001b[39m, projection\u001b[38;5;241m=\u001b[39mproj)\n\u001b[0;32m----> 8\u001b[0m cm \u001b[38;5;241m=\u001b[39m plt\u001b[38;5;241m.\u001b[39mpcolormesh(lon_rho_10km,lat_rho_10km,\u001b[43mwb_rho\u001b[49m, transform\u001b[38;5;241m=\u001b[39mccrs\u001b[38;5;241m.\u001b[39mPlateCarree(), vmin\u001b[38;5;241m=\u001b[39m\u001b[38;5;241m-\u001b[39m\u001b[38;5;241m6\u001b[39m, vmax\u001b[38;5;241m=\u001b[39m\u001b[38;5;241m6\u001b[39m, cmap\u001b[38;5;241m=\u001b[39m\u001b[38;5;124m'\u001b[39m\u001b[38;5;124mRdBu_r\u001b[39m\u001b[38;5;124m'\u001b[39m)\n\u001b[1;32m      9\u001b[0m ax1\u001b[38;5;241m.\u001b[39mset_extent([\u001b[38;5;241m-\u001b[39m\u001b[38;5;241m85\u001b[39m, \u001b[38;5;241m-\u001b[39m\u001b[38;5;241m30\u001b[39m, \u001b[38;5;241m-\u001b[39m\u001b[38;5;241m84\u001b[39m, \u001b[38;5;241m-\u001b[39m\u001b[38;5;241m74\u001b[39m], crs\u001b[38;5;241m=\u001b[39mccrs\u001b[38;5;241m.\u001b[39mPlateCarree()) \u001b[38;5;66;03m# FRIS\u001b[39;00m\n\u001b[1;32m     10\u001b[0m ax1\u001b[38;5;241m.\u001b[39madd_feature(cfeature\u001b[38;5;241m.\u001b[39mLAND, zorder\u001b[38;5;241m=\u001b[39m\u001b[38;5;241m3\u001b[39m, edgecolor\u001b[38;5;241m=\u001b[39m\u001b[38;5;124m'\u001b[39m\u001b[38;5;124mwhite\u001b[39m\u001b[38;5;124m'\u001b[39m, facecolor\u001b[38;5;241m=\u001b[39m\u001b[38;5;124m'\u001b[39m\u001b[38;5;124mgray\u001b[39m\u001b[38;5;124m'\u001b[39m)\n",
      "\u001b[0;31mNameError\u001b[0m: name 'wb_rho' is not defined"
     ]
    },
    {
     "data": {
      "image/png": "[encoded data removed]",
      "text/plain": [
       "<Figure size 576x576 with 1 Axes>"
      ]
     },
     "metadata": {
      "needs_background": "light"
     },
     "output_type": "display_data"
    }
   ],
   "source": [
    "proj = ccrs.SouthPolarStereo()\n",
    "\n",
    "\n",
    "# for FRIS region:\n",
    "fig = plt.figure(figsize=(8,8))\n",
    "\n",
    "ax1 = fig.add_subplot(221, projection=proj)\n",
    "cm = plt.pcolormesh(lon_rho_10km,lat_rho_10km,wb_rho, transform=ccrs.PlateCarree(), vmin=-6, vmax=6, cmap='RdBu_r')\n",
    "ax1.set_extent([-85, -30, -84, -74], crs=ccrs.PlateCarree()) # FRIS\n",
    "ax1.add_feature(cfeature.LAND, zorder=3, edgecolor='white', facecolor='gray')\n",
    "\n",
    "ax2 = fig.add_subplot(222, projection=proj)\n",
    "plt.pcolormesh(lon_rho_10km,lat_rho_10km,melt_ann_10km*365.25*86400, transform=ccrs.PlateCarree(), vmin=-6, vmax=6, cmap='RdBu_r')\n",
    "ax2.set_extent([-85, -30, -84, -74], crs=ccrs.PlateCarree()) # FRIS\n",
    "ax2.add_feature(cfeature.LAND, zorder=3, edgecolor='white', facecolor='gray')\n",
    "# ax2.set_extent([-180, 180, -90, -60], crs=ccrs.PlateCarree()) # Whole-Antarctica\n",
    "\n",
    "ax3 = fig.add_subplot(223, projection=proj)\n",
    "plt.pcolormesh(lon_rho_10km,lat_rho_10km,melt_ann_10km*365.25*86400, transform=ccrs.PlateCarree(), vmin=-6, vmax=6, cmap='RdBu_r')\n",
    "ax3.set_extent([-85, -30, -84, -74], crs=ccrs.PlateCarree()) # FRIS\n",
    "ax3.add_feature(cfeature.LAND, zorder=3, edgecolor='white', facecolor='gray')\n",
    "\n",
    "ax4 = fig.add_subplot(224, projection=proj)\n",
    "plt.pcolormesh(lon_rho_10km,lat_rho_10km,melt_ann_10km*365.25*86400, transform=ccrs.PlateCarree(), vmin=-6, vmax=6, cmap='RdBu_r')\n",
    "ax4.set_extent([-85, -30, -84, -74], crs=ccrs.PlateCarree()) # FRIS\n",
    "ax4.add_feature(cfeature.LAND, zorder=3, edgecolor='white', facecolor='gray')\n",
    "\n",
    "cbar_ax1 = fig.add_axes([0.13, 0.08, 0.76, 0.01])\n",
    "fig.colorbar(cm, cax=cbar_ax1, orientation='horizontal')\n",
    "cbar_ax1.set_xlabel('Melt rate (m/yr)',fontsize=12)#, labelpad=-35)\n",
    "\n",
    "plt.show()"
   ]
  },
  {
   "cell_type": "code",
   "execution_count": 28,
   "id": "f37acbde",
   "metadata": {},
   "outputs": [],
   "source": [
    "# test bathymetric contour:\n",
    "\n",
    "bathym = cfeature.NaturalEarthFeature(name='bathymetry_J2000', scale='10m', category='physical')\n",
    "\n"
   ]
  },
  {
   "cell_type": "code",
   "execution_count": null,
   "id": "dd65856b",
   "metadata": {},
   "outputs": [],
   "source": []
  }
 ],
 "metadata": {
  "kernelspec": {
   "display_name": "Python 3 (ipykernel)",
   "language": "python",
   "name": "python3"
  },
  "language_info": {
   "codemirror_mode": {
    "name": "ipython",
    "version": 3
   },
   "file_extension": ".py",
   "mimetype": "text/x-python",
   "name": "python",
   "nbconvert_exporter": "python",
   "pygments_lexer": "ipython3",
   "version": "3.8.8"
  }
 },
 "nbformat": 4,
 "nbformat_minor": 5
}
