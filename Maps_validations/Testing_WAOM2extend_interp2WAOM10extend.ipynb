{
 "cells": [
  {
   "cell_type": "code",
   "execution_count": 1,
   "id": "1c4edb25",
   "metadata": {},
   "outputs": [
    {
     "name": "stdout",
     "output_type": "stream",
     "text": [
      "Print lon/lat_rho shapes (560, 630) (560, 630)\n"
     ]
    }
   ],
   "source": [
    "# read nc output from WAOM 10km run\n",
    "\n",
    "import xarray as xr\n",
    "import pandas as p\n",
    "import numpy as np\n",
    "import numpy.ma as ma\n",
    "import cartopy.crs as ccrs\n",
    "import cartopy.feature as cfeature\n",
    "import matplotlib as mpl\n",
    "# mpl.use('Agg')\n",
    "mpl.use('TKAgg')\n",
    "import matplotlib.pyplot as plt\n",
    "import matplotlib.dates as dates\n",
    "from matplotlib.ticker import NullFormatter\n",
    "from matplotlib.colors import LinearSegmentedColormap   # for custom colormaps\n",
    "from matplotlib import colors\n",
    "import matplotlib.path as mpath\n",
    "\n",
    "from datetime import datetime, timedelta\n",
    "\n",
    "from netCDF4 import Dataset\n",
    "from netCDF4 import num2date, date2num\n",
    "\n",
    "import gsw\n",
    "import pyresample\n",
    "\n",
    "# read grid file for lon/lat coordinates\n",
    "dg = xr.open_dataset(\"/scratch/project_2000339/boeiradi/waom10_frc/waom10extend_grd.nc\")\n",
    "lat_rho_10km= dg.variables[\"lat_rho\"]\n",
    "lon_rho_10km = dg.variables[\"lon_rho\"]\n",
    "lat_u_10km= dg.variables[\"lat_u\"]\n",
    "lon_u_10km = dg.variables[\"lon_u\"]\n",
    "lat_v_10km= dg.variables[\"lat_v\"]\n",
    "lon_v_10km = dg.variables[\"lon_v\"]\n",
    "cor_10km = dg.variables[\"f\"]\n",
    "pm_10km = dg.variables[\"pm\"]\n",
    "pn_10km = dg.variables[\"pn\"]\n",
    "zice_10km = dg.variables[\"zice\"]\n",
    "dg.close()\n",
    "print('Print lon/lat_rho shapes',lon_rho_10km.shape, lat_rho_10km.shape)\n",
    "\n",
    "dg4 = xr.open_dataset(\"/scratch/project_2000789/boeiradi/waom4_frc/waom4extend_grd.nc\")\n",
    "lat_rho_4km = dg4.variables[\"lat_rho\"]\n",
    "lon_rho_4km = dg4.variables[\"lon_rho\"]\n",
    "lat_u_4km= dg4.variables[\"lat_u\"]\n",
    "lon_u_4km = dg4.variables[\"lon_u\"]\n",
    "lat_v_4km= dg4.variables[\"lat_v\"]\n",
    "lon_v_4km = dg4.variables[\"lon_v\"]\n",
    "cor_4km = dg4.variables[\"f\"]\n",
    "pm_4km = dg4.variables[\"pm\"]\n",
    "pn_4km = dg4.variables[\"pn\"]\n",
    "zice_4km = dg4.variables[\"zice\"]\n",
    "dg4.close()\n",
    "\n",
    "dg2 = xr.open_dataset(\"/scratch/project_2000339/boeiradi/waom2_frc/waom2extend_grd.nc\")\n",
    "lat_rho_2km = dg2.variables[\"lat_rho\"]\n",
    "lon_rho_2km = dg2.variables[\"lon_rho\"]\n",
    "lat_u_2km= dg2.variables[\"lat_u\"]\n",
    "lon_u_2km = dg2.variables[\"lon_u\"]\n",
    "lat_v_2km= dg2.variables[\"lat_v\"]\n",
    "lon_v_2km = dg2.variables[\"lon_v\"]\n",
    "cor_2km = dg2.variables[\"f\"]\n",
    "pm_2km = dg2.variables[\"pm\"]\n",
    "pn_2km = dg2.variables[\"pn\"]\n",
    "zice_2km = dg2.variables[\"zice\"]\n",
    "dg2.close()"
   ]
  },
  {
   "cell_type": "code",
   "execution_count": 5,
   "id": "ff588f04",
   "metadata": {},
   "outputs": [],
   "source": [
    "# read ROMS 2km:\n",
    "def read_roms_ts_2km(exp_path):\n",
    "    for yr in ['09','10']:\n",
    "        ds = xr.open_dataset(exp_path + 'ocean_avg_00' + yr + '.nc')\n",
    "        print('size temp and time length: ', ds.temp.shape, len(ds.salt.isel(xi_rho=20, eta_rho=100, s_rho=0)))\n",
    "        temp_tmp = ds.variables[\"temp\"]\n",
    "        salt_tmp = ds.variables[\"salt\"]\n",
    "#         zeta_tmp = ds.variables[\"zeta\"]\n",
    "        temp_tmp_ann = np.nanmean(temp_tmp, axis=0)\n",
    "        salt_tmp_ann = np.nanmean(salt_tmp, axis=0)\n",
    "        print('size temp_tmp_ann = ', temp_tmp_ann.shape)\n",
    "        del temp_tmp, salt_tmp\n",
    "\n",
    "        # calculate geostrophic velocities from ssh:\n",
    "#         g = 9.81\n",
    "#         dzetady = np.diff(zeta_tmp, axis=1)\n",
    "#         dzetadx = np.diff(zeta_tmp, axis=2)\n",
    "#         mmax = len(zeta_tmp)\n",
    "#         dzeta_dy = np.empty((dzetady[:,:,0:-1].shape))\n",
    "#         dzeta_dx = np.empty((dzetadx[:,0:-1,:].shape))\n",
    "#         for mm in np.arange(0,mmax,1):\n",
    "#             dzeta_dy[mm,:,:] = dzetady[mm,:,0:-1]*pn_2km[0:-1,0:-1]\n",
    "#             dzeta_dx[mm,:,:]= dzetadx[mm,0:-1,:]*pm_2km[0:-1,0:-1]\n",
    "#         ugeo = np.empty((dzeta_dy.shape))\n",
    "#         vgeo = np.empty((dzeta_dx.shape))\n",
    "#         for mm in np.arange(0,mmax,1):\n",
    "#             ugeo[mm,:,:] = -(g/cor_2km[0:-1,0:-1])*dzeta_dy[mm,:,:]\n",
    "#             vgeo[mm,:,:] = (g/cor_2km[0:-1,0:-1])*dzeta_dx[mm,:,:]\n",
    "#         ugeo_ann_tmp = np.nanmean(ugeo, axis=0)\n",
    "#         vgeo_ann_tmp = np.nanmean(vgeo, axis=0)\n",
    "        #ugeo_anom_tmp = ugeo - ugeo_ann\n",
    "        #vgeo_anom_tmp = vgeo - vgeo_ann\n",
    "#         V_ann_tmp = np.sqrt(ugeo_ann_tmp*ugeo_ann_tmp + vgeo_ann_tmp*vgeo_ann_tmp)\n",
    "#         MKE_tmp = np.divide(V_ann_tmp*V_ann_tmp,2)\n",
    "#         print(\"Size MKE_tmp\", MKE_tmp.shape)\n",
    "\n",
    "#         ugeo_anom_tmp = ugeo - ugeo_ann_tmp\n",
    "#         vgeo_anom_tmp = vgeo - vgeo_ann_tmp\n",
    "#         V_anom_tmp = np.sqrt(ugeo_anom_tmp*ugeo_anom_tmp + vgeo_anom_tmp*vgeo_anom_tmp)\n",
    "#         V_anom_ann = np.nanmean(V_anom_tmp, axis=0)\n",
    "#         EKE_tmp = np.divide(V_anom_ann*V_anom_ann,2)\n",
    "#         print(\"Size EKE_tmp\", EKE_tmp.shape)\n",
    "\n",
    "        ds = ds.set_coords(['Cs_r', 'Cs_w', 'hc', 'h', 'Vtransform'])\n",
    "\n",
    "        if ds.Vtransform == 1:\n",
    "            Zo_rho = ds.hc * (ds.s_rho - ds.Cs_r) + ds.Cs_r * ds.h\n",
    "            z_rho_tmp = Zo_rho + ds.zeta * (1 + Zo_rho/ds.h)\n",
    "            print(\"Vtransform=1\")\n",
    "        elif ds.Vtransform == 2:\n",
    "            Zo_rho = (ds.hc * ds.s_rho + ds.Cs_r * ds.h) / (ds.hc + ds.h)\n",
    "            z_rho_tmp = ds.zeta + (ds.zeta + ds.h) * Zo_rho\n",
    "            print(\"Vtransform=2\")\n",
    "        z_rho_tmp_ann = np.nanmean(z_rho_tmp, axis=0)\n",
    "\n",
    "#         Zo_w = (ds.hc * ds.s_w + ds.Cs_w * ds.h) / (ds.hc + ds.h)\n",
    "#         z_w_tmp = ds.zeta + (ds.zeta + ds.h) * Zo_w\n",
    "#         z_w_tmp_ann = np.nanmean(z_w_tmp, axis=0)\n",
    "\n",
    "        # concantenate annual averaged temp/salt\n",
    "        if yr == '09':\n",
    "            temp_ann = np.expand_dims(temp_tmp_ann, axis=0)\n",
    "            salt_ann = np.expand_dims(salt_tmp_ann, axis=0)\n",
    "#             z_w_ann = np.expand_dims(z_w_tmp_ann, axis=0)\n",
    "            z_rho_ann = np.expand_dims(z_rho_tmp_ann, axis=0)\n",
    "#             MKE_ann = np.expand_dims(MKE_tmp, axis=0)\n",
    "#             EKE_ann = np.expand_dims(EKE_tmp, axis=0)\n",
    "        elif yr == '10':\n",
    "            temp_ann = np.squeeze(np.nanmean(np.stack((temp_ann,np.expand_dims(temp_tmp_ann, axis=0)), axis=0), axis=0))\n",
    "            salt_ann = np.squeeze(np.nanmean(np.stack((salt_ann,np.expand_dims(salt_tmp_ann, axis=0)), axis=0), axis=0))\n",
    "#             z_w_ann = np.squeeze(np.nanmean(np.stack((z_w_ann,np.expand_dims(z_w_tmp_ann, axis=0)), axis=0), axis=0))\n",
    "            z_rho_ann = np.squeeze(np.nanmean(np.stack((z_rho_ann,np.expand_dims(z_rho_tmp_ann, axis=0)), axis=0), axis=0))\n",
    "#             MKE_ann = np.squeeze(np.nanmean(np.stack((MKE_ann,np.expand_dims(MKE_tmp, axis=0)), axis=0), axis=0))\n",
    "#             EKE_ann = np.squeeze(np.nanmean(np.stack((EKE_ann,np.expand_dims(EKE_tmp, axis=0)), axis=0), axis=0))\n",
    "\n",
    "        print('Annual temp and annual tmp temp sizes = ', temp_ann.shape, temp_tmp_ann.shape)\n",
    "\n",
    "    return temp_ann, salt_ann#, MKE_ann, EKE_ann"
   ]
  },
  {
   "cell_type": "code",
   "execution_count": 6,
   "id": "e35d1c15",
   "metadata": {},
   "outputs": [
    {
     "name": "stdout",
     "output_type": "stream",
     "text": [
      "size temp and time length:  (6, 31, 2800, 3150) 6\n"
     ]
    },
    {
     "name": "stderr",
     "output_type": "stream",
     "text": [
      "/scratch/project_2000339/boeiradi/anaconda3/lib/python3.7/site-packages/ipykernel_launcher.py:9: RuntimeWarning: Mean of empty slice\n",
      "  if __name__ == '__main__':\n",
      "/scratch/project_2000339/boeiradi/anaconda3/lib/python3.7/site-packages/ipykernel_launcher.py:10: RuntimeWarning: Mean of empty slice\n",
      "  # Remove the CWD from sys.path while we load stuff.\n"
     ]
    },
    {
     "name": "stdout",
     "output_type": "stream",
     "text": [
      "size temp_tmp_ann =  (31, 2800, 3150)\n",
      "Vtransform=2\n"
     ]
    },
    {
     "name": "stderr",
     "output_type": "stream",
     "text": [
      "/scratch/project_2000339/boeiradi/anaconda3/lib/python3.7/site-packages/ipykernel_launcher.py:54: RuntimeWarning: Mean of empty slice\n"
     ]
    },
    {
     "name": "stdout",
     "output_type": "stream",
     "text": [
      "Annual temp and annual tmp temp sizes =  (1, 31, 2800, 3150) (31, 2800, 3150)\n",
      "size temp and time length:  (6, 31, 2800, 3150) 6\n"
     ]
    },
    {
     "name": "stderr",
     "output_type": "stream",
     "text": [
      "/scratch/project_2000339/boeiradi/anaconda3/lib/python3.7/site-packages/ipykernel_launcher.py:9: RuntimeWarning: Mean of empty slice\n",
      "  if __name__ == '__main__':\n",
      "/scratch/project_2000339/boeiradi/anaconda3/lib/python3.7/site-packages/ipykernel_launcher.py:10: RuntimeWarning: Mean of empty slice\n",
      "  # Remove the CWD from sys.path while we load stuff.\n"
     ]
    },
    {
     "name": "stdout",
     "output_type": "stream",
     "text": [
      "size temp_tmp_ann =  (31, 2800, 3150)\n",
      "Vtransform=2\n"
     ]
    },
    {
     "name": "stderr",
     "output_type": "stream",
     "text": [
      "/scratch/project_2000339/boeiradi/anaconda3/lib/python3.7/site-packages/ipykernel_launcher.py:54: RuntimeWarning: Mean of empty slice\n",
      "/scratch/project_2000339/boeiradi/anaconda3/lib/python3.7/site-packages/ipykernel_launcher.py:69: RuntimeWarning: Mean of empty slice\n",
      "/scratch/project_2000339/boeiradi/anaconda3/lib/python3.7/site-packages/ipykernel_launcher.py:70: RuntimeWarning: Mean of empty slice\n"
     ]
    },
    {
     "name": "stdout",
     "output_type": "stream",
     "text": [
      "Annual temp and annual tmp temp sizes =  (31, 2800, 3150) (31, 2800, 3150)\n"
     ]
    },
    {
     "name": "stderr",
     "output_type": "stream",
     "text": [
      "/scratch/project_2000339/boeiradi/anaconda3/lib/python3.7/site-packages/ipykernel_launcher.py:72: RuntimeWarning: Mean of empty slice\n"
     ]
    }
   ],
   "source": [
    "path_ECCO2_2km = '/scratch/project_2000339/boeiradi/waom2extend_shflim_S_0.25Q/output_01-05yr/'\n",
    "temp_ann_2km, salt_ann_2km = read_roms_ts_2km(path_ECCO2_2km)"
   ]
  },
  {
   "cell_type": "code",
   "execution_count": 42,
   "id": "d2d66f34",
   "metadata": {},
   "outputs": [],
   "source": [
    "mask_zice_10km = ma.masked_where(zice_10km < 0, np.ones(zice_10km.shape))\n",
    "\n",
    "## ==========================================\n",
    "# interpolate WAOM4 and WAOM2 field to the WAOM10 grid for maps of difference:\n",
    "\n",
    "w10_def = pyresample.geometry.SwathDefinition(lons=lon_rho_10km,lats=lat_rho_10km)\n",
    "# w4_def = pyresample.geometry.SwathDefinition(lons=lon_rho_4km,lats=lat_rho_4km)\n",
    "w2_def = pyresample.geometry.SwathDefinition(lons=lon_rho_2km,lats=lat_rho_2km)\n",
    "\n",
    "wf = lambda r: 1/r\n",
    "\n",
    "# bot_temp_ann_4km_interp = pyresample.kd_tree.resample_custom(w4_def,temp_ann_4km[0,:,:],w10_def,\\\n",
    "#                                          radius_of_influence=30000,neighbours=4,weight_funcs=wf)\n",
    "bot_temp_ann_2km_interp = pyresample.kd_tree.resample_custom(w2_def,temp_ann_2km[0,:,:],w10_def,\\\n",
    "                                         radius_of_influence=5000,neighbours=1,weight_funcs=wf)\n"
   ]
  },
  {
   "cell_type": "code",
   "execution_count": 43,
   "id": "740c9fca",
   "metadata": {},
   "outputs": [
    {
     "name": "stdout",
     "output_type": "stream",
     "text": [
      "[[1.00070834 0.96313667 0.92828965 ... 1.41794586 1.40514874 1.37355828]\n",
      " [0.92756414 0.92480862 0.92282379 ... 1.39532804 1.37724495 1.37413144]\n",
      " [0.92240942 0.91760564 0.91564852 ... 1.37622416 1.36431789 1.37593853]\n",
      " ...\n",
      " [0.70442212 0.71080148 0.77163166 ... 0.67037189 0.67956412 0.67438895]\n",
      " [0.68837643 0.83016819 0.99723238 ... 0.6678955  0.73345476 0.55569047]\n",
      " [0.71251082 0.73652446 0.87587214 ... 0.65880847 0.7327379  0.49401188]]\n"
     ]
    }
   ],
   "source": [
    "print(bot_temp_ann_2km_interp[0:50,0:50])"
   ]
  },
  {
   "cell_type": "code",
   "execution_count": null,
   "id": "2377b1de",
   "metadata": {},
   "outputs": [],
   "source": [
    "plt.pcolormesh(bot_temp_ann_2km_interp)\n",
    "#plt.pcolormesh(temp_ann_2km[0,0:400,0:400])\n",
    "plt.colorbar()\n",
    "plt.show()"
   ]
  },
  {
   "cell_type": "code",
   "execution_count": null,
   "id": "b3a23a1e",
   "metadata": {},
   "outputs": [],
   "source": []
  }
 ],
 "metadata": {
  "kernelspec": {
   "display_name": "Python 3 (ipykernel)",
   "language": "python",
   "name": "python3"
  },
  "language_info": {
   "codemirror_mode": {
    "name": "ipython",
    "version": 3
   },
   "file_extension": ".py",
   "mimetype": "text/x-python",
   "name": "python",
   "nbconvert_exporter": "python",
   "pygments_lexer": "ipython3",
   "version": "3.7.11"
  }
 },
 "nbformat": 4,
 "nbformat_minor": 5
}
