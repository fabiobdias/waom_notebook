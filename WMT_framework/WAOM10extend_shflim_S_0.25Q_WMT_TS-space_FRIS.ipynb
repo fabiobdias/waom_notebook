{
 "cells": [
  {
   "cell_type": "code",
   "execution_count": 1,
   "id": "7afe584c",
   "metadata": {},
   "outputs": [],
   "source": [
    "# read nc output from WAOM 10km run\n",
    "\n",
    "import xarray as xr\n",
    "import pandas as p\n",
    "import numpy as np\n",
    "import numpy.ma as ma\n",
    "import cartopy.crs as ccrs\n",
    "import matplotlib as mpl\n",
    "# mpl.use('Agg')\n",
    "import matplotlib.pyplot as plt\n",
    "import matplotlib.dates as dates\n",
    "from matplotlib.ticker import NullFormatter\n",
    "from matplotlib.colors import LinearSegmentedColormap   # for custom colormaps\n",
    "\n",
    "from datetime import datetime, timedelta\n",
    "\n",
    "from netCDF4 import Dataset\n",
    "from netCDF4 import num2date, date2num\n",
    "from matplotlib.ticker import NullFormatter\n",
    "from matplotlib.colors import LinearSegmentedColormap   # for custom colormaps\n",
    "\n",
    "from xhistogram.xarray import histogram\n",
    "from xmovie import Movie\n",
    "import gsw"
   ]
  },
  {
   "cell_type": "code",
   "execution_count": 2,
   "id": "a7b74de3",
   "metadata": {},
   "outputs": [
    {
     "name": "stdout",
     "output_type": "stream",
     "text": [
      "(7, 31, 560, 630)\n"
     ]
    },
    {
     "name": "stderr",
     "output_type": "stream",
     "text": [
      "/scratch/project_2000339/boeiradi/anaconda3/lib/python3.7/site-packages/ipykernel_launcher.py:5: RuntimeWarning: Mean of empty slice\n",
      "  \"\"\"\n",
      "/scratch/project_2000339/boeiradi/anaconda3/lib/python3.7/site-packages/ipykernel_launcher.py:6: RuntimeWarning: Mean of empty slice\n",
      "  \n",
      "/scratch/project_2000339/boeiradi/anaconda3/lib/python3.7/site-packages/ipykernel_launcher.py:7: RuntimeWarning: Mean of empty slice\n",
      "  import sys\n",
      "/scratch/project_2000339/boeiradi/anaconda3/lib/python3.7/site-packages/ipykernel_launcher.py:8: RuntimeWarning: Mean of empty slice\n",
      "  \n",
      "/scratch/project_2000339/boeiradi/anaconda3/lib/python3.7/site-packages/ipykernel_launcher.py:9: RuntimeWarning: Mean of empty slice\n",
      "  if __name__ == '__main__':\n",
      "/scratch/project_2000339/boeiradi/anaconda3/lib/python3.7/site-packages/ipykernel_launcher.py:10: RuntimeWarning: Mean of empty slice\n",
      "  # Remove the CWD from sys.path while we load stuff.\n"
     ]
    },
    {
     "name": "stdout",
     "output_type": "stream",
     "text": [
      "Vtransform=2\n"
     ]
    },
    {
     "name": "stderr",
     "output_type": "stream",
     "text": [
      "/scratch/project_2000339/boeiradi/anaconda3/lib/python3.7/site-packages/ipykernel_launcher.py:24: RuntimeWarning: Mean of empty slice\n",
      "/scratch/project_2000339/boeiradi/anaconda3/lib/python3.7/site-packages/ipykernel_launcher.py:25: RuntimeWarning: Mean of empty slice\n"
     ]
    },
    {
     "name": "stdout",
     "output_type": "stream",
     "text": [
      "(6, 31, 560, 630)\n"
     ]
    },
    {
     "name": "stderr",
     "output_type": "stream",
     "text": [
      "/scratch/project_2000339/boeiradi/anaconda3/lib/python3.7/site-packages/ipykernel_launcher.py:5: RuntimeWarning: Mean of empty slice\n",
      "  \"\"\"\n",
      "/scratch/project_2000339/boeiradi/anaconda3/lib/python3.7/site-packages/ipykernel_launcher.py:6: RuntimeWarning: Mean of empty slice\n",
      "  \n",
      "/scratch/project_2000339/boeiradi/anaconda3/lib/python3.7/site-packages/ipykernel_launcher.py:7: RuntimeWarning: Mean of empty slice\n",
      "  import sys\n",
      "/scratch/project_2000339/boeiradi/anaconda3/lib/python3.7/site-packages/ipykernel_launcher.py:8: RuntimeWarning: Mean of empty slice\n",
      "  \n",
      "/scratch/project_2000339/boeiradi/anaconda3/lib/python3.7/site-packages/ipykernel_launcher.py:9: RuntimeWarning: Mean of empty slice\n",
      "  if __name__ == '__main__':\n",
      "/scratch/project_2000339/boeiradi/anaconda3/lib/python3.7/site-packages/ipykernel_launcher.py:10: RuntimeWarning: Mean of empty slice\n",
      "  # Remove the CWD from sys.path while we load stuff.\n"
     ]
    },
    {
     "name": "stdout",
     "output_type": "stream",
     "text": [
      "Vtransform=2\n"
     ]
    },
    {
     "name": "stderr",
     "output_type": "stream",
     "text": [
      "/scratch/project_2000339/boeiradi/anaconda3/lib/python3.7/site-packages/ipykernel_launcher.py:24: RuntimeWarning: Mean of empty slice\n",
      "/scratch/project_2000339/boeiradi/anaconda3/lib/python3.7/site-packages/ipykernel_launcher.py:25: RuntimeWarning: Mean of empty slice\n"
     ]
    },
    {
     "name": "stdout",
     "output_type": "stream",
     "text": [
      "(6, 31, 560, 630)\n"
     ]
    },
    {
     "name": "stderr",
     "output_type": "stream",
     "text": [
      "/scratch/project_2000339/boeiradi/anaconda3/lib/python3.7/site-packages/ipykernel_launcher.py:5: RuntimeWarning: Mean of empty slice\n",
      "  \"\"\"\n",
      "/scratch/project_2000339/boeiradi/anaconda3/lib/python3.7/site-packages/ipykernel_launcher.py:6: RuntimeWarning: Mean of empty slice\n",
      "  \n",
      "/scratch/project_2000339/boeiradi/anaconda3/lib/python3.7/site-packages/ipykernel_launcher.py:7: RuntimeWarning: Mean of empty slice\n",
      "  import sys\n",
      "/scratch/project_2000339/boeiradi/anaconda3/lib/python3.7/site-packages/ipykernel_launcher.py:8: RuntimeWarning: Mean of empty slice\n",
      "  \n",
      "/scratch/project_2000339/boeiradi/anaconda3/lib/python3.7/site-packages/ipykernel_launcher.py:9: RuntimeWarning: Mean of empty slice\n",
      "  if __name__ == '__main__':\n",
      "/scratch/project_2000339/boeiradi/anaconda3/lib/python3.7/site-packages/ipykernel_launcher.py:10: RuntimeWarning: Mean of empty slice\n",
      "  # Remove the CWD from sys.path while we load stuff.\n"
     ]
    },
    {
     "name": "stdout",
     "output_type": "stream",
     "text": [
      "Vtransform=2\n"
     ]
    },
    {
     "name": "stderr",
     "output_type": "stream",
     "text": [
      "/scratch/project_2000339/boeiradi/anaconda3/lib/python3.7/site-packages/ipykernel_launcher.py:24: RuntimeWarning: Mean of empty slice\n",
      "/scratch/project_2000339/boeiradi/anaconda3/lib/python3.7/site-packages/ipykernel_launcher.py:25: RuntimeWarning: Mean of empty slice\n"
     ]
    },
    {
     "name": "stdout",
     "output_type": "stream",
     "text": [
      "(6, 31, 560, 630)\n"
     ]
    },
    {
     "name": "stderr",
     "output_type": "stream",
     "text": [
      "/scratch/project_2000339/boeiradi/anaconda3/lib/python3.7/site-packages/ipykernel_launcher.py:5: RuntimeWarning: Mean of empty slice\n",
      "  \"\"\"\n",
      "/scratch/project_2000339/boeiradi/anaconda3/lib/python3.7/site-packages/ipykernel_launcher.py:6: RuntimeWarning: Mean of empty slice\n",
      "  \n",
      "/scratch/project_2000339/boeiradi/anaconda3/lib/python3.7/site-packages/ipykernel_launcher.py:7: RuntimeWarning: Mean of empty slice\n",
      "  import sys\n",
      "/scratch/project_2000339/boeiradi/anaconda3/lib/python3.7/site-packages/ipykernel_launcher.py:8: RuntimeWarning: Mean of empty slice\n",
      "  \n",
      "/scratch/project_2000339/boeiradi/anaconda3/lib/python3.7/site-packages/ipykernel_launcher.py:9: RuntimeWarning: Mean of empty slice\n",
      "  if __name__ == '__main__':\n",
      "/scratch/project_2000339/boeiradi/anaconda3/lib/python3.7/site-packages/ipykernel_launcher.py:10: RuntimeWarning: Mean of empty slice\n",
      "  # Remove the CWD from sys.path while we load stuff.\n"
     ]
    },
    {
     "name": "stdout",
     "output_type": "stream",
     "text": [
      "Vtransform=2\n"
     ]
    },
    {
     "name": "stderr",
     "output_type": "stream",
     "text": [
      "/scratch/project_2000339/boeiradi/anaconda3/lib/python3.7/site-packages/ipykernel_launcher.py:24: RuntimeWarning: Mean of empty slice\n",
      "/scratch/project_2000339/boeiradi/anaconda3/lib/python3.7/site-packages/ipykernel_launcher.py:25: RuntimeWarning: Mean of empty slice\n"
     ]
    },
    {
     "name": "stdout",
     "output_type": "stream",
     "text": [
      "(6, 31, 560, 630)\n"
     ]
    },
    {
     "name": "stderr",
     "output_type": "stream",
     "text": [
      "/scratch/project_2000339/boeiradi/anaconda3/lib/python3.7/site-packages/ipykernel_launcher.py:5: RuntimeWarning: Mean of empty slice\n",
      "  \"\"\"\n",
      "/scratch/project_2000339/boeiradi/anaconda3/lib/python3.7/site-packages/ipykernel_launcher.py:6: RuntimeWarning: Mean of empty slice\n",
      "  \n",
      "/scratch/project_2000339/boeiradi/anaconda3/lib/python3.7/site-packages/ipykernel_launcher.py:7: RuntimeWarning: Mean of empty slice\n",
      "  import sys\n",
      "/scratch/project_2000339/boeiradi/anaconda3/lib/python3.7/site-packages/ipykernel_launcher.py:8: RuntimeWarning: Mean of empty slice\n",
      "  \n",
      "/scratch/project_2000339/boeiradi/anaconda3/lib/python3.7/site-packages/ipykernel_launcher.py:9: RuntimeWarning: Mean of empty slice\n",
      "  if __name__ == '__main__':\n",
      "/scratch/project_2000339/boeiradi/anaconda3/lib/python3.7/site-packages/ipykernel_launcher.py:10: RuntimeWarning: Mean of empty slice\n",
      "  # Remove the CWD from sys.path while we load stuff.\n"
     ]
    },
    {
     "name": "stdout",
     "output_type": "stream",
     "text": [
      "Vtransform=2\n"
     ]
    },
    {
     "name": "stderr",
     "output_type": "stream",
     "text": [
      "/scratch/project_2000339/boeiradi/anaconda3/lib/python3.7/site-packages/ipykernel_launcher.py:24: RuntimeWarning: Mean of empty slice\n",
      "/scratch/project_2000339/boeiradi/anaconda3/lib/python3.7/site-packages/ipykernel_launcher.py:25: RuntimeWarning: Mean of empty slice\n"
     ]
    },
    {
     "name": "stdout",
     "output_type": "stream",
     "text": [
      "(6, 31, 560, 630)\n"
     ]
    },
    {
     "name": "stderr",
     "output_type": "stream",
     "text": [
      "/scratch/project_2000339/boeiradi/anaconda3/lib/python3.7/site-packages/ipykernel_launcher.py:5: RuntimeWarning: Mean of empty slice\n",
      "  \"\"\"\n",
      "/scratch/project_2000339/boeiradi/anaconda3/lib/python3.7/site-packages/ipykernel_launcher.py:6: RuntimeWarning: Mean of empty slice\n",
      "  \n",
      "/scratch/project_2000339/boeiradi/anaconda3/lib/python3.7/site-packages/ipykernel_launcher.py:7: RuntimeWarning: Mean of empty slice\n",
      "  import sys\n",
      "/scratch/project_2000339/boeiradi/anaconda3/lib/python3.7/site-packages/ipykernel_launcher.py:8: RuntimeWarning: Mean of empty slice\n",
      "  \n",
      "/scratch/project_2000339/boeiradi/anaconda3/lib/python3.7/site-packages/ipykernel_launcher.py:9: RuntimeWarning: Mean of empty slice\n",
      "  if __name__ == '__main__':\n",
      "/scratch/project_2000339/boeiradi/anaconda3/lib/python3.7/site-packages/ipykernel_launcher.py:10: RuntimeWarning: Mean of empty slice\n",
      "  # Remove the CWD from sys.path while we load stuff.\n"
     ]
    },
    {
     "name": "stdout",
     "output_type": "stream",
     "text": [
      "Vtransform=2\n"
     ]
    },
    {
     "name": "stderr",
     "output_type": "stream",
     "text": [
      "/scratch/project_2000339/boeiradi/anaconda3/lib/python3.7/site-packages/ipykernel_launcher.py:24: RuntimeWarning: Mean of empty slice\n",
      "/scratch/project_2000339/boeiradi/anaconda3/lib/python3.7/site-packages/ipykernel_launcher.py:25: RuntimeWarning: Mean of empty slice\n"
     ]
    },
    {
     "name": "stdout",
     "output_type": "stream",
     "text": [
      "(6, 31, 560, 630)\n"
     ]
    },
    {
     "name": "stderr",
     "output_type": "stream",
     "text": [
      "/scratch/project_2000339/boeiradi/anaconda3/lib/python3.7/site-packages/ipykernel_launcher.py:5: RuntimeWarning: Mean of empty slice\n",
      "  \"\"\"\n",
      "/scratch/project_2000339/boeiradi/anaconda3/lib/python3.7/site-packages/ipykernel_launcher.py:6: RuntimeWarning: Mean of empty slice\n",
      "  \n",
      "/scratch/project_2000339/boeiradi/anaconda3/lib/python3.7/site-packages/ipykernel_launcher.py:7: RuntimeWarning: Mean of empty slice\n",
      "  import sys\n",
      "/scratch/project_2000339/boeiradi/anaconda3/lib/python3.7/site-packages/ipykernel_launcher.py:8: RuntimeWarning: Mean of empty slice\n",
      "  \n",
      "/scratch/project_2000339/boeiradi/anaconda3/lib/python3.7/site-packages/ipykernel_launcher.py:9: RuntimeWarning: Mean of empty slice\n",
      "  if __name__ == '__main__':\n",
      "/scratch/project_2000339/boeiradi/anaconda3/lib/python3.7/site-packages/ipykernel_launcher.py:10: RuntimeWarning: Mean of empty slice\n",
      "  # Remove the CWD from sys.path while we load stuff.\n"
     ]
    },
    {
     "name": "stdout",
     "output_type": "stream",
     "text": [
      "Vtransform=2\n"
     ]
    },
    {
     "name": "stderr",
     "output_type": "stream",
     "text": [
      "/scratch/project_2000339/boeiradi/anaconda3/lib/python3.7/site-packages/ipykernel_launcher.py:24: RuntimeWarning: Mean of empty slice\n",
      "/scratch/project_2000339/boeiradi/anaconda3/lib/python3.7/site-packages/ipykernel_launcher.py:25: RuntimeWarning: Mean of empty slice\n"
     ]
    },
    {
     "name": "stdout",
     "output_type": "stream",
     "text": [
      "(6, 31, 560, 630)\n"
     ]
    },
    {
     "name": "stderr",
     "output_type": "stream",
     "text": [
      "/scratch/project_2000339/boeiradi/anaconda3/lib/python3.7/site-packages/ipykernel_launcher.py:5: RuntimeWarning: Mean of empty slice\n",
      "  \"\"\"\n",
      "/scratch/project_2000339/boeiradi/anaconda3/lib/python3.7/site-packages/ipykernel_launcher.py:6: RuntimeWarning: Mean of empty slice\n",
      "  \n",
      "/scratch/project_2000339/boeiradi/anaconda3/lib/python3.7/site-packages/ipykernel_launcher.py:7: RuntimeWarning: Mean of empty slice\n",
      "  import sys\n",
      "/scratch/project_2000339/boeiradi/anaconda3/lib/python3.7/site-packages/ipykernel_launcher.py:8: RuntimeWarning: Mean of empty slice\n",
      "  \n",
      "/scratch/project_2000339/boeiradi/anaconda3/lib/python3.7/site-packages/ipykernel_launcher.py:9: RuntimeWarning: Mean of empty slice\n",
      "  if __name__ == '__main__':\n",
      "/scratch/project_2000339/boeiradi/anaconda3/lib/python3.7/site-packages/ipykernel_launcher.py:10: RuntimeWarning: Mean of empty slice\n",
      "  # Remove the CWD from sys.path while we load stuff.\n"
     ]
    },
    {
     "name": "stdout",
     "output_type": "stream",
     "text": [
      "Vtransform=2\n"
     ]
    },
    {
     "name": "stderr",
     "output_type": "stream",
     "text": [
      "/scratch/project_2000339/boeiradi/anaconda3/lib/python3.7/site-packages/ipykernel_launcher.py:24: RuntimeWarning: Mean of empty slice\n",
      "/scratch/project_2000339/boeiradi/anaconda3/lib/python3.7/site-packages/ipykernel_launcher.py:25: RuntimeWarning: Mean of empty slice\n"
     ]
    },
    {
     "name": "stdout",
     "output_type": "stream",
     "text": [
      "(6, 31, 560, 630)\n"
     ]
    },
    {
     "name": "stderr",
     "output_type": "stream",
     "text": [
      "/scratch/project_2000339/boeiradi/anaconda3/lib/python3.7/site-packages/ipykernel_launcher.py:5: RuntimeWarning: Mean of empty slice\n",
      "  \"\"\"\n",
      "/scratch/project_2000339/boeiradi/anaconda3/lib/python3.7/site-packages/ipykernel_launcher.py:6: RuntimeWarning: Mean of empty slice\n",
      "  \n",
      "/scratch/project_2000339/boeiradi/anaconda3/lib/python3.7/site-packages/ipykernel_launcher.py:7: RuntimeWarning: Mean of empty slice\n",
      "  import sys\n",
      "/scratch/project_2000339/boeiradi/anaconda3/lib/python3.7/site-packages/ipykernel_launcher.py:8: RuntimeWarning: Mean of empty slice\n",
      "  \n",
      "/scratch/project_2000339/boeiradi/anaconda3/lib/python3.7/site-packages/ipykernel_launcher.py:9: RuntimeWarning: Mean of empty slice\n",
      "  if __name__ == '__main__':\n",
      "/scratch/project_2000339/boeiradi/anaconda3/lib/python3.7/site-packages/ipykernel_launcher.py:10: RuntimeWarning: Mean of empty slice\n",
      "  # Remove the CWD from sys.path while we load stuff.\n"
     ]
    },
    {
     "name": "stdout",
     "output_type": "stream",
     "text": [
      "Vtransform=2\n"
     ]
    },
    {
     "name": "stderr",
     "output_type": "stream",
     "text": [
      "/scratch/project_2000339/boeiradi/anaconda3/lib/python3.7/site-packages/ipykernel_launcher.py:24: RuntimeWarning: Mean of empty slice\n",
      "/scratch/project_2000339/boeiradi/anaconda3/lib/python3.7/site-packages/ipykernel_launcher.py:25: RuntimeWarning: Mean of empty slice\n"
     ]
    },
    {
     "name": "stdout",
     "output_type": "stream",
     "text": [
      "(6, 31, 560, 630)\n"
     ]
    },
    {
     "name": "stderr",
     "output_type": "stream",
     "text": [
      "/scratch/project_2000339/boeiradi/anaconda3/lib/python3.7/site-packages/ipykernel_launcher.py:5: RuntimeWarning: Mean of empty slice\n",
      "  \"\"\"\n",
      "/scratch/project_2000339/boeiradi/anaconda3/lib/python3.7/site-packages/ipykernel_launcher.py:6: RuntimeWarning: Mean of empty slice\n",
      "  \n",
      "/scratch/project_2000339/boeiradi/anaconda3/lib/python3.7/site-packages/ipykernel_launcher.py:7: RuntimeWarning: Mean of empty slice\n",
      "  import sys\n",
      "/scratch/project_2000339/boeiradi/anaconda3/lib/python3.7/site-packages/ipykernel_launcher.py:8: RuntimeWarning: Mean of empty slice\n",
      "  \n",
      "/scratch/project_2000339/boeiradi/anaconda3/lib/python3.7/site-packages/ipykernel_launcher.py:9: RuntimeWarning: Mean of empty slice\n",
      "  if __name__ == '__main__':\n",
      "/scratch/project_2000339/boeiradi/anaconda3/lib/python3.7/site-packages/ipykernel_launcher.py:10: RuntimeWarning: Mean of empty slice\n",
      "  # Remove the CWD from sys.path while we load stuff.\n"
     ]
    },
    {
     "name": "stdout",
     "output_type": "stream",
     "text": [
      "Vtransform=2\n"
     ]
    },
    {
     "name": "stderr",
     "output_type": "stream",
     "text": [
      "/scratch/project_2000339/boeiradi/anaconda3/lib/python3.7/site-packages/ipykernel_launcher.py:24: RuntimeWarning: Mean of empty slice\n",
      "/scratch/project_2000339/boeiradi/anaconda3/lib/python3.7/site-packages/ipykernel_launcher.py:25: RuntimeWarning: Mean of empty slice\n"
     ]
    },
    {
     "name": "stdout",
     "output_type": "stream",
     "text": [
      "(6, 31, 560, 630)\n"
     ]
    },
    {
     "name": "stderr",
     "output_type": "stream",
     "text": [
      "/scratch/project_2000339/boeiradi/anaconda3/lib/python3.7/site-packages/ipykernel_launcher.py:5: RuntimeWarning: Mean of empty slice\n",
      "  \"\"\"\n",
      "/scratch/project_2000339/boeiradi/anaconda3/lib/python3.7/site-packages/ipykernel_launcher.py:6: RuntimeWarning: Mean of empty slice\n",
      "  \n",
      "/scratch/project_2000339/boeiradi/anaconda3/lib/python3.7/site-packages/ipykernel_launcher.py:7: RuntimeWarning: Mean of empty slice\n",
      "  import sys\n",
      "/scratch/project_2000339/boeiradi/anaconda3/lib/python3.7/site-packages/ipykernel_launcher.py:8: RuntimeWarning: Mean of empty slice\n",
      "  \n",
      "/scratch/project_2000339/boeiradi/anaconda3/lib/python3.7/site-packages/ipykernel_launcher.py:9: RuntimeWarning: Mean of empty slice\n",
      "  if __name__ == '__main__':\n",
      "/scratch/project_2000339/boeiradi/anaconda3/lib/python3.7/site-packages/ipykernel_launcher.py:10: RuntimeWarning: Mean of empty slice\n",
      "  # Remove the CWD from sys.path while we load stuff.\n"
     ]
    },
    {
     "name": "stdout",
     "output_type": "stream",
     "text": [
      "Vtransform=2\n"
     ]
    },
    {
     "name": "stderr",
     "output_type": "stream",
     "text": [
      "/scratch/project_2000339/boeiradi/anaconda3/lib/python3.7/site-packages/ipykernel_launcher.py:24: RuntimeWarning: Mean of empty slice\n",
      "/scratch/project_2000339/boeiradi/anaconda3/lib/python3.7/site-packages/ipykernel_launcher.py:25: RuntimeWarning: Mean of empty slice\n"
     ]
    },
    {
     "name": "stdout",
     "output_type": "stream",
     "text": [
      "(6, 31, 560, 630)\n"
     ]
    },
    {
     "name": "stderr",
     "output_type": "stream",
     "text": [
      "/scratch/project_2000339/boeiradi/anaconda3/lib/python3.7/site-packages/ipykernel_launcher.py:5: RuntimeWarning: Mean of empty slice\n",
      "  \"\"\"\n",
      "/scratch/project_2000339/boeiradi/anaconda3/lib/python3.7/site-packages/ipykernel_launcher.py:6: RuntimeWarning: Mean of empty slice\n",
      "  \n",
      "/scratch/project_2000339/boeiradi/anaconda3/lib/python3.7/site-packages/ipykernel_launcher.py:7: RuntimeWarning: Mean of empty slice\n",
      "  import sys\n",
      "/scratch/project_2000339/boeiradi/anaconda3/lib/python3.7/site-packages/ipykernel_launcher.py:8: RuntimeWarning: Mean of empty slice\n",
      "  \n",
      "/scratch/project_2000339/boeiradi/anaconda3/lib/python3.7/site-packages/ipykernel_launcher.py:9: RuntimeWarning: Mean of empty slice\n",
      "  if __name__ == '__main__':\n",
      "/scratch/project_2000339/boeiradi/anaconda3/lib/python3.7/site-packages/ipykernel_launcher.py:10: RuntimeWarning: Mean of empty slice\n",
      "  # Remove the CWD from sys.path while we load stuff.\n"
     ]
    },
    {
     "name": "stdout",
     "output_type": "stream",
     "text": [
      "Vtransform=2\n"
     ]
    },
    {
     "name": "stderr",
     "output_type": "stream",
     "text": [
      "/scratch/project_2000339/boeiradi/anaconda3/lib/python3.7/site-packages/ipykernel_launcher.py:24: RuntimeWarning: Mean of empty slice\n",
      "/scratch/project_2000339/boeiradi/anaconda3/lib/python3.7/site-packages/ipykernel_launcher.py:25: RuntimeWarning: Mean of empty slice\n"
     ]
    }
   ],
   "source": [
    "# load ROMS avg output\n",
    "for mm  in ['01','02','03','04','05','06','07','08','09','10','11','12']:\n",
    "    ds = xr.open_dataset('/scratch/project_2000789/boeiradi/waom10extend_shflim_S_0.25Q/output_20yr_diag/ocean_avg_00' + mm + '.nc')\n",
    "    print(ds.variables[\"temp\"].shape)\n",
    "    temp_tmp = np.nanmean(ds.variables[\"temp\"], axis=0)\n",
    "    salt_tmp = np.nanmean(ds.variables[\"salt\"], axis=0)\n",
    "    shflux_tmp = np.nanmean(ds.variables[\"shflux\"], axis=0)\n",
    "    ssflux_tmp = np.nanmean(ds.variables[\"ssflux\"], axis=0)\n",
    "    m_tmp = np.nanmean(ds.variables[\"m\"], axis=0)\n",
    "    Hsbl_tmp = np.nanmean(ds.variables[\"Hsbl\"], axis=0)\n",
    "\n",
    "    ds = ds.set_coords(['Cs_r', 'Cs_w', 'hc', 'h', 'Vtransform'])\n",
    "    if ds.Vtransform == 1:\n",
    "        Zo_rho = ds.hc * (ds.s_rho - ds.Cs_r) + ds.Cs_r * ds.h\n",
    "        z_rho_tmp = Zo_rho + ds.zeta * (1 + Zo_rho/ds.h)\n",
    "        print(\"Vtransform=1\")\n",
    "    elif ds.Vtransform == 2:\n",
    "        Zo_rho = (ds.hc * ds.s_rho + ds.Cs_r * ds.h) / (ds.hc + ds.h)\n",
    "        z_rho_tmp = ds.zeta + (ds.zeta + ds.h) * Zo_rho + ds.zice\n",
    "        print(\"Vtransform=2\")\n",
    "        Zo_w = (ds.hc * ds.s_w + ds.Cs_w * ds.h) / (ds.hc + ds.h)\n",
    "        z_w_tmp = ds.zeta + (ds.zeta + ds.h) * Zo_w + ds.zice\n",
    "\n",
    "    z_rho_avg = np.nanmean(z_rho_tmp, axis=0)\n",
    "    z_w_avg = np.nanmean(z_w_tmp,axis=0)\n",
    "\n",
    "    # concatanate monthly avgs into a yearly variable\n",
    "    if mm == '01':\n",
    "        temp = temp_tmp\n",
    "        salt = salt_tmp\n",
    "        shflux = shflux_tmp\n",
    "        ssflux = ssflux_tmp\n",
    "        m = m_tmp\n",
    "        z_rho = z_rho_avg\n",
    "        z_w = z_w_avg\n",
    "        Hsbl = Hsbl_tmp\n",
    "    elif mm == '02':\n",
    "        temp = np.stack((temp,temp_tmp), axis=0)\n",
    "        salt = np.stack((salt,salt_tmp), axis=0)\n",
    "        shflux = np.stack((shflux,shflux_tmp), axis=0)\n",
    "        ssflux = np.stack((ssflux,ssflux_tmp), axis=0)\n",
    "        m = np.stack((m,m_tmp), axis=0)\n",
    "        z_rho = np.stack((z_rho,z_rho_avg), axis=0)\n",
    "        z_w = np.stack((z_w,z_w_avg), axis=0)\n",
    "        Hsbl = np.stack((Hsbl,Hsbl_tmp), axis=0)\n",
    "    else:\n",
    "        temp_tmp_4thdim = np.expand_dims(temp_tmp, axis=0)\n",
    "        temp = np.concatenate((temp,temp_tmp_4thdim), axis=0)\n",
    "        salt_tmp_4thdim = np.expand_dims(salt_tmp, axis=0)\n",
    "        salt = np.concatenate((salt,salt_tmp_4thdim), axis=0)\n",
    "        shflux_tmp_4thdim = np.expand_dims(shflux_tmp, axis=0)\n",
    "        shflux = np.concatenate((shflux,shflux_tmp_4thdim), axis=0)\n",
    "        ssflux_tmp_4thdim = np.expand_dims(ssflux_tmp, axis=0)\n",
    "        ssflux = np.concatenate((ssflux,ssflux_tmp_4thdim), axis=0)\n",
    "        m_tmp_4thdim = np.expand_dims(m_tmp, axis=0)\n",
    "        m = np.concatenate((m,m_tmp_4thdim), axis=0)\n",
    "        z_rho_tmp_4thdim = np.expand_dims(z_rho_avg, axis=0)\n",
    "        z_rho = np.concatenate((z_rho,z_rho_tmp_4thdim), axis=0)\n",
    "        z_w_tmp_4thdim = np.expand_dims(z_w_avg, axis=0)\n",
    "        z_w = np.concatenate((z_w,z_w_tmp_4thdim), axis=0)\n",
    "        Hsbl_tmp_4thdim = np.expand_dims(Hsbl_tmp, axis=0)\n",
    "        Hsbl = np.concatenate((Hsbl,Hsbl_tmp_4thdim), axis=0)\n",
    "#ds.coords['flux'] = flux#.transpose() # put flux into ds dataset\n",
    "\n",
    "    ds.close()\n",
    "\n",
    "sigma_t_sfc = gsw.rho(salt[:,-1,:,:],temp[:,-1,:,:],0) - 1000\n"
   ]
  },
  {
   "cell_type": "code",
   "execution_count": 3,
   "id": "34348eea",
   "metadata": {},
   "outputs": [
    {
     "name": "stdout",
     "output_type": "stream",
     "text": [
      "(560, 630, 32)\n",
      "(560, 630, 32)\n",
      "(560, 630, 32)\n",
      "(560, 630, 32)\n",
      "(560, 630, 32)\n",
      "(560, 630, 32)\n",
      "(560, 630, 32)\n",
      "(560, 630, 32)\n",
      "(560, 630, 32)\n",
      "(560, 630, 32)\n",
      "(560, 630, 32)\n",
      "(560, 630, 32)\n"
     ]
    }
   ],
   "source": [
    "di = xr.open_dataset('/scratch/project_2000789/boeiradi/waom10extend_shflim_S_0.25Q/output_20yr_diag/ocean_avg_0001.nc')\n",
    "ice_draft = di.variables[\"zice\"]\n",
    "h = di.variables[\"h\"]\n",
    "\n",
    "mask_zice = ma.masked_where(ice_draft < 0, np.ones(ice_draft.shape))\n",
    "\n",
    "di.close()\n",
    "\n",
    "# calculate dz following:\n",
    "dz = np.empty((12,560,630,31))\n",
    "dz_inv = np.empty((12,560,630,31))\n",
    "\n",
    "\n",
    "for tt in np.arange(0,12):\n",
    "    z_w_sorted = -1*z_w[tt,:,:,::-1]\n",
    "    print(z_w_sorted.shape)\n",
    "    dz_inv[tt,:,:,:] = np.diff(z_w_sorted,axis=2)\n",
    "    dz[tt,:,:,:] = dz_inv[tt,:,:,::-1]\n",
    "\n",
    "dg = xr.open_dataset(\"/scratch/project_2000789/boeiradi/waom10_frc/waom10extend_grd.nc\")\n",
    "\n",
    "lat_rho = dg.variables[\"lat_rho\"]\n",
    "lon_rho = dg.variables[\"lon_rho\"]\n",
    "pm = dg.variables[\"pm\"]\n",
    "pn = dg.variables[\"pn\"]\n",
    "\n",
    "ds.coords['lat_rho']=lat_rho.transpose() # put lat_rho into ds dataset\n",
    "ds.coords['lon_rho']=lon_rho.transpose() # put lon_rho into ds dataset\n",
    "\n",
    "# shelf/open-ocean masks:\n",
    "mask_open = ma.masked_where(dg.h <= 2000, np.ones(dg.h.shape))\n",
    "mask_shelf = ma.masked_where(dg.h > 2000, np.ones(dg.h.shape))\n"
   ]
  },
  {
   "cell_type": "code",
   "execution_count": 4,
   "id": "d0835843",
   "metadata": {},
   "outputs": [
    {
     "name": "stdout",
     "output_type": "stream",
     "text": [
      "(12, 560, 630)\n"
     ]
    }
   ],
   "source": [
    "dx = xr.open_dataset('/scratch/project_2000339/boeiradi/waom10extend_shflim_S_0.25Q/output_20yr_diag/MLD_vint_vars_for_WMT_m.s-1_iteractive_copy.nc')\n",
    "print(dx.variables[\"sfc_mld\"].shape)\n",
    "sfc_mld = dx.variables[\"sfc_mld\"]\n",
    "# - variables across ML base\n",
    "\n",
    "# - variables integrated throughout the ML; multiply by -1 b/c dz is negative.\n",
    "temp_vdia_diff_mld_vint = dx.variables[\"temp_vdia_diff_mld_vint\"]\n",
    "salt_vdia_diff_mld_vint = dx.variables[\"salt_vdia_diff_mld_vint\"]\n",
    "temp_hdia_diff_mld_vint = dx.variables[\"temp_hdia_diff_mld_vint\"]\n",
    "salt_hdia_diff_mld_vint = dx.variables[\"salt_hdia_diff_mld_vint\"]\n",
    "temp_vdia_adv_mld_vint = dx.variables[\"temp_vdia_adv_mld_vint\"]\n",
    "salt_vdia_adv_mld_vint = dx.variables[\"salt_vdia_adv_mld_vint\"]\n",
    "temp_hdia_adv_mld_vint = dx.variables[\"temp_hdia_adv_mld_vint\"]\n",
    "salt_hdia_adv_mld_vint = dx.variables[\"salt_hdia_adv_mld_vint\"]\n",
    "temp_tend_mld_vint = dx.variables[\"temp_tend_avg_mld_vint\"]\n",
    "salt_tend_mld_vint = dx.variables[\"salt_tend_avg_mld_vint\"]\n",
    "\n",
    "sigma_t = gsw.rho(salt[:,-1,:,:],temp[:,-1,:,:],0) - 1000\n",
    "\n",
    "dx.close()"
   ]
  },
  {
   "cell_type": "code",
   "execution_count": 5,
   "id": "018ab7ee",
   "metadata": {},
   "outputs": [
    {
     "name": "stdout",
     "output_type": "stream",
     "text": [
      "0\n",
      "(31, 560, 630)\n"
     ]
    },
    {
     "name": "stderr",
     "output_type": "stream",
     "text": [
      "/scratch/project_2000339/boeiradi/anaconda3/lib/python3.7/site-packages/ipykernel_launcher.py:20: RuntimeWarning: Mean of empty slice\n",
      "/scratch/project_2000339/boeiradi/anaconda3/lib/python3.7/site-packages/ipykernel_launcher.py:21: RuntimeWarning: Mean of empty slice\n"
     ]
    },
    {
     "name": "stdout",
     "output_type": "stream",
     "text": [
      "1\n",
      "(31, 560, 630)\n",
      "2\n",
      "(31, 560, 630)\n",
      "3\n",
      "(31, 560, 630)\n",
      "4\n",
      "(31, 560, 630)\n",
      "5\n",
      "(31, 560, 630)\n",
      "6\n",
      "(31, 560, 630)\n",
      "7\n",
      "(31, 560, 630)\n",
      "8\n",
      "(31, 560, 630)\n",
      "9\n",
      "(31, 560, 630)\n",
      "10\n",
      "(31, 560, 630)\n",
      "11\n",
      "(31, 560, 630)\n"
     ]
    }
   ],
   "source": [
    "# calculate salt/temp averaged for ML and below:\n",
    "\n",
    "salt_mld = np.empty(salt[:,0,:,:].shape)\n",
    "temp_mld = np.empty(salt[:,0,:,:].shape)\n",
    "\n",
    "for mm in np.arange(0,12):\n",
    "    depth = np.squeeze(z_rho[mm,:,:,:])\n",
    "    depth_sort = depth.transpose(2,0,1) #'s_rho','eta_rho','xi_rho')\n",
    "#    print(depth_sort.shape)\n",
    "    print(mm)\n",
    "\n",
    "    salt_mld_tmp = ma.masked_where(-depth_sort > -np.squeeze(Hsbl[mm,:,:]), salt[mm,:,:,:])\n",
    "    temp_mld_tmp = ma.masked_where(-depth_sort > -np.squeeze(Hsbl[mm,:,:]), temp[mm,:,:,:])\n",
    "    print(salt_mld_tmp.shape)\n",
    "\n",
    "    # put SSS/SST into salt/temp_mld var independently to get rid of masked values when Hsbl < first layer of depth_sort\n",
    "    salt_mld_tmp[-1,:,:] = salt[mm,-1,:,:]\n",
    "    temp_mld_tmp[-1,:,:] = temp[mm,-1,:,:]\n",
    "\n",
    "    salt_mld[mm,:,:] = np.nanmean(salt_mld_tmp, axis=0)\n",
    "    temp_mld[mm,:,:] = np.nanmean(temp_mld_tmp, axis=0)\n",
    "    del depth, depth_sort #, salt_mld_tmp, temp_mld_tmp, salt_deep_tmp, temp_deep_tmp"
   ]
  },
  {
   "cell_type": "code",
   "execution_count": 6,
   "id": "8786dce7",
   "metadata": {},
   "outputs": [
    {
     "name": "stdout",
     "output_type": "stream",
     "text": [
      "salt and z_rho shape: (560, 630) [560 630]\n"
     ]
    }
   ],
   "source": [
    "# calculate WMT from budget vars:\n",
    "\n",
    "# obtain thermal expansion (alpha) & salinity contraction (beta) coefficients:\n",
    "SA = np.empty(salt.shape)\n",
    "# neet Absolute Salinity, converting from Pratical Salinity:\n",
    "print('salt and z_rho shape:', np.squeeze(salt[0,0,:,:]).shape,np.squeeze(z_rho[0,:,:,0].shape))\n",
    "for mm in np.arange(0,12):\n",
    "    for kk in np.arange(0,31):\n",
    "        SA_tmp =gsw.SA_from_SP(np.squeeze(salt[mm,kk,:,:]),np.squeeze(z_rho[mm,:,:,kk]),lon_rho,lat_rho)\n",
    "        SA[mm,kk,:,:] = SA_tmp\n",
    "        del SA_tmp\n",
    "\n",
    "# gsw.alpha/gsw.beta\n",
    "#alpha = gsw_alpha(SA,CT,p)\n",
    "[specvol, alpha, beta] = gsw.specvol_alpha_beta(SA,temp,z_rho.transpose(0,3,1,2))\n",
    "rho0 = 1025\n",
    "Cp = 3985\n",
    "\n",
    "# total diffusion terms:\n",
    "R_s_vint = (salt_hdia_diff_mld_vint + salt_vdia_diff_mld_vint)\n",
    "R_t_vint = (temp_hdia_diff_mld_vint + temp_vdia_diff_mld_vint)\n",
    "\n",
    "# surface flux terms:\n",
    "salt_sfc = beta[:,-1,:,:]*(ssflux)\n",
    "temp_sfc = alpha[:,-1,:,:]*(np.divide(shflux, rho0*Cp))\n",
    "\n",
    "# advection terms:\n",
    "salt_adv_mld_vint = (salt_hdia_adv_mld_vint + salt_vdia_adv_mld_vint)\n",
    "temp_adv_mld_vint = (temp_hdia_adv_mld_vint + temp_vdia_adv_mld_vint)\n",
    "\n",
    "# net tendencies\n",
    "salt_net_mld_vint = salt_tend_mld_vint\n",
    "temp_net_mld_vint = temp_tend_mld_vint\n"
   ]
  },
  {
   "cell_type": "code",
   "execution_count": 7,
   "id": "4a99ba59",
   "metadata": {},
   "outputs": [
    {
     "data": {
      "text/html": [
       "<div><svg style=\"position: absolute; width: 0; height: 0; overflow: hidden\">\n",
       "<defs>\n",
       "<symbol id=\"icon-database\" viewBox=\"0 0 32 32\">\n",
       "<path d=\"M16 0c-8.837 0-16 2.239-16 5v4c0 2.761 7.163 5 16 5s16-2.239 16-5v-4c0-2.761-7.163-5-16-5z\"></path>\n",
       "<path d=\"M16 17c-8.837 0-16-2.239-16-5v6c0 2.761 7.163 5 16 5s16-2.239 16-5v-6c0 2.761-7.163 5-16 5z\"></path>\n",
       "<path d=\"M16 26c-8.837 0-16-2.239-16-5v6c0 2.761 7.163 5 16 5s16-2.239 16-5v-6c0 2.761-7.163 5-16 5z\"></path>\n",
       "</symbol>\n",
       "<symbol id=\"icon-file-text2\" viewBox=\"0 0 32 32\">\n",
       "<path d=\"M28.681 7.159c-0.694-0.947-1.662-2.053-2.724-3.116s-2.169-2.030-3.116-2.724c-1.612-1.182-2.393-1.319-2.841-1.319h-15.5c-1.378 0-2.5 1.121-2.5 2.5v27c0 1.378 1.122 2.5 2.5 2.5h23c1.378 0 2.5-1.122 2.5-2.5v-19.5c0-0.448-0.137-1.23-1.319-2.841zM24.543 5.457c0.959 0.959 1.712 1.825 2.268 2.543h-4.811v-4.811c0.718 0.556 1.584 1.309 2.543 2.268zM28 29.5c0 0.271-0.229 0.5-0.5 0.5h-23c-0.271 0-0.5-0.229-0.5-0.5v-27c0-0.271 0.229-0.5 0.5-0.5 0 0 15.499-0 15.5 0v7c0 0.552 0.448 1 1 1h7v19.5z\"></path>\n",
       "<path d=\"M23 26h-14c-0.552 0-1-0.448-1-1s0.448-1 1-1h14c0.552 0 1 0.448 1 1s-0.448 1-1 1z\"></path>\n",
       "<path d=\"M23 22h-14c-0.552 0-1-0.448-1-1s0.448-1 1-1h14c0.552 0 1 0.448 1 1s-0.448 1-1 1z\"></path>\n",
       "<path d=\"M23 18h-14c-0.552 0-1-0.448-1-1s0.448-1 1-1h14c0.552 0 1 0.448 1 1s-0.448 1-1 1z\"></path>\n",
       "</symbol>\n",
       "</defs>\n",
       "</svg>\n",
       "<style>/* CSS stylesheet for displaying xarray objects in jupyterlab.\n",
       " *\n",
       " */\n",
       "\n",
       ":root {\n",
       "  --xr-font-color0: var(--jp-content-font-color0, rgba(0, 0, 0, 1));\n",
       "  --xr-font-color2: var(--jp-content-font-color2, rgba(0, 0, 0, 0.54));\n",
       "  --xr-font-color3: var(--jp-content-font-color3, rgba(0, 0, 0, 0.38));\n",
       "  --xr-border-color: var(--jp-border-color2, #e0e0e0);\n",
       "  --xr-disabled-color: var(--jp-layout-color3, #bdbdbd);\n",
       "  --xr-background-color: var(--jp-layout-color0, white);\n",
       "  --xr-background-color-row-even: var(--jp-layout-color1, white);\n",
       "  --xr-background-color-row-odd: var(--jp-layout-color2, #eeeeee);\n",
       "}\n",
       "\n",
       "html[theme=dark],\n",
       "body.vscode-dark {\n",
       "  --xr-font-color0: rgba(255, 255, 255, 1);\n",
       "  --xr-font-color2: rgba(255, 255, 255, 0.54);\n",
       "  --xr-font-color3: rgba(255, 255, 255, 0.38);\n",
       "  --xr-border-color: #1F1F1F;\n",
       "  --xr-disabled-color: #515151;\n",
       "  --xr-background-color: #111111;\n",
       "  --xr-background-color-row-even: #111111;\n",
       "  --xr-background-color-row-odd: #313131;\n",
       "}\n",
       "\n",
       ".xr-wrap {\n",
       "  display: block;\n",
       "  min-width: 300px;\n",
       "  max-width: 700px;\n",
       "}\n",
       "\n",
       ".xr-text-repr-fallback {\n",
       "  /* fallback to plain text repr when CSS is not injected (untrusted notebook) */\n",
       "  display: none;\n",
       "}\n",
       "\n",
       ".xr-header {\n",
       "  padding-top: 6px;\n",
       "  padding-bottom: 6px;\n",
       "  margin-bottom: 4px;\n",
       "  border-bottom: solid 1px var(--xr-border-color);\n",
       "}\n",
       "\n",
       ".xr-header > div,\n",
       ".xr-header > ul {\n",
       "  display: inline;\n",
       "  margin-top: 0;\n",
       "  margin-bottom: 0;\n",
       "}\n",
       "\n",
       ".xr-obj-type,\n",
       ".xr-array-name {\n",
       "  margin-left: 2px;\n",
       "  margin-right: 10px;\n",
       "}\n",
       "\n",
       ".xr-obj-type {\n",
       "  color: var(--xr-font-color2);\n",
       "}\n",
       "\n",
       ".xr-sections {\n",
       "  padding-left: 0 !important;\n",
       "  display: grid;\n",
       "  grid-template-columns: 150px auto auto 1fr 20px 20px;\n",
       "}\n",
       "\n",
       ".xr-section-item {\n",
       "  display: contents;\n",
       "}\n",
       "\n",
       ".xr-section-item input {\n",
       "  display: none;\n",
       "}\n",
       "\n",
       ".xr-section-item input + label {\n",
       "  color: var(--xr-disabled-color);\n",
       "}\n",
       "\n",
       ".xr-section-item input:enabled + label {\n",
       "  cursor: pointer;\n",
       "  color: var(--xr-font-color2);\n",
       "}\n",
       "\n",
       ".xr-section-item input:enabled + label:hover {\n",
       "  color: var(--xr-font-color0);\n",
       "}\n",
       "\n",
       ".xr-section-summary {\n",
       "  grid-column: 1;\n",
       "  color: var(--xr-font-color2);\n",
       "  font-weight: 500;\n",
       "}\n",
       "\n",
       ".xr-section-summary > span {\n",
       "  display: inline-block;\n",
       "  padding-left: 0.5em;\n",
       "}\n",
       "\n",
       ".xr-section-summary-in:disabled + label {\n",
       "  color: var(--xr-font-color2);\n",
       "}\n",
       "\n",
       ".xr-section-summary-in + label:before {\n",
       "  display: inline-block;\n",
       "  content: '►';\n",
       "  font-size: 11px;\n",
       "  width: 15px;\n",
       "  text-align: center;\n",
       "}\n",
       "\n",
       ".xr-section-summary-in:disabled + label:before {\n",
       "  color: var(--xr-disabled-color);\n",
       "}\n",
       "\n",
       ".xr-section-summary-in:checked + label:before {\n",
       "  content: '▼';\n",
       "}\n",
       "\n",
       ".xr-section-summary-in:checked + label > span {\n",
       "  display: none;\n",
       "}\n",
       "\n",
       ".xr-section-summary,\n",
       ".xr-section-inline-details {\n",
       "  padding-top: 4px;\n",
       "  padding-bottom: 4px;\n",
       "}\n",
       "\n",
       ".xr-section-inline-details {\n",
       "  grid-column: 2 / -1;\n",
       "}\n",
       "\n",
       ".xr-section-details {\n",
       "  display: none;\n",
       "  grid-column: 1 / -1;\n",
       "  margin-bottom: 5px;\n",
       "}\n",
       "\n",
       ".xr-section-summary-in:checked ~ .xr-section-details {\n",
       "  display: contents;\n",
       "}\n",
       "\n",
       ".xr-array-wrap {\n",
       "  grid-column: 1 / -1;\n",
       "  display: grid;\n",
       "  grid-template-columns: 20px auto;\n",
       "}\n",
       "\n",
       ".xr-array-wrap > label {\n",
       "  grid-column: 1;\n",
       "  vertical-align: top;\n",
       "}\n",
       "\n",
       ".xr-preview {\n",
       "  color: var(--xr-font-color3);\n",
       "}\n",
       "\n",
       ".xr-array-preview,\n",
       ".xr-array-data {\n",
       "  padding: 0 5px !important;\n",
       "  grid-column: 2;\n",
       "}\n",
       "\n",
       ".xr-array-data,\n",
       ".xr-array-in:checked ~ .xr-array-preview {\n",
       "  display: none;\n",
       "}\n",
       "\n",
       ".xr-array-in:checked ~ .xr-array-data,\n",
       ".xr-array-preview {\n",
       "  display: inline-block;\n",
       "}\n",
       "\n",
       ".xr-dim-list {\n",
       "  display: inline-block !important;\n",
       "  list-style: none;\n",
       "  padding: 0 !important;\n",
       "  margin: 0;\n",
       "}\n",
       "\n",
       ".xr-dim-list li {\n",
       "  display: inline-block;\n",
       "  padding: 0;\n",
       "  margin: 0;\n",
       "}\n",
       "\n",
       ".xr-dim-list:before {\n",
       "  content: '(';\n",
       "}\n",
       "\n",
       ".xr-dim-list:after {\n",
       "  content: ')';\n",
       "}\n",
       "\n",
       ".xr-dim-list li:not(:last-child):after {\n",
       "  content: ',';\n",
       "  padding-right: 5px;\n",
       "}\n",
       "\n",
       ".xr-has-index {\n",
       "  font-weight: bold;\n",
       "}\n",
       "\n",
       ".xr-var-list,\n",
       ".xr-var-item {\n",
       "  display: contents;\n",
       "}\n",
       "\n",
       ".xr-var-item > div,\n",
       ".xr-var-item label,\n",
       ".xr-var-item > .xr-var-name span {\n",
       "  background-color: var(--xr-background-color-row-even);\n",
       "  margin-bottom: 0;\n",
       "}\n",
       "\n",
       ".xr-var-item > .xr-var-name:hover span {\n",
       "  padding-right: 5px;\n",
       "}\n",
       "\n",
       ".xr-var-list > li:nth-child(odd) > div,\n",
       ".xr-var-list > li:nth-child(odd) > label,\n",
       ".xr-var-list > li:nth-child(odd) > .xr-var-name span {\n",
       "  background-color: var(--xr-background-color-row-odd);\n",
       "}\n",
       "\n",
       ".xr-var-name {\n",
       "  grid-column: 1;\n",
       "}\n",
       "\n",
       ".xr-var-dims {\n",
       "  grid-column: 2;\n",
       "}\n",
       "\n",
       ".xr-var-dtype {\n",
       "  grid-column: 3;\n",
       "  text-align: right;\n",
       "  color: var(--xr-font-color2);\n",
       "}\n",
       "\n",
       ".xr-var-preview {\n",
       "  grid-column: 4;\n",
       "}\n",
       "\n",
       ".xr-var-name,\n",
       ".xr-var-dims,\n",
       ".xr-var-dtype,\n",
       ".xr-preview,\n",
       ".xr-attrs dt {\n",
       "  white-space: nowrap;\n",
       "  overflow: hidden;\n",
       "  text-overflow: ellipsis;\n",
       "  padding-right: 10px;\n",
       "}\n",
       "\n",
       ".xr-var-name:hover,\n",
       ".xr-var-dims:hover,\n",
       ".xr-var-dtype:hover,\n",
       ".xr-attrs dt:hover {\n",
       "  overflow: visible;\n",
       "  width: auto;\n",
       "  z-index: 1;\n",
       "}\n",
       "\n",
       ".xr-var-attrs,\n",
       ".xr-var-data {\n",
       "  display: none;\n",
       "  background-color: var(--xr-background-color) !important;\n",
       "  padding-bottom: 5px !important;\n",
       "}\n",
       "\n",
       ".xr-var-attrs-in:checked ~ .xr-var-attrs,\n",
       ".xr-var-data-in:checked ~ .xr-var-data {\n",
       "  display: block;\n",
       "}\n",
       "\n",
       ".xr-var-data > table {\n",
       "  float: right;\n",
       "}\n",
       "\n",
       ".xr-var-name span,\n",
       ".xr-var-data,\n",
       ".xr-attrs {\n",
       "  padding-left: 25px !important;\n",
       "}\n",
       "\n",
       ".xr-attrs,\n",
       ".xr-var-attrs,\n",
       ".xr-var-data {\n",
       "  grid-column: 1 / -1;\n",
       "}\n",
       "\n",
       "dl.xr-attrs {\n",
       "  padding: 0;\n",
       "  margin: 0;\n",
       "  display: grid;\n",
       "  grid-template-columns: 125px auto;\n",
       "}\n",
       "\n",
       ".xr-attrs dt,\n",
       ".xr-attrs dd {\n",
       "  padding: 0;\n",
       "  margin: 0;\n",
       "  float: left;\n",
       "  padding-right: 10px;\n",
       "  width: auto;\n",
       "}\n",
       "\n",
       ".xr-attrs dt {\n",
       "  font-weight: normal;\n",
       "  grid-column: 1;\n",
       "}\n",
       "\n",
       ".xr-attrs dt:hover span {\n",
       "  display: inline-block;\n",
       "  background: var(--xr-background-color);\n",
       "  padding-right: 10px;\n",
       "}\n",
       "\n",
       ".xr-attrs dd {\n",
       "  grid-column: 2;\n",
       "  white-space: pre-wrap;\n",
       "  word-break: break-all;\n",
       "}\n",
       "\n",
       ".xr-icon-database,\n",
       ".xr-icon-file-text2 {\n",
       "  display: inline-block;\n",
       "  vertical-align: middle;\n",
       "  width: 1em;\n",
       "  height: 1.5em !important;\n",
       "  stroke-width: 0;\n",
       "  stroke: currentColor;\n",
       "  fill: currentColor;\n",
       "}\n",
       "</style><pre class='xr-text-repr-fallback'>&lt;xarray.Variable (times: 12, eta_rho: 560, xi_rho: 630)&gt;\n",
       "[4233600 values with dtype=float32]\n",
       "Attributes:\n",
       "    units:    salt_rate depth-integrated throughout the MLD (s-1)</pre><div class='xr-wrap' hidden><div class='xr-header'><div class='xr-obj-type'>xarray.Variable</div><div class='xr-array-name'></div><ul class='xr-dim-list'><li><span>times</span>: 12</li><li><span>eta_rho</span>: 560</li><li><span>xi_rho</span>: 630</li></ul></div><ul class='xr-sections'><li class='xr-section-item'><div class='xr-array-wrap'><input id='section-e71b5f74-7698-494c-b75b-d73b3c417983' class='xr-array-in' type='checkbox' checked><label for='section-e71b5f74-7698-494c-b75b-d73b3c417983' title='Show/hide data repr'><svg class='icon xr-icon-database'><use xlink:href='#icon-database'></use></svg></label><div class='xr-array-preview xr-preview'><span>...</span></div><div class='xr-array-data'><pre>[4233600 values with dtype=float32]</pre></div></div></li><li class='xr-section-item'><input id='section-506025d7-9efa-40b2-9e97-286aeaecc75b' class='xr-section-summary-in' type='checkbox'  checked><label for='section-506025d7-9efa-40b2-9e97-286aeaecc75b' class='xr-section-summary' >Attributes: <span>(1)</span></label><div class='xr-section-inline-details'></div><div class='xr-section-details'><dl class='xr-attrs'><dt><span>units :</span></dt><dd>salt_rate depth-integrated throughout the MLD (s-1)</dd></dl></div></li></ul></div></div>"
      ],
      "text/plain": [
       "<xarray.Variable (times: 12, eta_rho: 560, xi_rho: 630)>\n",
       "[4233600 values with dtype=float32]\n",
       "Attributes:\n",
       "    units:    salt_rate depth-integrated throughout the MLD (s-1)"
      ]
     },
     "execution_count": 7,
     "metadata": {},
     "output_type": "execute_result"
    }
   ],
   "source": [
    "# salt_net_mld_vint.shape\n",
    "salt_net_mld_vint"
   ]
  },
  {
   "cell_type": "code",
   "execution_count": 8,
   "id": "2011fea6",
   "metadata": {},
   "outputs": [],
   "source": [
    "# gather sections only:\n",
    "dx = np.divide(1,pm)\n",
    "dy = np.divide(1,pn)\n",
    "dt = 86400#30#/12 #why divide by 12?\n",
    "\n",
    "# new sections too far east\n",
    "# West Weddell = (xi_rho=175, eta_rho=slice(320,389))\n",
    "# East Weddell = (xi_rho=200, eta_rho=slice(330,394))\n",
    "# SO, using previous sections:\n",
    "# West Weddell = (xi_rho=165, eta_rho=slice(320,389))\n",
    "# East Weddell = (xi_rho=192, eta_rho=slice(330,394))\n",
    "\n",
    "# salt_net_WWed = salt_net_mld_vint.isel(xi_rho=175, eta_rho=slice(320,389))\n",
    "# salt_adv_WWed = salt_adv_mld_vint.isel(xi_rho=175, eta_rho=slice(320,389))\n",
    "# salt_diff_WWed = R_s_vint.isel(xi_rho=175, eta_rho=slice(320,389))\n",
    "# salt_sfc_WWed = salt_sfc[:,320:389,175]\n",
    "# salt_mld_WWed = salt_mld[:,320:389,175]\n",
    "# temp_mld_WWed = temp_mld[:,320:389,175]\n",
    "# dx_WWed = dx[320:389,175]\n",
    "# dy_WWed = dy[320:389,175]\n",
    "\n",
    "# salt_net_EWed = salt_net_mld_vint.isel(xi_rho=200, eta_rho=slice(330,394))\n",
    "# salt_adv_EWed = salt_adv_mld_vint.isel(xi_rho=200, eta_rho=slice(330,394))\n",
    "# salt_diff_EWed = R_s_vint.isel(xi_rho=200, eta_rho=slice(330,394))\n",
    "# salt_sfc_EWed = salt_sfc[:,330:394,200]\n",
    "# salt_mld_EWed = salt_mld[:,330:394,200]\n",
    "# temp_mld_EWed = temp_mld[:,330:394,200]\n",
    "# dx_EWed = dx[330:394,200]\n",
    "# dy_EWed = dy[330:394,200]"
   ]
  },
  {
   "cell_type": "code",
   "execution_count": 9,
   "id": "2e4caefe",
   "metadata": {},
   "outputs": [],
   "source": [
    "# trying with a banda around the section:\n",
    "\n",
    "salt_net_WWed = salt_net_mld_vint.isel(xi_rho=slice(165,175), eta_rho=slice(320,389))\n",
    "salt_adv_WWed = salt_adv_mld_vint.isel(xi_rho=slice(165,175), eta_rho=slice(320,389))\n",
    "salt_diff_WWed = R_s_vint.isel(xi_rho=slice(165,175), eta_rho=slice(320,389))\n",
    "salt_sfc_WWed = salt_sfc[:,320:389,165:175]\n",
    "salt_mld_WWed = salt_mld[:,320:389,165:175]\n",
    "temp_mld_WWed = temp_mld[:,320:389,165:175]\n",
    "dx_WWed = dx[320:389,165:175]\n",
    "dy_WWed = dy[320:389,165:175]\n",
    "\n",
    "salt_net_EWed = salt_net_mld_vint.isel(xi_rho=slice(195,205), eta_rho=slice(330,394))\n",
    "salt_adv_EWed = salt_adv_mld_vint.isel(xi_rho=slice(195,205), eta_rho=slice(330,394))\n",
    "salt_diff_EWed = R_s_vint.isel(xi_rho=slice(195,205), eta_rho=slice(330,394))\n",
    "salt_sfc_EWed = salt_sfc[:,330:394,195:205]\n",
    "salt_mld_EWed = salt_mld[:,330:394,195:205]\n",
    "temp_mld_EWed = temp_mld[:,330:394,195:205]\n",
    "dx_EWed = dx[330:394,195:205]\n",
    "dy_EWed = dy[330:394,195:205]"
   ]
  },
  {
   "cell_type": "code",
   "execution_count": 10,
   "id": "82ac7360",
   "metadata": {},
   "outputs": [
    {
     "name": "stdout",
     "output_type": "stream",
     "text": [
      "(12, 560, 630) (12, 560, 630, 31)\n",
      "(12, 31, 560, 630)\n"
     ]
    }
   ],
   "source": [
    "print(Hsbl.shape, z_rho.shape)\n",
    "# (12, 560, 630) (12, 31, 560, 630)\n",
    "\n",
    "# fix z_rho dimensions order\n",
    "z_rho = z_rho.transpose(0,3,1,2)\n",
    "print(z_rho.shape)\n"
   ]
  },
  {
   "cell_type": "code",
   "execution_count": 11,
   "id": "b400acf5",
   "metadata": {},
   "outputs": [
    {
     "name": "stderr",
     "output_type": "stream",
     "text": [
      "/scratch/project_2000339/boeiradi/anaconda3/lib/python3.7/site-packages/ipykernel_launcher.py:42: RuntimeWarning: Mean of empty slice\n",
      "/scratch/project_2000339/boeiradi/anaconda3/lib/python3.7/site-packages/ipykernel_launcher.py:44: RuntimeWarning: Mean of empty slice\n",
      "/scratch/project_2000339/boeiradi/anaconda3/lib/python3.7/site-packages/ipykernel_launcher.py:54: RuntimeWarning: Mean of empty slice\n",
      "/scratch/project_2000339/boeiradi/anaconda3/lib/python3.7/site-packages/ipykernel_launcher.py:58: RuntimeWarning: Mean of empty slice\n",
      "/scratch/project_2000339/boeiradi/anaconda3/lib/python3.7/site-packages/ipykernel_launcher.py:60: RuntimeWarning: Mean of empty slice\n",
      "/scratch/project_2000339/boeiradi/anaconda3/lib/python3.7/site-packages/ipykernel_launcher.py:69: RuntimeWarning: Mean of empty slice\n",
      "/scratch/project_2000339/boeiradi/anaconda3/lib/python3.7/site-packages/ipykernel_launcher.py:73: RuntimeWarning: Mean of empty slice\n",
      "/scratch/project_2000339/boeiradi/anaconda3/lib/python3.7/site-packages/ipykernel_launcher.py:75: RuntimeWarning: Mean of empty slice\n",
      "/scratch/project_2000339/boeiradi/anaconda3/lib/python3.7/site-packages/ipykernel_launcher.py:85: RuntimeWarning: Mean of empty slice\n",
      "/scratch/project_2000339/boeiradi/anaconda3/lib/python3.7/site-packages/ipykernel_launcher.py:89: RuntimeWarning: Mean of empty slice\n",
      "/scratch/project_2000339/boeiradi/anaconda3/lib/python3.7/site-packages/ipykernel_launcher.py:91: RuntimeWarning: Mean of empty slice\n",
      "/scratch/project_2000339/boeiradi/anaconda3/lib/python3.7/site-packages/ipykernel_launcher.py:100: RuntimeWarning: Mean of empty slice\n"
     ]
    }
   ],
   "source": [
    "# compare temp/salt and MLD depth and averaged TS:\n",
    "salt_WWed = salt[:,:,320:389,165]\n",
    "temp_WWed = temp[:,:,320:389,165]\n",
    "Hsbl_WWed = Hsbl[:,320:389,165]\n",
    "\n",
    "# lat & z_rho\n",
    "lat_WWed_tmp = dg.lat_rho.isel(xi_rho=165, eta_rho=slice(320,389))\n",
    "lat_WWed = np.ones((31,69))\n",
    "for ii in np.arange(0,31):\n",
    "    lat_WWed[ii,:] = lat_WWed_tmp\n",
    "lat_WWed_mask =  ma.array(lat_WWed,mask=np.isnan(lat_WWed))\n",
    "\n",
    "z_rho_WWed = z_rho[:,:,320:389,165]\n",
    "z_WWed_mask = ma.array(z_rho_WWed,mask=np.isnan(z_rho_WWed))\n",
    "\n",
    "salt_EWed = salt[:,:,330:394,192]\n",
    "temp_EWed = temp[:,:,330:394,192]\n",
    "Hsbl_EWed = Hsbl[:,330:394,192]\n",
    "\n",
    "# lat & z_rho\n",
    "lat_EWed_tmp = dg.lat_rho.isel(xi_rho=192, eta_rho=slice(330,394))\n",
    "lat_EWed = np.ones((31,64))\n",
    "for ii in np.arange(0,31):\n",
    "    lat_EWed[ii,:] = lat_EWed_tmp\n",
    "lat_EWed_mask =  ma.array(lat_EWed,mask=np.isnan(lat_EWed))\n",
    "\n",
    "z_rho_EWed = z_rho[:,:,330:394,192]\n",
    "z_EWed_mask = ma.array(z_rho_EWed,mask=np.isnan(z_rho_EWed))\n",
    "\n",
    "# plots:\n",
    "# Plot transects\n",
    "levelsT = np.arange(-2.7,0.,.1)\n",
    "levelsTf = np.arange(-2.7,0.,.2)\n",
    "levelsS = np.arange(34.,34.6,.05)\n",
    "levelsSf = np.arange(34.,34.6,.05)\n",
    "levelsR = np.arange(27.,27.9,.05)\n",
    "levelsRf = np.arange(27.,27.9,.05)\n",
    "\n",
    "fig = plt.figure(figsize=(24,15))\n",
    "\n",
    "ax1 = fig.add_subplot(4,2,1)\n",
    "ct = plt.contourf(lat_WWed_mask, np.nanmean(z_WWed_mask, axis=0), np.nanmean(temp_WWed, axis=0), levels=levelsT, cmap=plt.cm.coolwarm)\n",
    "# plt.colorbar(cs, extend='both')\n",
    "plt.contour(lat_WWed_mask, np.nanmean(z_WWed_mask, axis=0), np.nanmean(temp_WWed, axis=0), levels=levelsTf, colors='k', linewidths=.5)\n",
    "plt.xlim([-78.5,-75])\n",
    "plt.ylim([-1920,0])\n",
    "plt.title('West Ronne Ice Shelf - WAOM10')\n",
    "plt.ylabel('Depth (m)')\n",
    "locs, labels = plt.xticks()  # Get the current locations and labels.\n",
    "plt.plot(lat_WWed_tmp,Hsbl_WWed[0,:],'--k',label='MLD Jan')\n",
    "plt.plot(lat_WWed_tmp,Hsbl_WWed[8,:],'--m',label='MLD Sep')\n",
    "\n",
    "ax3 = fig.add_subplot(4,2,3)\n",
    "plt.plot(lat_WWed_tmp,np.nanmean(temp_mld_WWed, axis=0))\n",
    "plt.xlim([-78.5,-75])\n",
    "\n",
    "ax5 = fig.add_subplot(4,2,5)\n",
    "cs = plt.contourf(lat_WWed_mask, np.nanmean(z_WWed_mask, axis=0), np.nanmean(salt_WWed, axis=0), levels=levelsS, cmap=plt.cm.coolwarm)\n",
    "# plt.colorbar(cs, extend='both')\n",
    "plt.contour(lat_WWed_mask, np.nanmean(z_WWed_mask, axis=0), np.nanmean(salt_WWed, axis=0), levels=levelsSf, colors='k', linewidths=.5)\n",
    "plt.xlim([-78.5,-75])\n",
    "plt.ylim([-1920,0])\n",
    "plt.title('West Ronne Ice Shelf - WAOM10')\n",
    "plt.ylabel('Depth (m)')\n",
    "locs, labels = plt.xticks()  # Get the current locations and labels.\n",
    "# plt.xticks(np.arange(-78, -75.5, step=0.5))\n",
    "\n",
    "ax7 = fig.add_subplot(4,2,7)\n",
    "plt.plot(lat_WWed_tmp,np.nanmean(salt_mld_WWed, axis=0))\n",
    "plt.xlim([-78.5,-75])\n",
    "\n",
    "ax2 = fig.add_subplot(4,2,2)\n",
    "ct = plt.contourf(lat_EWed_mask, np.nanmean(z_EWed_mask, axis=0), np.nanmean(temp_EWed, axis=0), levels=levelsT, cmap=plt.cm.coolwarm)\n",
    "# plt.colorbar(cs, extend='both')\n",
    "plt.contour(lat_EWed_mask, np.nanmean(z_EWed_mask, axis=0), np.nanmean(temp_EWed, axis=0), levels=levelsTf, colors='k', linewidths=.5)\n",
    "plt.xlim([-80.5,-76.5])\n",
    "plt.ylim([-1920,0])\n",
    "plt.title('Central Ronne Ice Shelf - WAOM10')\n",
    "plt.ylabel('Depth (m)')\n",
    "locs, labels = plt.xticks()  # Get the current locations and labels.\n",
    "plt.plot(lat_EWed_tmp,Hsbl_EWed[0,:],'--k',label='MLD Jan')\n",
    "plt.plot(lat_EWed_tmp,Hsbl_EWed[8,:],'--m',label='MLD Sep')\n",
    "\n",
    "ax4 = fig.add_subplot(4,2,4)\n",
    "plt.plot(lat_EWed_tmp,np.nanmean(temp_mld_EWed, axis=0))\n",
    "plt.xlim([-80.5,-76.5])\n",
    "\n",
    "ax6 = fig.add_subplot(4,2,6)\n",
    "cs = plt.contourf(lat_EWed_mask, np.nanmean(z_EWed_mask, axis=0), np.nanmean(salt_EWed, axis=0), levels=levelsS, cmap=plt.cm.coolwarm)\n",
    "# plt.colorbar(cs, extend='both')\n",
    "plt.contour(lat_EWed_mask, np.nanmean(z_EWed_mask, axis=0), np.nanmean(salt_EWed, axis=0), levels=levelsSf, colors='k', linewidths=.5)\n",
    "plt.xlim([-80.5,-76.5])\n",
    "plt.ylim([-1920,0])\n",
    "plt.title('Central Ronne Ice Shelf - WAOM10')\n",
    "plt.ylabel('Depth (m)')\n",
    "locs, labels = plt.xticks()  # Get the current locations and labels.\n",
    "# plt.xticks(np.arange(-78, -75.5, step=0.5))\n",
    "\n",
    "ax4 = fig.add_subplot(4,2,8)\n",
    "plt.plot(lat_EWed_tmp,np.nanmean(salt_mld_EWed, axis=0))\n",
    "plt.xlim([-80.5,-76.5])\n",
    "\n",
    "cbar_ax1 = fig.add_axes([0.125, 0.06, 0.17, 0.01])\n",
    "cbt = fig.colorbar(ct, cax=cbar_ax1, orientation='horizontal')\n",
    "cbt.ax.set_xlabel('Temperature')\n",
    "\n",
    "cbar_ax3 = fig.add_axes([0.53, 0.06, 0.17, 0.015])\n",
    "cbs = fig.colorbar(cs, cax=cbar_ax3, orientation='horizontal')\n",
    "cbs.ax.set_xlabel('Salinity')\n",
    "\n",
    "fig_path='/users/boeiradi/COLD_project/postprocessing/figs/WMT/'\n",
    "name_fig=\"waom10extend_shflim_S_0.25Q_check_RFISsections.png\"\n",
    "plt.savefig(fig_path + name_fig, dpi=300)\n"
   ]
  },
  {
   "cell_type": "code",
   "execution_count": 17,
   "id": "56fa63b6",
   "metadata": {},
   "outputs": [],
   "source": [
    "# 2nd attempt TS-space; combined T and S\n",
    "\n",
    "\n",
    "sbins = np.arange(31,35, 0.01) # aim for S interval = 0.025\n",
    "tbins = np.arange(-3, 8, 0.05)+273.15 # aim for T interval = 0.1 in Kelvin!\n",
    "len_tbin = len(tbins)\n",
    "len_sbin = len(sbins)\n",
    "\n",
    "def wmt_TS(var_int, temp, salt, dx, dy,var_type):\n",
    "    # var_type: 'budget' or 'sfc_frc'\n",
    "\n",
    "    F_rate_var_vint = np.empty(var_int.shape)\n",
    "\n",
    "    for mm in np.arange(0,12):\n",
    "        if var_type == 'budget':\n",
    "            F_rate_var_vint[mm,:] = dx*dy*var_int.isel(times=mm)\n",
    "        elif var_type == 'sfc_frc':\n",
    "            F_rate_var_vint[mm,:] = dx*dy*var_int[mm,:]\n",
    "\n",
    "    print(F_rate_var_vint.shape)\n",
    "\n",
    "    F_TS_rate_delta_var_vint_mm = np.empty((12,len_tbin,len_sbin,len(var_int[0,:]),10))\n",
    "#     F_TS_rate_delta_var_vint_mm = np.empty((1,len_tbin,len_sbin,len(var_int[0,:])))\n",
    "    \n",
    "    for mm in np.arange(0,12):\n",
    "        temp_tmp = temp[mm,:]+273.15 # convert to Kelvin\n",
    "        salt_tmp = salt[mm,:]\n",
    "    \n",
    "        F_rate_delta = np.empty((len_tbin,len_sbin,len(var_int[0,:]),10))\n",
    "\n",
    "        #print(mm)\n",
    "        for itemp in np.arange(0,len_tbin):\n",
    "            for isalt in np.arange(0,len_sbin):\n",
    "                # create mask=True for values outside Tbin/Sbin, and F_rate_var_vint inside Tbin/Sbin\n",
    "                F_rate_tmp = ma.masked_where( \\\n",
    "                    np.logical_or( \\\n",
    "                    np.logical_or(temp_tmp <= (tbins[itemp]-(0.05/2)),temp_tmp > (tbins[itemp]+(0.05/2))), \\\n",
    "                    np.logical_or(salt_tmp <= (sbins[isalt]-(0.01/2)),salt_tmp > (sbins[isalt]+(0.01/2)))), \\\n",
    "                    F_rate_var_vint[mm,:])\n",
    "                # define NaN for values outside Tbin/Sbin\n",
    "                F_rate_tmp[np.logical_or( \\\n",
    "                    np.logical_or(temp_tmp <= (tbins[itemp]-(0.05/2)),temp_tmp > (tbins[itemp]+(0.05/2))), \\\n",
    "                    np.logical_or(salt_tmp <= (sbins[isalt]-(0.01/2)),salt_tmp > (sbins[isalt]+(0.01/2))))] = np.nan\n",
    "\n",
    "                F_rate_delta[itemp,isalt,:] = F_rate_tmp # allocate xi_rho, eta_rho array\n",
    "\n",
    "                del F_rate_tmp\n",
    "        print(F_rate_delta.shape)\n",
    "\n",
    "        F_TS_rate_delta_var_vint_mm[mm,:] = F_rate_delta\n",
    "\n",
    "    print('completed, size: ', F_TS_rate_delta_var_vint_mm.shape)\n",
    "\n",
    "    return F_TS_rate_delta_var_vint_mm"
   ]
  },
  {
   "cell_type": "code",
   "execution_count": 18,
   "id": "3115ec01",
   "metadata": {},
   "outputs": [
    {
     "name": "stdout",
     "output_type": "stream",
     "text": [
      "69 (69, 10)\n",
      "(12, 69, 10)\n",
      "(220, 400, 69, 10)\n",
      "(220, 400, 69, 10)\n",
      "(220, 400, 69, 10)\n",
      "(220, 400, 69, 10)\n",
      "(220, 400, 69, 10)\n",
      "(220, 400, 69, 10)\n",
      "(220, 400, 69, 10)\n",
      "(220, 400, 69, 10)\n",
      "(220, 400, 69, 10)\n",
      "(220, 400, 69, 10)\n",
      "(220, 400, 69, 10)\n",
      "(220, 400, 69, 10)\n",
      "completed, size:  (12, 220, 400, 69, 10)\n",
      "(12, 64, 10)\n",
      "(220, 400, 64, 10)\n",
      "(220, 400, 64, 10)\n",
      "(220, 400, 64, 10)\n",
      "(220, 400, 64, 10)\n",
      "(220, 400, 64, 10)\n",
      "(220, 400, 64, 10)\n",
      "(220, 400, 64, 10)\n",
      "(220, 400, 64, 10)\n",
      "(220, 400, 64, 10)\n",
      "(220, 400, 64, 10)\n",
      "(220, 400, 64, 10)\n",
      "(220, 400, 64, 10)\n",
      "completed, size:  (12, 220, 400, 64, 10)\n"
     ]
    }
   ],
   "source": [
    "print(len(salt_net_WWed[0,:]), dx_WWed.shape)\n",
    "\n",
    "# TS-space\n",
    "F_TS_rate_delta_net_WWed_mm = wmt_TS(salt_net_WWed, temp_mld_WWed, salt_mld_WWed, dx_WWed, dy_WWed,'budget')\n",
    "\n",
    "F_TS_rate_delta_net_EWed_mm = wmt_TS(salt_net_EWed, temp_mld_EWed, salt_mld_EWed, dx_EWed, dy_EWed,'budget')\n"
   ]
  },
  {
   "cell_type": "code",
   "execution_count": 19,
   "id": "688c4257",
   "metadata": {},
   "outputs": [
    {
     "data": {
      "text/plain": [
       "(12, 220, 400, 69, 10)"
      ]
     },
     "execution_count": 19,
     "metadata": {},
     "output_type": "execute_result"
    }
   ],
   "source": [
    "F_TS_rate_delta_net_WWed_mm.shape\n",
    "# Fs_rate_delta_net_vint_shelf_mm.shape\n"
   ]
  },
  {
   "cell_type": "code",
   "execution_count": 20,
   "id": "822c8a66",
   "metadata": {},
   "outputs": [],
   "source": [
    "# TS-space WMT: integrating horizontally\n",
    "\n",
    "# TS-space\n",
    "Fs_TS_rate_net_WWed_mm_int = np.nansum(np.nansum(F_TS_rate_delta_net_WWed_mm, axis=4), axis=3)\n",
    "Fs_TS_rate_net_EWed_mm_int = np.nansum(np.nansum(F_TS_rate_delta_net_EWed_mm, axis=4), axis=3)\n"
   ]
  },
  {
   "cell_type": "code",
   "execution_count": 21,
   "id": "7f96d9fb",
   "metadata": {},
   "outputs": [
    {
     "name": "stdout",
     "output_type": "stream",
     "text": [
      "tmin, tmax, smin, smax sizes=, -3.3 1.1 33.66 35.35\n"
     ]
    }
   ],
   "source": [
    "# make grid for density contours\n",
    "smin = 34 - (0.01 * 34)    #salt_ctrl_subregR.min - (0.01 * salt_ctrl_subregR.min)\n",
    "smax = 35. + (0.01 * 35.)    #salt_ctrl_subregR.max + (0.01 * salt_ctrl_subregR.max)\n",
    "tmin = -3. + (0.1 * -3.)       #temp_ctrl_subregR.min - (0.1 * temp_ctrl_subregR.max)\n",
    "tmax = 1 + (0.1 * 1.)       #temp_ctrl_subregR.max + (0.1 * temp_ctrl_subregR.max)\n",
    "\n",
    "\n",
    "print('tmin, tmax, smin, smax sizes=,', tmin, tmax, smin, smax)\n",
    "# Calculate how many gridcells we need in the x and y dimensions\n",
    "xdim = 40\n",
    "ydim = 20\n",
    "# Create empty grid of zeros\n",
    "dens = np.zeros((ydim,xdim))\n",
    "# Create temp and salt vectors of appropiate dimensions\n",
    "# ti = np.linspace(-3,8,ydim)\n",
    "# si = np.linspace(30,36,xdim)\n",
    "ti = np.linspace(-3,1,ydim)\n",
    "si = np.linspace(34,35,xdim)\n",
    "\n",
    "Si, Ti = np.meshgrid(si, ti, sparse=False, indexing='ij')\n",
    "# Loop to fill in grid with densities\n",
    "for j in range(0,int(ydim)):\n",
    "    for i in range(0, int(xdim)):\n",
    "        dens[j,i]=gsw.rho(si[i],ti[j],0)\n",
    "        # Substract 1000 to convert to sigma-0\n",
    "dens = dens - 1000"
   ]
  },
  {
   "cell_type": "code",
   "execution_count": 22,
   "id": "7ca1fc43",
   "metadata": {},
   "outputs": [
    {
     "name": "stdout",
     "output_type": "stream",
     "text": [
      "(40,) (40,)\n",
      "3.9904991385694144\n",
      "3.991366924721782\n"
     ]
    }
   ],
   "source": [
    "# freezing point temperature:\n",
    "\n",
    "Freez_tempW = gsw.CT_freezing(si,500,0)\n",
    "Freez_tempE = gsw.CT_freezing(si,400,0)\n",
    "\n",
    "print(Freez_tempW.shape, si.shape)\n",
    "\n",
    "# Gade line: WDW\n",
    "# Twdw = -.75\n",
    "# Swdw = 34.5\n",
    "Twdw = -1.\n",
    "Swdw = 34.5\n",
    "Lf = 334 # kJ/kg\n",
    "#Cp = 3.97 #kJ/kg/Kelvin\n",
    "Cp = gsw.cp_t_exact(Swdw,Twdw,0)/1000\n",
    "print(Cp)\n",
    "\n",
    "Tgade = Twdw + (Lf/Cp)*(1 - (Swdw/si))\n",
    "\n",
    "# Gade line: WDW\n",
    "Thssw = -2.2\n",
    "Shssw = 34.4\n",
    "Lf = 334 # kJ/kg\n",
    "Cp2 = gsw.cp_t_exact(Shssw,Thssw,0)/1000\n",
    "print(Cp2)\n",
    "\n",
    "Tgade2 = Thssw + (Lf/Cp2)*(1 - (Shssw/si))\n",
    "\n"
   ]
  },
  {
   "cell_type": "code",
   "execution_count": 23,
   "id": "5e0dba93",
   "metadata": {},
   "outputs": [
    {
     "name": "stdout",
     "output_type": "stream",
     "text": [
      "(220, 400) (220,)\n"
     ]
    }
   ],
   "source": [
    "Dt = 1000/(0.05*0.01)\n",
    "\n",
    "[Sbins,Tbins] = np.meshgrid(sbins,tbins)\n",
    "print(Tbins.shape, tbins.shape)\n",
    "\n",
    "fig = plt.figure(figsize=(12, 16))\n",
    "\n",
    "plt.subplot(3,2,1)\n",
    "# cw = plt.pcolormesh(Sbins,Tbins-273.15,np.nanmean(Fs_TS_rate_net_WWed_mm_int*Dt/1e6, axis=0), vmin=-5, vmax=5, cmap=plt.cm.seismic)\n",
    "cw = plt.contourf(Sbins,Tbins-273.15,np.nanmean(Fs_TS_rate_net_WWed_mm_int*Dt/1e6, axis=0), levels=np.arange(-5,5.1,.1), cmap=plt.cm.coolwarm, extend='both')\n",
    "# plt.colorbar()\n",
    "plt.title('A) WAOM10 - West FRIS')\n",
    "ax = plt.gca()\n",
    "#plt.xlabel('Salinity')\n",
    "plt.ylabel('Temperature ($^{\\circ}$C)')\n",
    "# ax.set_xlabel('Salinity',fontsize=12)\n",
    "ax.set_xlim([34,34.7])\n",
    "ax.set_ylim([-2.65,-.5])\n",
    "CS = plt.contour(Si,Ti,dens.transpose(), levels=np.arange(26.,28.2,.05),linestyles='dotted', colors='gray',linewidths=.5)\n",
    "plt.clabel(CS, fontsize=11, inline=1, fmt='%1.2f')\n",
    "plt.plot(si,Freez_tempE,'-',color='k', linewidth=2)\n",
    "plt.plot(si,Tgade2,'-',color='green')\n",
    "\n",
    "plt.subplot(3,2,2)\n",
    "# cw = plt.pcolormesh(Sbins,Tbins-273.15,np.nanmean(Fs_TS_rate_net_EWed_mm_int*Dt/1e6, axis=0), vmin=-5, vmax=5, cmap=plt.cm.seismic)\n",
    "cw = plt.contourf(Sbins,Tbins-273.15,np.nanmean(Fs_TS_rate_net_EWed_mm_int*Dt/1e6, axis=0), levels=np.arange(-5,5.1,.1), cmap=plt.cm.coolwarm, extend='both')\n",
    "# plt.colorbar()\n",
    "plt.title('B) WAOM10 - Central FRIS')\n",
    "ax = plt.gca()\n",
    "# ax.set_ylabel('Temperature ($^{\\circ}$C)')\n",
    "# ax.set_xlabel('Salinity',fontsize=12)\n",
    "ax.set_xlim([34,34.7])\n",
    "ax.set_ylim([-2.65,-.5])\n",
    "CS = plt.contour(Si,Ti,dens.transpose(), levels=np.arange(26.,28.2,.05),linestyles='dotted', colors='gray',linewidths=.5)\n",
    "plt.clabel(CS, fontsize=11, inline=1, fmt='%1.2f')\n",
    "plt.plot(si,Freez_tempE,'-',color='k', linewidth=2)\n",
    "plt.plot(si,Tgade2,'-',color='green')\n",
    "\n",
    "cbar_ax1 = fig.add_axes([0.92, 0.1, 0.015, 0.8])\n",
    "fig.colorbar(cw, cax=cbar_ax1, orientation='vertical')\n",
    "cbar_ax1.set_ylabel('Annual mean WMT (Sv)')\n",
    "\n",
    "fig_path='/users/boeiradi/COLD_project/postprocessing/figs/WMT/'\n",
    "name_fig=\"waom10extend_shflim_S_0.25Q_WMT_TS_RFISsections.png\"\n",
    "plt.savefig(fig_path + name_fig, dpi=300)\n",
    "\n",
    "# print(Fs_TS_rate_net_shelf_mm_int*Dt/1e6)"
   ]
  },
  {
   "cell_type": "code",
   "execution_count": 24,
   "id": "5fa09bc5",
   "metadata": {},
   "outputs": [],
   "source": [
    "# movie\n",
    "\n",
    "Fs_TS_rate_net_WWed_mov = xr.DataArray(Fs_TS_rate_net_WWed_mm_int, name='Fs_salt_net', coords= {'time':np.arange(0,12),'T-bins':tbins,'S-bins':sbins})\n",
    "Fs_TS_rate_net_EWed_mov = xr.DataArray(Fs_TS_rate_net_EWed_mm_int, name='Fs_salt_net', coords= {'time':np.arange(0,12),'T-bins':tbins,'S-bins':sbins})\n",
    "\n",
    "Fs_TS_rate_net_mov = xr.Dataset(\n",
    "    {\n",
    "        'salt_WWed': (['time','eta_rho','xi_rho'], Fs_TS_rate_net_WWed_mm_int),\n",
    "        'salt_EWed': (['time','eta_rho','xi_rho'], Fs_TS_rate_net_EWed_mm_int),\n",
    "\n",
    "    },\n",
    "    coords= {'time':np.arange(0,12),'T-bins':tbins,'S-bins':sbins}\n",
    "    )"
   ]
  },
  {
   "cell_type": "code",
   "execution_count": 25,
   "id": "2787f618",
   "metadata": {},
   "outputs": [],
   "source": [
    "fig = plt.figure(figsize=(12,8))\n",
    "\n",
    "def custom_plotfunc(salt, fig, tt, *args, **kwargs):\n",
    "    \n",
    "    plt.subplot(1,2,1)\n",
    "    cw = plt.contourf(Sbins,Tbins-273.15,salt['salt_WWed'].isel(time=tt)*Dt/1e6, levels=np.arange(-15,15.1,.1), cmap=plt.cm.seismic, extend='both')\n",
    "    plt.title('A) WAOM10 - West FRIS \\n month = ' + str (tt))\n",
    "    plt.xlabel('Salinity'),plt.ylabel('Temperature ($^{\\circ}$C)')\n",
    "    CS = plt.contour(Si,Ti,dens.transpose(), levels=np.arange(26.,28.2,.05),linestyles='dotted', colors='gray',linewidths=.5)\n",
    "    plt.clabel(CS,fontsize=8)\n",
    "    plt.xlim([34,34.7])\n",
    "    plt.ylim([-2.65,-.5])\n",
    "    plt.plot(si,Freez_tempE,'-',color='k', linewidth=2)\n",
    "    plt.plot(si,Tgade2,'-',color='green')\n",
    "\n",
    "    plt.subplot(1,2,2)\n",
    "    cw = plt.contourf(Sbins,Tbins-273.15,salt['salt_EWed'].isel(time=tt)*Dt/1e6, levels=np.arange(-15,15.1,.1), cmap=plt.cm.seismic, extend='both')\n",
    "    plt.title('B) WAOM10 - Central FRIS \\n month = ' + str (tt))\n",
    "    plt.xlabel('Salinity'),plt.ylabel('Temperature ($^{\\circ}$C)')\n",
    "    CS = plt.contour(Si,Ti,dens.transpose(), levels=np.arange(26.,28.2,.05),linestyles='dotted', colors='gray',linewidths=.5)\n",
    "    plt.clabel(CS,fontsize=8)\n",
    "    plt.xlim([34,34.7])\n",
    "    plt.ylim([-2.65,-.5])\n",
    "    plt.plot(si,Freez_tempE,'-',color='k', linewidth=2)\n",
    "    plt.plot(si,Tgade2,'-',color='green')\n",
    "\n",
    "    cbar_ax1 = fig.add_axes([0.92, 0.1, 0.015, 0.8])\n",
    "    fig.colorbar(cw, cax=cbar_ax1, orientation='vertical')\n",
    "    cbar_ax1.set_ylabel('Annual mean WMT (Sv)')\n",
    "\n",
    "    return None, None"
   ]
  },
  {
   "cell_type": "code",
   "execution_count": 26,
   "id": "1003b777",
   "metadata": {},
   "outputs": [
    {
     "data": {
      "application/vnd.jupyter.widget-view+json": {
       "model_id": "6955539e761642d4a55eb2311b77de79",
       "version_major": 2,
       "version_minor": 0
      },
      "text/plain": [
       "  0%|          | 0/12 [00:00<?, ?it/s]"
      ]
     },
     "metadata": {},
     "output_type": "display_data"
    },
    {
     "name": "stdout",
     "output_type": "stream",
     "text": [
      "Movie created at WAOM10extend_WMT_TS-space_FRIS.mp4\n"
     ]
    }
   ],
   "source": [
    "mov_custom = Movie(Fs_TS_rate_net_mov, custom_plotfunc, input_check=False)\n",
    "mov_custom.save('/users/boeiradi/COLD_project/postprocessing/figs/WMT/movie/WAOM10extend_WMT_TS-space_FRIS.mp4', overwrite_existing=True, progress=True, framerate=1)\n"
   ]
  },
  {
   "cell_type": "code",
   "execution_count": null,
   "id": "03aec89b",
   "metadata": {},
   "outputs": [],
   "source": []
  }
 ],
 "metadata": {
  "kernelspec": {
   "display_name": "Python 3 (ipykernel)",
   "language": "python",
   "name": "python3"
  },
  "language_info": {
   "codemirror_mode": {
    "name": "ipython",
    "version": 3
   },
   "file_extension": ".py",
   "mimetype": "text/x-python",
   "name": "python",
   "nbconvert_exporter": "python",
   "pygments_lexer": "ipython3",
   "version": "3.7.11"
  }
 },
 "nbformat": 4,
 "nbformat_minor": 5
}
