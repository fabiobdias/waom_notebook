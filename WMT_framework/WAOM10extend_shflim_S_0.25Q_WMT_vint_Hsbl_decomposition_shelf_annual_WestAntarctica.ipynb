{
 "cells": [
  {
   "cell_type": "code",
   "execution_count": 1,
   "id": "9ea1f472",
   "metadata": {},
   "outputs": [],
   "source": [
    "# read nc output from WAOM 10km run\n",
    "\n",
    "import xarray as xr\n",
    "import pandas as p\n",
    "import numpy as np\n",
    "import numpy.ma as ma\n",
    "import cartopy.crs as ccrs\n",
    "#import matplotlib as mpl\n",
    "#mpl.use('Agg')\n",
    "import matplotlib.pyplot as plt\n",
    "import matplotlib.dates as dates\n",
    "from matplotlib.ticker import NullFormatter\n",
    "from matplotlib.colors import LinearSegmentedColormap   # for custom colormaps\n",
    "\n",
    "from datetime import datetime, timedelta\n",
    "\n",
    "from netCDF4 import Dataset\n",
    "from netCDF4 import num2date, date2num\n",
    "from matplotlib.ticker import NullFormatter\n",
    "from matplotlib.colors import LinearSegmentedColormap   # for custom colormaps\n",
    "\n",
    "import gsw\n"
   ]
  },
  {
   "cell_type": "code",
   "execution_count": 2,
   "id": "763b3a56",
   "metadata": {},
   "outputs": [
    {
     "name": "stdout",
     "output_type": "stream",
     "text": [
      "(7, 31, 560, 630)\n"
     ]
    },
    {
     "name": "stderr",
     "output_type": "stream",
     "text": [
      "/scratch/project_2000339/boeiradi/anaconda3/lib/python3.7/site-packages/ipykernel_launcher.py:5: RuntimeWarning: Mean of empty slice\n",
      "  \"\"\"\n",
      "/scratch/project_2000339/boeiradi/anaconda3/lib/python3.7/site-packages/ipykernel_launcher.py:6: RuntimeWarning: Mean of empty slice\n",
      "  \n",
      "/scratch/project_2000339/boeiradi/anaconda3/lib/python3.7/site-packages/ipykernel_launcher.py:7: RuntimeWarning: Mean of empty slice\n",
      "  import sys\n",
      "/scratch/project_2000339/boeiradi/anaconda3/lib/python3.7/site-packages/ipykernel_launcher.py:8: RuntimeWarning: Mean of empty slice\n",
      "  \n",
      "/scratch/project_2000339/boeiradi/anaconda3/lib/python3.7/site-packages/ipykernel_launcher.py:9: RuntimeWarning: Mean of empty slice\n",
      "  if __name__ == '__main__':\n"
     ]
    },
    {
     "name": "stdout",
     "output_type": "stream",
     "text": [
      "Vtransform=2\n"
     ]
    },
    {
     "name": "stderr",
     "output_type": "stream",
     "text": [
      "/scratch/project_2000339/boeiradi/anaconda3/lib/python3.7/site-packages/ipykernel_launcher.py:23: RuntimeWarning: Mean of empty slice\n",
      "/scratch/project_2000339/boeiradi/anaconda3/lib/python3.7/site-packages/ipykernel_launcher.py:24: RuntimeWarning: Mean of empty slice\n"
     ]
    },
    {
     "name": "stdout",
     "output_type": "stream",
     "text": [
      "(6, 31, 560, 630)\n"
     ]
    },
    {
     "name": "stderr",
     "output_type": "stream",
     "text": [
      "/scratch/project_2000339/boeiradi/anaconda3/lib/python3.7/site-packages/ipykernel_launcher.py:5: RuntimeWarning: Mean of empty slice\n",
      "  \"\"\"\n",
      "/scratch/project_2000339/boeiradi/anaconda3/lib/python3.7/site-packages/ipykernel_launcher.py:6: RuntimeWarning: Mean of empty slice\n",
      "  \n",
      "/scratch/project_2000339/boeiradi/anaconda3/lib/python3.7/site-packages/ipykernel_launcher.py:7: RuntimeWarning: Mean of empty slice\n",
      "  import sys\n",
      "/scratch/project_2000339/boeiradi/anaconda3/lib/python3.7/site-packages/ipykernel_launcher.py:8: RuntimeWarning: Mean of empty slice\n",
      "  \n",
      "/scratch/project_2000339/boeiradi/anaconda3/lib/python3.7/site-packages/ipykernel_launcher.py:9: RuntimeWarning: Mean of empty slice\n",
      "  if __name__ == '__main__':\n"
     ]
    },
    {
     "name": "stdout",
     "output_type": "stream",
     "text": [
      "Vtransform=2\n"
     ]
    },
    {
     "name": "stderr",
     "output_type": "stream",
     "text": [
      "/scratch/project_2000339/boeiradi/anaconda3/lib/python3.7/site-packages/ipykernel_launcher.py:23: RuntimeWarning: Mean of empty slice\n",
      "/scratch/project_2000339/boeiradi/anaconda3/lib/python3.7/site-packages/ipykernel_launcher.py:24: RuntimeWarning: Mean of empty slice\n"
     ]
    },
    {
     "name": "stdout",
     "output_type": "stream",
     "text": [
      "(6, 31, 560, 630)\n"
     ]
    },
    {
     "name": "stderr",
     "output_type": "stream",
     "text": [
      "/scratch/project_2000339/boeiradi/anaconda3/lib/python3.7/site-packages/ipykernel_launcher.py:5: RuntimeWarning: Mean of empty slice\n",
      "  \"\"\"\n",
      "/scratch/project_2000339/boeiradi/anaconda3/lib/python3.7/site-packages/ipykernel_launcher.py:6: RuntimeWarning: Mean of empty slice\n",
      "  \n",
      "/scratch/project_2000339/boeiradi/anaconda3/lib/python3.7/site-packages/ipykernel_launcher.py:7: RuntimeWarning: Mean of empty slice\n",
      "  import sys\n",
      "/scratch/project_2000339/boeiradi/anaconda3/lib/python3.7/site-packages/ipykernel_launcher.py:8: RuntimeWarning: Mean of empty slice\n",
      "  \n",
      "/scratch/project_2000339/boeiradi/anaconda3/lib/python3.7/site-packages/ipykernel_launcher.py:9: RuntimeWarning: Mean of empty slice\n",
      "  if __name__ == '__main__':\n"
     ]
    },
    {
     "name": "stdout",
     "output_type": "stream",
     "text": [
      "Vtransform=2\n"
     ]
    },
    {
     "name": "stderr",
     "output_type": "stream",
     "text": [
      "/scratch/project_2000339/boeiradi/anaconda3/lib/python3.7/site-packages/ipykernel_launcher.py:23: RuntimeWarning: Mean of empty slice\n",
      "/scratch/project_2000339/boeiradi/anaconda3/lib/python3.7/site-packages/ipykernel_launcher.py:24: RuntimeWarning: Mean of empty slice\n"
     ]
    },
    {
     "name": "stdout",
     "output_type": "stream",
     "text": [
      "(6, 31, 560, 630)\n"
     ]
    },
    {
     "name": "stderr",
     "output_type": "stream",
     "text": [
      "/scratch/project_2000339/boeiradi/anaconda3/lib/python3.7/site-packages/ipykernel_launcher.py:5: RuntimeWarning: Mean of empty slice\n",
      "  \"\"\"\n",
      "/scratch/project_2000339/boeiradi/anaconda3/lib/python3.7/site-packages/ipykernel_launcher.py:6: RuntimeWarning: Mean of empty slice\n",
      "  \n",
      "/scratch/project_2000339/boeiradi/anaconda3/lib/python3.7/site-packages/ipykernel_launcher.py:7: RuntimeWarning: Mean of empty slice\n",
      "  import sys\n",
      "/scratch/project_2000339/boeiradi/anaconda3/lib/python3.7/site-packages/ipykernel_launcher.py:8: RuntimeWarning: Mean of empty slice\n",
      "  \n",
      "/scratch/project_2000339/boeiradi/anaconda3/lib/python3.7/site-packages/ipykernel_launcher.py:9: RuntimeWarning: Mean of empty slice\n",
      "  if __name__ == '__main__':\n"
     ]
    },
    {
     "name": "stdout",
     "output_type": "stream",
     "text": [
      "Vtransform=2\n"
     ]
    },
    {
     "name": "stderr",
     "output_type": "stream",
     "text": [
      "/scratch/project_2000339/boeiradi/anaconda3/lib/python3.7/site-packages/ipykernel_launcher.py:23: RuntimeWarning: Mean of empty slice\n",
      "/scratch/project_2000339/boeiradi/anaconda3/lib/python3.7/site-packages/ipykernel_launcher.py:24: RuntimeWarning: Mean of empty slice\n"
     ]
    },
    {
     "name": "stdout",
     "output_type": "stream",
     "text": [
      "(6, 31, 560, 630)\n"
     ]
    },
    {
     "name": "stderr",
     "output_type": "stream",
     "text": [
      "/scratch/project_2000339/boeiradi/anaconda3/lib/python3.7/site-packages/ipykernel_launcher.py:5: RuntimeWarning: Mean of empty slice\n",
      "  \"\"\"\n",
      "/scratch/project_2000339/boeiradi/anaconda3/lib/python3.7/site-packages/ipykernel_launcher.py:6: RuntimeWarning: Mean of empty slice\n",
      "  \n",
      "/scratch/project_2000339/boeiradi/anaconda3/lib/python3.7/site-packages/ipykernel_launcher.py:7: RuntimeWarning: Mean of empty slice\n",
      "  import sys\n",
      "/scratch/project_2000339/boeiradi/anaconda3/lib/python3.7/site-packages/ipykernel_launcher.py:8: RuntimeWarning: Mean of empty slice\n",
      "  \n",
      "/scratch/project_2000339/boeiradi/anaconda3/lib/python3.7/site-packages/ipykernel_launcher.py:9: RuntimeWarning: Mean of empty slice\n",
      "  if __name__ == '__main__':\n"
     ]
    },
    {
     "name": "stdout",
     "output_type": "stream",
     "text": [
      "Vtransform=2\n"
     ]
    },
    {
     "name": "stderr",
     "output_type": "stream",
     "text": [
      "/scratch/project_2000339/boeiradi/anaconda3/lib/python3.7/site-packages/ipykernel_launcher.py:23: RuntimeWarning: Mean of empty slice\n",
      "/scratch/project_2000339/boeiradi/anaconda3/lib/python3.7/site-packages/ipykernel_launcher.py:24: RuntimeWarning: Mean of empty slice\n"
     ]
    },
    {
     "name": "stdout",
     "output_type": "stream",
     "text": [
      "(6, 31, 560, 630)\n"
     ]
    },
    {
     "name": "stderr",
     "output_type": "stream",
     "text": [
      "/scratch/project_2000339/boeiradi/anaconda3/lib/python3.7/site-packages/ipykernel_launcher.py:5: RuntimeWarning: Mean of empty slice\n",
      "  \"\"\"\n",
      "/scratch/project_2000339/boeiradi/anaconda3/lib/python3.7/site-packages/ipykernel_launcher.py:6: RuntimeWarning: Mean of empty slice\n",
      "  \n",
      "/scratch/project_2000339/boeiradi/anaconda3/lib/python3.7/site-packages/ipykernel_launcher.py:7: RuntimeWarning: Mean of empty slice\n",
      "  import sys\n",
      "/scratch/project_2000339/boeiradi/anaconda3/lib/python3.7/site-packages/ipykernel_launcher.py:8: RuntimeWarning: Mean of empty slice\n",
      "  \n",
      "/scratch/project_2000339/boeiradi/anaconda3/lib/python3.7/site-packages/ipykernel_launcher.py:9: RuntimeWarning: Mean of empty slice\n",
      "  if __name__ == '__main__':\n"
     ]
    },
    {
     "name": "stdout",
     "output_type": "stream",
     "text": [
      "Vtransform=2\n"
     ]
    },
    {
     "name": "stderr",
     "output_type": "stream",
     "text": [
      "/scratch/project_2000339/boeiradi/anaconda3/lib/python3.7/site-packages/ipykernel_launcher.py:23: RuntimeWarning: Mean of empty slice\n",
      "/scratch/project_2000339/boeiradi/anaconda3/lib/python3.7/site-packages/ipykernel_launcher.py:24: RuntimeWarning: Mean of empty slice\n"
     ]
    },
    {
     "name": "stdout",
     "output_type": "stream",
     "text": [
      "(6, 31, 560, 630)\n"
     ]
    },
    {
     "name": "stderr",
     "output_type": "stream",
     "text": [
      "/scratch/project_2000339/boeiradi/anaconda3/lib/python3.7/site-packages/ipykernel_launcher.py:5: RuntimeWarning: Mean of empty slice\n",
      "  \"\"\"\n",
      "/scratch/project_2000339/boeiradi/anaconda3/lib/python3.7/site-packages/ipykernel_launcher.py:6: RuntimeWarning: Mean of empty slice\n",
      "  \n",
      "/scratch/project_2000339/boeiradi/anaconda3/lib/python3.7/site-packages/ipykernel_launcher.py:7: RuntimeWarning: Mean of empty slice\n",
      "  import sys\n",
      "/scratch/project_2000339/boeiradi/anaconda3/lib/python3.7/site-packages/ipykernel_launcher.py:8: RuntimeWarning: Mean of empty slice\n",
      "  \n",
      "/scratch/project_2000339/boeiradi/anaconda3/lib/python3.7/site-packages/ipykernel_launcher.py:9: RuntimeWarning: Mean of empty slice\n",
      "  if __name__ == '__main__':\n"
     ]
    },
    {
     "name": "stdout",
     "output_type": "stream",
     "text": [
      "Vtransform=2\n"
     ]
    },
    {
     "name": "stderr",
     "output_type": "stream",
     "text": [
      "/scratch/project_2000339/boeiradi/anaconda3/lib/python3.7/site-packages/ipykernel_launcher.py:23: RuntimeWarning: Mean of empty slice\n",
      "/scratch/project_2000339/boeiradi/anaconda3/lib/python3.7/site-packages/ipykernel_launcher.py:24: RuntimeWarning: Mean of empty slice\n"
     ]
    },
    {
     "name": "stdout",
     "output_type": "stream",
     "text": [
      "(6, 31, 560, 630)\n"
     ]
    },
    {
     "name": "stderr",
     "output_type": "stream",
     "text": [
      "/scratch/project_2000339/boeiradi/anaconda3/lib/python3.7/site-packages/ipykernel_launcher.py:5: RuntimeWarning: Mean of empty slice\n",
      "  \"\"\"\n",
      "/scratch/project_2000339/boeiradi/anaconda3/lib/python3.7/site-packages/ipykernel_launcher.py:6: RuntimeWarning: Mean of empty slice\n",
      "  \n",
      "/scratch/project_2000339/boeiradi/anaconda3/lib/python3.7/site-packages/ipykernel_launcher.py:7: RuntimeWarning: Mean of empty slice\n",
      "  import sys\n",
      "/scratch/project_2000339/boeiradi/anaconda3/lib/python3.7/site-packages/ipykernel_launcher.py:8: RuntimeWarning: Mean of empty slice\n",
      "  \n",
      "/scratch/project_2000339/boeiradi/anaconda3/lib/python3.7/site-packages/ipykernel_launcher.py:9: RuntimeWarning: Mean of empty slice\n",
      "  if __name__ == '__main__':\n"
     ]
    },
    {
     "name": "stdout",
     "output_type": "stream",
     "text": [
      "Vtransform=2\n"
     ]
    },
    {
     "name": "stderr",
     "output_type": "stream",
     "text": [
      "/scratch/project_2000339/boeiradi/anaconda3/lib/python3.7/site-packages/ipykernel_launcher.py:23: RuntimeWarning: Mean of empty slice\n",
      "/scratch/project_2000339/boeiradi/anaconda3/lib/python3.7/site-packages/ipykernel_launcher.py:24: RuntimeWarning: Mean of empty slice\n"
     ]
    },
    {
     "name": "stdout",
     "output_type": "stream",
     "text": [
      "(6, 31, 560, 630)\n"
     ]
    },
    {
     "name": "stderr",
     "output_type": "stream",
     "text": [
      "/scratch/project_2000339/boeiradi/anaconda3/lib/python3.7/site-packages/ipykernel_launcher.py:5: RuntimeWarning: Mean of empty slice\n",
      "  \"\"\"\n",
      "/scratch/project_2000339/boeiradi/anaconda3/lib/python3.7/site-packages/ipykernel_launcher.py:6: RuntimeWarning: Mean of empty slice\n",
      "  \n",
      "/scratch/project_2000339/boeiradi/anaconda3/lib/python3.7/site-packages/ipykernel_launcher.py:7: RuntimeWarning: Mean of empty slice\n",
      "  import sys\n",
      "/scratch/project_2000339/boeiradi/anaconda3/lib/python3.7/site-packages/ipykernel_launcher.py:8: RuntimeWarning: Mean of empty slice\n",
      "  \n",
      "/scratch/project_2000339/boeiradi/anaconda3/lib/python3.7/site-packages/ipykernel_launcher.py:9: RuntimeWarning: Mean of empty slice\n",
      "  if __name__ == '__main__':\n"
     ]
    },
    {
     "name": "stdout",
     "output_type": "stream",
     "text": [
      "Vtransform=2\n"
     ]
    },
    {
     "name": "stderr",
     "output_type": "stream",
     "text": [
      "/scratch/project_2000339/boeiradi/anaconda3/lib/python3.7/site-packages/ipykernel_launcher.py:23: RuntimeWarning: Mean of empty slice\n",
      "/scratch/project_2000339/boeiradi/anaconda3/lib/python3.7/site-packages/ipykernel_launcher.py:24: RuntimeWarning: Mean of empty slice\n"
     ]
    },
    {
     "name": "stdout",
     "output_type": "stream",
     "text": [
      "(6, 31, 560, 630)\n"
     ]
    },
    {
     "name": "stderr",
     "output_type": "stream",
     "text": [
      "/scratch/project_2000339/boeiradi/anaconda3/lib/python3.7/site-packages/ipykernel_launcher.py:5: RuntimeWarning: Mean of empty slice\n",
      "  \"\"\"\n",
      "/scratch/project_2000339/boeiradi/anaconda3/lib/python3.7/site-packages/ipykernel_launcher.py:6: RuntimeWarning: Mean of empty slice\n",
      "  \n",
      "/scratch/project_2000339/boeiradi/anaconda3/lib/python3.7/site-packages/ipykernel_launcher.py:7: RuntimeWarning: Mean of empty slice\n",
      "  import sys\n",
      "/scratch/project_2000339/boeiradi/anaconda3/lib/python3.7/site-packages/ipykernel_launcher.py:8: RuntimeWarning: Mean of empty slice\n",
      "  \n",
      "/scratch/project_2000339/boeiradi/anaconda3/lib/python3.7/site-packages/ipykernel_launcher.py:9: RuntimeWarning: Mean of empty slice\n",
      "  if __name__ == '__main__':\n"
     ]
    },
    {
     "name": "stdout",
     "output_type": "stream",
     "text": [
      "Vtransform=2\n"
     ]
    },
    {
     "name": "stderr",
     "output_type": "stream",
     "text": [
      "/scratch/project_2000339/boeiradi/anaconda3/lib/python3.7/site-packages/ipykernel_launcher.py:23: RuntimeWarning: Mean of empty slice\n",
      "/scratch/project_2000339/boeiradi/anaconda3/lib/python3.7/site-packages/ipykernel_launcher.py:24: RuntimeWarning: Mean of empty slice\n"
     ]
    },
    {
     "name": "stdout",
     "output_type": "stream",
     "text": [
      "(6, 31, 560, 630)\n"
     ]
    },
    {
     "name": "stderr",
     "output_type": "stream",
     "text": [
      "/scratch/project_2000339/boeiradi/anaconda3/lib/python3.7/site-packages/ipykernel_launcher.py:5: RuntimeWarning: Mean of empty slice\n",
      "  \"\"\"\n",
      "/scratch/project_2000339/boeiradi/anaconda3/lib/python3.7/site-packages/ipykernel_launcher.py:6: RuntimeWarning: Mean of empty slice\n",
      "  \n",
      "/scratch/project_2000339/boeiradi/anaconda3/lib/python3.7/site-packages/ipykernel_launcher.py:7: RuntimeWarning: Mean of empty slice\n",
      "  import sys\n",
      "/scratch/project_2000339/boeiradi/anaconda3/lib/python3.7/site-packages/ipykernel_launcher.py:8: RuntimeWarning: Mean of empty slice\n",
      "  \n",
      "/scratch/project_2000339/boeiradi/anaconda3/lib/python3.7/site-packages/ipykernel_launcher.py:9: RuntimeWarning: Mean of empty slice\n",
      "  if __name__ == '__main__':\n"
     ]
    },
    {
     "name": "stdout",
     "output_type": "stream",
     "text": [
      "Vtransform=2\n"
     ]
    },
    {
     "name": "stderr",
     "output_type": "stream",
     "text": [
      "/scratch/project_2000339/boeiradi/anaconda3/lib/python3.7/site-packages/ipykernel_launcher.py:23: RuntimeWarning: Mean of empty slice\n",
      "/scratch/project_2000339/boeiradi/anaconda3/lib/python3.7/site-packages/ipykernel_launcher.py:24: RuntimeWarning: Mean of empty slice\n"
     ]
    },
    {
     "name": "stdout",
     "output_type": "stream",
     "text": [
      "(6, 31, 560, 630)\n"
     ]
    },
    {
     "name": "stderr",
     "output_type": "stream",
     "text": [
      "/scratch/project_2000339/boeiradi/anaconda3/lib/python3.7/site-packages/ipykernel_launcher.py:5: RuntimeWarning: Mean of empty slice\n",
      "  \"\"\"\n",
      "/scratch/project_2000339/boeiradi/anaconda3/lib/python3.7/site-packages/ipykernel_launcher.py:6: RuntimeWarning: Mean of empty slice\n",
      "  \n",
      "/scratch/project_2000339/boeiradi/anaconda3/lib/python3.7/site-packages/ipykernel_launcher.py:7: RuntimeWarning: Mean of empty slice\n",
      "  import sys\n",
      "/scratch/project_2000339/boeiradi/anaconda3/lib/python3.7/site-packages/ipykernel_launcher.py:8: RuntimeWarning: Mean of empty slice\n",
      "  \n",
      "/scratch/project_2000339/boeiradi/anaconda3/lib/python3.7/site-packages/ipykernel_launcher.py:9: RuntimeWarning: Mean of empty slice\n",
      "  if __name__ == '__main__':\n"
     ]
    },
    {
     "name": "stdout",
     "output_type": "stream",
     "text": [
      "Vtransform=2\n"
     ]
    },
    {
     "name": "stderr",
     "output_type": "stream",
     "text": [
      "/scratch/project_2000339/boeiradi/anaconda3/lib/python3.7/site-packages/ipykernel_launcher.py:23: RuntimeWarning: Mean of empty slice\n",
      "/scratch/project_2000339/boeiradi/anaconda3/lib/python3.7/site-packages/ipykernel_launcher.py:24: RuntimeWarning: Mean of empty slice\n"
     ]
    }
   ],
   "source": [
    "# load ROMS avg output\n",
    "for mm  in ['01','02','03','04','05','06','07','08','09','10','11','12']:\n",
    "    ds = xr.open_dataset('/scratch/project_2000789/boeiradi/waom10extend_shflim_S_0.25Q/output_20yr_diag/ocean_avg_00' + mm + '.nc')\n",
    "    print(ds.variables[\"temp\"].shape)\n",
    "    temp_tmp = np.nanmean(ds.variables[\"temp\"], axis=0)\n",
    "    salt_tmp = np.nanmean(ds.variables[\"salt\"], axis=0)\n",
    "    shflux_tmp = np.nanmean(ds.variables[\"shflux\"], axis=0)\n",
    "    ssflux_tmp = np.nanmean(ds.variables[\"ssflux\"], axis=0)\n",
    "    m_tmp = np.nanmean(ds.variables[\"m\"], axis=0)\n",
    "\n",
    "    ds = ds.set_coords(['Cs_r', 'Cs_w', 'hc', 'h', 'Vtransform'])\n",
    "    if ds.Vtransform == 1:\n",
    "        Zo_rho = ds.hc * (ds.s_rho - ds.Cs_r) + ds.Cs_r * ds.h\n",
    "        z_rho_tmp = Zo_rho + ds.zeta * (1 + Zo_rho/ds.h)\n",
    "        print(\"Vtransform=1\")\n",
    "    elif ds.Vtransform == 2:\n",
    "        Zo_rho = (ds.hc * ds.s_rho + ds.Cs_r * ds.h) / (ds.hc + ds.h)\n",
    "        z_rho_tmp = ds.zeta + (ds.zeta + ds.h) * Zo_rho\n",
    "        print(\"Vtransform=2\")\n",
    "        Zo_w = (ds.hc * ds.s_w + ds.Cs_w * ds.h) / (ds.hc + ds.h)\n",
    "        z_w_tmp = ds.zeta + (ds.zeta + ds.h) * Zo_w\n",
    "\n",
    "    z_rho_avg = np.nanmean(z_rho_tmp, axis=0)\n",
    "    z_w_avg = np.nanmean(z_w_tmp,axis=0)\n",
    "\n",
    "    # concatanate monthly avgs into a yearly variable\n",
    "    if mm == '01':\n",
    "        temp = temp_tmp\n",
    "        salt = salt_tmp\n",
    "        shflux = shflux_tmp\n",
    "        ssflux = ssflux_tmp\n",
    "        m = m_tmp\n",
    "        z_rho = z_rho_avg\n",
    "        z_w = z_w_avg\n",
    "    elif mm == '02':\n",
    "        temp = np.stack((temp,temp_tmp), axis=0)\n",
    "        salt = np.stack((salt,salt_tmp), axis=0)\n",
    "        shflux = np.stack((shflux,shflux_tmp), axis=0)\n",
    "        ssflux = np.stack((ssflux,ssflux_tmp), axis=0)\n",
    "        m = np.stack((m,m_tmp), axis=0)\n",
    "        z_rho = np.stack((z_rho,z_rho_avg), axis=0)\n",
    "        z_w = np.stack((z_w,z_w_avg), axis=0)\n",
    "    else:\n",
    "        temp_tmp_4thdim = np.expand_dims(temp_tmp, axis=0)\n",
    "        temp = np.concatenate((temp,temp_tmp_4thdim), axis=0)\n",
    "        salt_tmp_4thdim = np.expand_dims(salt_tmp, axis=0)\n",
    "        salt = np.concatenate((salt,salt_tmp_4thdim), axis=0)\n",
    "        shflux_tmp_4thdim = np.expand_dims(shflux_tmp, axis=0)\n",
    "        shflux = np.concatenate((shflux,shflux_tmp_4thdim), axis=0)\n",
    "        ssflux_tmp_4thdim = np.expand_dims(ssflux_tmp, axis=0)\n",
    "        ssflux = np.concatenate((ssflux,ssflux_tmp_4thdim), axis=0)\n",
    "        m_tmp_4thdim = np.expand_dims(m_tmp, axis=0)\n",
    "        m = np.concatenate((m,m_tmp_4thdim), axis=0)\n",
    "        z_rho_tmp_4thdim = np.expand_dims(z_rho_avg, axis=0)\n",
    "        z_rho = np.concatenate((z_rho,z_rho_tmp_4thdim), axis=0)\n",
    "        z_w_tmp_4thdim = np.expand_dims(z_w_avg, axis=0)\n",
    "        z_w = np.concatenate((z_w,z_w_tmp_4thdim), axis=0)\n",
    "#ds.coords['flux'] = flux#.transpose() # put flux into ds dataset\n",
    "\n",
    "    ds.close()\n",
    "\n",
    "sigma_t_sfc = gsw.rho(salt[:,-1,:,:],temp[:,-1,:,:],0) - 1000\n",
    "\n",
    "di = xr.open_dataset('/scratch/project_2000789/boeiradi/waom10extend_shflim_S_0.25Q/output_20yr_diag/ocean_avg_0001.nc')\n",
    "ice_draft = di.variables[\"zice\"]\n",
    "\n",
    "mask_zice = ma.masked_where(ice_draft < 0, np.ones(ice_draft.shape))\n",
    "\n",
    "di.close()"
   ]
  },
  {
   "cell_type": "code",
   "execution_count": 3,
   "id": "0fee6b15",
   "metadata": {},
   "outputs": [
    {
     "name": "stdout",
     "output_type": "stream",
     "text": [
      "(560, 630, 32)\n",
      "(560, 630, 32)\n",
      "(560, 630, 32)\n",
      "(560, 630, 32)\n",
      "(560, 630, 32)\n",
      "(560, 630, 32)\n",
      "(560, 630, 32)\n",
      "(560, 630, 32)\n",
      "(560, 630, 32)\n",
      "(560, 630, 32)\n",
      "(560, 630, 32)\n",
      "(560, 630, 32)\n",
      "(12, 560, 630)\n"
     ]
    }
   ],
   "source": [
    "# calculate dz following:\n",
    "dz = np.empty((12,560,630,31))\n",
    "dz_inv = np.empty((12,560,630,31))\n",
    "\n",
    "\n",
    "for tt in np.arange(0,12):\n",
    "    z_w_sorted = -1*z_w[tt,:,:,::-1]\n",
    "    print(z_w_sorted.shape)\n",
    "    dz_inv[tt,:,:,:] = np.diff(z_w_sorted,axis=2)\n",
    "    dz[tt,:,:,:] = dz_inv[tt,:,:,::-1]\n",
    "\n",
    "dg = xr.open_dataset(\"/scratch/project_2000339/boeiradi/waom10_frc/waom10extend_grd.nc\")\n",
    "\n",
    "lat_rho = dg.variables[\"lat_rho\"]\n",
    "lon_rho = dg.variables[\"lon_rho\"]\n",
    "pm = dg.variables[\"pm\"]\n",
    "pn = dg.variables[\"pn\"]\n",
    "\n",
    "ds.coords['lat_rho']=lat_rho.transpose() # put lat_rho into ds dataset\n",
    "ds.coords['lon_rho']=lon_rho.transpose() # put lon_rho into ds dataset\n",
    "\n",
    "\n",
    "dx = xr.open_dataset('/scratch/project_2000339/boeiradi/waom10extend_shflim_S_0.25Q/output_20yr_diag/MLD_vint_vars_for_WMT.nc')\n",
    "print(dx.variables[\"sfc_mld\"].shape)\n",
    "sfc_mld = dx.variables[\"sfc_mld\"]\n",
    "# - variables across ML base\n",
    "temp_avg_mld = dx.variables[\"temp_avg_mld\"]\n",
    "salt_avg_mld = dx.variables[\"salt_avg_mld\"]\n",
    "\n",
    "# - variables integrated throughout the ML; multiply by -1 b/c dz is negative.\n",
    "temp_vdia_diff_mld_vint = dx.variables[\"temp_vdia_diff_mld_vint\"]\n",
    "salt_vdia_diff_mld_vint = dx.variables[\"salt_vdia_diff_mld_vint\"]\n",
    "temp_hdia_diff_mld_vint = dx.variables[\"temp_hdia_diff_mld_vint\"]\n",
    "salt_hdia_diff_mld_vint = dx.variables[\"salt_hdia_diff_mld_vint\"]\n",
    "temp_vdia_adv_mld_vint = dx.variables[\"temp_vdia_adv_mld_vint\"]\n",
    "salt_vdia_adv_mld_vint = dx.variables[\"salt_vdia_adv_mld_vint\"]\n",
    "temp_hdia_adv_mld_vint = dx.variables[\"temp_hdia_adv_mld_vint\"]\n",
    "salt_hdia_adv_mld_vint = dx.variables[\"salt_hdia_adv_mld_vint\"]\n",
    "temp_tend_mld_vint = dx.variables[\"temp_tend_avg_mld_vint\"]\n",
    "salt_tend_mld_vint = dx.variables[\"salt_tend_avg_mld_vint\"]\n",
    "\n",
    "sigma_t = gsw.rho(salt_avg_mld,temp_avg_mld,0) - 1000\n",
    "\n",
    "dx.close()"
   ]
  },
  {
   "cell_type": "code",
   "execution_count": 4,
   "id": "4eca64b4",
   "metadata": {},
   "outputs": [
    {
     "name": "stdout",
     "output_type": "stream",
     "text": [
      "(12, 560, 630)\n"
     ]
    }
   ],
   "source": [
    "# obtain thermal expansion (alpha) & salinity contraction (beta) coefficients:\n",
    "SA_avg_mld = np.empty(salt_avg_mld.shape)\n",
    "# neet Absolute Salinity, converting from Pratical Salinity:\n",
    "for mm in np.arange(0,12):\n",
    "    SA_tmp =gsw.SA_from_SP(np.squeeze(salt_avg_mld[mm,:,:]),0,lon_rho,lat_rho)\n",
    "    SA_avg_mld[mm,:,:] = SA_tmp\n",
    "    del SA_tmp\n",
    "\n",
    "# gsw.alpha/gsw.beta\n",
    "#alpha = gsw_alpha(SA,CT,p)\n",
    "[specvol_mld, alpha_mld, beta_mld] = gsw.specvol_alpha_beta(SA_avg_mld,temp_avg_mld,0)\n",
    "\n",
    "print(alpha_mld.shape)\n",
    "\n",
    "# calculate the LHS term in Pellichero et al (2018):\n",
    "# ps: Diffusion (R_s, R_t) terms already include the sfc fluxes\n",
    "\n",
    "# heat (eqn 5)\n",
    "rho0 = 1025 #1000\n",
    "Cp = 3985\n",
    "\n",
    "# total diffusion terms:\n",
    "R_s_vint = beta_mld*(salt_hdia_diff_mld_vint + salt_vdia_diff_mld_vint)\n",
    "R_t_vint = alpha_mld*(temp_hdia_diff_mld_vint + temp_vdia_diff_mld_vint)\n",
    "\n",
    "# surface flux terms:\n",
    "salt_sfc = beta_mld*(ssflux)\n",
    "temp_sfc = alpha_mld*(np.divide(shflux, rho0*Cp))\n",
    "\n",
    "# advection terms:\n",
    "salt_adv_mld_vint = beta_mld*(salt_hdia_adv_mld_vint + salt_vdia_adv_mld_vint)\n",
    "temp_adv_mld_vint = alpha_mld*(temp_hdia_adv_mld_vint + temp_vdia_adv_mld_vint)\n",
    "\n",
    "# net tendencies\n",
    "salt_net_mld_vint = beta_mld*salt_tend_mld_vint\n",
    "temp_net_mld_vint = alpha_mld*temp_tend_mld_vint\n",
    "\n"
   ]
  },
  {
   "cell_type": "code",
   "execution_count": 5,
   "id": "87c85f16",
   "metadata": {},
   "outputs": [],
   "source": [
    "#  Function to calculate Water Mass Transformation (in m3/s):\n",
    "\n",
    "# rho grid for binning:\n",
    "#rho_grid=np.arange(35.5,37.4,0.1) # for sigma-2\n",
    "rho_grid=np.arange(24.4,29.1,0.1) # for sigma-0\n",
    "len_rho_grid=len(rho_grid)\n",
    "\n",
    "dx = np.divide(1,pm)\n",
    "dy = np.divide(1,pn)\n",
    "dt = 86400#30#/12 #why divide by 12?\n",
    "\n",
    "def wmt(var_int, dx, dy,var_type):\n",
    "    # var_type: 'budget' or 'sfc_frc'\n",
    "\n",
    "    F_rate_var_vint = np.empty(var_int.shape)\n",
    "\n",
    "    for mm in np.arange(0,12):\n",
    "        if var_type == 'budget':\n",
    "            F_rate_var_vint[mm,:] = dx*dy*var_int.isel(times=mm)\n",
    "        elif var_type == 'sfc_frc':\n",
    "            F_rate_var_vint[mm,:] = dx*dy*var_int[mm,:,:]\n",
    "\n",
    "    print(F_rate_var_vint.shape)\n",
    "\n",
    "    F_rate_delta_var_vint_mm = np.empty((12,len_rho_grid,560,630))\n",
    "\n",
    "    for mm in np.arange(0,12):\n",
    "        sigma_tmp = sigma_t[mm,:,:]\n",
    "\n",
    "        #print(mm)\n",
    "        for irho in np.arange(0,len_rho_grid):\n",
    "\n",
    "            #print(irho)\n",
    "            F_rate_tmp = ma.masked_where(np.logical_or(sigma_tmp <= (rho_grid[irho]-(0.1/2)),sigma_tmp > (rho_grid[irho]+(0.1/2))), F_rate_var_vint[mm,:,:])\n",
    "\n",
    "            if irho == 0:\n",
    "                F_rate_delta = F_rate_tmp.copy()\n",
    "                F_rate_delta[np.logical_or(sigma_tmp <= (rho_grid[irho]-(0.1/2)),sigma_tmp > (rho_grid[irho]+(0.1/2)))] = np.nan\n",
    "            elif irho == 1:\n",
    "                F_rate_tmp[np.logical_or(sigma_tmp <= (rho_grid[irho]-(0.1/2)),sigma_tmp > (rho_grid[irho]+(0.1/2)))] = np.nan\n",
    "                F_rate_delta = np.stack((F_rate_delta,F_rate_tmp), axis=0)\n",
    "            else:\n",
    "                F_rate_tmp[np.logical_or(sigma_tmp <= (rho_grid[irho]-(0.1/2)),sigma_tmp > (rho_grid[irho]+(0.1/2)))] = np.nan\n",
    "                F_rate_extradim = np.expand_dims(F_rate_tmp, axis=0)\n",
    "                F_rate_delta = np.concatenate((F_rate_delta,F_rate_extradim), axis=0)\n",
    "            del F_rate_tmp\n",
    "\n",
    "        F_rate_delta_var_vint_mm[mm,:] = F_rate_delta\n",
    "\n",
    "    print('completed, size: ', F_rate_delta_var_vint_mm.shape)\n",
    "\n",
    "    return F_rate_delta_var_vint_mm"
   ]
  },
  {
   "cell_type": "code",
   "execution_count": 6,
   "id": "04c08cc2",
   "metadata": {},
   "outputs": [],
   "source": [
    "# shelf/open-ocean masks:\n",
    "mask_open = ma.masked_where(dg.h <= 2000, np.ones(dg.h.shape))\n",
    "mask_shelf = ma.masked_where(dg.h > 2000, np.ones(dg.h.shape))\n",
    "\n",
    "\n",
    "proj = ccrs.SouthPolarStereo()\n",
    "\n",
    "# fig = plt.figure(figsize=(10,12))\n",
    "# ax1 = fig.add_subplot(321)\n",
    "# cy=plt.pcolormesh(mask_shelf)\n",
    "# plt.colorbar(cy)\n",
    "# plt.clim(0.,1.)\n",
    "# ax2 = fig.add_subplot(322)\n",
    "# cy=plt.pcolormesh(mask_zice)\n",
    "# plt.colorbar(cy)\n",
    "# plt.clim(0.,1.)\n",
    "# ax3 = fig.add_subplot(323, projection=proj)\n",
    "# cy=plt.pcolormesh(lon_rho, lat_rho, dg.h, transform=ccrs.PlateCarree())\n",
    "# plt.colorbar(cy)\n",
    "# #plt.clim(0.,1.)\n",
    "# ax4 = fig.add_subplot(324)\n",
    "# cy=plt.pcolormesh(lon_rho)\n",
    "# plt.colorbar(cy)\n",
    "# ax5 = fig.add_subplot(325)\n",
    "# cy=plt.pcolormesh(lat_rho)\n",
    "# plt.colorbar(cy)\n",
    "# plt.show()\n"
   ]
  },
  {
   "cell_type": "code",
   "execution_count": 7,
   "id": "1a87cc45",
   "metadata": {},
   "outputs": [],
   "source": [
    "# create mask per longitude: Weddell, Maud Land, East Antarctica, Ross, West Antarctica\n",
    "import matplotlib.path as mpath\n",
    "import cartopy.feature as cfeature\n",
    "\n",
    "# 5) Mask West Antarctica (150W : 90W, lat < -65)\n",
    "\n",
    "mask_WAnt1 = ma.masked_where(lon_rho < -150, np.ones(lon_rho.shape)) # West limit for any latitude\n",
    "\n",
    "mask_WAnt2lon = ma.masked_where(lon_rho > -90, np.ones(lon_rho.shape)) # East limit for lat <-73\n",
    "mask_WAnt2lat = ma.masked_where(lat_rho > -75, np.ones(lat_rho.shape))\n",
    "mask_WAnt2 = mask_WAnt2lon*mask_WAnt2lat\n",
    "\n",
    "mask_WAnt3lon = ma.masked_where(lon_rho > -65, np.ones(lon_rho.shape)) # East limit for lat >-73\n",
    "mask_WAnt3lat = ma.masked_where(lat_rho <= -75, np.ones(lat_rho.shape))\n",
    "mask_WAnt3 = mask_WAnt3lon*mask_WAnt3lat\n",
    "\n",
    "mask_WAnt23 = np.ma.array(mask_WAnt2.filled(1) * mask_WAnt3.filled(1), mask=(mask_WAnt2.mask * mask_WAnt3.mask))\n",
    "\n",
    "mask_WAnt = mask_WAnt1*mask_WAnt23\n"
   ]
  },
  {
   "cell_type": "code",
   "execution_count": 8,
   "id": "2291bf15",
   "metadata": {},
   "outputs": [
    {
     "name": "stdout",
     "output_type": "stream",
     "text": [
      "(12, 560, 630)\n",
      "completed, size:  (12, 48, 560, 630)\n",
      "(12, 560, 630)\n",
      "completed, size:  (12, 48, 560, 630)\n",
      "(12, 560, 630)\n",
      "completed, size:  (12, 48, 560, 630)\n",
      "(12, 560, 630)\n",
      "completed, size:  (12, 48, 560, 630)\n",
      "(12, 560, 630)\n",
      "completed, size:  (12, 48, 560, 630)\n",
      "(12, 560, 630)\n",
      "completed, size:  (12, 48, 560, 630)\n",
      "(12, 560, 630)\n",
      "completed, size:  (12, 48, 560, 630)\n",
      "(12, 560, 630)\n",
      "completed, size:  (12, 48, 560, 630)\n",
      "(12, 560, 630)\n",
      "completed, size:  (12, 48, 560, 630)\n"
     ]
    }
   ],
   "source": [
    "# Shelf only: West Antarctica\n",
    "\n",
    "Fs_rate_delta_adv_vint_shelf_WAnt_mm = wmt(salt_adv_mld_vint*mask_shelf*mask_WAnt*mask_WAnt, dx, dy,'budget')\n",
    "Fs_rate_delta_diff_vint_shelf_WAnt_mm = wmt(R_s_vint*mask_shelf*mask_WAnt, dx, dy,'budget')\n",
    "Fs_rate_delta_net_vint_shelf_WAnt_mm = wmt(salt_net_mld_vint*mask_shelf*mask_WAnt, dx, dy,'budget')\n",
    "Fs_rate_delta_sfc_shelf_WAnt_mm = wmt(salt_sfc*mask_shelf*mask_WAnt, dx, dy,'sfc_frc')\n",
    "\n",
    "Fh_rate_delta_adv_vint_shelf_WAnt_mm = wmt(temp_adv_mld_vint*mask_shelf*mask_WAnt, dx, dy,'budget')\n",
    "Fh_rate_delta_diff_vint_shelf_WAnt_mm = wmt(R_t_vint*mask_shelf*mask_WAnt, dx, dy,'budget')\n",
    "Fh_rate_delta_net_vint_shelf_WAnt_mm = wmt(temp_net_mld_vint*mask_shelf*mask_WAnt, dx, dy,'budget')\n",
    "Fh_rate_delta_sfc_shelf_WAnt_mm = wmt(temp_sfc*mask_shelf*mask_WAnt, dx, dy,'sfc_frc')\n",
    "\n",
    "Fm_rate_delta_sfc_shelf_WAnt_mm = wmt(beta_mld*m*mask_shelf*mask_WAnt, dx, dy,'sfc_frc')\n"
   ]
  },
  {
   "cell_type": "code",
   "execution_count": 9,
   "id": "90290cc4",
   "metadata": {},
   "outputs": [],
   "source": [
    "# integrated over x, y directions: only continental shelf\n",
    "\n",
    "Fs_rate_sfc_shelf_WAnt_mm_int = np.empty((len(rho_grid),12))\n",
    "Fm_rate_sfc_shelf_WAnt_mm_int = np.empty((len(rho_grid),12))\n",
    "Fh_rate_sfc_shelf_WAnt_mm_int = np.empty((len(rho_grid),12))\n",
    "\n",
    "Fs_rate_adv_vint_shelf_WAnt_mm_int = np.empty((len(rho_grid),12))\n",
    "Fh_rate_adv_vint_shelf_WAnt_mm_int = np.empty((len(rho_grid),12))\n",
    "Fs_rate_diff_vint_shelf_WAnt_mm_int = np.empty((len(rho_grid),12))\n",
    "Fh_rate_diff_vint_shelf_WAnt_mm_int = np.empty((len(rho_grid),12))\n",
    "Fs_rate_net_vint_shelf_WAnt_mm_int = np.empty((len(rho_grid),12))\n",
    "Fh_rate_net_vint_shelf_WAnt_mm_int = np.empty((len(rho_grid),12))\n",
    "\n",
    "\n",
    "for irho in np.arange(0,len(rho_grid)):\n",
    "    for mm in np.arange(0,12):\n",
    "\n",
    "        Fs_rate_sfc_shelf_WAnt_mm_int[irho,mm] = np.nansum(np.nansum(Fs_rate_delta_sfc_shelf_WAnt_mm[mm,irho,:], axis=1), axis=0)\n",
    "        Fm_rate_sfc_shelf_WAnt_mm_int[irho,mm] = np.nansum(np.nansum(Fm_rate_delta_sfc_shelf_WAnt_mm[mm,irho,:], axis=1), axis=0)\n",
    "        Fh_rate_sfc_shelf_WAnt_mm_int[irho,mm] = np.nansum(np.nansum(Fh_rate_delta_sfc_shelf_WAnt_mm[mm,irho,:], axis=1), axis=0)\n",
    "\n",
    "        Fs_rate_adv_vint_shelf_WAnt_mm_int[irho,mm] = np.nansum(np.nansum(Fs_rate_delta_adv_vint_shelf_WAnt_mm[mm,irho,:], axis=1), axis=0)\n",
    "        Fh_rate_adv_vint_shelf_WAnt_mm_int[irho,mm] = np.nansum(np.nansum(Fh_rate_delta_adv_vint_shelf_WAnt_mm[mm,irho,:], axis=1), axis=0)\n",
    "\n",
    "        Fs_rate_diff_vint_shelf_WAnt_mm_int[irho,mm] = np.nansum(np.nansum(Fs_rate_delta_diff_vint_shelf_WAnt_mm[mm,irho,:], axis=1), axis=0)\n",
    "        Fh_rate_diff_vint_shelf_WAnt_mm_int[irho,mm] = np.nansum(np.nansum(Fh_rate_delta_diff_vint_shelf_WAnt_mm[mm,irho,:], axis=1), axis=0)\n",
    "\n",
    "        Fs_rate_net_vint_shelf_WAnt_mm_int[irho,mm] = np.nansum(np.nansum(Fs_rate_delta_net_vint_shelf_WAnt_mm[mm,irho,:], axis=1), axis=0)\n",
    "        Fh_rate_net_vint_shelf_WAnt_mm_int[irho,mm] = np.nansum(np.nansum(Fh_rate_delta_net_vint_shelf_WAnt_mm[mm,irho,:], axis=1), axis=0)"
   ]
  },
  {
   "cell_type": "code",
   "execution_count": 10,
   "id": "e6769668",
   "metadata": {},
   "outputs": [],
   "source": [
    "# figures\n",
    "fig_path = '/users/boeiradi/COLD_project/postprocessing/figs/WMT/'\n",
    "\n",
    "# plot with bars\n",
    "width=.023\n",
    "\n",
    "# convert to rate per year:\n",
    "Dt = rho0\n",
    "\n",
    "# divide for Dt (sec in 1 year) and 10^6 to obtain rate in Sv year-1\n",
    "\n",
    "# SFC: continental shelf\n",
    "Fs_sig_sfc_shelf_WAnt_mm = -Fs_rate_sfc_shelf_WAnt_mm_int*rho0/1e6\n",
    "Fm_sig_sfc_shelf_WAnt_mm = -Fm_rate_sfc_shelf_WAnt_mm_int*rho0/1e6\n",
    "Fh_sig_sfc_shelf_WAnt_mm = -Fh_rate_sfc_shelf_WAnt_mm_int*rho0/1e6\n",
    "F_sig_sfc_shelf_WAnt_mm = -Fs_sig_sfc_shelf_WAnt_mm + Fh_sig_sfc_shelf_WAnt_mm + Fm_sig_sfc_shelf_WAnt_mm\n",
    "# - calculate the anual average of the monthly ars:\n",
    "Fs_sig_sfc_shelf_WAnt =  np.nanmean(Fs_sig_sfc_shelf_WAnt_mm, axis=1)\n",
    "Fm_sig_sfc_shelf_WAnt =  np.nanmean(Fm_sig_sfc_shelf_WAnt_mm, axis=1)\n",
    "Fh_sig_sfc_shelf_WAnt =  np.nanmean(Fh_sig_sfc_shelf_WAnt_mm, axis=1)\n",
    "F_sig_sfc_shelf_WAnt = -Fs_sig_sfc_shelf_WAnt+ Fh_sig_sfc_shelf_WAnt+ Fm_sig_sfc_shelf_WAnt\n",
    "\n",
    "# ADV (vint)\n",
    "Fs_sig_adv_vint_shelf_WAnt_mm = -Fs_rate_adv_vint_shelf_WAnt_mm_int*rho0/1e6\n",
    "Fh_sig_adv_vint_shelf_WAnt_mm = -Fh_rate_adv_vint_shelf_WAnt_mm_int*rho0/1e6\n",
    "F_sig_adv_vint_shelf_WAnt_mm = -Fs_sig_adv_vint_shelf_WAnt_mm + Fh_sig_adv_vint_shelf_WAnt_mm\n",
    "# - calculate the anual average of the monthly ars:\n",
    "Fs_sig_adv_vint_shelf_WAnt =  np.nanmean(Fs_sig_adv_vint_shelf_WAnt_mm, axis=1)\n",
    "Fh_sig_adv_vint_shelf_WAnt =  np.nanmean(Fh_sig_adv_vint_shelf_WAnt_mm, axis=1)\n",
    "F_sig_adv_vint_shelf_WAnt = -Fs_sig_adv_vint_shelf_WAnt+ Fh_sig_adv_vint_shelf_WAnt\n",
    "\n",
    "# DIFF\n",
    "Fs_sig_diff_vint_shelf_WAnt_mm = -Fs_rate_diff_vint_shelf_WAnt_mm_int*rho0/1e6\n",
    "Fh_sig_diff_vint_shelf_WAnt_mm = -Fh_rate_diff_vint_shelf_WAnt_mm_int*rho0/1e6\n",
    "F_sig_diff_vint_shelf_WAnt_mm = -Fs_sig_diff_vint_shelf_WAnt_mm + Fh_sig_diff_vint_shelf_WAnt_mm\n",
    "# - calculate the anual average of the monthly ars:\n",
    "Fs_sig_diff_vint_shelf_WAnt =  np.nanmean(Fs_sig_diff_vint_shelf_WAnt_mm, axis=1)\n",
    "Fh_sig_diff_vint_shelf_WAnt =  np.nanmean(Fh_sig_diff_vint_shelf_WAnt_mm, axis=1)\n",
    "F_sig_diff_vin_shelf_WAnt = -Fs_sig_diff_vint_shelf_WAnt+ Fh_sig_diff_vint_shelf_WAnt\n",
    "\n",
    "# NET\n",
    "Fs_sig_net_vint_shelf_WAnt_mm = -Fs_rate_net_vint_shelf_WAnt_mm_int*rho0/1e6\n",
    "Fh_sig_net_vint_shelf_WAnt_mm = -Fh_rate_net_vint_shelf_WAnt_mm_int*rho0/1e6\n",
    "F_sig_net_vint_shelf_WAnt_mm = -Fs_sig_net_vint_shelf_WAnt_mm + Fh_sig_net_vint_shelf_WAnt_mm\n",
    "# - calculate the anual average of the monthly ars:\n",
    "Fs_sig_net_vint_shelf_WAnt =  np.nanmean(Fs_sig_net_vint_shelf_WAnt_mm, axis=1)\n",
    "Fh_sig_net_vint_shelf_WAnt =  np.nanmean(Fh_sig_net_vint_shelf_WAnt_mm, axis=1)\n",
    "F_sig_net_vint_shelf_WAnt = -Fs_sig_net_vint_shelf_WAnt+ Fh_sig_net_vint_shelf_WAnt"
   ]
  },
  {
   "cell_type": "code",
   "execution_count": 15,
   "id": "a0633b50",
   "metadata": {},
   "outputs": [
    {
     "data": {
      "image/png": "[encoded data removed]",
      "text/plain": [
       "<Figure size 1600x1000 with 4 Axes>"
      ]
     },
     "metadata": {},
     "output_type": "display_data"
    }
   ],
   "source": [
    "fig = plt.figure(figsize=(16,10))\n",
    "ax1 = fig.add_subplot(222)\n",
    "plt.title('Salt budget')\n",
    "cs=plt.plot(rho_grid,-Fs_sig_net_vint_shelf_WAnt,'b',label='WMT due to salt tend')\n",
    "cs=plt.plot(rho_grid,-Fs_sig_diff_vint_shelf_WAnt,'--b',label='WMT due to salt diff')\n",
    "cs=plt.plot(rho_grid,-Fs_sig_adv_vint_shelf_WAnt,':b',label='WMT due to salt adv')\n",
    "plt.legend()\n",
    "plt.ylabel('Transformation rate (Sv)')\n",
    "plt.xlim(26.5,28),plt.ylim(-.5,.5)\n",
    "plt.grid(True)\n",
    "plt.text(26.6,.15,'Buoyancy loss')\n",
    "plt.text(26.6,-.15,'Buoyancy gain')\n",
    "ax1 = fig.add_subplot(223)\n",
    "plt.title('Heat budget')\n",
    "ch=plt.plot(rho_grid,Fh_sig_net_vint_shelf_WAnt,'r',label='WMT due to heat tend')\n",
    "ch=plt.plot(rho_grid,Fh_sig_diff_vint_shelf_WAnt,'--r',label='WMT due to heat diff')\n",
    "ch=plt.plot(rho_grid,Fh_sig_adv_vint_shelf_WAnt,':r',label='WMT due to heat adv')\n",
    "plt.legend()\n",
    "plt.ylabel('Transformation rate (Sv)')\n",
    "plt.xlim(26.5,28),plt.ylim(-.5,.5)\n",
    "plt.grid(True)\n",
    "\n",
    "ax2 = fig.add_subplot(221)\n",
    "plt.title('Surface fluxes')\n",
    "cs=plt.plot(rho_grid,-Fs_sig_sfc_shelf_WAnt,'b',label='WMT due to salt sfc')\n",
    "cf=plt.plot(rho_grid,Fm_sig_sfc_shelf_WAnt,'-g',label='WMT due to sfc ice melt')\n",
    "ch=plt.plot(rho_grid,Fh_sig_sfc_shelf_WAnt,'r',label='WMT due to heat sfc')\n",
    "ct=plt.plot(rho_grid,F_sig_sfc_shelf_WAnt,'k',label='WMT due to total sfc')\n",
    "plt.legend()\n",
    "plt.ylabel('Transformation rate (Sv)')\n",
    "plt.xlim(26.5,28),plt.ylim(-.5,.5)\n",
    "plt.grid(True)\n",
    "\n",
    "ax2 = fig.add_subplot(224)\n",
    "plt.title('Net tendencies')\n",
    "cs=plt.plot(rho_grid,-Fs_sig_net_vint_shelf_WAnt,'-b',label='WMT tendency due to salt sfc')\n",
    "ch=plt.plot(rho_grid,Fh_sig_net_vint_shelf_WAnt,'-r',label='WMT tendency due to heat sfc')\n",
    "ct=plt.plot(rho_grid,Fh_sig_net_vint_shelf_WAnt-Fs_sig_net_vint_shelf_WAnt,'k',label='WMT tendency total')\n",
    "plt.legend()\n",
    "plt.ylabel('Transformation rate (Sv)')\n",
    "plt.xlim(26.5,28),plt.ylim(-.5,.5)\n",
    "plt.grid(True)\n",
    "plt.title('Total tendencies')\n",
    "\n",
    "name_fig=\"waom10extend_shflim_S_0.25Q_WMT_heat-salt_vint_annual_shelf_WAnt.png\"\n",
    "plt.savefig(fig_path + name_fig, dpi=300)\n",
    "\n",
    "plt.show()"
   ]
  },
  {
   "cell_type": "code",
   "execution_count": null,
   "id": "6c585e57",
   "metadata": {},
   "outputs": [],
   "source": []
  }
 ],
 "metadata": {
  "kernelspec": {
   "display_name": "Python 3",
   "language": "python",
   "name": "python3"
  },
  "language_info": {
   "codemirror_mode": {
    "name": "ipython",
    "version": 3
   },
   "file_extension": ".py",
   "mimetype": "text/x-python",
   "name": "python",
   "nbconvert_exporter": "python",
   "pygments_lexer": "ipython3",
   "version": "3.7.9"
  }
 },
 "nbformat": 4,
 "nbformat_minor": 5
}
