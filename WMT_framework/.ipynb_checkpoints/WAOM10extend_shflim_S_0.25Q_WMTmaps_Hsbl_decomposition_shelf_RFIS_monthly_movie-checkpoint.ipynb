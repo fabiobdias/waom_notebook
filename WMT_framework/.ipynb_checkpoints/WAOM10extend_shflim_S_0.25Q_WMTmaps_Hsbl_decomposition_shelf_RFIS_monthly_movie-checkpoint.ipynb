{
 "cells": [
  {
   "cell_type": "code",
   "execution_count": 1,
   "id": "3b001076",
   "metadata": {},
   "outputs": [],
   "source": [
    "# read nc output from WAOM 10km run\n",
    "\n",
    "import xarray as xr\n",
    "import pandas as p\n",
    "import numpy as np\n",
    "import numpy.ma as ma\n",
    "import cartopy.crs as ccrs\n",
    "import matplotlib as mpl\n",
    "#mpl.use('Agg')\n",
    "import matplotlib.pyplot as plt\n",
    "import matplotlib.dates as dates\n",
    "from matplotlib.ticker import NullFormatter\n",
    "from matplotlib.colors import LinearSegmentedColormap   # for custom colormaps\n",
    "\n",
    "from datetime import datetime, timedelta\n",
    "\n",
    "from netCDF4 import Dataset\n",
    "from netCDF4 import num2date, date2num\n",
    "from matplotlib.ticker import NullFormatter\n",
    "from matplotlib.colors import LinearSegmentedColormap   # for custom colormaps\n",
    "\n",
    "#import iris\n",
    "#import iris.iterate\n",
    "#import iris.coords\n",
    "#import iris.plot as iplt\n",
    "import gsw\n",
    "\n",
    "from xmovie import Movie\n",
    "import cartopy.feature as cfeature"
   ]
  },
  {
   "cell_type": "code",
   "execution_count": null,
   "id": "aec4ace4",
   "metadata": {},
   "outputs": [
    {
     "name": "stdout",
     "output_type": "stream",
     "text": [
      "(7, 31, 560, 630)\n"
     ]
    },
    {
     "name": "stderr",
     "output_type": "stream",
     "text": [
      "/scratch/project_2000339/boeiradi/anaconda3/lib/python3.7/site-packages/ipykernel_launcher.py:5: RuntimeWarning: Mean of empty slice\n",
      "  \"\"\"\n",
      "/scratch/project_2000339/boeiradi/anaconda3/lib/python3.7/site-packages/ipykernel_launcher.py:6: RuntimeWarning: Mean of empty slice\n",
      "  \n",
      "/scratch/project_2000339/boeiradi/anaconda3/lib/python3.7/site-packages/ipykernel_launcher.py:7: RuntimeWarning: Mean of empty slice\n",
      "  import sys\n",
      "/scratch/project_2000339/boeiradi/anaconda3/lib/python3.7/site-packages/ipykernel_launcher.py:8: RuntimeWarning: Mean of empty slice\n",
      "  \n",
      "/scratch/project_2000339/boeiradi/anaconda3/lib/python3.7/site-packages/ipykernel_launcher.py:9: RuntimeWarning: Mean of empty slice\n",
      "  if __name__ == '__main__':\n"
     ]
    },
    {
     "name": "stdout",
     "output_type": "stream",
     "text": [
      "Vtransform=2\n"
     ]
    },
    {
     "name": "stderr",
     "output_type": "stream",
     "text": [
      "/scratch/project_2000339/boeiradi/anaconda3/lib/python3.7/site-packages/ipykernel_launcher.py:23: RuntimeWarning: Mean of empty slice\n",
      "/scratch/project_2000339/boeiradi/anaconda3/lib/python3.7/site-packages/ipykernel_launcher.py:24: RuntimeWarning: Mean of empty slice\n"
     ]
    },
    {
     "name": "stdout",
     "output_type": "stream",
     "text": [
      "(6, 31, 560, 630)\n"
     ]
    },
    {
     "name": "stderr",
     "output_type": "stream",
     "text": [
      "/scratch/project_2000339/boeiradi/anaconda3/lib/python3.7/site-packages/ipykernel_launcher.py:5: RuntimeWarning: Mean of empty slice\n",
      "  \"\"\"\n",
      "/scratch/project_2000339/boeiradi/anaconda3/lib/python3.7/site-packages/ipykernel_launcher.py:6: RuntimeWarning: Mean of empty slice\n",
      "  \n",
      "/scratch/project_2000339/boeiradi/anaconda3/lib/python3.7/site-packages/ipykernel_launcher.py:7: RuntimeWarning: Mean of empty slice\n",
      "  import sys\n",
      "/scratch/project_2000339/boeiradi/anaconda3/lib/python3.7/site-packages/ipykernel_launcher.py:8: RuntimeWarning: Mean of empty slice\n",
      "  \n",
      "/scratch/project_2000339/boeiradi/anaconda3/lib/python3.7/site-packages/ipykernel_launcher.py:9: RuntimeWarning: Mean of empty slice\n",
      "  if __name__ == '__main__':\n"
     ]
    },
    {
     "name": "stdout",
     "output_type": "stream",
     "text": [
      "Vtransform=2\n"
     ]
    },
    {
     "name": "stderr",
     "output_type": "stream",
     "text": [
      "/scratch/project_2000339/boeiradi/anaconda3/lib/python3.7/site-packages/ipykernel_launcher.py:23: RuntimeWarning: Mean of empty slice\n",
      "/scratch/project_2000339/boeiradi/anaconda3/lib/python3.7/site-packages/ipykernel_launcher.py:24: RuntimeWarning: Mean of empty slice\n"
     ]
    },
    {
     "name": "stdout",
     "output_type": "stream",
     "text": [
      "(6, 31, 560, 630)\n"
     ]
    },
    {
     "name": "stderr",
     "output_type": "stream",
     "text": [
      "/scratch/project_2000339/boeiradi/anaconda3/lib/python3.7/site-packages/ipykernel_launcher.py:5: RuntimeWarning: Mean of empty slice\n",
      "  \"\"\"\n",
      "/scratch/project_2000339/boeiradi/anaconda3/lib/python3.7/site-packages/ipykernel_launcher.py:6: RuntimeWarning: Mean of empty slice\n",
      "  \n",
      "/scratch/project_2000339/boeiradi/anaconda3/lib/python3.7/site-packages/ipykernel_launcher.py:7: RuntimeWarning: Mean of empty slice\n",
      "  import sys\n",
      "/scratch/project_2000339/boeiradi/anaconda3/lib/python3.7/site-packages/ipykernel_launcher.py:8: RuntimeWarning: Mean of empty slice\n",
      "  \n",
      "/scratch/project_2000339/boeiradi/anaconda3/lib/python3.7/site-packages/ipykernel_launcher.py:9: RuntimeWarning: Mean of empty slice\n",
      "  if __name__ == '__main__':\n"
     ]
    },
    {
     "name": "stdout",
     "output_type": "stream",
     "text": [
      "Vtransform=2\n"
     ]
    },
    {
     "name": "stderr",
     "output_type": "stream",
     "text": [
      "/scratch/project_2000339/boeiradi/anaconda3/lib/python3.7/site-packages/ipykernel_launcher.py:23: RuntimeWarning: Mean of empty slice\n",
      "/scratch/project_2000339/boeiradi/anaconda3/lib/python3.7/site-packages/ipykernel_launcher.py:24: RuntimeWarning: Mean of empty slice\n"
     ]
    },
    {
     "name": "stdout",
     "output_type": "stream",
     "text": [
      "(6, 31, 560, 630)\n"
     ]
    },
    {
     "name": "stderr",
     "output_type": "stream",
     "text": [
      "/scratch/project_2000339/boeiradi/anaconda3/lib/python3.7/site-packages/ipykernel_launcher.py:5: RuntimeWarning: Mean of empty slice\n",
      "  \"\"\"\n",
      "/scratch/project_2000339/boeiradi/anaconda3/lib/python3.7/site-packages/ipykernel_launcher.py:6: RuntimeWarning: Mean of empty slice\n",
      "  \n",
      "/scratch/project_2000339/boeiradi/anaconda3/lib/python3.7/site-packages/ipykernel_launcher.py:7: RuntimeWarning: Mean of empty slice\n",
      "  import sys\n",
      "/scratch/project_2000339/boeiradi/anaconda3/lib/python3.7/site-packages/ipykernel_launcher.py:8: RuntimeWarning: Mean of empty slice\n",
      "  \n",
      "/scratch/project_2000339/boeiradi/anaconda3/lib/python3.7/site-packages/ipykernel_launcher.py:9: RuntimeWarning: Mean of empty slice\n",
      "  if __name__ == '__main__':\n"
     ]
    },
    {
     "name": "stdout",
     "output_type": "stream",
     "text": [
      "Vtransform=2\n"
     ]
    },
    {
     "name": "stderr",
     "output_type": "stream",
     "text": [
      "/scratch/project_2000339/boeiradi/anaconda3/lib/python3.7/site-packages/ipykernel_launcher.py:23: RuntimeWarning: Mean of empty slice\n",
      "/scratch/project_2000339/boeiradi/anaconda3/lib/python3.7/site-packages/ipykernel_launcher.py:24: RuntimeWarning: Mean of empty slice\n"
     ]
    },
    {
     "name": "stdout",
     "output_type": "stream",
     "text": [
      "(6, 31, 560, 630)\n"
     ]
    },
    {
     "name": "stderr",
     "output_type": "stream",
     "text": [
      "/scratch/project_2000339/boeiradi/anaconda3/lib/python3.7/site-packages/ipykernel_launcher.py:5: RuntimeWarning: Mean of empty slice\n",
      "  \"\"\"\n",
      "/scratch/project_2000339/boeiradi/anaconda3/lib/python3.7/site-packages/ipykernel_launcher.py:6: RuntimeWarning: Mean of empty slice\n",
      "  \n",
      "/scratch/project_2000339/boeiradi/anaconda3/lib/python3.7/site-packages/ipykernel_launcher.py:7: RuntimeWarning: Mean of empty slice\n",
      "  import sys\n",
      "/scratch/project_2000339/boeiradi/anaconda3/lib/python3.7/site-packages/ipykernel_launcher.py:8: RuntimeWarning: Mean of empty slice\n",
      "  \n",
      "/scratch/project_2000339/boeiradi/anaconda3/lib/python3.7/site-packages/ipykernel_launcher.py:9: RuntimeWarning: Mean of empty slice\n",
      "  if __name__ == '__main__':\n"
     ]
    },
    {
     "name": "stdout",
     "output_type": "stream",
     "text": [
      "Vtransform=2\n"
     ]
    },
    {
     "name": "stderr",
     "output_type": "stream",
     "text": [
      "/scratch/project_2000339/boeiradi/anaconda3/lib/python3.7/site-packages/ipykernel_launcher.py:23: RuntimeWarning: Mean of empty slice\n",
      "/scratch/project_2000339/boeiradi/anaconda3/lib/python3.7/site-packages/ipykernel_launcher.py:24: RuntimeWarning: Mean of empty slice\n"
     ]
    },
    {
     "name": "stdout",
     "output_type": "stream",
     "text": [
      "(6, 31, 560, 630)\n"
     ]
    }
   ],
   "source": [
    "# load ROMS avg output\n",
    "for mm  in ['01','02','03','04','05','06','07','08','09','10','11','12']:\n",
    "    ds = xr.open_dataset('/scratch/project_2000789/boeiradi/waom10extend_shflim_S_0.25Q/output_20yr_diag/ocean_avg_00' + mm + '.nc')\n",
    "    print(ds.variables[\"temp\"].shape)\n",
    "    temp_tmp = np.nanmean(ds.variables[\"temp\"], axis=0)\n",
    "    salt_tmp = np.nanmean(ds.variables[\"salt\"], axis=0)\n",
    "    shflux_tmp = np.nanmean(ds.variables[\"shflux\"], axis=0)\n",
    "    ssflux_tmp = np.nanmean(ds.variables[\"ssflux\"], axis=0)\n",
    "    m_tmp = np.nanmean(ds.variables[\"m\"], axis=0)\n",
    "\n",
    "    ds = ds.set_coords(['Cs_r', 'Cs_w', 'hc', 'h', 'Vtransform'])\n",
    "    if ds.Vtransform == 1:\n",
    "        Zo_rho = ds.hc * (ds.s_rho - ds.Cs_r) + ds.Cs_r * ds.h\n",
    "        z_rho_tmp = Zo_rho + ds.zeta * (1 + Zo_rho/ds.h)\n",
    "        print(\"Vtransform=1\")\n",
    "    elif ds.Vtransform == 2:\n",
    "        Zo_rho = (ds.hc * ds.s_rho + ds.Cs_r * ds.h) / (ds.hc + ds.h)\n",
    "        z_rho_tmp = ds.zeta + (ds.zeta + ds.h) * Zo_rho + ds.zice\n",
    "        print(\"Vtransform=2\")\n",
    "        Zo_w = (ds.hc * ds.s_w + ds.Cs_w * ds.h) / (ds.hc + ds.h)\n",
    "        z_w_tmp = ds.zeta + (ds.zeta + ds.h) * Zo_w + ds.zice\n",
    "\n",
    "    z_rho_avg = np.nanmean(z_rho_tmp, axis=0)\n",
    "    z_w_avg = np.nanmean(z_w_tmp,axis=0)\n",
    "\n",
    "    # concatanate monthly avgs into a yearly variable\n",
    "    if mm == '01':\n",
    "        temp = temp_tmp\n",
    "        salt = salt_tmp\n",
    "        shflux = shflux_tmp\n",
    "        ssflux = ssflux_tmp\n",
    "        m = m_tmp\n",
    "        z_rho = z_rho_avg\n",
    "        z_w = z_w_avg\n",
    "    elif mm == '02':\n",
    "        temp = np.stack((temp,temp_tmp), axis=0)\n",
    "        salt = np.stack((salt,salt_tmp), axis=0)\n",
    "        shflux = np.stack((shflux,shflux_tmp), axis=0)\n",
    "        ssflux = np.stack((ssflux,ssflux_tmp), axis=0)\n",
    "        m = np.stack((m,m_tmp), axis=0)\n",
    "        z_rho = np.stack((z_rho,z_rho_avg), axis=0)\n",
    "        z_w = np.stack((z_w,z_w_avg), axis=0)\n",
    "    else:\n",
    "        temp_tmp_4thdim = np.expand_dims(temp_tmp, axis=0)\n",
    "        temp = np.concatenate((temp,temp_tmp_4thdim), axis=0)\n",
    "        salt_tmp_4thdim = np.expand_dims(salt_tmp, axis=0)\n",
    "        salt = np.concatenate((salt,salt_tmp_4thdim), axis=0)\n",
    "        shflux_tmp_4thdim = np.expand_dims(shflux_tmp, axis=0)\n",
    "        shflux = np.concatenate((shflux,shflux_tmp_4thdim), axis=0)\n",
    "        ssflux_tmp_4thdim = np.expand_dims(ssflux_tmp, axis=0)\n",
    "        ssflux = np.concatenate((ssflux,ssflux_tmp_4thdim), axis=0)\n",
    "        m_tmp_4thdim = np.expand_dims(m_tmp, axis=0)\n",
    "        m = np.concatenate((m,m_tmp_4thdim), axis=0)\n",
    "        z_rho_tmp_4thdim = np.expand_dims(z_rho_avg, axis=0)\n",
    "        z_rho = np.concatenate((z_rho,z_rho_tmp_4thdim), axis=0)\n",
    "        z_w_tmp_4thdim = np.expand_dims(z_w_avg, axis=0)\n",
    "        z_w = np.concatenate((z_w,z_w_tmp_4thdim), axis=0)\n",
    "#ds.coords['flux'] = flux#.transpose() # put flux into ds dataset\n",
    "\n",
    "    ds.close()\n",
    "\n",
    "sigma_t_sfc = gsw.rho(salt[:,-1,:,:],temp[:,-1,:,:],0) - 1000"
   ]
  },
  {
   "cell_type": "code",
   "execution_count": null,
   "id": "71a075ac",
   "metadata": {},
   "outputs": [],
   "source": [
    "di = xr.open_dataset('/scratch/project_2000789/boeiradi/waom10extend_shflim_S_0.25Q/output_20yr_diag/ocean_avg_0001.nc')\n",
    "ice_draft = di.variables[\"zice\"]\n",
    "h = di.variables[\"h\"]\n",
    "\n",
    "mask_zice = ma.masked_where(ice_draft < 0, np.ones(ice_draft.shape))\n",
    "\n",
    "di.close()\n",
    "\n",
    "# calculate dz following:\n",
    "dz = np.empty((12,560,630,31))\n",
    "dz_inv = np.empty((12,560,630,31))\n",
    "\n",
    "\n",
    "for tt in np.arange(0,12):\n",
    "    z_w_sorted = -1*z_w[tt,:,:,::-1]\n",
    "    print(z_w_sorted.shape)\n",
    "    dz_inv[tt,:,:,:] = np.diff(z_w_sorted,axis=2)\n",
    "    dz[tt,:,:,:] = dz_inv[tt,:,:,::-1]\n",
    "\n",
    "dg = xr.open_dataset(\"/scratch/project_2000789/boeiradi/waom10_frc/waom10extend_grd.nc\")\n",
    "\n",
    "lat_rho = dg.variables[\"lat_rho\"]\n",
    "lon_rho = dg.variables[\"lon_rho\"]\n",
    "pm = dg.variables[\"pm\"]\n",
    "pn = dg.variables[\"pn\"]\n",
    "\n",
    "ds.coords['lat_rho']=lat_rho.transpose() # put lat_rho into ds dataset\n",
    "ds.coords['lon_rho']=lon_rho.transpose() # put lon_rho into ds dataset\n",
    "\n",
    "# shelf/open-ocean masks:\n",
    "mask_open = ma.masked_where(dg.h <= 2000, np.ones(dg.h.shape))\n",
    "mask_shelf = ma.masked_where(dg.h > 2000, np.ones(dg.h.shape))"
   ]
  },
  {
   "cell_type": "code",
   "execution_count": null,
   "id": "0ec9b0fa",
   "metadata": {},
   "outputs": [],
   "source": [
    "dx = xr.open_dataset('/scratch/project_2000339/boeiradi/waom10extend_shflim_S_0.25Q/output_20yr_diag/MLD_vint_vars_for_WMT_m.s-1_iteractive_copy.nc')\n",
    "print(dx.variables[\"sfc_mld\"].shape)\n",
    "sfc_mld = dx.variables[\"sfc_mld\"]\n",
    "# - variables across ML base\n",
    "#temp_avg_mld = dx.variables[\"temp_avg_mld\"]\n",
    "#salt_avg_mld = dx.variables[\"salt_avg_mld\"]\n",
    "\n",
    "# - variables integrated throughout the ML; multiply by -1 b/c dz is negative.\n",
    "temp_vdia_diff_mld_vint = dx.variables[\"temp_vdia_diff_mld_vint\"]\n",
    "salt_vdia_diff_mld_vint = dx.variables[\"salt_vdia_diff_mld_vint\"]\n",
    "temp_hdia_diff_mld_vint = dx.variables[\"temp_hdia_diff_mld_vint\"]\n",
    "salt_hdia_diff_mld_vint = dx.variables[\"salt_hdia_diff_mld_vint\"]\n",
    "temp_vdia_adv_mld_vint = dx.variables[\"temp_vdia_adv_mld_vint\"]\n",
    "salt_vdia_adv_mld_vint = dx.variables[\"salt_vdia_adv_mld_vint\"]\n",
    "temp_hdia_adv_mld_vint = dx.variables[\"temp_hdia_adv_mld_vint\"]\n",
    "salt_hdia_adv_mld_vint = dx.variables[\"salt_hdia_adv_mld_vint\"]\n",
    "temp_tend_mld_vint = dx.variables[\"temp_tend_avg_mld_vint\"]\n",
    "salt_tend_mld_vint = dx.variables[\"salt_tend_avg_mld_vint\"]\n",
    "\n",
    "sigma_t = gsw.rho(salt[:,-1,:,:],temp[:,-1,:,:],0) - 1000\n",
    "\n",
    "dx.close()\n",
    "\n",
    "# obtain thermal expansion (alpha) & salinity contraction (beta) coefficients:\n",
    "SA = np.empty(salt.shape)\n",
    "# neet Absolute Salinity, converting from Pratical Salinity:\n",
    "print('salt and z_rho shape:', np.squeeze(salt[0,0,:,:]).shape,np.squeeze(z_rho[0,:,:,0].shape))\n",
    "for mm in np.arange(0,12):\n",
    "    for kk in np.arange(0,31):\n",
    "        SA_tmp =gsw.SA_from_SP(np.squeeze(salt[mm,kk,:,:]),np.squeeze(z_rho[mm,:,:,kk]),lon_rho,lat_rho)\n",
    "        SA[mm,kk,:,:] = SA_tmp\n",
    "        del SA_tmp\n",
    "\n",
    "# gsw.alpha/gsw.beta\n",
    "#alpha = gsw_alpha(SA,CT,p)\n",
    "[specvol, alpha, beta] = gsw.specvol_alpha_beta(SA,temp,z_rho.transpose(0,3,1,2))\n",
    "\n",
    "# calculate the LHS term in Pellichero et al (2018):\n",
    "# ps: Diffusion (R_s, R_t) terms already include the sfc fluxes\n",
    "\n",
    "# heat (eqn 5)\n",
    "rho0 = 1025 #1000\n",
    "Cp = 3985\n",
    "\n",
    "# total diffusion terms:\n",
    "R_s_vint = (salt_hdia_diff_mld_vint + salt_vdia_diff_mld_vint)\n",
    "R_t_vint = (temp_hdia_diff_mld_vint + temp_vdia_diff_mld_vint)\n",
    "\n",
    "# surface flux terms:\n",
    "salt_sfc = beta[:,-1,:,:]*(ssflux)\n",
    "temp_sfc = alpha[:,-1,:,:]*(np.divide(shflux, rho0*Cp))\n",
    "\n",
    "# advection terms:\n",
    "salt_adv_mld_vint = (salt_hdia_adv_mld_vint + salt_vdia_adv_mld_vint)\n",
    "temp_adv_mld_vint = (temp_hdia_adv_mld_vint + temp_vdia_adv_mld_vint)\n",
    "\n",
    "# net tendencies\n",
    "salt_net_mld_vint = salt_tend_mld_vint\n",
    "temp_net_mld_vint = temp_tend_mld_vint\n",
    "\n",
    "# ML budget equation:\n",
    "# salt:\n",
    "# salt_sfc - R_s = -salt_tend_mld + salt_hdia_adv_mld + salt_vdia_adv_mld\n",
    "\n",
    "# temp:\n",
    "# temp_sfc - R_t = -temp_tend_mld + temp_hdia_adv_mld + temp_vdia_adv_mld\n"
   ]
  },
  {
   "cell_type": "code",
   "execution_count": null,
   "id": "eb0fc26e",
   "metadata": {},
   "outputs": [],
   "source": [
    "#  Function to calculate Water Mass Transformation (in m3/s):\n",
    "\n",
    "# rho grid for binning:\n",
    "#rho_grid=np.arange(35.5,37.4,0.1) # for sigma-2\n",
    "#rho_grid=np.arange(24.4,29.1,0.1) # for sigma-0\n",
    "rho_grid=np.arange(26.,28.,0.05) # for sigma-0\n",
    "\n",
    "len_rho_grid=len(rho_grid)\n",
    "\n",
    "dx = np.divide(1,pm)\n",
    "dy = np.divide(1,pn)\n",
    "dt = 86400#30#/12 #why divide by 12?\n",
    "\n",
    "def wmt(var_int, dx, dy,var_type):\n",
    "    # var_type: 'budget' or 'sfc_frc'\n",
    "\n",
    "    F_rate_var_vint = np.empty(var_int.shape)\n",
    "\n",
    "    for mm in np.arange(0,12):\n",
    "        if var_type == 'budget':\n",
    "            F_rate_var_vint[mm,:] = dx*dy*var_int.isel(times=mm)\n",
    "        elif var_type == 'sfc_frc':\n",
    "            F_rate_var_vint[mm,:] = dx*dy*var_int[mm,:,:]\n",
    "\n",
    "    print(F_rate_var_vint.shape)\n",
    "\n",
    "    F_rate_delta_var_vint_mm = np.empty((12,len_rho_grid,560,630))\n",
    "\n",
    "    for mm in np.arange(0,12):\n",
    "        sigma_tmp = sigma_t[mm,:,:]\n",
    "\n",
    "        #print(mm)\n",
    "        for irho in np.arange(0,len_rho_grid):\n",
    "\n",
    "            #print(irho)\n",
    "            F_rate_tmp = ma.masked_where(np.logical_or(sigma_tmp <= (rho_grid[irho]-(0.05/2)),sigma_tmp > (rho_grid[irho]+(0.05/2))), F_rate_var_vint[mm,:,:])\n",
    "\n",
    "            if irho == 0:\n",
    "                F_rate_delta = F_rate_tmp.copy()\n",
    "                F_rate_delta[np.logical_or(sigma_tmp <= (rho_grid[irho]-(0.05/2)),sigma_tmp > (rho_grid[irho]+(0.05/2)))] = np.nan\n",
    "            elif irho == 1:\n",
    "                F_rate_tmp[np.logical_or(sigma_tmp <= (rho_grid[irho]-(0.05/2)),sigma_tmp > (rho_grid[irho]+(0.05/2)))] = np.nan\n",
    "                F_rate_delta = np.stack((F_rate_delta,F_rate_tmp), axis=0)\n",
    "            else:\n",
    "                F_rate_tmp[np.logical_or(sigma_tmp <= (rho_grid[irho]-(0.05/2)),sigma_tmp > (rho_grid[irho]+(0.05/2)))] = np.nan\n",
    "                F_rate_extradim = np.expand_dims(F_rate_tmp, axis=0)\n",
    "                F_rate_delta = np.concatenate((F_rate_delta,F_rate_extradim), axis=0)\n",
    "            del F_rate_tmp\n",
    "\n",
    "        F_rate_delta_var_vint_mm[mm,:] = F_rate_delta\n",
    "\n",
    "    print('completed, size: ', F_rate_delta_var_vint_mm.shape)\n",
    "\n",
    "    return F_rate_delta_var_vint_mm"
   ]
  },
  {
   "cell_type": "code",
   "execution_count": null,
   "id": "092b7dfb",
   "metadata": {},
   "outputs": [],
   "source": [
    "# -- Units --\n",
    "# Heat: m.degC/s -> m3.degC/s\n",
    "# Salt: m/s -> m3/s\n",
    "# Fwf: Kg.m-2.s-1 = Kg/s\n",
    "\n",
    "# Shelf only: excluding open ocean & ice shelves\n",
    "\n",
    "Fs_rate_delta_adv_vint_shelf_mm = wmt(salt_adv_mld_vint*mask_shelf, dx, dy,'budget')\n",
    "Fs_rate_delta_diff_vint_shelf_mm = wmt(R_s_vint*mask_shelf, dx, dy,'budget')\n",
    "Fs_rate_delta_net_vint_shelf_mm = wmt(salt_net_mld_vint*mask_shelf, dx, dy,'budget')\n",
    "Fs_rate_delta_sfc_shelf_mm = wmt(salt_sfc*mask_shelf, dx, dy,'sfc_frc')"
   ]
  },
  {
   "cell_type": "code",
   "execution_count": null,
   "id": "c64a24b4",
   "metadata": {},
   "outputs": [],
   "source": [
    "Dt = 1000/0.05\n",
    "\n",
    "for irho in np.arange(26,37): # 27.3:27.8 kg m-3 for sigma interval 0.05\n",
    "#    salt_net_tmp = np.nanmean(Fs_rate_delta_net_vint_shelf_mm[:,irho,:], axis=0)*Dt/(dx*dy)\n",
    "    salt_net_tmp = np.empty((12,560,630))\n",
    "    for mm in np.arange(0,12):\n",
    "        salt_net_tmp[mm,:] = Fs_rate_delta_net_vint_shelf_mm[mm,irho,:]*Dt/(dx*dy)\n",
    "    salt_net_tmp = np.expand_dims(salt_net_tmp, axis=0)\n",
    "    if irho >= 27:\n",
    "        salt_net = np.concatenate((salt_net,salt_net_tmp), axis=0)\n",
    "    else:\n",
    "        salt_net = salt_net_tmp\n",
    "    del salt_net_tmp\n",
    "\n",
    "    #salt_adv_tmp = Fs_rate_delta_adv_vint_shelf_mm[:,irho,:]\n",
    "    salt_adv_tmp = np.empty((12,560,630))\n",
    "    for mm in np.arange(0,12):\n",
    "        salt_adv_tmp[mm,:] = Fs_rate_delta_adv_vint_shelf_mm[mm,irho,:]*Dt/(dx*dy)\n",
    "    salt_adv_tmp = np.expand_dims(salt_adv_tmp, axis=0)\n",
    "    if irho >= 27:\n",
    "        salt_adv = np.concatenate((salt_adv,salt_adv_tmp), axis=0)\n",
    "    else:\n",
    "        salt_adv = salt_adv_tmp\n",
    "    del salt_adv_tmp\n",
    "\n",
    "    #salt_diff_tmp = Fs_rate_delta_diff_vint_shelf_mm[:,irho,:]\n",
    "    salt_diff_tmp = np.empty((12,560,630))\n",
    "    for mm in np.arange(0,12):\n",
    "        salt_diff_tmp[mm,:] = Fs_rate_delta_diff_vint_shelf_mm[mm,irho,:]*Dt/(dx*dy)\n",
    "    salt_diff_tmp = np.expand_dims(salt_diff_tmp, axis=0)\n",
    "    if irho >= 27:\n",
    "        salt_diff = np.concatenate((salt_diff,salt_diff_tmp), axis=0)\n",
    "    else:\n",
    "        salt_diff = salt_diff_tmp\n",
    "    del salt_diff_tmp\n",
    "\n",
    "    #salt_sfc_tmp = Fs_rate_delta_sfc_shelf_mm[:,irho,:]\n",
    "    salt_sfc_tmp = np.empty((12,560,630))\n",
    "    for mm in np.arange(0,12):\n",
    "        salt_sfc_tmp[mm,:] = Fs_rate_delta_sfc_shelf_mm[mm,irho,:]*Dt/(dx*dy)\n",
    "    salt_sfc_tmp = np.expand_dims(salt_sfc_tmp, axis=0)\n",
    "    if irho >= 27:\n",
    "        salt_sfc = np.concatenate((salt_sfc,salt_sfc_tmp), axis=0)\n",
    "    else:\n",
    "        salt_sfc = salt_sfc_tmp\n",
    "    del salt_sfc_tmp\n",
    "\n",
    "salt_net_sum = np.nansum(salt_net, axis=0)\n",
    "salt_adv_sum = np.nansum(salt_adv, axis=0)\n",
    "salt_diff_sum = np.nansum(salt_diff, axis=0)\n",
    "salt_sfc_sum = np.nansum(salt_sfc, axis=0)"
   ]
  },
  {
   "cell_type": "code",
   "execution_count": null,
   "id": "d7580e6c",
   "metadata": {},
   "outputs": [],
   "source": [
    "def lonlat_labels(ax):\n",
    "    # latitude labels\n",
    "    ax.text(120,-80,'80$^{\\circ}$S',transform=ccrs.PlateCarree(),color='gray')\n",
    "    ax.text(120,-70,'70$^{\\circ}$S',transform=ccrs.PlateCarree(),color='gray')\n",
    "    # longitude labels\n",
    "    ax.text(0,-66,'0$^{\\circ}$',transform=ccrs.PlateCarree(),color='gray')\n",
    "    #ax.text(60,-53,'60$^{\\circ}$E',transform=ccrs.PlateCarree(),color='gray')\n",
    "    #ax.text(120,-53,'120$^{\\circ}$E',transform=ccrs.PlateCarree(),color='gray')\n",
    "    ax.text(-60,-48,'60$^{\\circ}$W',transform=ccrs.PlateCarree(),color='gray')\n",
    "    ax.text(-120,-48,'120$^{\\circ}$W',transform=ccrs.PlateCarree(),color='gray')\n",
    "    ax.text(180,-60,'180$^{\\circ}$',transform=ccrs.PlateCarree(),color='gray')\n",
    "    return\n",
    "\n",
    "proj = ccrs.SouthPolarStereo()\n"
   ]
  },
  {
   "cell_type": "code",
   "execution_count": null,
   "id": "3dbcd8e7",
   "metadata": {},
   "outputs": [],
   "source": [
    "print(salt_sfc_sum.shape)\n",
    "print(dg)\n",
    "\n",
    "salt_net_mov = xr.DataArray(salt_net_sum, name='salt_net', coords= {'time':np.arange(0,12),'eta_rho':dg.eta_rho,'xi_rho':dg.xi_rho})\n",
    "salt_adv_mov = xr.DataArray(salt_adv_sum, name='salt_adv', coords= {'time':np.arange(0,12),'eta_rho':dg.eta_rho,'xi_rho':dg.xi_rho})\n",
    "salt_diff_mov = xr.DataArray(salt_diff_sum, name='salt_diff', coords= {'time':np.arange(0,12),'eta_rho':dg.eta_rho,'xi_rho':dg.xi_rho})\n",
    "salt_sfc_mov = xr.DataArray(salt_sfc_sum, name='salt_sfc', coords= {'time':np.arange(0,12),'eta_rho':dg.eta_rho,'xi_rho':dg.xi_rho})\n",
    "\n",
    "salt = xr.Dataset(\n",
    "    {\n",
    "        'salt_net': (['time','eta_rho','xi_rho'], salt_net_sum),\n",
    "        'salt_adv': (['time','eta_rho','xi_rho'], salt_adv_sum),\n",
    "        'salt_diff': (['time','eta_rho','xi_rho'], salt_diff_sum),\n",
    "        'salt_sfc': (['time','eta_rho','xi_rho'], salt_sfc_sum),\n",
    "    },\n",
    "    coords= {'time':np.arange(0,12),'eta_rho':dg.eta_rho,'xi_rho':dg.xi_rho}\n",
    "    )\n"
   ]
  },
  {
   "cell_type": "code",
   "execution_count": null,
   "id": "e078de1e",
   "metadata": {},
   "outputs": [],
   "source": [
    "# for 2000m isoline\n",
    "bathym = cfeature.NaturalEarthFeature(name='bathymetry_J_1000', scale='10m', category='physical')\n",
    "# limits for contour of ice front (Ronne-Filchner IS):\n",
    "xlimit = np.arange(300,500,1)\n",
    "ylimit = np.arange(100,300,1)\n",
    "\n",
    "fig = plt.figure(figsize=(10,10))\n",
    "\n",
    "\n",
    "def custom_plotfunc(salt, fig, tt, *args, **kwargs):\n",
    "    \n",
    "    ax1 = fig.add_subplot(221, projection=proj)\n",
    "    plt.title('Salt tendency, $\\sigma_{\\Theta}$ = ' + str(np.around(rho_grid[26],decimals=2)) + ':'  + str(np.around(rho_grid[36],decimals=2)) + '\\n month = ' + str(tt), fontsize=14)\n",
    "    cy=plt.pcolormesh(lon_rho,lat_rho,salt['salt_net'].isel(time=tt), transform=ccrs.PlateCarree(), cmap=plt.cm.coolwarm, vmin=-3e-5, vmax=3e-5)\n",
    "    ax1.gridlines()\n",
    "    ax1.set_extent([-85, -30, -84, -74], ccrs.PlateCarree())\n",
    "    ax1.add_feature(cfeature.LAND, zorder=3, edgecolor='white', facecolor='gray')\n",
    "    ax1.add_feature(bathym, facecolor='none', edgecolor='black', linestyle='dashed', linewidth=1)\n",
    "    plt.contour(lon_rho[xlimit,ylimit], lat_rho[xlimit,ylimit],ice_draft[xlimit,ylimit],levels=[-.1],linestyles='dashed', transform=ccrs.PlateCarree(), cmap=plt.cm.binary)\n",
    "    plt.contour(lon_rho[xlimit,ylimit], lat_rho[xlimit,ylimit],h[xlimit,ylimit],levels=(200,400,600,800,1000), transform=ccrs.PlateCarree(), colors='grey')\n",
    "    \n",
    "    ax2 = fig.add_subplot(222, projection=proj)\n",
    "    plt.title('Salt advection, $\\sigma_{\\Theta}$ = ' + str(np.around(rho_grid[26],decimals=2)) + ':'  + str(np.around(rho_grid[36],decimals=2)), fontsize=14)\n",
    "    cy=plt.pcolormesh(lon_rho,lat_rho,salt['salt_adv'].isel(time=tt), transform=ccrs.PlateCarree(), cmap=plt.cm.coolwarm, vmin=-3e-5, vmax=3e-5)\n",
    "    ax2.gridlines()\n",
    "    ax2.set_extent([-85, -30, -84, -74], ccrs.PlateCarree())\n",
    "    ax2.add_feature(cfeature.LAND, zorder=3, edgecolor='white', facecolor='gray')\n",
    "    ax2.add_feature(bathym, facecolor='none', edgecolor='black', linestyle='dashed', linewidth=1)\n",
    "    plt.contour(lon_rho[xlimit,ylimit], lat_rho[xlimit,ylimit],ice_draft[xlimit,ylimit],levels=[-.1],linestyles='dashed', transform=ccrs.PlateCarree(), cmap=plt.cm.binary)\n",
    "    plt.contour(lon_rho[xlimit,ylimit], lat_rho[xlimit,ylimit],h[xlimit,ylimit],levels=(200,400,600,800,1000), transform=ccrs.PlateCarree(), colors='grey')\n",
    "\n",
    "    ax3 = fig.add_subplot(223, projection=proj)\n",
    "    plt.title('Salt diffusion, $\\sigma_{\\Theta}$ = ' + str(np.around(rho_grid[26],decimals=2)) + ':'  + str(np.around(rho_grid[36],decimals=2)), fontsize=14)\n",
    "    cy=plt.pcolormesh(lon_rho,lat_rho,salt['salt_diff'].isel(time=tt)-salt['salt_sfc'].isel(time=tt), transform=ccrs.PlateCarree(), cmap=plt.cm.coolwarm, vmin=-3e-5, vmax=3e-5)\n",
    "    ax3.gridlines()\n",
    "    ax3.set_extent([-85, -30, -84, -74], ccrs.PlateCarree())\n",
    "    ax3.add_feature(cfeature.LAND, zorder=3, edgecolor='white', facecolor='gray')\n",
    "    ax3.add_feature(bathym, facecolor='none', edgecolor='black', linestyle='dashed', linewidth=1)\n",
    "    plt.contour(lon_rho[xlimit,ylimit], lat_rho[xlimit,ylimit],ice_draft[xlimit,ylimit],levels=[-.1],linestyles='dashed', transform=ccrs.PlateCarree(), cmap=plt.cm.binary)\n",
    "    plt.contour(lon_rho[xlimit,ylimit], lat_rho[xlimit,ylimit],h[xlimit,ylimit],levels=(200,400,600,800,1000), transform=ccrs.PlateCarree(), colors='grey')\n",
    "\n",
    "    ax4 = fig.add_subplot(224, projection=proj)\n",
    "    plt.title('Salt sfc flux, $\\sigma_{\\Theta}$ = ' + str(np.around(rho_grid[26],decimals=2)) + ':'  + str(np.around(rho_grid[36],decimals=2)), fontsize=14)\n",
    "    cy=plt.pcolormesh(lon_rho,lat_rho,salt['salt_sfc'].isel(time=tt), transform=ccrs.PlateCarree(), cmap=plt.cm.coolwarm, vmin=-3e-5, vmax=3e-5)\n",
    "    ax4.gridlines()\n",
    "    ax4.set_extent([-85, -30, -84, -74], crs=ccrs.PlateCarree())\n",
    "    ax4.add_feature(cfeature.LAND, zorder=3, edgecolor='white', facecolor='gray')\n",
    "    ax4.add_feature(bathym, facecolor='none', edgecolor='black', linestyle='dashed', linewidth=1)\n",
    "    plt.contour(lon_rho[xlimit,ylimit], lat_rho[xlimit,ylimit],ice_draft[xlimit,ylimit],levels=[-.1],linestyles='dashed', transform=ccrs.PlateCarree(), cmap=plt.cm.binary)\n",
    "    plt.contour(lon_rho[xlimit,ylimit], lat_rho[xlimit,ylimit],h[xlimit,ylimit],levels=(200,400,600,800,1000), transform=ccrs.PlateCarree(), colors='grey')\n",
    "\n",
    "    fig.subplots_adjust(wspace=0.6)\n",
    "\n",
    "    return None, None\n",
    "    # ^ This is not strictly necessary, but otherwise a warning will be raised.\n"
   ]
  },
  {
   "cell_type": "code",
   "execution_count": 2,
   "id": "8fd8a968",
   "metadata": {},
   "outputs": [
    {
     "ename": "NameError",
     "evalue": "name 'Movie' is not defined",
     "output_type": "error",
     "traceback": [
      "\u001b[0;31m---------------------------------------------------------------------------\u001b[0m",
      "\u001b[0;31mNameError\u001b[0m                                 Traceback (most recent call last)",
      "\u001b[0;32m/run/nvme/job_11128326/tmp/ipykernel_204708/1580685128.py\u001b[0m in \u001b[0;36m<module>\u001b[0;34m\u001b[0m\n\u001b[0;32m----> 1\u001b[0;31m \u001b[0mmov_custom\u001b[0m \u001b[0;34m=\u001b[0m \u001b[0mMovie\u001b[0m\u001b[0;34m(\u001b[0m\u001b[0msalt\u001b[0m\u001b[0;34m,\u001b[0m \u001b[0mcustom_plotfunc\u001b[0m\u001b[0;34m,\u001b[0m \u001b[0minput_check\u001b[0m\u001b[0;34m=\u001b[0m\u001b[0;32mFalse\u001b[0m\u001b[0;34m)\u001b[0m\u001b[0;34m\u001b[0m\u001b[0;34m\u001b[0m\u001b[0m\n\u001b[0m\u001b[1;32m      2\u001b[0m \u001b[0;34m\u001b[0m\u001b[0m\n\u001b[1;32m      3\u001b[0m \u001b[0mmov_custom\u001b[0m\u001b[0;34m.\u001b[0m\u001b[0msave\u001b[0m\u001b[0;34m(\u001b[0m\u001b[0;34m'/users/boeiradi/COLD_project/postprocessing/figs/WMT/movie/WAOM10extend_WMTmap_salt_budget.mp4'\u001b[0m\u001b[0;34m,\u001b[0m \u001b[0moverwrite_existing\u001b[0m\u001b[0;34m=\u001b[0m\u001b[0;32mTrue\u001b[0m\u001b[0;34m,\u001b[0m \u001b[0mprogress\u001b[0m\u001b[0;34m=\u001b[0m\u001b[0;32mTrue\u001b[0m\u001b[0;34m,\u001b[0m \u001b[0mframerate\u001b[0m\u001b[0;34m=\u001b[0m\u001b[0;36m1\u001b[0m\u001b[0;34m)\u001b[0m\u001b[0;34m\u001b[0m\u001b[0;34m\u001b[0m\u001b[0m\n\u001b[1;32m      4\u001b[0m \u001b[0;34m\u001b[0m\u001b[0m\n\u001b[1;32m      5\u001b[0m \u001b[0;34m\u001b[0m\u001b[0m\n",
      "\u001b[0;31mNameError\u001b[0m: name 'Movie' is not defined"
     ]
    }
   ],
   "source": [
    "\n",
    "mov_custom = Movie(salt, custom_plotfunc, input_check=False)\n",
    "\n",
    "mov_custom.save('/users/boeiradi/COLD_project/postprocessing/figs/WMT/movie/WAOM10extend_WMTmap_salt_budget.mp4', overwrite_existing=True, progress=True, framerate=1)\n",
    "\n",
    "\n",
    "\n"
   ]
  },
  {
   "cell_type": "code",
   "execution_count": null,
   "id": "fdbc2ca5",
   "metadata": {},
   "outputs": [],
   "source": []
  },
  {
   "cell_type": "code",
   "execution_count": null,
   "id": "9524f3bf",
   "metadata": {},
   "outputs": [],
   "source": []
  }
 ],
 "metadata": {
  "kernelspec": {
   "display_name": "Python 3 (ipykernel)",
   "language": "python",
   "name": "python3"
  },
  "language_info": {
   "codemirror_mode": {
    "name": "ipython",
    "version": 3
   },
   "file_extension": ".py",
   "mimetype": "text/x-python",
   "name": "python",
   "nbconvert_exporter": "python",
   "pygments_lexer": "ipython3",
   "version": "3.7.11"
  }
 },
 "nbformat": 4,
 "nbformat_minor": 5
}
