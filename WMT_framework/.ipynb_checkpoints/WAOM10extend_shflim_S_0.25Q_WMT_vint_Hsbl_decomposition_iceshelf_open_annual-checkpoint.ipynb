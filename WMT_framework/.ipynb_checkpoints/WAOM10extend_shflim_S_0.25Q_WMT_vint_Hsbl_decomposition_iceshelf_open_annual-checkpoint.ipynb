{
 "cells": [
  {
   "cell_type": "code",
   "execution_count": 1,
   "metadata": {},
   "outputs": [],
   "source": [
    "# read nc output from WAOM 10km run\n",
    "\n",
    "import xarray as xr\n",
    "import pandas as p\n",
    "import numpy as np\n",
    "import numpy.ma as ma\n",
    "import cartopy.crs as ccrs\n",
    "import matplotlib.pyplot as plt\n",
    "import matplotlib.dates as dates\n",
    "from matplotlib.ticker import NullFormatter\n",
    "from matplotlib.colors import LinearSegmentedColormap   # for custom colormaps\n",
    "\n",
    "from datetime import datetime, timedelta\n",
    "\n",
    "from netCDF4 import Dataset\n",
    "from netCDF4 import num2date, date2num\n",
    "from matplotlib.ticker import NullFormatter\n",
    "from matplotlib.colors import LinearSegmentedColormap   # for custom colormaps\n",
    "\n",
    "#import iris\n",
    "#import iris.iterate\n",
    "#import iris.coords\n",
    "#import iris.plot as iplt\n",
    "import gsw"
   ]
  },
  {
   "cell_type": "code",
   "execution_count": 3,
   "metadata": {},
   "outputs": [
    {
     "name": "stdout",
     "output_type": "stream",
     "text": [
      "(7, 31, 560, 630)\n"
     ]
    },
    {
     "name": "stderr",
     "output_type": "stream",
     "text": [
      "/scratch/project_2000339/boeiradi/anaconda3/lib/python3.7/site-packages/ipykernel_launcher.py:5: RuntimeWarning: Mean of empty slice\n",
      "  \"\"\"\n",
      "/scratch/project_2000339/boeiradi/anaconda3/lib/python3.7/site-packages/ipykernel_launcher.py:6: RuntimeWarning: Mean of empty slice\n",
      "  \n",
      "/scratch/project_2000339/boeiradi/anaconda3/lib/python3.7/site-packages/ipykernel_launcher.py:7: RuntimeWarning: Mean of empty slice\n",
      "  import sys\n",
      "/scratch/project_2000339/boeiradi/anaconda3/lib/python3.7/site-packages/ipykernel_launcher.py:8: RuntimeWarning: Mean of empty slice\n",
      "  \n",
      "/scratch/project_2000339/boeiradi/anaconda3/lib/python3.7/site-packages/ipykernel_launcher.py:9: RuntimeWarning: Mean of empty slice\n",
      "  if __name__ == '__main__':\n"
     ]
    },
    {
     "name": "stdout",
     "output_type": "stream",
     "text": [
      "Vtransform=2\n"
     ]
    },
    {
     "name": "stderr",
     "output_type": "stream",
     "text": [
      "/scratch/project_2000339/boeiradi/anaconda3/lib/python3.7/site-packages/ipykernel_launcher.py:23: RuntimeWarning: Mean of empty slice\n",
      "/scratch/project_2000339/boeiradi/anaconda3/lib/python3.7/site-packages/ipykernel_launcher.py:24: RuntimeWarning: Mean of empty slice\n"
     ]
    },
    {
     "name": "stdout",
     "output_type": "stream",
     "text": [
      "(6, 31, 560, 630)\n"
     ]
    },
    {
     "name": "stderr",
     "output_type": "stream",
     "text": [
      "/scratch/project_2000339/boeiradi/anaconda3/lib/python3.7/site-packages/ipykernel_launcher.py:5: RuntimeWarning: Mean of empty slice\n",
      "  \"\"\"\n",
      "/scratch/project_2000339/boeiradi/anaconda3/lib/python3.7/site-packages/ipykernel_launcher.py:6: RuntimeWarning: Mean of empty slice\n",
      "  \n",
      "/scratch/project_2000339/boeiradi/anaconda3/lib/python3.7/site-packages/ipykernel_launcher.py:7: RuntimeWarning: Mean of empty slice\n",
      "  import sys\n",
      "/scratch/project_2000339/boeiradi/anaconda3/lib/python3.7/site-packages/ipykernel_launcher.py:8: RuntimeWarning: Mean of empty slice\n",
      "  \n",
      "/scratch/project_2000339/boeiradi/anaconda3/lib/python3.7/site-packages/ipykernel_launcher.py:9: RuntimeWarning: Mean of empty slice\n",
      "  if __name__ == '__main__':\n"
     ]
    },
    {
     "name": "stdout",
     "output_type": "stream",
     "text": [
      "Vtransform=2\n"
     ]
    },
    {
     "name": "stderr",
     "output_type": "stream",
     "text": [
      "/scratch/project_2000339/boeiradi/anaconda3/lib/python3.7/site-packages/ipykernel_launcher.py:23: RuntimeWarning: Mean of empty slice\n",
      "/scratch/project_2000339/boeiradi/anaconda3/lib/python3.7/site-packages/ipykernel_launcher.py:24: RuntimeWarning: Mean of empty slice\n"
     ]
    },
    {
     "name": "stdout",
     "output_type": "stream",
     "text": [
      "(6, 31, 560, 630)\n"
     ]
    },
    {
     "name": "stderr",
     "output_type": "stream",
     "text": [
      "/scratch/project_2000339/boeiradi/anaconda3/lib/python3.7/site-packages/ipykernel_launcher.py:5: RuntimeWarning: Mean of empty slice\n",
      "  \"\"\"\n",
      "/scratch/project_2000339/boeiradi/anaconda3/lib/python3.7/site-packages/ipykernel_launcher.py:6: RuntimeWarning: Mean of empty slice\n",
      "  \n",
      "/scratch/project_2000339/boeiradi/anaconda3/lib/python3.7/site-packages/ipykernel_launcher.py:7: RuntimeWarning: Mean of empty slice\n",
      "  import sys\n",
      "/scratch/project_2000339/boeiradi/anaconda3/lib/python3.7/site-packages/ipykernel_launcher.py:8: RuntimeWarning: Mean of empty slice\n",
      "  \n",
      "/scratch/project_2000339/boeiradi/anaconda3/lib/python3.7/site-packages/ipykernel_launcher.py:9: RuntimeWarning: Mean of empty slice\n",
      "  if __name__ == '__main__':\n"
     ]
    },
    {
     "name": "stdout",
     "output_type": "stream",
     "text": [
      "Vtransform=2\n"
     ]
    },
    {
     "name": "stderr",
     "output_type": "stream",
     "text": [
      "/scratch/project_2000339/boeiradi/anaconda3/lib/python3.7/site-packages/ipykernel_launcher.py:23: RuntimeWarning: Mean of empty slice\n",
      "/scratch/project_2000339/boeiradi/anaconda3/lib/python3.7/site-packages/ipykernel_launcher.py:24: RuntimeWarning: Mean of empty slice\n"
     ]
    },
    {
     "name": "stdout",
     "output_type": "stream",
     "text": [
      "(6, 31, 560, 630)\n"
     ]
    },
    {
     "name": "stderr",
     "output_type": "stream",
     "text": [
      "/scratch/project_2000339/boeiradi/anaconda3/lib/python3.7/site-packages/ipykernel_launcher.py:5: RuntimeWarning: Mean of empty slice\n",
      "  \"\"\"\n",
      "/scratch/project_2000339/boeiradi/anaconda3/lib/python3.7/site-packages/ipykernel_launcher.py:6: RuntimeWarning: Mean of empty slice\n",
      "  \n",
      "/scratch/project_2000339/boeiradi/anaconda3/lib/python3.7/site-packages/ipykernel_launcher.py:7: RuntimeWarning: Mean of empty slice\n",
      "  import sys\n",
      "/scratch/project_2000339/boeiradi/anaconda3/lib/python3.7/site-packages/ipykernel_launcher.py:8: RuntimeWarning: Mean of empty slice\n",
      "  \n",
      "/scratch/project_2000339/boeiradi/anaconda3/lib/python3.7/site-packages/ipykernel_launcher.py:9: RuntimeWarning: Mean of empty slice\n",
      "  if __name__ == '__main__':\n"
     ]
    },
    {
     "name": "stdout",
     "output_type": "stream",
     "text": [
      "Vtransform=2\n"
     ]
    },
    {
     "name": "stderr",
     "output_type": "stream",
     "text": [
      "/scratch/project_2000339/boeiradi/anaconda3/lib/python3.7/site-packages/ipykernel_launcher.py:23: RuntimeWarning: Mean of empty slice\n",
      "/scratch/project_2000339/boeiradi/anaconda3/lib/python3.7/site-packages/ipykernel_launcher.py:24: RuntimeWarning: Mean of empty slice\n"
     ]
    },
    {
     "name": "stdout",
     "output_type": "stream",
     "text": [
      "(6, 31, 560, 630)\n"
     ]
    },
    {
     "name": "stderr",
     "output_type": "stream",
     "text": [
      "/scratch/project_2000339/boeiradi/anaconda3/lib/python3.7/site-packages/ipykernel_launcher.py:5: RuntimeWarning: Mean of empty slice\n",
      "  \"\"\"\n",
      "/scratch/project_2000339/boeiradi/anaconda3/lib/python3.7/site-packages/ipykernel_launcher.py:6: RuntimeWarning: Mean of empty slice\n",
      "  \n",
      "/scratch/project_2000339/boeiradi/anaconda3/lib/python3.7/site-packages/ipykernel_launcher.py:7: RuntimeWarning: Mean of empty slice\n",
      "  import sys\n",
      "/scratch/project_2000339/boeiradi/anaconda3/lib/python3.7/site-packages/ipykernel_launcher.py:8: RuntimeWarning: Mean of empty slice\n",
      "  \n",
      "/scratch/project_2000339/boeiradi/anaconda3/lib/python3.7/site-packages/ipykernel_launcher.py:9: RuntimeWarning: Mean of empty slice\n",
      "  if __name__ == '__main__':\n"
     ]
    },
    {
     "name": "stdout",
     "output_type": "stream",
     "text": [
      "Vtransform=2\n"
     ]
    },
    {
     "name": "stderr",
     "output_type": "stream",
     "text": [
      "/scratch/project_2000339/boeiradi/anaconda3/lib/python3.7/site-packages/ipykernel_launcher.py:23: RuntimeWarning: Mean of empty slice\n",
      "/scratch/project_2000339/boeiradi/anaconda3/lib/python3.7/site-packages/ipykernel_launcher.py:24: RuntimeWarning: Mean of empty slice\n"
     ]
    },
    {
     "name": "stdout",
     "output_type": "stream",
     "text": [
      "(6, 31, 560, 630)\n"
     ]
    },
    {
     "name": "stderr",
     "output_type": "stream",
     "text": [
      "/scratch/project_2000339/boeiradi/anaconda3/lib/python3.7/site-packages/ipykernel_launcher.py:5: RuntimeWarning: Mean of empty slice\n",
      "  \"\"\"\n",
      "/scratch/project_2000339/boeiradi/anaconda3/lib/python3.7/site-packages/ipykernel_launcher.py:6: RuntimeWarning: Mean of empty slice\n",
      "  \n",
      "/scratch/project_2000339/boeiradi/anaconda3/lib/python3.7/site-packages/ipykernel_launcher.py:7: RuntimeWarning: Mean of empty slice\n",
      "  import sys\n",
      "/scratch/project_2000339/boeiradi/anaconda3/lib/python3.7/site-packages/ipykernel_launcher.py:8: RuntimeWarning: Mean of empty slice\n",
      "  \n",
      "/scratch/project_2000339/boeiradi/anaconda3/lib/python3.7/site-packages/ipykernel_launcher.py:9: RuntimeWarning: Mean of empty slice\n",
      "  if __name__ == '__main__':\n"
     ]
    },
    {
     "name": "stdout",
     "output_type": "stream",
     "text": [
      "Vtransform=2\n"
     ]
    },
    {
     "name": "stderr",
     "output_type": "stream",
     "text": [
      "/scratch/project_2000339/boeiradi/anaconda3/lib/python3.7/site-packages/ipykernel_launcher.py:23: RuntimeWarning: Mean of empty slice\n",
      "/scratch/project_2000339/boeiradi/anaconda3/lib/python3.7/site-packages/ipykernel_launcher.py:24: RuntimeWarning: Mean of empty slice\n"
     ]
    },
    {
     "name": "stdout",
     "output_type": "stream",
     "text": [
      "(6, 31, 560, 630)\n"
     ]
    },
    {
     "name": "stderr",
     "output_type": "stream",
     "text": [
      "/scratch/project_2000339/boeiradi/anaconda3/lib/python3.7/site-packages/ipykernel_launcher.py:5: RuntimeWarning: Mean of empty slice\n",
      "  \"\"\"\n",
      "/scratch/project_2000339/boeiradi/anaconda3/lib/python3.7/site-packages/ipykernel_launcher.py:6: RuntimeWarning: Mean of empty slice\n",
      "  \n",
      "/scratch/project_2000339/boeiradi/anaconda3/lib/python3.7/site-packages/ipykernel_launcher.py:7: RuntimeWarning: Mean of empty slice\n",
      "  import sys\n",
      "/scratch/project_2000339/boeiradi/anaconda3/lib/python3.7/site-packages/ipykernel_launcher.py:8: RuntimeWarning: Mean of empty slice\n",
      "  \n",
      "/scratch/project_2000339/boeiradi/anaconda3/lib/python3.7/site-packages/ipykernel_launcher.py:9: RuntimeWarning: Mean of empty slice\n",
      "  if __name__ == '__main__':\n"
     ]
    },
    {
     "name": "stdout",
     "output_type": "stream",
     "text": [
      "Vtransform=2\n"
     ]
    },
    {
     "name": "stderr",
     "output_type": "stream",
     "text": [
      "/scratch/project_2000339/boeiradi/anaconda3/lib/python3.7/site-packages/ipykernel_launcher.py:23: RuntimeWarning: Mean of empty slice\n",
      "/scratch/project_2000339/boeiradi/anaconda3/lib/python3.7/site-packages/ipykernel_launcher.py:24: RuntimeWarning: Mean of empty slice\n"
     ]
    },
    {
     "name": "stdout",
     "output_type": "stream",
     "text": [
      "(6, 31, 560, 630)\n"
     ]
    },
    {
     "name": "stderr",
     "output_type": "stream",
     "text": [
      "/scratch/project_2000339/boeiradi/anaconda3/lib/python3.7/site-packages/ipykernel_launcher.py:5: RuntimeWarning: Mean of empty slice\n",
      "  \"\"\"\n",
      "/scratch/project_2000339/boeiradi/anaconda3/lib/python3.7/site-packages/ipykernel_launcher.py:6: RuntimeWarning: Mean of empty slice\n",
      "  \n",
      "/scratch/project_2000339/boeiradi/anaconda3/lib/python3.7/site-packages/ipykernel_launcher.py:7: RuntimeWarning: Mean of empty slice\n",
      "  import sys\n",
      "/scratch/project_2000339/boeiradi/anaconda3/lib/python3.7/site-packages/ipykernel_launcher.py:8: RuntimeWarning: Mean of empty slice\n",
      "  \n",
      "/scratch/project_2000339/boeiradi/anaconda3/lib/python3.7/site-packages/ipykernel_launcher.py:9: RuntimeWarning: Mean of empty slice\n",
      "  if __name__ == '__main__':\n"
     ]
    },
    {
     "name": "stdout",
     "output_type": "stream",
     "text": [
      "Vtransform=2\n"
     ]
    },
    {
     "name": "stderr",
     "output_type": "stream",
     "text": [
      "/scratch/project_2000339/boeiradi/anaconda3/lib/python3.7/site-packages/ipykernel_launcher.py:23: RuntimeWarning: Mean of empty slice\n",
      "/scratch/project_2000339/boeiradi/anaconda3/lib/python3.7/site-packages/ipykernel_launcher.py:24: RuntimeWarning: Mean of empty slice\n"
     ]
    },
    {
     "name": "stdout",
     "output_type": "stream",
     "text": [
      "(6, 31, 560, 630)\n"
     ]
    },
    {
     "name": "stderr",
     "output_type": "stream",
     "text": [
      "/scratch/project_2000339/boeiradi/anaconda3/lib/python3.7/site-packages/ipykernel_launcher.py:5: RuntimeWarning: Mean of empty slice\n",
      "  \"\"\"\n",
      "/scratch/project_2000339/boeiradi/anaconda3/lib/python3.7/site-packages/ipykernel_launcher.py:6: RuntimeWarning: Mean of empty slice\n",
      "  \n",
      "/scratch/project_2000339/boeiradi/anaconda3/lib/python3.7/site-packages/ipykernel_launcher.py:7: RuntimeWarning: Mean of empty slice\n",
      "  import sys\n",
      "/scratch/project_2000339/boeiradi/anaconda3/lib/python3.7/site-packages/ipykernel_launcher.py:8: RuntimeWarning: Mean of empty slice\n",
      "  \n",
      "/scratch/project_2000339/boeiradi/anaconda3/lib/python3.7/site-packages/ipykernel_launcher.py:9: RuntimeWarning: Mean of empty slice\n",
      "  if __name__ == '__main__':\n"
     ]
    },
    {
     "name": "stdout",
     "output_type": "stream",
     "text": [
      "Vtransform=2\n"
     ]
    },
    {
     "name": "stderr",
     "output_type": "stream",
     "text": [
      "/scratch/project_2000339/boeiradi/anaconda3/lib/python3.7/site-packages/ipykernel_launcher.py:23: RuntimeWarning: Mean of empty slice\n",
      "/scratch/project_2000339/boeiradi/anaconda3/lib/python3.7/site-packages/ipykernel_launcher.py:24: RuntimeWarning: Mean of empty slice\n"
     ]
    },
    {
     "name": "stdout",
     "output_type": "stream",
     "text": [
      "(6, 31, 560, 630)\n"
     ]
    },
    {
     "name": "stderr",
     "output_type": "stream",
     "text": [
      "/scratch/project_2000339/boeiradi/anaconda3/lib/python3.7/site-packages/ipykernel_launcher.py:5: RuntimeWarning: Mean of empty slice\n",
      "  \"\"\"\n",
      "/scratch/project_2000339/boeiradi/anaconda3/lib/python3.7/site-packages/ipykernel_launcher.py:6: RuntimeWarning: Mean of empty slice\n",
      "  \n",
      "/scratch/project_2000339/boeiradi/anaconda3/lib/python3.7/site-packages/ipykernel_launcher.py:7: RuntimeWarning: Mean of empty slice\n",
      "  import sys\n",
      "/scratch/project_2000339/boeiradi/anaconda3/lib/python3.7/site-packages/ipykernel_launcher.py:8: RuntimeWarning: Mean of empty slice\n",
      "  \n",
      "/scratch/project_2000339/boeiradi/anaconda3/lib/python3.7/site-packages/ipykernel_launcher.py:9: RuntimeWarning: Mean of empty slice\n",
      "  if __name__ == '__main__':\n"
     ]
    },
    {
     "name": "stdout",
     "output_type": "stream",
     "text": [
      "Vtransform=2\n"
     ]
    },
    {
     "name": "stderr",
     "output_type": "stream",
     "text": [
      "/scratch/project_2000339/boeiradi/anaconda3/lib/python3.7/site-packages/ipykernel_launcher.py:23: RuntimeWarning: Mean of empty slice\n",
      "/scratch/project_2000339/boeiradi/anaconda3/lib/python3.7/site-packages/ipykernel_launcher.py:24: RuntimeWarning: Mean of empty slice\n"
     ]
    },
    {
     "name": "stdout",
     "output_type": "stream",
     "text": [
      "(6, 31, 560, 630)\n"
     ]
    },
    {
     "name": "stderr",
     "output_type": "stream",
     "text": [
      "/scratch/project_2000339/boeiradi/anaconda3/lib/python3.7/site-packages/ipykernel_launcher.py:5: RuntimeWarning: Mean of empty slice\n",
      "  \"\"\"\n",
      "/scratch/project_2000339/boeiradi/anaconda3/lib/python3.7/site-packages/ipykernel_launcher.py:6: RuntimeWarning: Mean of empty slice\n",
      "  \n",
      "/scratch/project_2000339/boeiradi/anaconda3/lib/python3.7/site-packages/ipykernel_launcher.py:7: RuntimeWarning: Mean of empty slice\n",
      "  import sys\n",
      "/scratch/project_2000339/boeiradi/anaconda3/lib/python3.7/site-packages/ipykernel_launcher.py:8: RuntimeWarning: Mean of empty slice\n",
      "  \n",
      "/scratch/project_2000339/boeiradi/anaconda3/lib/python3.7/site-packages/ipykernel_launcher.py:9: RuntimeWarning: Mean of empty slice\n",
      "  if __name__ == '__main__':\n"
     ]
    },
    {
     "name": "stdout",
     "output_type": "stream",
     "text": [
      "Vtransform=2\n"
     ]
    },
    {
     "name": "stderr",
     "output_type": "stream",
     "text": [
      "/scratch/project_2000339/boeiradi/anaconda3/lib/python3.7/site-packages/ipykernel_launcher.py:23: RuntimeWarning: Mean of empty slice\n",
      "/scratch/project_2000339/boeiradi/anaconda3/lib/python3.7/site-packages/ipykernel_launcher.py:24: RuntimeWarning: Mean of empty slice\n"
     ]
    },
    {
     "name": "stdout",
     "output_type": "stream",
     "text": [
      "(6, 31, 560, 630)\n"
     ]
    },
    {
     "name": "stderr",
     "output_type": "stream",
     "text": [
      "/scratch/project_2000339/boeiradi/anaconda3/lib/python3.7/site-packages/ipykernel_launcher.py:5: RuntimeWarning: Mean of empty slice\n",
      "  \"\"\"\n",
      "/scratch/project_2000339/boeiradi/anaconda3/lib/python3.7/site-packages/ipykernel_launcher.py:6: RuntimeWarning: Mean of empty slice\n",
      "  \n",
      "/scratch/project_2000339/boeiradi/anaconda3/lib/python3.7/site-packages/ipykernel_launcher.py:7: RuntimeWarning: Mean of empty slice\n",
      "  import sys\n",
      "/scratch/project_2000339/boeiradi/anaconda3/lib/python3.7/site-packages/ipykernel_launcher.py:8: RuntimeWarning: Mean of empty slice\n",
      "  \n",
      "/scratch/project_2000339/boeiradi/anaconda3/lib/python3.7/site-packages/ipykernel_launcher.py:9: RuntimeWarning: Mean of empty slice\n",
      "  if __name__ == '__main__':\n"
     ]
    },
    {
     "name": "stdout",
     "output_type": "stream",
     "text": [
      "Vtransform=2\n"
     ]
    },
    {
     "name": "stderr",
     "output_type": "stream",
     "text": [
      "/scratch/project_2000339/boeiradi/anaconda3/lib/python3.7/site-packages/ipykernel_launcher.py:23: RuntimeWarning: Mean of empty slice\n",
      "/scratch/project_2000339/boeiradi/anaconda3/lib/python3.7/site-packages/ipykernel_launcher.py:24: RuntimeWarning: Mean of empty slice\n"
     ]
    }
   ],
   "source": [
    "# load ROMS avg output\n",
    "for mm  in ['01','02','03','04','05','06','07','08','09','10','11','12']:\n",
    "    ds = xr.open_dataset('/scratch/project_2000789/boeiradi/waom10extend_shflim_S_0.25Q/output_20yr_diag/ocean_avg_00' + mm + '.nc')\n",
    "    print(ds.variables[\"temp\"].shape)\n",
    "    temp_tmp = np.nanmean(ds.variables[\"temp\"], axis=0)\n",
    "    salt_tmp = np.nanmean(ds.variables[\"salt\"], axis=0)\n",
    "    shflux_tmp = np.nanmean(ds.variables[\"shflux\"], axis=0)\n",
    "    ssflux_tmp = np.nanmean(ds.variables[\"ssflux\"], axis=0)\n",
    "    m_tmp = np.nanmean(ds.variables[\"m\"], axis=0)\n",
    "    \n",
    "    ds = ds.set_coords(['Cs_r', 'Cs_w', 'hc', 'h', 'Vtransform'])\n",
    "    if ds.Vtransform == 1:\n",
    "        Zo_rho = ds.hc * (ds.s_rho - ds.Cs_r) + ds.Cs_r * ds.h\n",
    "        z_rho_tmp = Zo_rho + ds.zeta * (1 + Zo_rho/ds.h)\n",
    "        print(\"Vtransform=1\")\n",
    "    elif ds.Vtransform == 2:\n",
    "        Zo_rho = (ds.hc * ds.s_rho + ds.Cs_r * ds.h) / (ds.hc + ds.h)\n",
    "        z_rho_tmp = ds.zeta + (ds.zeta + ds.h) * Zo_rho\n",
    "        print(\"Vtransform=2\")\n",
    "        Zo_w = (ds.hc * ds.s_w + ds.Cs_w * ds.h) / (ds.hc + ds.h)\n",
    "        z_w_tmp = ds.zeta + (ds.zeta + ds.h) * Zo_w\n",
    "        \n",
    "    z_rho_avg = np.nanmean(z_rho_tmp, axis=0)\n",
    "    z_w_avg = np.nanmean(z_w_tmp,axis=0)\n",
    "    \n",
    "    # concatanate monthly avgs into a yearly variable\n",
    "    if mm == '01':\n",
    "        temp = temp_tmp\n",
    "        salt = salt_tmp\n",
    "        shflux = shflux_tmp\n",
    "        ssflux = ssflux_tmp\n",
    "        m = m_tmp\n",
    "        z_rho = z_rho_avg\n",
    "        z_w = z_w_avg\n",
    "    elif mm == '02':\n",
    "        temp = np.stack((temp,temp_tmp), axis=0)\n",
    "        salt = np.stack((salt,salt_tmp), axis=0)\n",
    "        shflux = np.stack((shflux,shflux_tmp), axis=0)\n",
    "        ssflux = np.stack((ssflux,ssflux_tmp), axis=0)\n",
    "        m = np.stack((m,m_tmp), axis=0)\n",
    "        z_rho = np.stack((z_rho,z_rho_avg), axis=0)\n",
    "        z_w = np.stack((z_w,z_w_avg), axis=0)\n",
    "    else:\n",
    "        temp_tmp_4thdim = np.expand_dims(temp_tmp, axis=0)\n",
    "        temp = np.concatenate((temp,temp_tmp_4thdim), axis=0)\n",
    "        salt_tmp_4thdim = np.expand_dims(salt_tmp, axis=0)\n",
    "        salt = np.concatenate((salt,salt_tmp_4thdim), axis=0)\n",
    "        shflux_tmp_4thdim = np.expand_dims(shflux_tmp, axis=0)\n",
    "        shflux = np.concatenate((shflux,shflux_tmp_4thdim), axis=0)    \n",
    "        ssflux_tmp_4thdim = np.expand_dims(ssflux_tmp, axis=0)\n",
    "        ssflux = np.concatenate((ssflux,ssflux_tmp_4thdim), axis=0) \n",
    "        m_tmp_4thdim = np.expand_dims(m_tmp, axis=0)\n",
    "        m = np.concatenate((m,m_tmp_4thdim), axis=0) \n",
    "        z_rho_tmp_4thdim = np.expand_dims(z_rho_avg, axis=0)\n",
    "        z_rho = np.concatenate((z_rho,z_rho_tmp_4thdim), axis=0) \n",
    "        z_w_tmp_4thdim = np.expand_dims(z_w_avg, axis=0)\n",
    "        z_w = np.concatenate((z_w,z_w_tmp_4thdim), axis=0) \n",
    "#ds.coords['flux'] = flux#.transpose() # put flux into ds dataset\n",
    "\n",
    "    ds.close()\n",
    "    \n",
    "sigma_t_sfc = gsw.rho(salt[:,-1,:,:],temp[:,-1,:,:],0) - 1000"
   ]
  },
  {
   "cell_type": "code",
   "execution_count": 4,
   "metadata": {},
   "outputs": [],
   "source": [
    "di = xr.open_dataset('/scratch/project_2000789/boeiradi/waom10extend_shflim_S_0.25Q/output_20yr_diag/ocean_avg_0001.nc')\n",
    "ice_draft = di.variables[\"zice\"]\n",
    "\n",
    "mask_zice = ma.masked_where(ice_draft < 0, np.ones(ice_draft.shape))\n",
    "\n",
    "di.close()\n"
   ]
  },
  {
   "cell_type": "code",
   "execution_count": 5,
   "metadata": {},
   "outputs": [
    {
     "name": "stdout",
     "output_type": "stream",
     "text": [
      "(560, 630, 32)\n",
      "(560, 630, 32)\n",
      "(560, 630, 32)\n",
      "(560, 630, 32)\n",
      "(560, 630, 32)\n",
      "(560, 630, 32)\n",
      "(560, 630, 32)\n",
      "(560, 630, 32)\n",
      "(560, 630, 32)\n",
      "(560, 630, 32)\n",
      "(560, 630, 32)\n",
      "(560, 630, 32)\n"
     ]
    }
   ],
   "source": [
    "# calculate dz following:\n",
    "dz = np.empty((12,560,630,31))\n",
    "dz_inv = np.empty((12,560,630,31))\n",
    "\n",
    "\n",
    "for tt in np.arange(0,12):\n",
    "    z_w_sorted = -1*z_w[tt,:,:,::-1]\n",
    "    print(z_w_sorted.shape)\n",
    "    dz_inv[tt,:,:,:] = np.diff(z_w_sorted,axis=2)\n",
    "    dz[tt,:,:,:] = dz_inv[tt,:,:,::-1]"
   ]
  },
  {
   "cell_type": "code",
   "execution_count": null,
   "metadata": {},
   "outputs": [],
   "source": [
    "dg = xr.open_dataset(\"/scratch/project_2000339/boeiradi/waom10_frc/waom10extend_grd.nc\")\n",
    "\n",
    "lat_rho = dg.variables[\"lat_rho\"]\n",
    "lon_rho = dg.variables[\"lon_rho\"]\n",
    "pm = dg.variables[\"pm\"]\n",
    "pn = dg.variables[\"pn\"]\n",
    "\n",
    "ds.coords['lat_rho']=lat_rho.transpose() # put lat_rho into ds dataset\n",
    "ds.coords['lon_rho']=lon_rho.transpose() # put lon_rho into ds dataset\n",
    "\n",
    "# shelf/open-ocean masks:\n",
    "mask_open = ma.masked_where(dg.h <= 2000, np.ones(dg.h.shape))\n",
    "mask_shelf = ma.masked_where(dg.h > 2000, np.ones(dg.h.shape))\n",
    "\n",
    "mask_outice = ma.masked_where(ice_draft >= 0, np.ones(ice_draft.shape))\n",
    "\n",
    "fig = plt.figure(figsize=(10,12))\n",
    "ax1 = fig.add_subplot(221)#, projection=proj)\n",
    "cy=plt.pcolor(mask_shelf)#, transform=ccrs.PlateCarree())\n",
    "plt.colorbar(cy)\n",
    "plt.clim(0.,1.)\n",
    "plt.title('only continental shelf')\n",
    "ax2 = fig.add_subplot(222)#, projection=proj)\n",
    "cy=plt.pcolor(mask_open)#, transform=ccrs.PlateCarree())\n",
    "plt.colorbar(cy)\n",
    "plt.clim(0.,1.)\n",
    "plt.title('only open ocean')\n",
    "ax3 = fig.add_subplot(223)#, projection=proj)\n",
    "cy=plt.pcolor(mask_zice)#, transform=ccrs.PlateCarree())\n",
    "plt.colorbar(cy)\n",
    "plt.clim(0.,1.)\n",
    "plt.title('without ice shelf')\n",
    "ax4 = fig.add_subplot(224)#, projection=proj)\n",
    "cy=plt.pcolor(mask_outice)#, transform=ccrs.PlateCarree())\n",
    "plt.colorbar(cy)\n",
    "plt.clim(0.,1.)\n",
    "plt.title('only ice shelf')\n",
    "\n",
    "fig_path = '/users/boeiradi/COLD_project/postprocessing/figs/WMT/'\n",
    "\n",
    "name_fig=\"mask_iceshelf_shelf_open.png\"\n",
    "plt.savefig(fig_path + name_fig, dpi=300)"
   ]
  },
  {
   "cell_type": "code",
   "execution_count": 6,
   "metadata": {},
   "outputs": [
    {
     "name": "stdout",
     "output_type": "stream",
     "text": [
      "(12, 560, 630)\n"
     ]
    }
   ],
   "source": [
    "dx = xr.open_dataset('/scratch/project_2000339/boeiradi/waom10extend_shflim_S_0.25Q/output_21yr/MLD_vint_vars_for_WMT.nc')\n",
    "print(dx.variables[\"sfc_mld\"].shape)\n",
    "sfc_mld = dx.variables[\"sfc_mld\"]\n",
    "# - variables across ML base\n",
    "temp_avg_mld = dx.variables[\"temp_avg_mld\"]\n",
    "salt_avg_mld = dx.variables[\"salt_avg_mld\"]\n",
    "\n",
    "# - variables integrated throughout the ML; multiply by -1 b/c dz is negative.\n",
    "temp_vdia_diff_mld_vint = dx.variables[\"temp_vdia_diff_mld_vint\"]\n",
    "salt_vdia_diff_mld_vint = dx.variables[\"salt_vdia_diff_mld_vint\"]\n",
    "temp_hdia_diff_mld_vint = dx.variables[\"temp_hdia_diff_mld_vint\"]\n",
    "salt_hdia_diff_mld_vint = dx.variables[\"salt_hdia_diff_mld_vint\"]\n",
    "temp_vdia_adv_mld_vint = dx.variables[\"temp_vdia_adv_mld_vint\"]\n",
    "salt_vdia_adv_mld_vint = dx.variables[\"salt_vdia_adv_mld_vint\"]\n",
    "temp_hdia_adv_mld_vint = dx.variables[\"temp_hdia_adv_mld_vint\"]\n",
    "salt_hdia_adv_mld_vint = dx.variables[\"salt_hdia_adv_mld_vint\"]\n",
    "temp_tend_mld_vint = dx.variables[\"temp_tend_avg_mld_vint\"]\n",
    "salt_tend_mld_vint = dx.variables[\"salt_tend_avg_mld_vint\"]\n",
    "\n",
    "sigma_t = gsw.rho(salt_avg_mld,temp_avg_mld,0) - 1000\n",
    "\n",
    "dx.close()"
   ]
  },
  {
   "cell_type": "code",
   "execution_count": 7,
   "metadata": {},
   "outputs": [
    {
     "name": "stdout",
     "output_type": "stream",
     "text": [
      "(12, 560, 630)\n"
     ]
    }
   ],
   "source": [
    "# obtain thermal expansion (alpha) & salinity contraction (beta) coefficients:\n",
    "SA_avg_mld = np.empty(salt_avg_mld.shape)\n",
    "# neet Absolute Salinity, converting from Pratical Salinity:\n",
    "for mm in np.arange(0,12):\n",
    "    SA_tmp =gsw.SA_from_SP(np.squeeze(salt_avg_mld[mm,:,:]),0,lon_rho,lat_rho)\n",
    "    SA_avg_mld[mm,:,:] = SA_tmp\n",
    "    del SA_tmp\n",
    "\n",
    "# gsw.alpha/gsw.beta\n",
    "#alpha = gsw_alpha(SA,CT,p)\n",
    "[specvol_mld, alpha_mld, beta_mld] = gsw.specvol_alpha_beta(SA_avg_mld,temp_avg_mld,0)\n",
    "\n",
    "print(alpha_mld.shape)\n"
   ]
  },
  {
   "cell_type": "code",
   "execution_count": 8,
   "metadata": {},
   "outputs": [],
   "source": [
    "# calculate the LHS term in Pellichero et al (2018):\n",
    "# ps: Diffusion (R_s, R_t) terms already include the sfc fluxes\n",
    "\n",
    "# heat (eqn 5)\n",
    "rho0 = 1025 #1000\n",
    "Cp = 3985\n",
    "\n",
    "# convert salt convergenvces to equivalent FW\n",
    "fwf_sfc = (np.divide(beta_mld*ssflux*rho0*dz[:,:,:,-1], -salt[:,-1,:,:]))*specvol_mld\n",
    "\n",
    "fwf_hdia_adv_mld_vint = np.divide(salt_hdia_adv_mld_vint*rho0, -salt_avg_mld[:,:,:])*specvol_mld\n",
    "fwf_vdia_adv_mld_vint = np.divide(salt_vdia_adv_mld_vint*rho0, -salt_avg_mld[:,:,:])*specvol_mld\n",
    "fwf_hdia_diff_mld_vint = np.divide(salt_hdia_diff_mld_vint*rho0, -salt_avg_mld[:,:,:])*specvol_mld\n",
    "fwf_vdia_diff_mld_vint = np.divide(salt_vdia_diff_mld_vint*rho0, -salt_avg_mld[:,:,:])*specvol_mld\n",
    "\n",
    "# total diffusion terms:\n",
    "R_s_vint = beta_mld*(salt_hdia_diff_mld_vint + salt_vdia_diff_mld_vint)\n",
    "R_t_vint = alpha_mld*(temp_hdia_diff_mld_vint + temp_vdia_diff_mld_vint)\n",
    "R_f_vint = fwf_hdia_diff_mld_vint + fwf_vdia_diff_mld_vint\n",
    "\n",
    "# surface flux terms:\n",
    "salt_sfc = beta_mld*(ssflux)\n",
    "temp_sfc = alpha_mld*(np.divide(shflux, rho0*Cp))\n",
    "\n",
    "# advection terms:\n",
    "salt_adv_mld_vint = beta_mld*(salt_hdia_adv_mld_vint + salt_vdia_adv_mld_vint)\n",
    "temp_adv_mld_vint = alpha_mld*(temp_hdia_adv_mld_vint + temp_vdia_adv_mld_vint)\n",
    "fwf_adv_mld_vint = fwf_hdia_adv_mld_vint + fwf_vdia_adv_mld_vint\n",
    "\n",
    "# net tendencies\n",
    "salt_net_mld_vint = beta_mld*salt_tend_mld_vint\n",
    "temp_net_mld_vint = alpha_mld*temp_tend_mld_vint\n",
    "fwf_net_mld_vint = (np.divide(salt_tend_mld_vint*rho0, -salt_avg_mld[:,:,:]))*specvol_mld\n",
    "\n",
    "# ML budget equation: \n",
    "# salt:\n",
    "# salt_sfc - R_s = -salt_tend_mld + salt_hdia_adv_mld + salt_vdia_adv_mld\n",
    "\n",
    "# temp:\n",
    "# temp_sfc - R_t = -temp_tend_mld + temp_hdia_adv_mld + temp_vdia_adv_mld"
   ]
  },
  {
   "cell_type": "code",
   "execution_count": 9,
   "metadata": {},
   "outputs": [],
   "source": [
    "#  Function to calculate Water Mass Transformation (in m3/s):\n",
    "\n",
    "# rho grid for binning:\n",
    "#rho_grid=np.arange(35.5,37.4,0.1) # for sigma-2\n",
    "rho_grid=np.arange(24.4,29.1,0.1) # for sigma-0\n",
    "len_rho_grid=len(rho_grid)\n",
    "\n",
    "dx = np.divide(1,pm)\n",
    "dy = np.divide(1,pn)\n",
    "dt = 86400#30#/12 #why divide by 12?\n",
    "\n",
    "def wmt(var_int, dx, dy,var_type):\n",
    "    # var_type: 'budget' or 'sfc_frc'\n",
    "    \n",
    "    F_rate_var_vint = np.empty(var_int.shape)\n",
    "    \n",
    "    for mm in np.arange(0,12):\n",
    "        if var_type == 'budget':\n",
    "            F_rate_var_vint[mm,:] = dx*dy*var_int.isel(times=mm)\n",
    "        elif var_type == 'sfc_frc':\n",
    "            F_rate_var_vint[mm,:] = dx*dy*var_int[mm,:,:]\n",
    "\n",
    "    print(F_rate_var_vint.shape)\n",
    "\n",
    "    F_rate_delta_var_vint_mm = np.empty((12,len_rho_grid,560,630))\n",
    "\n",
    "    for mm in np.arange(0,12):\n",
    "        sigma_tmp = sigma_t[mm,:,:]\n",
    "    \n",
    "        #print(mm)\n",
    "        for irho in np.arange(0,len_rho_grid):\n",
    "    \n",
    "            #print(irho)\n",
    "            F_rate_tmp = ma.masked_where(np.logical_or(sigma_tmp <= (rho_grid[irho]-(0.1/2)),sigma_tmp > (rho_grid[irho]+(0.1/2))), F_rate_var_vint[mm,:,:])\n",
    "\n",
    "            if irho == 0:\n",
    "                F_rate_delta = F_rate_tmp.copy()\n",
    "                F_rate_delta[np.logical_or(sigma_tmp <= (rho_grid[irho]-(0.1/2)),sigma_tmp > (rho_grid[irho]+(0.1/2)))] = np.nan\n",
    "            elif irho == 1:\n",
    "                F_rate_tmp[np.logical_or(sigma_tmp <= (rho_grid[irho]-(0.1/2)),sigma_tmp > (rho_grid[irho]+(0.1/2)))] = np.nan\n",
    "                F_rate_delta = np.stack((F_rate_delta,F_rate_tmp), axis=0)\n",
    "            else:\n",
    "                F_rate_tmp[np.logical_or(sigma_tmp <= (rho_grid[irho]-(0.1/2)),sigma_tmp > (rho_grid[irho]+(0.1/2)))] = np.nan\n",
    "                F_rate_extradim = np.expand_dims(F_rate_tmp, axis=0)\n",
    "                F_rate_delta = np.concatenate((F_rate_delta,F_rate_extradim), axis=0)\n",
    "            del F_rate_tmp\n",
    "        \n",
    "        F_rate_delta_var_vint_mm[mm,:] = F_rate_delta\n",
    "    \n",
    "    print('completed, size: ', F_rate_delta_var_vint_mm.shape)\n",
    "    \n",
    "    return F_rate_delta_var_vint_mm\n",
    "\n",
    "# -- Units --\n",
    "# Heat: m.degC/s -> m3.degC/s\n",
    "# Salt: m/s -> m3/s\n",
    "# Fwf: Kg.m-2.s-1 = Kg/s"
   ]
  },
  {
   "cell_type": "code",
   "execution_count": 10,
   "metadata": {},
   "outputs": [
    {
     "name": "stdout",
     "output_type": "stream",
     "text": [
      "(12, 560, 630)\n",
      "completed, size:  (12, 48, 560, 630)\n",
      "(12, 560, 630)\n",
      "completed, size:  (12, 48, 560, 630)\n",
      "(12, 560, 630)\n",
      "completed, size:  (12, 48, 560, 630)\n",
      "(12, 560, 630)\n",
      "completed, size:  (12, 48, 560, 630)\n",
      "(12, 560, 630)\n",
      "completed, size:  (12, 48, 560, 630)\n",
      "(12, 560, 630)\n",
      "completed, size:  (12, 48, 560, 630)\n",
      "(12, 560, 630)\n",
      "completed, size:  (12, 48, 560, 630)\n",
      "(12, 560, 630)\n",
      "completed, size:  (12, 48, 560, 630)\n",
      "(12, 560, 630)\n",
      "completed, size:  (12, 48, 560, 630)\n",
      "(12, 560, 630)\n",
      "completed, size:  (12, 48, 560, 630)\n",
      "(12, 560, 630)\n",
      "completed, size:  (12, 48, 560, 630)\n",
      "(12, 560, 630)\n",
      "completed, size:  (12, 48, 560, 630)\n"
     ]
    }
   ],
   "source": [
    "# Shelf only: excluding open ocean & ice shelves\n",
    "\n",
    "Fs_rate_delta_adv_vint_shelf_mm = wmt(salt_adv_mld_vint*mask_shelf*mask_zice, dx, dy,'budget')\n",
    "Fs_rate_delta_diff_vint_shelf_mm = wmt(R_s_vint*mask_shelf*mask_zice, dx, dy,'budget')\n",
    "Fs_rate_delta_net_vint_shelf_mm = wmt(salt_net_mld_vint*mask_shelf*mask_zice, dx, dy,'budget')\n",
    "Fs_rate_delta_sfc_shelf_mm = wmt(salt_sfc*mask_shelf*mask_zice, dx, dy,'sfc_frc')\n",
    "    \n",
    "Ff_rate_delta_adv_vint_shelf_mm = wmt(fwf_adv_mld_vint*mask_shelf*mask_zice, dx, dy,'budget')\n",
    "Ff_rate_delta_diff_vint_shelf_mm = wmt(R_f_vint*mask_shelf*mask_zice, dx, dy,'budget')\n",
    "Ff_rate_delta_net_vint_shelf_mm = wmt(fwf_net_mld_vint*mask_shelf*mask_zice, dx, dy,'budget')\n",
    "Ff_rate_delta_sfc_shelf_mm = wmt(fwf_sfc*mask_shelf*mask_zice, dx, dy,'sfc_frc')\n",
    "\n",
    "Fh_rate_delta_adv_vint_shelf_mm = wmt(temp_adv_mld_vint*mask_shelf*mask_zice, dx, dy,'budget')\n",
    "Fh_rate_delta_diff_vint_shelf_mm = wmt(R_t_vint*mask_shelf*mask_zice, dx, dy,'budget')\n",
    "Fh_rate_delta_net_vint_shelf_mm = wmt(temp_net_mld_vint*mask_shelf*mask_zice, dx, dy,'budget')\n",
    "Fh_rate_delta_sfc_shelf_mm = wmt(temp_sfc*mask_shelf*mask_zice, dx, dy,'sfc_frc')\n",
    "\n"
   ]
  },
  {
   "cell_type": "code",
   "execution_count": 11,
   "metadata": {},
   "outputs": [
    {
     "name": "stdout",
     "output_type": "stream",
     "text": [
      "0 24.349999999999998 24.45 (50, 50)\n",
      "1 24.45 24.55 (50, 50)\n",
      "2 24.55 24.650000000000002 (50, 50)\n",
      "3 24.650000000000002 24.750000000000004 (50, 50)\n",
      "4 24.750000000000004 24.850000000000005 (50, 50)\n",
      "5 24.850000000000005 24.950000000000006 (50, 50)\n",
      "6 24.950000000000006 25.050000000000008 (50, 50)\n",
      "7 25.050000000000008 25.15000000000001 (50, 50)\n",
      "8 25.15000000000001 25.25000000000001 (50, 50)\n",
      "9 25.25000000000001 25.350000000000012 (50, 50)\n",
      "10 25.350000000000012 25.450000000000014 (50, 50)\n",
      "11 25.450000000000014 25.550000000000015 (50, 50)\n",
      "12 25.550000000000015 25.650000000000016 (50, 50)\n",
      "13 25.650000000000016 25.750000000000018 (50, 50)\n",
      "14 25.750000000000018 25.85000000000002 (50, 50)\n",
      "15 25.85000000000002 25.95000000000002 (50, 50)\n",
      "16 25.95000000000002 26.050000000000022 (50, 50)\n",
      "17 26.050000000000022 26.150000000000023 (50, 50)\n",
      "18 26.150000000000023 26.250000000000025 (50, 50)\n",
      "19 26.250000000000025 26.350000000000026 (50, 50)\n",
      "20 26.350000000000026 26.450000000000028 (50, 50)\n",
      "21 26.450000000000028 26.55000000000003 (50, 50)\n",
      "22 26.55000000000003 26.65000000000003 (50, 50)\n",
      "23 26.65000000000003 26.750000000000032 (50, 50)\n",
      "24 26.750000000000032 26.850000000000033 (50, 50)\n",
      "25 26.850000000000033 26.950000000000035 (50, 50)\n",
      "26 26.950000000000035 27.050000000000036 (50, 50)\n",
      "27 27.050000000000036 27.150000000000038 (50, 50)\n",
      "28 27.150000000000038 27.25000000000004 (50, 50)\n",
      "29 27.25000000000004 27.35000000000004 (50, 50)\n",
      "30 27.35000000000004 27.450000000000042 (50, 50)\n",
      "31 27.450000000000042 27.550000000000043 (50, 50)\n",
      "32 27.550000000000043 27.650000000000045 (50, 50)\n",
      "33 27.650000000000045 27.750000000000046 (50, 50)\n",
      "34 27.750000000000046 27.850000000000048 (50, 50)\n",
      "35 27.850000000000048 27.95000000000005 (50, 50)\n",
      "36 27.95000000000005 28.05000000000005 (50, 50)\n",
      "37 28.05000000000005 28.150000000000052 (50, 50)\n",
      "38 28.150000000000052 28.250000000000053 (50, 50)\n",
      "39 28.250000000000053 28.350000000000055 (50, 50)\n",
      "40 28.350000000000055 28.450000000000056 (50, 50)\n",
      "41 28.450000000000056 28.550000000000058 (50, 50)\n",
      "42 28.550000000000058 28.65000000000006 (50, 50)\n",
      "43 28.65000000000006 28.75000000000006 (50, 50)\n",
      "44 28.75000000000006 28.850000000000062 (50, 50)\n",
      "45 28.850000000000062 28.950000000000063 (50, 50)\n",
      "46 28.950000000000063 29.050000000000065 (50, 50)\n",
      "47 29.050000000000065 29.150000000000066 (50, 50)\n",
      "(48, 50, 50)\n"
     ]
    }
   ],
   "source": [
    "# development mask for density classes:\n",
    "sigma_sept = sigma_t[8,0:50,0:50]\n",
    "\n",
    "for irho in np.arange(0,len_rho_grid):\n",
    "    print(irho, rho_grid[irho]-(0.1/2), rho_grid[irho]+(0.1/2), sigma_sept.shape)    \n",
    "    icritst_tmp = ma.masked_where(np.logical_or(sigma_sept <= (rho_grid[irho]-(0.1/2)),sigma_sept > (rho_grid[irho]+(0.1/2))), sigma_sept)    \n",
    "    \n",
    "    if irho == 0:\n",
    "        icritst = icritst_tmp.copy()\n",
    "        icritst[np.logical_or(sigma_sept <= (rho_grid[irho]-(0.1/2)),sigma_sept > (rho_grid[irho]+(0.1/2)))] = np.nan\n",
    "    elif irho == 1:\n",
    "        icritst_tmp[np.logical_or(sigma_sept <= (rho_grid[irho]-(0.1/2)),sigma_sept > (rho_grid[irho]+(0.1/2)))] = np.nan\n",
    "        icritst = np.stack((icritst,icritst_tmp), axis=0)\n",
    "    else:\n",
    "        icritst_tmp[np.logical_or(sigma_sept <= (rho_grid[irho]-(0.1/2)),sigma_sept > (rho_grid[irho]+(0.1/2)))] = np.nan\n",
    "        icritst_extradim = np.expand_dims(icritst_tmp, axis=0)\n",
    "        icritst = np.concatenate((icritst,icritst_extradim), axis=0)\n",
    "    del icritst_tmp\n",
    "    \n",
    "print(icritst.shape)"
   ]
  },
  {
   "cell_type": "code",
   "execution_count": 12,
   "metadata": {},
   "outputs": [],
   "source": [
    "# integrated over x, y directions: only continental shelf\n",
    "\n",
    "Fs_rate_sfc_shelf_mm_int = np.empty((len(rho_grid),12))\n",
    "Ff_rate_sfc_shelf_mm_int = np.empty((len(rho_grid),12))\n",
    "Fh_rate_sfc_shelf_mm_int = np.empty((len(rho_grid),12))\n",
    "\n",
    "Fs_rate_adv_vint_shelf_mm_int = np.empty((len(rho_grid),12))\n",
    "Ff_rate_adv_vint_shelf_mm_int = np.empty((len(rho_grid),12))\n",
    "Fh_rate_adv_vint_shelf_mm_int = np.empty((len(rho_grid),12))\n",
    "Fs_rate_diff_vint_shelf_mm_int = np.empty((len(rho_grid),12))\n",
    "Ff_rate_diff_vint_shelf_mm_int = np.empty((len(rho_grid),12))\n",
    "Fh_rate_diff_vint_shelf_mm_int = np.empty((len(rho_grid),12))\n",
    "Fs_rate_net_vint_shelf_mm_int = np.empty((len(rho_grid),12))\n",
    "Ff_rate_net_vint_shelf_mm_int = np.empty((len(rho_grid),12))\n",
    "Fh_rate_net_vint_shelf_mm_int = np.empty((len(rho_grid),12))\n",
    "\n",
    "\n",
    "for irho in np.arange(0,len(rho_grid)):   \n",
    "    for mm in np.arange(0,12):\n",
    "        \n",
    "        Fs_rate_sfc_shelf_mm_int[irho,mm] = np.nansum(np.nansum(Fs_rate_delta_sfc_shelf_mm[mm,irho,:], axis=1), axis=0)\n",
    "        Ff_rate_sfc_shelf_mm_int[irho,mm] = np.nansum(np.nansum(Ff_rate_delta_sfc_shelf_mm[mm,irho,:], axis=1), axis=0)\n",
    "        Fh_rate_sfc_shelf_mm_int[irho,mm] = np.nansum(np.nansum(Fh_rate_delta_sfc_shelf_mm[mm,irho,:], axis=1), axis=0)\n",
    "        \n",
    "        Fs_rate_adv_vint_shelf_mm_int[irho,mm] = np.nansum(np.nansum(Fs_rate_delta_adv_vint_shelf_mm[mm,irho,:], axis=1), axis=0)\n",
    "        Ff_rate_adv_vint_shelf_mm_int[irho,mm] = np.nansum(np.nansum(Ff_rate_delta_adv_vint_shelf_mm[mm,irho,:], axis=1), axis=0)\n",
    "        Fh_rate_adv_vint_shelf_mm_int[irho,mm] = np.nansum(np.nansum(Fh_rate_delta_adv_vint_shelf_mm[mm,irho,:], axis=1), axis=0)\n",
    "        \n",
    "        Fs_rate_diff_vint_shelf_mm_int[irho,mm] = np.nansum(np.nansum(Fs_rate_delta_diff_vint_shelf_mm[mm,irho,:], axis=1), axis=0)\n",
    "        Ff_rate_diff_vint_shelf_mm_int[irho,mm] = np.nansum(np.nansum(Ff_rate_delta_diff_vint_shelf_mm[mm,irho,:], axis=1), axis=0)\n",
    "        Fh_rate_diff_vint_shelf_mm_int[irho,mm] = np.nansum(np.nansum(Fh_rate_delta_diff_vint_shelf_mm[mm,irho,:], axis=1), axis=0)\n",
    "        \n",
    "        Fs_rate_net_vint_shelf_mm_int[irho,mm] = np.nansum(np.nansum(Fs_rate_delta_net_vint_shelf_mm[mm,irho,:], axis=1), axis=0)\n",
    "        Ff_rate_net_vint_shelf_mm_int[irho,mm] = np.nansum(np.nansum(Ff_rate_delta_net_vint_shelf_mm[mm,irho,:], axis=1), axis=0)\n",
    "        Fh_rate_net_vint_shelf_mm_int[irho,mm] = np.nansum(np.nansum(Fh_rate_delta_net_vint_shelf_mm[mm,irho,:], axis=1), axis=0)\n",
    "\n",
    "\n"
   ]
  },
  {
   "cell_type": "code",
   "execution_count": 13,
   "metadata": {},
   "outputs": [
    {
     "data": {
      "image/png": "[encoded data removed]",
      "text/plain": [
       "<Figure size 864x720 with 1 Axes>"
      ]
     },
     "metadata": {
      "needs_background": "light"
     },
     "output_type": "display_data"
    }
   ],
   "source": [
    "# figures\n",
    "fig_path = '/users/boeiradi/COLD_project/postprocessing/figs/WMT/'\n",
    "\n",
    "# plot with bars\n",
    "width=.023\n",
    "\n",
    "# convert to rate per year:\n",
    "Dt = rho0\n",
    "\n",
    "# divide for Dt (sec in 1 year) and 10^6 to obtain rate in Sv year-1 \n",
    "\n",
    "# SFC: continental shelf\n",
    "Fs_sig_sfc_shelf_mm = -Fs_rate_sfc_shelf_mm_int*Dt/1e6\n",
    "Fh_sig_sfc_shelf_mm = -Fh_rate_sfc_shelf_mm_int*Dt/1e6 \n",
    "F_sig_sfc_shelf_mm = -Fs_sig_sfc_shelf_mm + Fh_sig_sfc_shelf_mm\n",
    "# - calculate the anual average of the monthly ars:\n",
    "Fs_sig_sfc_shelf =  np.nanmean(Fs_sig_sfc_shelf_mm, axis=1)\n",
    "Fh_sig_sfc_shelf =  np.nanmean(Fh_sig_sfc_shelf_mm, axis=1)\n",
    "F_sig_sfc_shelf = -Fs_sig_sfc_shelf + Fh_sig_sfc_shelf\n",
    "\n",
    "# plots:\n",
    "\n",
    "fig = plt.figure(figsize=(12,10))\n",
    "\n",
    "ax3 = fig.add_subplot(221)\n",
    "plt.title('Continental shelf')\n",
    "cf=plt.plot(rho_grid,-Fs_sig_sfc_shelf,'--b',label='WMT due to sfc salt flux')\n",
    "ch=plt.plot(rho_grid,Fh_sig_sfc_shelf,'r',label='WMT due to sfc heat flux')\n",
    "ct=plt.plot(rho_grid,F_sig_sfc_shelf,'k',label='WMT due to sfc total flux')\n",
    "plt.legend()\n",
    "plt.xlim(26.5,28),plt.ylim(-16,2.5)\n",
    "plt.grid(True)\n",
    "plt.text(26.6,1.5,'Buoyancy loss')\n",
    "plt.text(26.6,-1.5,'Buoyancy gain')\n",
    "plt.grid(True)\n",
    "\n",
    "name_fig=\"waom10extend_shflim_S_0.25Q_WMT_sfc_fluxes_annual_shelf_noice_comparison.png\"\n",
    "plt.savefig(fig_path + name_fig, dpi=300)\n",
    "\n"
   ]
  },
  {
   "cell_type": "code",
   "execution_count": 14,
   "metadata": {},
   "outputs": [
    {
     "data": {
      "image/png": "[encoded data removed]",
      "text/plain": [
       "<Figure size 1152x720 with 4 Axes>"
      ]
     },
     "metadata": {
      "needs_background": "light"
     },
     "output_type": "display_data"
    }
   ],
   "source": [
    "# ADV (vint)\n",
    "Fs_sig_adv_vint_shelf_mm = -Fs_rate_adv_vint_shelf_mm_int*Dt/1e6 \n",
    "Fh_sig_adv_vint_shelf_mm = -Fh_rate_adv_vint_shelf_mm_int*Dt/1e6 \n",
    "F_sig_adv_vint_shelf_mm = -Fs_sig_adv_vint_shelf_mm + Fh_sig_adv_vint_shelf_mm\n",
    "# - calculate the anual average of the monthly ars:\n",
    "Fs_sig_adv_vint_shelf =  np.nanmean(Fs_sig_adv_vint_shelf_mm, axis=1)\n",
    "Fh_sig_adv_vint_shelf =  np.nanmean(Fh_sig_adv_vint_shelf_mm, axis=1)\n",
    "F_sig_adv_vint_shelf = Fs_sig_adv_vint_shelf + Fh_sig_adv_vint_shelf\n",
    "\n",
    "# DIFF\n",
    "Fs_sig_diff_vint_shelf_mm = -Fs_rate_diff_vint_shelf_mm_int*Dt/1e6 \n",
    "Fh_sig_diff_vint_shelf_mm = -Fh_rate_diff_vint_shelf_mm_int*Dt/1e6 \n",
    "F_sig_diff_vint_shelf_mm = -Fs_sig_diff_vint_shelf_mm + Fh_sig_diff_vint_shelf_mm\n",
    "# - calculate the anual average of the monthly ars:\n",
    "Fs_sig_diff_vint_shelf =  np.nanmean(Fs_sig_diff_vint_shelf_mm, axis=1)\n",
    "Fh_sig_diff_vint_shelf =  np.nanmean(Fh_sig_diff_vint_shelf_mm, axis=1)\n",
    "F_sig_diff_vin_shelft = -Fs_sig_diff_vint_shelf + Fh_sig_diff_vint_shelf\n",
    "\n",
    "# NET\n",
    "Fs_sig_net_vint_shelf_mm = -Fs_rate_net_vint_shelf_mm_int*Dt/1e6 \n",
    "Fh_sig_net_vint_shelf_mm = -Fh_rate_net_vint_shelf_mm_int*Dt/1e6 \n",
    "F_sig_net_vint_shelf_mm = -Fs_sig_net_vint_shelf_mm + Fh_sig_net_vint_shelf_mm\n",
    "# - calculate the anual average of the monthly ars:\n",
    "Fs_sig_net_vint_shelf =  np.nanmean(Fs_sig_net_vint_shelf_mm, axis=1)\n",
    "Fh_sig_net_vint_shelf =  np.nanmean(Fh_sig_net_vint_shelf_mm, axis=1)\n",
    "F_sig_net_vint_shelf = -Fs_sig_net_vint_shelf + Fh_sig_net_vint_shelf\n",
    "\n",
    "fig = plt.figure(figsize=(16,10))\n",
    "ax1 = fig.add_subplot(222)\n",
    "plt.title('Freshwater budget')\n",
    "cs=plt.plot(rho_grid,-Fs_sig_net_vint_shelf,'b',label='WMT due to salt tend')\n",
    "cs=plt.plot(rho_grid,-Fs_sig_diff_vint_shelf,'--b',label='WMT due to salt diff')\n",
    "cs=plt.plot(rho_grid,-Fs_sig_adv_vint_shelf,':b',label='WMT due to salt adv')\n",
    "plt.legend()\n",
    "plt.ylabel('Transformation rate (Sv)')\n",
    "plt.xlim(26.5,28),plt.ylim(-2.5,2.5)\n",
    "plt.grid(True)\n",
    "\n",
    "ax1 = fig.add_subplot(223)\n",
    "plt.title('Heat budget')\n",
    "ch=plt.plot(rho_grid,Fh_sig_net_vint_shelf,'r',label='WMT due to heat tend')\n",
    "ch=plt.plot(rho_grid,Fh_sig_diff_vint_shelf,'--r',label='WMT due to heat diff')\n",
    "ch=plt.plot(rho_grid,Fh_sig_adv_vint_shelf,':r',label='WMT due to heat adv')\n",
    "plt.legend()\n",
    "plt.ylabel('Transformation rate (Sv)')\n",
    "plt.xlim(26.5,28),plt.ylim(-2.5,2.5)\n",
    "plt.grid(True)\n",
    "\n",
    "ax2 = fig.add_subplot(221)\n",
    "plt.title('Surface fluxes')\n",
    "cs=plt.plot(rho_grid,-Fs_sig_sfc_shelf,'b',label='WMT due to salt sfc')\n",
    "ch=plt.plot(rho_grid,Fh_sig_sfc_shelf,'r',label='WMT due to heat sfc')\n",
    "ct=plt.plot(rho_grid,F_sig_sfc_shelf,'k',label='WMT due to total sfc')\n",
    "plt.legend()\n",
    "plt.ylabel('Transformation rate (Sv)')\n",
    "plt.xlim(26.5,28),plt.ylim(-2.5,2.5)\n",
    "plt.grid(True)\n",
    "\n",
    "ax2 = fig.add_subplot(224)\n",
    "plt.title('Net tendencies')\n",
    "cs=plt.plot(rho_grid,-Fs_sig_net_vint_shelf,'-b',label='WMT tendency due to salt sfc')\n",
    "ch=plt.plot(rho_grid,Fh_sig_net_vint_shelf,'-r',label='WMT tendency due to heat sfc')\n",
    "ct=plt.plot(rho_grid,Fh_sig_net_vint_shelf-Fs_sig_net_vint_shelf,'k',label='WMT tendency total')\n",
    "#plt.legend()\n",
    "plt.ylabel('Transformation rate (Sv)')\n",
    "plt.xlim(26.5,28),plt.ylim(-2.5,2.5)\n",
    "plt.grid(True)\n",
    "plt.text(26.6,1.5,'Buoyancy loss')\n",
    "plt.text(26.6,-1.5,'Buoyancy gain')\n",
    "plt.title('Total tendencies')\n",
    "\n",
    "name_fig=\"waom10extend_shflim_S_0.25Q_WMT_heat-salt_vint_annual_shelf_noice.png\"\n",
    "plt.savefig(fig_path + name_fig, dpi=300)"
   ]
  },
  {
   "cell_type": "code",
   "execution_count": 15,
   "metadata": {},
   "outputs": [],
   "source": [
    "### plot some maps\n",
    "import matplotlib.path as mpath\n",
    "import cartopy.feature as cfeature\n",
    "\n",
    "def lonlat_labels(ax):\n",
    "    # latitude labels\n",
    "    ax.text(120,-80,'80$^{\\circ}$S',transform=ccrs.PlateCarree(),color='gray')\n",
    "    ax.text(120,-70,'70$^{\\circ}$S',transform=ccrs.PlateCarree(),color='gray')\n",
    "    # longitude labels\n",
    "    ax.text(0,-66,'0$^{\\circ}$',transform=ccrs.PlateCarree(),color='gray')\n",
    "    #ax.text(60,-53,'60$^{\\circ}$E',transform=ccrs.PlateCarree(),color='gray')\n",
    "    #ax.text(120,-53,'120$^{\\circ}$E',transform=ccrs.PlateCarree(),color='gray')\n",
    "    ax.text(-60,-48,'60$^{\\circ}$W',transform=ccrs.PlateCarree(),color='gray')\n",
    "    ax.text(-120,-48,'120$^{\\circ}$W',transform=ccrs.PlateCarree(),color='gray')\n",
    "    ax.text(180,-60,'180$^{\\circ}$',transform=ccrs.PlateCarree(),color='gray')\n",
    "    return\n",
    "\n",
    "proj = ccrs.SouthPolarStereo()"
   ]
  },
  {
   "cell_type": "code",
   "execution_count": 21,
   "metadata": {},
   "outputs": [
    {
     "name": "stdout",
     "output_type": "stream",
     "text": [
      "(12, 48, 560, 630)\n"
     ]
    },
    {
     "name": "stderr",
     "output_type": "stream",
     "text": [
      "/scratch/project_2000339/boeiradi/anaconda3/lib/python3.7/site-packages/ipykernel_launcher.py:23: RuntimeWarning: Mean of empty slice\n",
      "/scratch/project_2000339/boeiradi/anaconda3/lib/python3.7/site-packages/ipykernel_launcher.py:33: RuntimeWarning: Mean of empty slice\n",
      "/scratch/project_2000339/boeiradi/anaconda3/lib/python3.7/site-packages/ipykernel_launcher.py:43: RuntimeWarning: Mean of empty slice\n"
     ]
    }
   ],
   "source": [
    "# plot maps for 27.5 kg.m-3 isopycnal\n",
    "#Fs_rate_mm_int[irho,mm] = np.nansum(np.nansum(Fs_rate_delta_mm[mm,irho,:], axis=1), axis=0)*rho0/0.1\n",
    "#Fh_rate_mm_int[irho,mm] = np.nansum(np.nansum(Fh_rate_delta_mm[mm,irho,:], axis=1), axis=0)*rho0/0.1\n",
    "print(Fs_rate_delta_net_vint_shelf_mm.shape)\n",
    "\n",
    "for irho in np.arange(29,35):#15,37):\n",
    "\n",
    "# call cartopy projection\n",
    "    proj = ccrs.SouthPolarStereo()\n",
    "    fig = plt.figure(figsize=(16,10))\n",
    "    ax1 = fig.add_subplot(221, projection=proj)\n",
    "    plt.title('')\n",
    "    cy=plt.pcolormesh(lon_rho,lat_rho,sigma_t[4,:,:], transform=ccrs.PlateCarree())\n",
    "    plt.colorbar(cy)\n",
    "    plt.clim(25.,28.)\n",
    "    ax1.gridlines() # draw_labels=True,linewidth=2, color='white', alpha=0.5, linestyle='--')\n",
    "    lonlat_labels(ax1)\n",
    "    ax1.set_extent([-180, 180, -90, -60], crs=ccrs.PlateCarree())\n",
    "    ax1.add_feature(cfeature.LAND, zorder=1, edgecolor='black', facecolor='white') \n",
    "\n",
    "    ax2 = fig.add_subplot(222, projection=proj)\n",
    "    plt.title('FWF, $\\sigma_{\\Theta}$ = ' + str(rho_grid[irho]))\n",
    "    cy=plt.pcolormesh(lon_rho,lat_rho,np.nanmean(Fs_rate_delta_net_vint_shelf_mm[:,irho,:], axis=0)*Dt/1e6, transform=ccrs.PlateCarree(), cmap=plt.cm.coolwarm)\n",
    "    plt.colorbar(cy)\n",
    "    ax2.gridlines() # draw_labels=True,linewidth=2, color='white', alpha=0.5, linestyle='--')\n",
    "    lonlat_labels(ax2)\n",
    "    ax2.set_extent([-180, 180, -90, -60], crs=ccrs.PlateCarree())\n",
    "    ax2.add_feature(cfeature.LAND, zorder=1, edgecolor='black', facecolor='white') \n",
    "    plt.clim(-0.001,0.001)\n",
    "\n",
    "    ax3 = fig.add_subplot(223, projection=proj)\n",
    "    plt.title('HF, $\\sigma_{\\Theta}$ = ' + str(rho_grid[irho]))\n",
    "    cy=plt.pcolormesh(lon_rho,lat_rho,np.nanmean(Fh_rate_delta_net_vint_shelf_mm[:,irho,:], axis=0)*Dt/1e6, transform=ccrs.PlateCarree(), cmap=plt.cm.coolwarm)\n",
    "    plt.colorbar(cy)\n",
    "    ax3.gridlines() # draw_labels=True,linewidth=2, color='white', alpha=0.5, linestyle='--')\n",
    "    lonlat_labels(ax3)\n",
    "    ax3.set_extent([-180, 180, -90, -60], crs=ccrs.PlateCarree())\n",
    "    ax3.add_feature(cfeature.LAND, zorder=1, edgecolor='black', facecolor='white') \n",
    "    plt.clim(-0.001,0.001)\n",
    "                                                \n",
    "    ax4 = fig.add_subplot(224, projection=proj)\n",
    "    plt.title('Total, $\\sigma_{\\Theta}$ = ' + str(rho_grid[irho]))\n",
    "    cy=plt.pcolormesh(lon_rho,lat_rho,np.nanmean(Fh_rate_delta_net_vint_shelf_mm[:,irho,:], axis=0)*Dt/1e6+np.nanmean(Fs_rate_delta_net_vint_shelf_mm[:,irho,:], axis=0)*Dt/1e6, transform=ccrs.PlateCarree(), cmap=plt.cm.coolwarm)\n",
    "    plt.colorbar(cy)\n",
    "    ax4.gridlines() # draw_labels=True,linewidth=2, color='white', alpha=0.5, linestyle='--')\n",
    "    lonlat_labels(ax4)\n",
    "    ax4.set_extent([-180, 180, -90, -60], crs=ccrs.PlateCarree())\n",
    "    ax4.add_feature(cfeature.LAND, zorder=1, edgecolor='black', facecolor='white') \n",
    "    plt.clim(-0.001,0.001)\n",
    "                                                \n",
    "    name_fig=\"waom10extend_shflim_S_0.25Q_WMTmaps_annual_yr21_l\" + str(irho)  + \"_shelf_noice.png\"\n",
    "    plt.savefig(fig_path + name_fig, dpi=300)\n",
    "    plt.close()"
   ]
  },
  {
   "cell_type": "code",
   "execution_count": 22,
   "metadata": {},
   "outputs": [
    {
     "name": "stderr",
     "output_type": "stream",
     "text": [
      "/scratch/project_2000339/boeiradi/anaconda3/lib/python3.7/site-packages/ipykernel_launcher.py:7: RuntimeWarning: Mean of empty slice\n",
      "  import sys\n",
      "/scratch/project_2000339/boeiradi/anaconda3/lib/python3.7/site-packages/ipykernel_launcher.py:18: RuntimeWarning: Mean of empty slice\n",
      "/scratch/project_2000339/boeiradi/anaconda3/lib/python3.7/site-packages/ipykernel_launcher.py:29: RuntimeWarning: Mean of empty slice\n",
      "/scratch/project_2000339/boeiradi/anaconda3/lib/python3.7/site-packages/ipykernel_launcher.py:40: RuntimeWarning: Mean of empty slice\n"
     ]
    }
   ],
   "source": [
    "proj = ccrs.SouthPolarStereo()\n",
    "fig = plt.figure(figsize=(16,10))\n",
    "\n",
    "irho=30\n",
    "ax1 = fig.add_subplot(221, projection=proj)\n",
    "plt.title('Total, $\\sigma_{\\Theta}$ = ' + str(rho_grid[irho]))\n",
    "cy=plt.pcolormesh(lon_rho,lat_rho,np.nanmean(Fh_rate_delta_net_vint_shelf_mm[:,irho,:], axis=0)*Dt/1e6+np.nanmean(Fs_rate_delta_net_vint_shelf_mm[:,irho,:], axis=0)*Dt/1e6, transform=ccrs.PlateCarree(), cmap=plt.cm.coolwarm)\n",
    "plt.colorbar(cy)\n",
    "ax1.gridlines() # draw_labels=True,linewidth=2, color='white', alpha=0.5, linestyle='--')\n",
    "lonlat_labels(ax1)\n",
    "ax1.set_extent([-180, 180, -90, -60], crs=ccrs.PlateCarree())\n",
    "ax1.add_feature(cfeature.LAND, zorder=1, edgecolor='black', facecolor='white') \n",
    "plt.clim(-0.001,0.001)\n",
    "\n",
    "irho=31\n",
    "ax2 = fig.add_subplot(222, projection=proj)\n",
    "plt.title('Total, $\\sigma_{\\Theta}$ = ' + str(rho_grid[irho]))\n",
    "cy=plt.pcolormesh(lon_rho,lat_rho,np.nanmean(Fh_rate_delta_net_vint_shelf_mm[:,irho,:], axis=0)*Dt/1e6+np.nanmean(Fs_rate_delta_net_vint_shelf_mm[:,irho,:], axis=0)*Dt/1e6, transform=ccrs.PlateCarree(), cmap=plt.cm.coolwarm)\n",
    "plt.colorbar(cy)\n",
    "ax2.gridlines() # draw_labels=True,linewidth=2, color='white', alpha=0.5, linestyle='--')\n",
    "lonlat_labels(ax2)\n",
    "ax2.set_extent([-180, 180, -90, -60], crs=ccrs.PlateCarree())\n",
    "ax2.add_feature(cfeature.LAND, zorder=1, edgecolor='black', facecolor='white') \n",
    "plt.clim(-0.001,0.001)\n",
    "\n",
    "irho=32\n",
    "ax3 = fig.add_subplot(223, projection=proj)\n",
    "plt.title('Total, $\\sigma_{\\Theta}$ = ' + str(rho_grid[irho]))\n",
    "cy=plt.pcolormesh(lon_rho,lat_rho,np.nanmean(Fh_rate_delta_net_vint_shelf_mm[:,irho,:], axis=0)*Dt/1e6+np.nanmean(Fs_rate_delta_net_vint_shelf_mm[:,irho,:], axis=0)*Dt/1e6, transform=ccrs.PlateCarree(), cmap=plt.cm.coolwarm)\n",
    "plt.colorbar(cy)\n",
    "ax3.gridlines() # draw_labels=True,linewidth=2, color='white', alpha=0.5, linestyle='--')\n",
    "lonlat_labels(ax3)\n",
    "ax4.set_extent([-180, 180, -90, -60], crs=ccrs.PlateCarree())\n",
    "ax3.add_feature(cfeature.LAND, zorder=1, edgecolor='black', facecolor='white') \n",
    "plt.clim(-0.001,0.001)\n",
    "\n",
    "irho=33\n",
    "ax4 = fig.add_subplot(224, projection=proj)\n",
    "plt.title('Total, $\\sigma_{\\Theta}$ = ' + str(rho_grid[irho]))\n",
    "cy=plt.pcolormesh(lon_rho,lat_rho,np.nanmean(Fh_rate_delta_net_vint_shelf_mm[:,irho,:], axis=0)*Dt/1e6+np.nanmean(Fs_rate_delta_net_vint_shelf_mm[:,irho,:], axis=0)*Dt/1e6, transform=ccrs.PlateCarree(), cmap=plt.cm.coolwarm)\n",
    "plt.colorbar(cy)\n",
    "ax4.gridlines() # draw_labels=True,linewidth=2, color='white', alpha=0.5, linestyle='--')\n",
    "lonlat_labels(ax4)\n",
    "ax4.set_extent([-180, 180, -90, -60], crs=ccrs.PlateCarree())\n",
    "ax4.add_feature(cfeature.LAND, zorder=1, edgecolor='black', facecolor='white') \n",
    "plt.clim(-0.001,0.001)\n",
    "                                                \n",
    "name_fig=\"waom10extend_shflim_S_0.25Q_WMTmaps_annual_yr21_shelf_noice.png\"\n",
    "plt.savefig(fig_path + name_fig, dpi=300)\n",
    "plt.close()"
   ]
  },
  {
   "cell_type": "code",
   "execution_count": null,
   "metadata": {},
   "outputs": [],
   "source": []
  }
 ],
 "metadata": {
  "kernelspec": {
   "display_name": "Python 3",
   "language": "python",
   "name": "python3"
  },
  "language_info": {
   "codemirror_mode": {
    "name": "ipython",
    "version": 3
   },
   "file_extension": ".py",
   "mimetype": "text/x-python",
   "name": "python",
   "nbconvert_exporter": "python",
   "pygments_lexer": "ipython3",
   "version": "3.7.9"
  }
 },
 "nbformat": 4,
 "nbformat_minor": 4
}
